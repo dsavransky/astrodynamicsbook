{
 "cells": [
  {
   "cell_type": "code",
   "execution_count": 1,
   "id": "ea79a87a-6f45-4d59-a8ed-2ca523f2ee0b",
   "metadata": {},
   "outputs": [
    {
     "data": {
      "text/markdown": [
       "$\n",
       "\\def\\bs{\\boldsymbol}\n",
       "\\def\\mf{\\mathbf}\n",
       "\\def\\mb{\\mathbb}\n",
       "\\def\\mc{\\mathcal}\n",
       "\\def\\rfr{\\mathcal}\n",
       "\\def\\grad{{\\rm grad}}\n",
       "\\def\\Re{{\\rm Re}}\n",
       "\\def\\Im{{\\rm Im}}\n",
       "\\def\\und{\\underline}\n",
       "\\def\\ovl{\\overline}\n",
       "\\def\\unb{\\underbrace}\n",
       "\\def\\Log{\\mbox{Log}}\n",
       "\\def\\bfomega{\\bs \\omega}\n",
       "\\def\\bfalpha{\\bs \\alpha}\n",
       "\\def\\da{\\triangleq}\n",
       "\\newcommand{\\leftexp}[2]{{\\vphantom{#2}}^{#1}\\!{#2}}\n",
       "\\newcommand{\\leftsub}[2]{{\\vphantom{#2}}_{#1}\\!{#2}}\n",
       "\\newcommand{\\omegarot}[2]{{\\leftexp{\\mathcal{#1}}{\\boldsymbol{\\omega}}^{\\mathcal{#2}}}}\n",
       "\\newcommand{\\alpharot}[2]{{\\leftexp{\\mathcal{#1}}{\\boldsymbol{\\alpha}}^{\\mathcal{#2}}}}\n",
       "\\newcommand{\\framerot}[2]{{\\leftexp{\\mathcal{#1}}{C}^{\\mathcal{#2}}}}\n",
       "\\newcommand{\\dframerot}[2]{{\\vphantom{\\dot{C}}^{\\mathcal{#1}}\\!{\\dot{C}^{\\mathcal{#2}}}}}\n",
       "\\newcommand{\\bdot}[1]{\\dot{\\mathbf{#1}}}\n",
       "\\newcommand{\\bhat}[1]{\\hat{\\mathbf{#1}}}\n",
       "\\newcommand{\\mbhat}[1]{\\hat{\\mathbb{#1}}}\n",
       "\\def\\iwb{\\omegarot{I}{B}}\n",
       "\\def\\iab{\\alpharot{I}{B}}\n",
       "\\def\\icb{\\framerot{I}{B}}\n",
       "\\def\\dif{\\mathop{}\\!\\mathrm{d}}\n",
       "\\newcommand{\\intd}[1]{\\dif#1}\n",
       "\\newcommand{\\od}[3][]{{ \\frac{\\dif{^{#1}}#2}{\\dif{#3^{#1}}} }}\t\t\t\n",
       "\\newcommand{\\pd}[3][]{{ \\frac{\\partial{^{#1}}#2}{\\partial{#3^{#1}}} }}\t \n",
       "\\newcommand{\\md}[6]{{  \\frac{\\partial{^{#2}}#1}{\\partial{#3^{#4}}\\partial{#5^{#6}}} }}\n",
       "\\newcommand{\\fddt}[2][]{{  \\leftexp{\\mathcal{#2}}{\\frac{\\dif{#1}}{\\dif{t}}}  }}\n",
       "\\newcommand{\\fdddt}[2][]{{  \\leftexp{\\mathcal{#2}}{\\frac{\\dif{^{2}#1}}{\\dif{t^2}}}  }}\n",
       "\\newcommand{\\ddt}[1][]{\\fddt[#1]{I}}\n",
       "$\n"
      ],
      "text/plain": [
       "<IPython.core.display.Markdown object>"
      ]
     },
     "metadata": {},
     "output_type": "display_data"
    }
   ],
   "source": [
    "# These are helpful routines that will assist in building this book.\n",
    "# You should run this block before anything else. There is no output expected.\n",
    "from astrodynamicsbook.bookhelpers import *\n",
    "\n",
    "loadLatexPreamble()"
   ]
  },
  {
   "cell_type": "code",
   "execution_count": null,
   "id": "264fc562",
   "metadata": {},
   "outputs": [
    {
     "data": {
      "text/markdown": [
       "# [Previous](<06-Vector Derivatives.ipynb>)"
      ],
      "text/plain": [
       "<IPython.core.display.Markdown object>"
      ]
     },
     "metadata": {},
     "output_type": "display_data"
    }
   ],
   "source": [
    "# This is only here to create the navigation link:\n",
    "genPrevLink()"
   ]
  },
  {
   "cell_type": "markdown",
   "id": "563b17d5-a179-4e33-b465-cce469d2e1cf",
   "metadata": {},
   "source": [
    "# Newton's Laws, Revisited\n",
    "\n",
    "Remember how we were talking about Newton's laws?  Well, this isn't Tristram Shandy, and we are actually going to get back to Newton's laws. We have built up a fairly staggering mathematical edifice upon the meager hints given to us by the form of Newton's first and second law.  Newton's second law tells us that we are dealing with things that are easily describable by vectors.  Newton's first law tells that the laws apply in a particular frame of reference in which forces produce straight-line motion.  We call these frames **inertial** and there are an infinite number of them.  The idea that Newton's laws apply equally in all inertial frames is typically called the principle of **Galilean relativity** (or Galilean invariance), named after the famous citizen of Pisa who apocryphally dropped things off the equally famous tower and really, really pissed off the Catholic church, and whose contributions to science are awe-inspiring. \n",
    "\n",
    "Galilean invariance basically boils down to the idea that if one frame is inertial, and another frame has no acceleration with respect to the first frame (as in, no point fixed in the second frame can be said to be accelerating with respect to any point fixed in the first frame) then the second frame is inertial as well, and Newton's laws apply equally in both frames.  Of course, we haven't really formally defined acceleration, so let's correct that now. \n",
    "\n",
    "# Kinematics\n",
    "\n",
    "The **kinematics** of a mass are the mathematical descriptions of the mass's position and motion in space.  They are the 'alteration of motion' side of Newton's second law.  We describe the position of a particle (point mass) $P$ with respect to point $O$ via the **position vector** $\\mf r_{P/O}$.  Typically, $O$ is fixed within an inertial reference frame (which we'll call $\\mc I$), but, as we'll see in a bit, could also be moving in $\\mc I$ with a constant velocity.  The **inertial velocity vector** of $P$ with respect to $O$ is the inertial derivative in time of $\\mf r_{P/O}$:\n",
    "$$\\leftexp{\\mc I}{\\mf v_{P/O}} \\triangleq \\fddt{I}\\mf r_{P/O}$$\n",
    "The **inertial acceleration vector** is the inertial derivative in time of the velocity, and therefore the second derivative of position:\n",
    "$$\\leftexp{\\mc I}{\\mf a_{P/O}} \\triangleq \\fddt{I}\\mf v_{P/O} \\equiv \\fdddt{I} \\mf r_{P/O}$$\n",
    "\n",
    "Collectively, $\\mf r_{P/O},\\leftexp{\\mc I}{\\mf v_{P/O}}, \\leftexp{\\mc I}{\\mf a_{P/O}}$ are called the kinematics of $P$.  They can be expressed in components of *any* frame (or none at all), but the derivatives *must* be with respect to an inertial frame."
   ]
  },
  {
   "cell_type": "markdown",
   "id": "46dc44f3-c5cf-453d-925f-38fb657f2cf8",
   "metadata": {},
   "source": [
    "# Linear Momentum and Newton's Second Law\n",
    "\n",
    "Linear momentum is defined as the product of a mass with its inertial velocity with respect to an inertially non-accelerating point:\n",
    "\n",
    "<div class=\"alert alert-block alert-info\">\n",
    "$$\\leftexp{\\mc I}{\\mf p_{P/O}} \\triangleq m \\leftexp{\\mc I}{\\mf v_{P/O}}$$\n",
    "</div>\n",
    "Note that we retain the left superscript to remind us that this quantity is based on a derivative (which must be with respect to an inertial frame.\n",
    "\n",
    "The exact statement of Newton's second law is that the sum of forces applied to particle $P$, called the **resultant force** $\\mf F_P$ is equal to the inertial derivative in time of the linear momentum of $P$ with respect to an inertially non-accelerating point:\n",
    "<div class=\"alert alert-block alert-info\">\n",
    "$$\\mf F_P = \\fddt{\\mc I}{\\leftexp{\\mc I}{\\mf p_{P/O}}} \\equiv  \\fddt{\\mc I}\\left( m \\leftexp{\\mc I}{\\mf v_{P/O}} \\right) = \\frac{\\intd{m}}{\\intd{t}}\\leftexp{\\mc I}{\\mf v_{P/O}} + m \\fddt{I}\\leftexp{\\mc I}{\\mf v_{P/O}}$$\n",
    "</div>\n",
    "\n",
    "In the case where the mass is constant in time, the first term in the final expression becomes zero, and we are left with the familiar statement of Newton's second law, typically given as $F = m a$, but, in reality, having the form:\n",
    "<div class=\"alert alert-block alert-info\">\n",
    "$$\\mf F_P =  m \\leftexp{\\mc I}{\\mf a_{P/O}}$$\n",
    "</div>\n",
    "\n",
    "Expressions of this form are known as a **linear momentum balance**.\n",
    "\n",
    "Recall that the components of the position vector can always be expressed as a function of the coordinates. The acceleration, therefore, must be a function of second derivatives of the coordinates (as well as, possibly, their first derivatives and coordinates themselves).  Solving a linear momentum balance for the second derivatives of the coordinates generates second-order ordinary differential equations, known as the **equations of motion** of a dynamical system. "
   ]
  },
  {
   "cell_type": "markdown",
   "id": "fb6d1989-8afc-45f9-9009-17f5300f8029",
   "metadata": {},
   "source": [
    "# General Pedantry on the Nature of Physical Laws and Mass\n",
    "\n",
    "It's really important to remember that Newton's laws are **laws** and not **theories**.  Laws are descriptions of how some aspect of the physical universe behaves under a very specific set of circumstances.  Laws are essentially postulates: they describe but do not explain.  A theory, on the other hand, is an explanation of the functioning of some aspect of the physical universe and can incorporate a broad range of facts, laws, inferences, and meticulously tested hypotheses.  Theories explain while laws only prescribe. Being a law means never having to say you're sorry.\n",
    "\n",
    "And this is why Newton's laws can get away with so much wishy-washiness, and why we've been incredibly cavalier about defining some of the terms involved.  Because all of the definitions are going to be incredibly circular. \n",
    "\n",
    "What is a force? A force is something that changes the motion (momentum) of a body (mass).  What is mass?  Mass is the property of a body which determines how its motion (momentum) is modified by the application of force. It is the constant property of a body (or at least one whose mass is not changing in time) that acts as the constant of proportionality in Newton's second law.\n",
    "\n",
    "Modern physics has managed to almost entirely do away with the need for forces, and has provided us with a much, much better definition of what mass actually *is*. However, for our purposes, the circular definitions are actually incredibly useful, and so we will just stick with them.  Just remember that they are postulates.  Like the existence of Galilean/Newtonian inertial reference frames, we have to assume that they exist and are just the things that obey the mathematical rules we posited.  We then make predictions based on these mathematical rules and compare them to observations of the physical universe.  In a *shockingly* high percentage of cases, the predictions will match our observations (assuming sufficient fidelity of the models that the laws are applied to) to an incredible precision.  Where we expect the laws to lead us astray (i.e., where we stray away from the 'specific set of circumstances' assumed by Newton's laws), we will be sure to note this.\n",
    "\n",
    "Finally, note that we have been saying **particle** or **point mass** to describe the application of Newton's laws.  The original laws, as stated up to this point, apply only to point masses - infinitesimal bodies possessing only mass but not extent.  We will have to do some more work to extend Newton's laws to extended bodies.  For now, remember that Newtonian particles are non-physical - they are not atoms or molecules or anything else we can point to in the actual universe.  They are mathematical abstractions having mass and kinematics, but no orientation."
   ]
  },
  {
   "cell_type": "markdown",
   "id": "1fe90e49-4244-4ef8-ba97-d3acbadf4830",
   "metadata": {},
   "source": [
    "# Galilean Relativity\n",
    "\n",
    "Now that we have a mathematical form of Newton's second law, we can revisit Galilean invariance and fully understand why acceleration is so key in establishing the equivalence of inertial reference frames. \n",
    "\n",
    "<p style=\"text-align:center;\"><img src=\"img/multiple_frames.png\" alt=\"Simple rotation with reference frames\" width=\"500\" id=\"fig:multframes\"/></p>\n",
    "Let's consider the case of two reference frames: $\\mc I = (O, \\bhat{e}_1, \\bhat{e}_2, \\bhat{e}_3)$ and $\\mc B = (O', \\bhat{b}_1, \\bhat{b}_2, \\bhat{b}_3)$, as in the  <a href=\"#fig:multframes\" >figure</a>. A point mass $P$ is acted on by force $\\mf F_P$. \n",
    "\n",
    "We will treat $\\mc I$ as explicitly inertial, and we will define $O$ to be an inertially fixed point. Thus, for point $P$, the second law exactly holds when looking at its motion with respect to $O$ in frame $\\mc I$: $\\mf F_P =  m \\leftexp{\\mc I}{\\mf a_{P/O}}$. Meanwhile, there are many possibilities for frame $\\mc B$.  This frame can be stationary with respect to $\\mc I$, rotating but not translating with respect to $\\mc I$, translating but not rotating, translating and rotating, and moving with constant velocity or accelerating. Let's consider each of these cases, in turn.\n",
    "\n",
    "## No rotation or translation\n",
    "This is the simplest case, where $\\fddt{I} \\mf r_{O'/O} = 0$ and $\\omegarot{I}{B} = 0$ (which implies that $\\dframerot{B}{I} = 0$).  Frame $\\mc B$ is at a fixed simple rotation from $\\mc I$ and point $O'$ remains at a constant separation from point $O$.  To investigate this system, we will rewrite the position of $P$ with respect to $O$ as:\n",
    "$$ \\mf r_{P/O} = \\mf r_{P/O'} + \\mf r_{O'/O}$$\n",
    "Differentiating, we have:\n",
    "$$\\leftexp{\\mc I}{\\mf v_{P/O}} \\triangleq \\fddt{I} \\mf r_{P/O} = \\fddt{I} \\left(\\mf r_{P/O'} + \\mf r_{O'/O}\\right) = \\underbrace{\\fddt{I} \\left(\\mf r_{P/O'}\\right)}_{\\displaystyle\\triangleq\\leftexp{\\mc I}{\\mf v_{P/O'}}}  + \\fddt{I} \\left(\\mf r_{O'/O}\\right)$$\n",
    "\n",
    "By the assumptions of this case, the final term of the above expression is zero, and thus the inertial velocity of $P$ with respect to $O$ is exactly the same as the inertial velocity of $P$ with respect to $O'$.  Similarly:\n",
    "$$\\leftexp{\\mc I}{\\mf a_{P/O}} \\triangleq \\fddt{I} \\mf v_{P/O} =  \\fddt{I} \\mf a_{P/O'} \\triangleq \\leftexp{\\mc I}{\\mf a_{P/O'}}$$\n",
    "the inertial acceleration of $P$ with respect to $O$ is exactly the same as the inertial acceleration of $P$ with respect to $O'$.\n",
    "\n",
    "What about derivatives in the $\\mc B$ frame?  We can define the $\\mc B$ frame velocity and acceleration of $P$ as:\n",
    "$$\\leftexp{\\mc B}{\\mf v_{P/O'}} \\triangleq \\fddt{B} \\mf r_{P/O'} \\quad\\textrm{and}\\quad \\leftexp{\\mc B}{\\mf a_{P/O'}} \\triangleq \\fddt{B} \\mf v_{P/O'}$$\n",
    "Thanks to the transport equation, we know how to convert from these back to inertial frame derivatives:\n",
    "$$\\leftexp{\\mc I}{\\mf a_{P/O'}} = \\leftexp{\\mc B}{\\mf a_{P/O'}} + \\omegarot{I}{B} \\times \\leftexp{\\mc B}{\\mf v_{P/O'}}$$\n",
    "\n",
    "However, we have defined the angular velocity to be zero, and so this expression becomes $\\leftexp{\\mc I}{\\mf a_{P/O'}} = \\leftexp{\\mc B}{\\mf a_{P/O'}}$.\n",
    "\n",
    "So, in summary, the no rotation, no translation case is incredibly boring.  Absolutely everything is the same!  When $\\mc B$ is not translating or rotating with respect to $\\mc I$:\n",
    "$$\\leftexp{\\mc I}{\\mf a_{P/O}} \\equiv \\leftexp{\\mc I}{\\mf a_{P/O'}} \\equiv \\leftexp{\\mc B}{\\mf a_{P/O'}}$$\n",
    "\n",
    "And therefore Newton's laws hold fully in $\\mc B$ and with accelerations calculated with respect to $O'$. Thus, we can say that in this case, $\\mc B$ is an inertial frame, and that $\\mf F_P =  m \\leftexp{\\mc B}{\\mf a_{P/O'}}$."
   ]
  },
  {
   "cell_type": "markdown",
   "id": "144eeb6b-66fb-44ff-b9b5-3af4a66031c1",
   "metadata": {},
   "source": [
    "## Constant Velocity Translation with No Rotation\n",
    "\n",
    "In this case, we still have $\\omegarot{I}{B} = 0$, but now set $\\fddt{I} \\mf r_{O'/O}$ to equal a constant value $\\leftexp{\\mc I}{\\mf v_{O'/O}}$.  Once again, we have:\n",
    "\n",
    "$$\\leftexp{\\mc I}{\\mf v_{P/O}} = \\fddt{I} \\left(\\mf r_{P/O'} + \\mf r_{O'/O}\\right) = \\leftexp{\\mc I}{\\mf v_{P/O'}}  + \\leftexp{\\mc I}{\\mf v_{O'/O}}$$\n",
    "\n",
    "where the last term is no longer zero.  However, it is constant, and so goes away once we differentiate again, once more leaving us with:\n",
    "$$\\leftexp{\\mc I}{\\mf a_{P/O}} = \\leftexp{\\mc I}{\\mf a_{P/O'}}$$\n",
    "\n",
    "The angular velocity is still zero in this case, and so everything we wrote above still holds, and thus we once again have found that $\\leftexp{\\mc I}{\\mf a_{P/O}} \\equiv \\leftexp{\\mc I}{\\mf a_{P/O'}} \\equiv \\leftexp{\\mc B}{\\mf a_{P/O'}}$ and that Newton's second law applies to $\\mc B$ and $O'$, as $\\mf F_P =  m \\leftexp{\\mc B}{\\mf a_{P/O'}}$.\n",
    "\n",
    "This is the primary reason why we originally defined linear momentum as being defined with respect to an inertially non-accelerating point.  Points (and frames) that are moving in inertial space with a constant velocity are themselves still inertial!"
   ]
  },
  {
   "cell_type": "markdown",
   "id": "ff201a49-8a41-475b-a2c5-3add152a39e1",
   "metadata": {},
   "source": [
    "# Accelerating Frames and Ficitituos Forces\n",
    "\n",
    "Now that we've explored the two boring options for frame $\\mc B$, it's time to look at the more exciting possibilities.\n",
    "\n",
    "## Accelerating Translation with No Rotation\n",
    "\n",
    "Still leaving $\\omegarot{I}{B} = 0$, we now allow $\\mf r_{O'/O}$ to have non-zero first and second derivatives. Therefore:\n",
    "\n",
    "$$\\leftexp{\\mc I}{\\mf v_{P/O}} = \\leftexp{\\mc I}{\\mf v_{P/O'}}  + \\leftexp{\\mc I}{\\mf v_{O'/O}} \\\\\n",
    "\\leftexp{\\mc I}{\\mf a_{P/O}} = \\leftexp{\\mc I}{\\mf a_{P/O'}}  + \\leftexp{\\mc I}{\\mf a_{O'/O}}$$\n",
    "\n",
    "With zero angular velocity, differentiation with respect to the $\\mc B$ frame is the same as differentiation with respect to the $\\mc I$ frame, and so any of the accelerations in the second expression can be replaced with their equivalent $\\mc B$ frame derivatives.   Now, finally, we see a change in Newton's second law:\n",
    "$$\\mf F_P =  m \\leftexp{\\mc B}{\\mf a_{P/O}} = m\\left( \\leftexp{\\mc I}{\\mf a_{P/O'}}  + \\leftexp{\\mc I}{\\mf a_{O'/O}}\\right)$$\n",
    "\n",
    "Now if we want to write Newton's second law in terms of the $\\mc B$ frame acceleration of $P$ with respect to $O'$, we have to modify the force side of the equation:\n",
    "\n",
    "$$ m \\leftexp{\\mc B}{\\mf a_{P/O'}}  = \\mf F_P - m\\leftexp{\\mc B}{\\mf a_{O'/O}} $$\n",
    "\n",
    "The subtracted term ($m\\leftexp{\\mc B}{\\mf a_{O'/O}}$) behaves like a force, and is explicitly accounting for the fact that we are attempting to do dynamics in a non-inertial reference frame.  Any time we do this, we will always pick up such force terms, which are known as **ficitiuos forces** (or **inertial forces** or **pseudo-forces**). Unlike forces that model actual physics (which we'll get to presently), fictitious forces are just mathematical abstractions that arise in our application of Newton's laws beyond the circumstances where they apply (inertial reference frames).\n",
    "\n",
    "## Pure Rotation\n",
    "\n",
    "We will now return to leaving $\\mf r_{O'/O}$ fixed (or, equivalently, changing at a constant rate), and look at the case where $\\omegarot{I}{B} \\ne 0$.  Suddenly, now, $\\mc B$ frame derivatives are not equivalent to the $\\mc I$ frame derivatives, and we need to account for this.  Let's redevelop our kinematics via the transport equation:\n",
    "$$\\mf r_{P/O} = \\mf r_{P/O'} + \\mf r_{O/O'} \\\\\n",
    "\\leftexp{\\mc I}{\\mf v_{P/O}} = \\leftexp{\\mc B}{\\mf v_{P/O'}} + \\omegarot{I}{B} \\times \\mf r_{P/O'} + \\leftexp{\\mc I}{\\mf v_{O'/O}}$$\n",
    "Based on our stated assumptions, $\\leftexp{\\mc I}{\\mf v_{O'/O}}$ is either zero or constant, and so will drop out of our equations when we differentiate again.  To get the inertial acceleration, we just apply the transport equation again, to find:\n",
    "$$\\leftexp{\\mc I}{\\mf a_{P/O}} = \\fddt{\\mc B} \\left(\\leftexp{\\mc B}{\\mf v_{P/O'}} + \\omegarot{I}{B} \\times \\mf r_{P/O'}\\right) + \\omegarot{I}{B} \\times \\left(\\leftexp{\\mc B}{\\mf v_{P/O'}} + \\omegarot{I}{B} \\times \\mf r_{P/O'}\\right)$$\n",
    "\n",
    "Both differentiation and the cross product are distributive over all of the operations in the parenthesized terms, and so we can expand this expression as:\n",
    "$$\\leftexp{\\mc I}{\\mf a_{P/O}} = \\fddt{\\mc B} \\left(\\leftexp{\\mc B}{\\mf v_{P/O'}}\\right) + \\fddt{\\mc B}\\left(\\omegarot{I}{B}\\right) \\times \\mf r_{P/O'} + \\omegarot{I}{B} \\times \\fddt{\\mc B}\\left(\\mf r_{P/O'}\\right) + \\omegarot{I}{B} \\times\\leftexp{\\mc B}{\\mf v_{P/O'}} + \\omegarot{I}{B} \\times \\left(\\omegarot{I}{B} \\times \\mf r_{P/O'}\\right)$$\n",
    "\n",
    "Defining the **angular acceleration** as:\n",
    "<div class=\"alert alert-block alert-info\">\n",
    "$$\\alpharot{I}{B} \\triangleq \\fddt{\\mc B}\\left(\\omegarot{I}{B}\\right)$$\n",
    "</div>\n",
    "\n",
    "We can rewrite the acceleration as:\n",
    "$$\\leftexp{\\mc I}{\\mf a_{P/O}} = \\leftexp{\\mc B}{\\mf a_{P/O'}} + \\alpharot{I}{B} \\times \\mf r_{P/O'} + 2\\omegarot{I}{B} \\times\\leftexp{\\mc B}{\\mf v_{P/O'}} + \\omegarot{I}{B} \\times \\left(\\omegarot{I}{B} \\times \\mf r_{P/O'}\\right)$$\n",
    "\n",
    "which means that the second law equation becomes:\n",
    "$$ m \\leftexp{\\mc B}{\\mf a_{P/O'}}  = \\mf F_P - m\\alpharot{I}{B} \\times \\mf r_{P/O'} - 2m\\omegarot{I}{B} \\times\\leftexp{\\mc B}{\\mf v_{P/O'}} - m\\omegarot{I}{B} \\times \\left(\\omegarot{I}{B} \\times \\mf r_{P/O'}\\right)$$\n",
    "\n",
    "We have now picked up three new accelerations, associated with three fictitious force terms.  The first, $-m \\alpharot{I}{B} \\times \\mf r_{P/O'}$ is due to the angular acceleration term, which accounts for any change in the angular velocity of $\\mc B$ in time. It is frequently referred to as the **Euler force** with the associated acceleration ($\\alpharot{I}{B} \\times \\mf r_{P/O'}$) called the Euler acceleration or transverse acceleration. \n",
    "\n",
    "The second term, $-2m\\omegarot{I}{B}\\times\\leftexp{\\mc B}{\\mf v_{P/O'}}$, is known as the **Coriolis force**, named in honor of French mechanical engineer Gaspard-Gustave de Coriolis, a man who really knew his way about a waterwheel.  This fictitious force acts in the direction orthogonal to the $\\mc B$ frame velocity, causing a deflection of the moving mass within the rotating frame.  The most readily observable effects of the Coriolis force can be seen in large-scale atmospheric systems, where the rotating frame is the entire rotating Earth, itself.  The Coriolis force helps give rise to spiraling wind patterns, ultimately leading to hurricanes. \n",
    "\n",
    "Finally, the third term, $-m\\omegarot{I}{B} \\times \\left(\\omegarot{I}{B} \\times \\mf r_{P/O'}\\right)$ is known as the **Centrifugal force**.  Remember that the result of a cross product is a vector orthogonal to both vectors being crossed.  In this case, the first cross product produces a result orthogonal to both $\\omegarot{I}{B}$ and $\\mf r_{P/O'}$ while the second cross product produces a vector orthogonal to this result and $\\omegarot{I}{B}$.  If we consider a planar system (i.e., one where all motion lies in a single plane) then both position and velocity will be constrained to this plane while the angular velocity will be orthogonal to it.  In this case, the two cross products would produce a result that is anti-parallel to $\\mf r_{P/O'}$.  As the centrifugal force acts opposite the direction of this triple product, it would act in the direction parallel to $\\mf r_{P/O'}$ - that is, pushing the mass away from the origin of the rotating frame.\n",
    "\n",
    "<div class=\"alert alert-block alert-danger\">\n",
    "    The nomenclature associated with the centrifugal force is a <i>mess</i>.  Centrifugal (from the Latin <i>centrifuga</i>) literally means \"center-fleeing.\"  The opposite of this is a <b>centripetal</b> force (literally \"center-seeking\"). As the fictitious force (at least in the planar case) does act along the position vector (away from the center of motion), the 'center-fleeing' name makes sense.  However, some texts will also call the associated acceleration (which acts in the opposite direction) as centrifugal as well, which is inconsistent.  A centrifugal acceleration would also act away from the origin of the rotating frame: $-\\omegarot{I}{B} \\times \\left(\\omegarot{I}{B} \\times \\mf r_{P/O'}\\right)$.  To make matters worse, the term centripetal force/acceleration is typically used to describe any force that causes a body to follow a curved path.  In this case, the force is real, and not fictitious, but analyzing the body's dynamics in the resulting rotating frame can give rise to centrifugal force terms.  Finally, there is the concept of a <b>reactive centrifugal force</b>, which is a third law reaction force acting opposite to the centripetal force being applied to a body forced into curved path motion. So, it's all kind of a mess.  However, if you don't worry too much about the words, and simply keep the equations consistent, and keep track of which frames you're operating in, the appropriate acceleration/force terms will appear as they should. \n",
    "</div>\n"
   ]
  },
  {
   "cell_type": "markdown",
   "id": "d538a329-3cbd-40ce-b90f-534dd41095c3",
   "metadata": {},
   "source": [
    "# The Whole Enchilada \n",
    "\n",
    "As a final exercise, we can put together the previous two cases, and consider the completely general case where our non-inertial frame is undergoing both (accelerating) translation and rotation.  We again start with:\n",
    "$$\\mf r_{P/O} = \\mf r_{P/O'} + \\mf r_{O/O'}$$\n",
    "which differentiates to:\n",
    "$$\\leftexp{\\mc I}{\\mf v_{P/O}} = \\leftexp{\\mc B}{\\mf v_{P/O'}} + \\omegarot{I}{B} \\times \\mf r_{P/O'} + \\leftexp{\\mc I}{\\mf v_{O'/O}}$$\n",
    "At this point, none of the terms can be assumed to be zero, so applying the transport equation once again yields:\n",
    "<div class=\"alert alert-block alert-info\">\n",
    "$$\\leftexp{\\mc I}{\\mf a_{P/O}} = \\leftexp{\\mc B}{\\mf a_{P/O'}} + \\alpharot{I}{B} \\times \\mf r_{P/O'} + 2\\omegarot{I}{B} \\times\\leftexp{\\mc B}{\\mf v_{P/O'}} + \\omegarot{I}{B} \\times \\left(\\omegarot{I}{B} \\times \\mf r_{P/O'}\\right) + \\leftexp{\\mc I}{\\mf a_{O'/O}} $$\n",
    "    </div>\n",
    "\n",
    "You might be tempted (or told) to memorize this expression.  You do you, of course, but understand that there is *absolutely* no reason to do so.  The transport equation is fundamental and therefore worth having in your head.  This acceleration formula is simply the result of applying the transport equation twice.  "
   ]
  },
  {
   "cell_type": "markdown",
   "id": "5db1d888-f620-4155-b76f-053cea34fb4a",
   "metadata": {},
   "source": [
    "# Conservation of Linear Momentum\n",
    "\n",
    "Newton's first law tells us that objects at rest remain at rest and objects in motion remain in motion until such time as their motion is altered by the application of a force.  This is fully supported by the second law: no force, no alteration of motion.  Our mathematical form of Newton's second law allows us to write a conservation law in linear momentum:\n",
    "<div class=\"alert alert-block alert-info\">\n",
    "    When the resultant force on particle $P$ is zero: \n",
    "    $$\\fddt{I}{\\leftexp{\\mc I}{\\mf p_{P/O}}} = 0 \\quad \\Rightarrow \\quad \\leftexp{\\mc I}{\\mf p_{P/O}} = \\textrm{ constant }$$\n",
    "    </div>"
   ]
  },
  {
   "cell_type": "code",
   "execution_count": 2,
   "id": "3bb50f2e-c820-4229-bf32-6b12d4293b0d",
   "metadata": {},
   "outputs": [
    {
     "data": {
      "text/markdown": [
       "# [Next](<08-Angular Momentum.ipynb>)"
      ],
      "text/plain": [
       "<IPython.core.display.Markdown object>"
      ]
     },
     "metadata": {},
     "output_type": "display_data"
    }
   ],
   "source": [
    "# This is just here to generate the link to the next notebook\n",
    "genNextLink()"
   ]
  },
  {
   "cell_type": "code",
   "execution_count": null,
   "id": "d1581568-a7f0-4d2c-8e31-c9ec1666faef",
   "metadata": {},
   "outputs": [],
   "source": []
  }
 ],
 "metadata": {
  "kernelspec": {
   "display_name": "Python 3 (ipykernel)",
   "language": "python",
   "name": "python3"
  },
  "language_info": {
   "codemirror_mode": {
    "name": "ipython",
    "version": 3
   },
   "file_extension": ".py",
   "mimetype": "text/x-python",
   "name": "python",
   "nbconvert_exporter": "python",
   "pygments_lexer": "ipython3",
   "version": "3.11.5"
  }
 },
 "nbformat": 4,
 "nbformat_minor": 5
}
