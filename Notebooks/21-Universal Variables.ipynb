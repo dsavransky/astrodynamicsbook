{
 "cells": [
  {
   "cell_type": "code",
   "execution_count": 2,
   "id": "036689c9-3538-4a50-b836-9e870610a115",
   "metadata": {},
   "outputs": [
    {
     "data": {
      "text/markdown": [
       "$\n",
       "\\def\\bs{\\boldsymbol}\n",
       "\\def\\mf{\\mathbf}\n",
       "\\def\\mb{\\mathbb}\n",
       "\\def\\mc{\\mathcal}\n",
       "\\def\\rfr{\\mathcal}\n",
       "\\def\\grad{{\\rm grad}}\n",
       "\\def\\Re{{\\rm Re}}\n",
       "\\def\\Im{{\\rm Im}}\n",
       "\\def\\und{\\underline}\n",
       "\\def\\ovl{\\overline}\n",
       "\\def\\unb{\\underbrace}\n",
       "\\def\\Log{\\mbox{Log}}\n",
       "\\def\\bfomega{\\bs \\omega}\n",
       "\\def\\bfalpha{\\bs \\alpha}\n",
       "\\def\\da{\\triangleq}\n",
       "\\newcommand{\\leftexp}[2]{{\\vphantom{#2}}^{#1}\\!{#2}}\n",
       "\\newcommand{\\leftsub}[2]{{\\vphantom{#2}}_{#1}\\!{#2}}\n",
       "\\newcommand{\\omegarot}[2]{{\\leftexp{\\mathcal{#1}}{\\boldsymbol{\\omega}}^{\\mathcal{#2}}}}\n",
       "\\newcommand{\\alpharot}[2]{{\\leftexp{\\mathcal{#1}}{\\boldsymbol{\\alpha}}^{\\mathcal{#2}}}}\n",
       "\\newcommand{\\framerot}[2]{{\\leftexp{\\mathcal{#1}}{C}^{\\mathcal{#2}}}}\n",
       "\\newcommand{\\dframerot}[2]{{\\vphantom{\\dot{C}}^{\\mathcal{#1}}\\!{\\dot{C}^{\\mathcal{#2}}}}}\n",
       "\\newcommand{\\bdot}[1]{\\dot{\\mathbf{#1}}}\n",
       "\\newcommand{\\bhat}[1]{\\hat{\\mathbf{#1}}}\n",
       "\\newcommand{\\mbhat}[1]{\\hat{\\mathbb{#1}}}\n",
       "\\def\\iwb{\\omegarot{I}{B}}\n",
       "\\def\\iab{\\alpharot{I}{B}}\n",
       "\\def\\icb{\\framerot{I}{B}}\n",
       "\\def\\dif{\\mathop{}\\!\\mathrm{d}}\n",
       "\\newcommand{\\intd}[1]{\\dif#1}\n",
       "\\newcommand{\\od}[3][]{{ \\frac{\\dif{^{#1}}#2}{\\dif{#3^{#1}}} }}\t\t\t\n",
       "\\newcommand{\\pd}[3][]{{ \\frac{\\partial{^{#1}}#2}{\\partial{#3^{#1}}} }}\t \n",
       "\\newcommand{\\md}[6]{{  \\frac{\\partial{^{#2}}#1}{\\partial{#3^{#4}}\\partial{#5^{#6}}} }}\n",
       "\\newcommand{\\fddt}[2][]{{  \\leftexp{\\mathcal{#2}}{\\frac{\\dif{#1}}{\\dif{t}}}  }}\n",
       "\\newcommand{\\fdddt}[2][]{{  \\leftexp{\\mathcal{#2}}{\\frac{\\dif{^{2}#1}}{\\dif{t^2}}}  }}\n",
       "\\newcommand{\\ddt}[1][]{\\fddt[#1]{I}}\n",
       "$\n"
      ],
      "text/plain": [
       "<IPython.core.display.Markdown object>"
      ]
     },
     "metadata": {},
     "output_type": "display_data"
    },
    {
     "data": {
      "text/markdown": [
       "# [Previous](<20-Series Solutions for f and g.ipynb>)"
      ],
      "text/plain": [
       "<IPython.core.display.Markdown object>"
      ]
     },
     "metadata": {},
     "output_type": "display_data"
    }
   ],
   "source": [
    "# These are helpful routines that will assist in building this book. \n",
    "# You should run this block before anything else. There is no output expected.\n",
    "from astrodynamicsbook.bookhelpers import *\n",
    "loadLatexPreamble()\n",
    "\n",
    "# This is only here to create the navigation link:\n",
    "genPrevLink()"
   ]
  },
  {
   "cell_type": "markdown",
   "id": "7ac2634e-dd17-450f-a845-6aeabe1fe2ff",
   "metadata": {},
   "source": [
    "# A (Minor) Annoyance\n",
    "\n",
    "While we have now provided ourselves with methods for propagating any type of orbit corresponding to any of the open or closed conic sections, there's an extra bit of processing that constantly has to happen as we check on the type of orbit we're dealing with, and determine which anomaly we should be calculating, and which equations we should be applying.  This isn't really a huge deal, but it does tend to make code more complicated, and more complex code invariably means buggier code.  More importantly, it's not *elegant*. We have a completely unified description of *all* orbit types via the orbital state vectors.  Why can't we have a unified description in orbital elements?\n",
    "\n",
    "<div class=\"alert alert-block alert-danger\">\n",
    "    Never underestimate the importance of the dual principles of parsimony and elegance in science and engineering.  There's not only beauty, but extreme utility in simplicity.  Simple solutions should always be preferred to more complex ones because simple solutions are so much less likely to fail in new and exciting ways, just when you least expect them to.  Note, however, that 'simple' is not synonymous with 'brief', especially when it comes to code.  If your incredibly clever one-liner replaces a dozen lines of code but is incomprehensible to anyone but you, then it is not the more elegant solution.  When using highly idiomatic languages like Python, elegance resides in utilizing the language's standard idioms, and eschewing obscure and confuscated approaches.\n",
    "</div>"
   ]
  },
  {
   "cell_type": "markdown",
   "id": "8b343be0-5f94-4b5d-8cbb-df9421371b6b",
   "metadata": {},
   "source": [
    "# A Universal Variable\n",
    "\n",
    "Turns out, it is entirely possible to define a single auxiliary variable (in place of the eccentric, parabolic, and hyperbolic anomalies) and to create a (mostly) unified orbital element description of all orbits.  Getting there, however, is not entirely straightforward, but fortunately this is well-trod ground.  In particular, we will be following in the footsteps of Battin, and adopting much of the nomenclature and conventions from his various articles and books.\n",
    "\n",
    "We start by returning to the [orbital specific energy](<14-Keplers Laws Continued.ipynb#Effective-Potential>):\n",
    "$$\\mc E = \\frac{v^2}{2} - \\frac{\\mu}{r} = -\\frac{\\mu}{2a} = \\frac{\\dot r^2}{2} - \\frac{\\mu}{r} +  \\frac{h^2}{2r^2} $$\n",
    "\n",
    "Solving the last two expressions for $\\dot r^2$, we have:\n",
    "$$\\dot r^2 = \\frac{2\\mu}{r} - \\frac{h^2}{r^2} - \\frac{\\mu}{a} = \\frac{2\\mu}{r} - \\frac{\\mu\\ell}{r^2} - \\frac{\\mu}{a} $$\n",
    "where we substituted $h = \\sqrt{\\mu\\ell}$ in the final expression."
   ]
  },
  {
   "cell_type": "markdown",
   "id": "e28c6b95-0e6f-4ca3-967e-044ae4f6a7ec",
   "metadata": {},
   "source": [
    "We now define our universal variable $\\chi$ via its derivative, such that:\n",
    "<div class=\"alert alert-block alert-info\">\n",
    "    $$\\dot\\chi \\triangleq \\frac{\\sqrt{\\mu}}{r}$$\n",
    "</div>\n",
    "\n",
    "Let's consider the expression:\n",
    "$$ \\left(\\frac{\\dot r}{\\chi}\\right)^2 = \\left(\\frac{ \\dfrac{\\intd{r}}{\\intd{t}} }{\\dfrac{\\intd{\\chi}}{\\intd{t}} }\\right)^2 = \\left(\\dfrac{\\intd{r}}{\\intd{\\chi}}\\right)^2 $$\n",
    "\n",
    "Substituting in the expression we derived above for $\\dot r^2$ and our definition for $\\dot \\chi$, we thus have:\n",
    "$$\\left(\\dfrac{\\intd{r}}{\\intd{\\chi}}\\right)^2  = \\left(\\frac{2\\mu}{r} - \\frac{\\mu\\ell}{r^2} - \\frac{\\mu}{a}\\right) \\left(\\frac{r^2}{\\mu}\\right) = 2r - \\ell - \\frac{r^2}{a}$$\n",
    "\n",
    "Taking the square root of the whole expression and separating variables, we have:\n",
    "$$\\intd{\\chi} = \\left( 2r - \\ell - \\frac{r^2}{a}\\right)^{-\\frac{1}{2}} \\intd{r} \\quad \\Longrightarrow \\quad \\int \\intd{\\chi} = \\sqrt{a} \\int \\frac{\\intd{r}}{\\sqrt{2 a r - a l - r^{2}}}$$"
   ]
  },
  {
   "cell_type": "markdown",
   "id": "73c43571-5ae0-410b-b09f-f0fdeb25ebdb",
   "metadata": {},
   "source": [
    "At this point, we reach for our handy table of integrals to find that:\n",
    "\n",
    "$$ \\int \\frac{\\intd{x}}{\\sqrt{c^2 - x^{2}}} = \\sin^{-1}\\left(\\frac{x}{c}\\right)$$\n",
    "\n",
    "<div class=\"alert alert-block alert-danger\">\n",
    "    What? You don't have a handy table of integrals?  Shame on you.  Print one out immediately and put it wherever you stuck your table of trigonometric identities. Better yet, don't waste paper but always know where you can access one. \n",
    "</div>\n",
    "\n",
    "Let's let $x = 2\\left(1 - \\dfrac{r}{a}\\right)$. Then: $\\intd{x} = -\\dfrac{2}{a}\\intd{r}$ and so:\n",
    "$$\\frac{\\intd{r}}{\\sqrt{2 a r - a l - r^{2}}} = - \\frac{\\intd{x}}{\\sqrt{4\\left(1 - \\dfrac{l}{a}\\right) - x^{2}}} $$\n",
    "meaning that in this case $c = 4\\left(1 - \\dfrac{l}{a}\\right)$ and the integration works out to:\n",
    "$$ \\chi + c_0 = - \\sqrt{a}\\sin^{-1}\\left( \\frac{2\\left(1 - \\dfrac{r}{a}\\right)}{\\sqrt{4\\left(1 - \\dfrac{l}{a}\\right)}}\\right) = \\sqrt{a}\\sin^{-1}\\left( \\frac{\\left(\\dfrac{r}{a}-1\\right)}{e}\\right)$$\n",
    "where $c_0$ is our constant of integration and we substituted $\\ell = a(1-e^2)$. \n",
    "\n",
    "At this point, we can solve for $r$ as a function of $\\chi$ and write:\n",
    "$$r = a\\left(1 + e\\sin\\left(\\frac{\\chi + c_o}{\\sqrt{a}} \\right)\\right)$$\n",
    "\n",
    "## Negative Semi-Major Axes\n",
    "This is great and all, but there's a slight problem here.  In order to have carried out this integration, we were forced to assume that $a$ is positive (did you catch it - it happened when we moved the $\\sqrt{a}$ term outside of the integrand).  By inspection, we see that this expression for $r$ doesn't make sense for a negative $a$, which would lead to imaginary orbital radii. \n",
    "\n",
    "We set out to find a unified description of all orbits, but on practically our first step, we found ourselves assuming a positive semi-major axis, thus producing expressions valid for only closed orbits.  However, we will be saved here by one super convenient fact:\n",
    "\n",
    "$$ \\int \\frac{\\intd{x}}{\\sqrt{c^2 + x^{2}}} = \\sinh^{-1}\\left(\\frac{x}{c}\\right)$$\n",
    "\n",
    "We have already seen that the trigonometric and hyperbolic functions operate in very similar fashions, with basically the same identities. If we can show that we get an equivalent $\\sinh$ form for negative $a$, then everything we figure out under the positive $a$ assumption should still work for negative $a$ values. So let's see what happens when we assume that $a$ is strictly negative.  Just to make things clearer, we'll define $a_n \\triangleq -a$, such that $a_n$ is positive for negative $a$.  We thus have:\n",
    "$$\\intd{\\chi} = \\left( 2r - \\ell + \\frac{r^2}{a_n}\\right)^{-\\frac{1}{2}} \\intd{r} \\quad \\Longrightarrow \\quad \\int \\intd{\\chi} = \\sqrt{a_n} \\int \\frac{\\intd{r}}{\\sqrt{2 a_n r - a_n l + r^{2}}}$$"
   ]
  },
  {
   "cell_type": "markdown",
   "id": "88a971e0-9e03-4ec9-8da7-fd75dd71bcc5",
   "metadata": {},
   "source": [
    "In this case, we'll take $x = 2\\left(1 + \\dfrac{r}{a_n}\\right)$, such that $\\intd{x} = \\dfrac{2}{a_n}\\intd{r}$ and:\n",
    "$$\\frac{\\intd{r}}{\\sqrt{2 a_n r - a_n l + r^{2}}} = \\frac{\\intd{x}}{\\sqrt{-4\\left(1 + \\dfrac{l}{a_n}\\right) + x^{2}}} $$\n",
    "\n",
    "So, for the hyperbolic case, we have:\n",
    "$$ \\chi + c_0 = \\sqrt{a_n}\\sinh^{-1}\\left( \\frac{2\\left(1 + \\dfrac{r}{a_n}\\right)}{\\sqrt{-4\\left(1 + \\dfrac{l}{a_n}\\right)}}\\right) = \\sqrt{-a}\\sinh^{-1}\\left( \\frac{\\left(1 - \\dfrac{r}{a}\\right)}{e}\\right)$$\n",
    "As with our previous treatments of hyperbolic orbits, we see that we get exactly the same forms as in the elliptical case, save for use of hyperbolic functions and sign flips.  We will thus proceed with the rest of our derivation using the positive $a$ assumption, knowing that we can readily adapt our results to the hyperbolic case without too much extra work."
   ]
  },
  {
   "cell_type": "markdown",
   "id": "e2cd79cd-0819-47e2-a08b-144532c13265",
   "metadata": {},
   "source": [
    "# Universal Variable Initial Conditions\n",
    "\n",
    "Returning to our orbital radius expression as a function of $\\chi$, we now plug this back into our original definition of $\\dot \\chi$ to get:\n",
    "$$\\dot\\chi \\triangleq \\frac{\\sqrt{\\mu}}{r} = \\frac{\\sqrt{\\mu}}{a\\left(1 + e\\sin\\left(\\frac{\\chi + c_o}{\\sqrt{a}} \\right)\\right)}$$\n",
    "\n",
    "Again separating variables, we have:\n",
    "$$\\intd{\\chi}\\left(a\\left(1 + e\\sin\\left(\\frac{\\chi + c_o}{\\sqrt{a}} \\right)\\right) \\right) = \\intd{t}\\sqrt{\\mu}$$\n",
    "which we integrate to find:\n",
    "\n",
    "$$a \\left.\\left( \\chi - \\sqrt{a}e \\cos\\left( \\frac{\\chi + c_o}{\\sqrt{a}} \\right) \\right)\\right\\vert_{\\chi(t_0)}^{\\chi(t)} = \\sqrt{\\mu}\\underbrace{t - t_0}_{\\displaystyle \\triangleq \\Delta{t}}$$"
   ]
  },
  {
   "cell_type": "markdown",
   "id": "bd2a80b2-95cb-4689-ba0b-a3e46df0adb0",
   "metadata": {},
   "source": [
    "Without loss of generality, we can assume that $\\chi(t_0) \\equiv 0$, as $\\chi$ is an arbitrary auxiliary variable and can be associated with time in any way we see fit. For notational convenience, we will henceforth assume that $\\chi$ represents $\\chi(t)$. Expanding out our integrated expression (and utilizing the cosine angle addition identity), we now have:\n",
    "\n",
    "$$ \\sqrt{\\mu}\\Delta{t} = a\\chi - a^{\\frac{3}{2}}e\\left(\\underbrace{\\cos\\left(\\frac{\\chi}{\\sqrt{a}}\\right)\\cos\\left(\\frac{c_0}{\\sqrt{a}}\\right) - \\sin\\left(\\frac{\\chi}{\\sqrt{a}}\\right)\\sin\\left(\\frac{c_0}{\\sqrt{a}}\\right)}_{\\displaystyle \\equiv \\cos\\left(\\frac{\\chi + c_0}{\\sqrt{a}}\\right)} - \\cos\\left(\\frac{c_0}{\\sqrt{a}}\\right)\\right) $$\n",
    "\n",
    "Returning to our radius expression, we can define $r_0$ as the radius at $t_0$:\n",
    "\n",
    "$$r_0 \\triangleq r(t_0) =  a\\left(1 + e\\sin\\left(\\frac{c_o}{\\sqrt{a}} \\right)\\right) \\quad \\Longrightarrow \\quad e\\sin\\left(\\frac{c_o}{\\sqrt{a}}\\right) = \\frac{r_0}{a} - 1$$\n",
    "\n",
    "where we have once again taken advantage of our setting $\\chi(t_0)$ to be zero.\n",
    "\n",
    "Differentiating the radius expression:\n",
    "\n",
    "$$\\dot r = \\frac{ae}{\\sqrt{a}} \\dot\\chi \\cos\\left(\\frac{\\chi + c_0}{\\sqrt{a}}\\right)\\quad \\Longrightarrow \\quad  \\frac{r\\dot{r}}{\\sqrt{\\mu a}} = e \\cos\\left(\\frac{\\chi + c_0}{\\sqrt{a}}\\right)$$\n",
    "\n",
    "where we substituted in $\\sqrt{\\mu}/r$ for $\\dot\\chi$."
   ]
  },
  {
   "cell_type": "markdown",
   "id": "cfa19821-ef96-496f-9799-400af465a0d4",
   "metadata": {},
   "source": [
    "Recall that a byproduct of our derivation of [Lagrange's Fundamental Invarianats](<20-Series Solutions for f and g.ipynb#Lagrange's-Fundamental-Invariants>) was finding that $\\mf r \\cdot \\mf v = r \\dot{r}$, meaning that for initial orbit state vectors $\\mf r_0 \\triangleq \\mf r(t_0)$ and $\\mf v_0 \\triangleq \\mf v(t_0)$ we have:\n",
    "\n",
    "$$e \\cos\\left(\\frac{c_0}{\\sqrt{a}}\\right) = \\frac{\\mf r_0 \\cdot \\mf v_0}{\\sqrt{\\mu a}}$$\n",
    "\n",
    "Note that we now have expression for both the cosines and sine terms in $c_0$ appearing in our expanded, integrated equation for $\\sqrt{\\mu}\\Delta{t}$, above.  Note that each is also scaled by eccentricity, which means that we can eliminate both $c_0$ and the eccentricity from this expression entirely by substituting in these new equations.  Let's do so and see where we're at:\n",
    "\n",
    "$$\\sqrt{\\mu}\\Delta{t} = a\\chi - a^{\\frac{3}{2}}\\left(\\cos\\left(\\frac{\\chi}{\\sqrt{a}}\\right)\\left( \\frac{\\mf r_0 \\cdot \\mf v_0}{\\sqrt{\\mu a}}\\right) - \\sin\\left(\\frac{\\chi}{\\sqrt{a}}\\right)\\left(\\frac{r_0}{a} - 1\\right) -\\left( \\frac{\\mf r_0 \\cdot \\mf v_0}{\\sqrt{\\mu a}}\\right)\\right)$$\n",
    "\n",
    "We can similarly eliminate $c_0$ from our $r$ expression by first expanding and then substituting:\n",
    "$$\\begin{split}\n",
    "r &= a\\left(1 + e\\sin\\left(\\frac{\\chi + c_o}{\\sqrt{a}} \\right)\\right) = a + ae\\left(\\sin\\left(\\frac{\\chi}{\\sqrt{a}} \\right)\\cos\\left(\\frac{c_0}{\\sqrt{a}}\\right)+ \\sin\\left(\\frac{c_0}{\\sqrt{a}} \\right)\\cos\\left(\\frac{\\chi}{\\sqrt{a}}\\right)\\right)\\\\\n",
    "&= a + a\\left(\\sin\\left(\\frac{\\chi}{\\sqrt{a}} \\right)\\left( \\frac{\\mf r_0 \\cdot \\mf v_0}{\\sqrt{\\mu a}}\\right) + \\left(\\frac{r_0}{a} - 1\\right)\\cos\\left(\\frac{\\chi}{\\sqrt{a}}\\right)\\right)\n",
    "\\end{split}\n",
    "$$\n"
   ]
  },
  {
   "cell_type": "markdown",
   "id": "2a9a6da1-032a-4d63-a07e-f3ff9230e54e",
   "metadata": {},
   "source": [
    "# Universal Variable Unification\n",
    "\n",
    "Let's regroup.  At this point we have an expression for the orbital radius magnitude at a time $t$ (which, as usual, we can relate to some initial time $t_0$ as $t = t_0 + \\Delta{t}$) as a function of $\\chi$, the orbital state vectors at $t_0$, and the gravitational parameter and semi-major axis.  We similarly have an expression for $\\Delta{t}$ as a function of all of the same quantities.  All that's left for us to do in order to propagate our orbits using the universal variable formulation is to actually find $\\chi(t)$.\n",
    "\n",
    "To help us along, we define a new variable:\n",
    "\n",
    "$$ \\psi \\triangleq \\frac{\\chi^2}{a} $$\n",
    "\n",
    "noting that $\\psi$ will be positive for closed orbits and negative for open orbits (and zero for parabolae). Substituting into our equations, we now have:\n",
    "\n",
    "$$\\begin{split}\n",
    "r& = \\chi^2\\left(\\frac{1 - \\cos\\left(\\sqrt{\\psi}\\right)}{\\psi}\\right) + \\left( \\frac{\\mf r_0 \\cdot \\mf v_0}{\\sqrt{\\mu}}\\right)\\chi\\left(1 - \\psi \\frac{\\sqrt{\\psi} - \\sin\\left(\\sqrt{\\psi}\\right)}{\\sqrt{\\psi^3}}\\right) + r_0\\left( 1 - \\psi \\frac{\\sqrt{\\psi} - \\cos\\left(\\sqrt{\\psi}\\right)}{\\sqrt{\\psi}}\\right)\\\\\n",
    "\\sqrt{\\mu}\\Delta{t} &= \\chi^3 \\left( \\frac{\\sqrt{\\psi} - \\sin\\left(\\sqrt{\\psi}\\right)}{\\sqrt{\\psi^3}}\\right) + \\left( \\frac{\\mf r_0 \\cdot \\mf v_0}{\\sqrt{\\mu}}\\right)\\chi^2 \\left(\\frac{1 - \\cos\\left(\\sqrt{\\psi}\\right)}{\\psi}\\right) + r_0 \\chi\\left(1 - \\psi \\frac{\\sqrt{\\psi} - \\sin\\left(\\sqrt{\\psi}\\right)}{\\sqrt{\\psi^3}}\\right)\n",
    "\\end{split}$$\n",
    "\n",
    "We see that these two expression are built out of the same basic (and frequently repeated) blocks.  Two, in particular, stand out:\n",
    "$$\\frac{\\sqrt{\\psi} - \\sin\\left(\\sqrt{\\psi}\\right)}{\\sqrt{\\psi^3}} \\quad \\textrm{and} \\quad \\frac{1 - \\cos\\left(\\sqrt{\\psi}\\right)}{\\psi}$$\n",
    "\n",
    "An incredible thing happens if we go back and re-derive these two equations under the assumption of a negative $a$. We get exactly the same combinations of terms, save that these two blocks have the forms:\n",
    "$$\\frac{\\sinh\\left(\\sqrt{-\\psi}\\right) - \\sqrt{-\\psi}}{\\sqrt{-\\psi^3}} \\quad \\textrm{and} \\quad \\frac{1 - \\cosh\\left(\\sqrt{-\\psi}\\right)}{\\psi}$$\n",
    "\n",
    "\n",
    "<div class=\"alert alert-block alert-warning\">\n",
    "<b>Exercise</b><br> Trust! But Verify!\n",
    "</div>\n",
    "\n",
    "Here, finally, is our unified universal form.  \n",
    "\n",
    "<div class=\"alert alert-block alert-info\">\n",
    "We define:\n",
    "\n",
    "$$c_2 \\triangleq \\begin{cases}\n",
    "\\displaystyle \\frac{1 - \\cos\\left(\\sqrt{\\psi}\\right)}{\\psi} & \\psi \\ge 0\\\\\n",
    "\\displaystyle  \\frac{1 - \\cosh\\left(\\sqrt{-\\psi}\\right)}{\\psi} & \\psi < 0\n",
    "\\end{cases}\n",
    "\\qquad \n",
    "c_3 \\triangleq \\begin{cases}\n",
    "\\displaystyle \\frac{\\sqrt{\\psi} - \\sin\\left(\\sqrt{\\psi}\\right)}{\\sqrt{\\psi}^3} & \\psi \\ge 0\\\\\n",
    "\\displaystyle \\frac{ \\sinh\\left(\\sqrt{-\\psi}\\right) - \\sqrt{-\\psi} }{\\sqrt{-\\psi}^3} & \\psi < 0\n",
    "\\end{cases}$$\n",
    "\n",
    "such that:\n",
    "\n",
    "$$ \\begin{split}\n",
    "r &= \\chi^2 c_2 + \\frac{\\mf r_0 \\cdot \\mf v_0}{\\sqrt{\\mu}}\\chi(1 - \\psi c_3)  + r_0\\left(1 - \\psi c_2\\right)\\\\\n",
    "n\\Delta t &= c _3\\left( \\frac{\\chi }{\\sqrt{a}} \\right)^3 +  c_2 \\frac{\\mf r_0 \\cdot \\mf v_0}{\\sqrt{\\mu a}}\\left( \\frac{\\chi}{\\sqrt{a}}\\right)^2 + \\frac{r_o}{a}\\left( \\frac{\\chi}{\\sqrt{a}}\\right)(1 - \\psi c_3)\n",
    "\\end{split}$$\n",
    "    </div>\n",
    "    \n",
    "where we substituted $\\sqrt{\\mu} = n\\sqrt{a^3}$ in the final expression."
   ]
  },
  {
   "cell_type": "markdown",
   "id": "21afddb4-6f8b-4b45-8798-100908fd29dc",
   "metadata": {},
   "source": [
    "# Universal Variable Propagation\n",
    "\n",
    "All that's left for us to do now is to figure out how to compute $\\chi$ for a given $\\Delta t$.  Note that nothing we've done here has mitigated the transcendental nature of the time equation (and nothing ever will). We have hidden away the various trigonometric terms that make our lives difficult, but they're all still there, and there is no way to directly invert the equation for $n\\Delta{t}$ to solve for $\\chi$.\n",
    "\n",
    "But that's okay.  We've already provided ourself with a robust method for inverting the time equation via Newton-Raphson iteration, and we can once again return to this well-trod ground here. We go back to our fundamental definition of the universal variable:\n",
    "$$ \\frac{\\intd{\\chi}}{\\intd{t}} = \\frac{\\sqrt{\\mu}}{r} \\quad \\Longrightarrow\\quad \\sqrt{\\mu}\\intd{t} = r\\intd{\\chi}\\quad \\Longrightarrow\\quad \\sqrt{\\mu}\\Delta{t} = \\int r\\intd{\\chi}$$\n",
    "\n",
    "We thus take our minimization function to be:\n",
    "$$ f(\\chi) = \\sqrt{\\mu}\\Delta{t} - \\int r\\intd{\\chi} \\quad  \\Longrightarrow\\quad f'(\\chi) =\\frac{\\intd{f}}{\\intd{\\chi}} = -r$$\n",
    "with the iterant defined as:\n",
    "$$ \\chi_{n+1} = \\chi_n - \\frac{f(\\chi_n)}{f'(\\chi_n)}$$\n",
    "\n",
    "Note that we have already evaluated the integral of r with respect to $\\chi$, above, when finding our original expression for $\\sqrt{\\mu}\\Delta{t}$.  Returning to this result, we can write out the full form of the iterant as:\n",
    "\n",
    "<div class=\"alert alert-block alert-info\">\n",
    "$$ \\chi_{n+1} = \\chi_n + \\frac{1}{r}\\left( \\sqrt{\\mu}\\Delta t - \\chi_n^3 c_3 - \\frac{\\mf r_0 \\cdot \\mf v_0}{\\sqrt{\\mu}} \\chi_n^2 c_2 - r_0 \\chi_n(1 - \\psi c_3)  \\right) $$   \n",
    "    </div>"
   ]
  },
  {
   "cell_type": "markdown",
   "id": "168291ee-bc0f-4bcf-92cc-ad446a2781d5",
   "metadata": {},
   "source": [
    "## Universal Variable Newton-Raphson Initialization\n",
    "\n",
    "As always, there is the question of selecting initial conditions. Let's return to our first expression for $r$ (remembering that it carries the implicit assumption that $a > 0$):\n",
    "$$r = a\\left(1 + e\\sin\\left(\\frac{\\chi + c_o}{\\sqrt{a}} \\right)\\right) = a(1-e\\cos(E))$$\n",
    "\n",
    "Because this form of $r$ assumes a closed orbit, we can equate it to the equivalent orbital radius expression as a function of eccentric anomaly.  The equality simplifies as:\n",
    "$$-e\\cos(E) = e\\sin\\left(\\frac{\\chi + c_o}{\\sqrt{a}} \\right) = -e\\cos\\left(\\frac{\\pi}{2} + \\frac{\\chi + c_o}{\\sqrt{a}}\\right)$$\n",
    "where we have taken advantage of the fact that cosine and sine are exactly phase shifted by 90$^\\circ$.  Thus:\n",
    "$$E = \\frac{\\pi}{2} + \\frac{\\chi + c_o}{\\sqrt{a}}$$\n",
    "and\n",
    "$$\\Delta{E} = E - E_0 = \\frac{\\pi}{2} + \\frac{\\chi + c_o}{\\sqrt{a}} - \\left(\\frac{\\pi}{2} + \\frac{\\chi(t_0) + c_o}{\\sqrt{a}}\\right)$$\n",
    "\n",
    "Recalling that we set $\\chi(t_0) \\equiv 0$, this means that\n",
    "$$\\Delta{E} = \\frac{\\chi}{\\sqrt{a}}$$\n",
    "\n",
    "Since the hyperbolic equations end up doing exactly what their trigonometric counterparts do, this also tells us that:\n",
    "$$\\Delta{H} = \\frac{\\chi}{\\sqrt{-a}}$$\n",
    "\n",
    "For the parabolic case, we have $a = \\infty$ which means that $\\psi = 0$.\n",
    "\n",
    "<div class=\"alert alert-block alert-danger\">\n",
    "  At this point, you might be thinking that $c_2$ and $c_3$ are undefined for $\\psi = 0$.  Nope!  You've forgotten about L'Hôpital's rule (or just Taylor Expansion).  Both the numerator and denominator of $c_2$ and $c_3$ evaluate to zero for $\\psi = 0$, and so their value is the limit of the derivative of the numerator divided by the derivative of the denominator as $\\psi \\to 0$.  Working this out, we find that for $\\psi = 0$, $c_2 = \\dfrac{1}{2}$ and $c_3 = \\dfrac{1}{6}$.  Go ahead and check to make sure you agree.\n",
    "</div>\n",
    "\n",
    "We thus have:\n",
    "$$ r =  \\chi^2 c_2 + \\frac{\\mf r_0 \\cdot \\mf v_0}{\\sqrt{\\mu}}\\chi(1 - \\psi c_3)  + r_0\\left(1 - \\psi c_2\\right) = $$"
   ]
  },
  {
   "cell_type": "code",
   "execution_count": null,
   "id": "3e533c0e-02c9-44d0-86d6-297c7db34bd5",
   "metadata": {},
   "outputs": [],
   "source": []
  }
 ],
 "metadata": {
  "kernelspec": {
   "display_name": "Python 3 (ipykernel)",
   "language": "python",
   "name": "python3"
  },
  "language_info": {
   "codemirror_mode": {
    "name": "ipython",
    "version": 3
   },
   "file_extension": ".py",
   "mimetype": "text/x-python",
   "name": "python",
   "nbconvert_exporter": "python",
   "pygments_lexer": "ipython3",
   "version": "3.9.13"
  }
 },
 "nbformat": 4,
 "nbformat_minor": 5
}
