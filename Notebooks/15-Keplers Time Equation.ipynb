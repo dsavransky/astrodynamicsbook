{
 "cells": [
  {
   "cell_type": "code",
   "execution_count": 1,
   "id": "30d4946c-fb40-40a0-9a5d-25e77ee8b845",
   "metadata": {},
   "outputs": [
    {
     "data": {
      "text/markdown": [
       "$\n",
       "\\def\\bs{\\boldsymbol}\n",
       "\\def\\mf{\\mathbf}\n",
       "\\def\\mb{\\mathbb}\n",
       "\\def\\mc{\\mathcal}\n",
       "\\def\\rfr{\\mathcal}\n",
       "\\def\\grad{{\\rm grad}}\n",
       "\\def\\Re{{\\rm Re}}\n",
       "\\def\\Im{{\\rm Im}}\n",
       "\\def\\und{\\underline}\n",
       "\\def\\ovl{\\overline}\n",
       "\\def\\unb{\\underbrace}\n",
       "\\def\\Log{\\mbox{Log}}\n",
       "\\def\\bfomega{\\bs \\omega}\n",
       "\\def\\bfalpha{\\bs \\alpha}\n",
       "\\def\\da{\\triangleq}\n",
       "\\newcommand{\\leftexp}[2]{{\\vphantom{#2}}^{#1}\\!{#2}}\n",
       "\\newcommand{\\leftsub}[2]{{\\vphantom{#2}}_{#1}\\!{#2}}\n",
       "\\newcommand{\\omegarot}[2]{{\\leftexp{\\mathcal{#1}}{\\boldsymbol{\\omega}}^{\\mathcal{#2}}}}\n",
       "\\newcommand{\\alpharot}[2]{{\\leftexp{\\mathcal{#1}}{\\boldsymbol{\\alpha}}^{\\mathcal{#2}}}}\n",
       "\\newcommand{\\framerot}[2]{{\\leftexp{\\mathcal{#1}}{C}^{\\mathcal{#2}}}}\n",
       "\\newcommand{\\dframerot}[2]{{\\vphantom{\\dot{C}}^{\\mathcal{#1}}\\!{\\dot{C}^{\\mathcal{#2}}}}}\n",
       "\\newcommand{\\bdot}[1]{\\dot{\\mathbf{#1}}}\n",
       "\\newcommand{\\bhat}[1]{\\hat{\\mathbf{#1}}}\n",
       "\\newcommand{\\mbhat}[1]{\\hat{\\mathbb{#1}}}\n",
       "\\def\\iwb{\\omegarot{I}{B}}\n",
       "\\def\\iab{\\alpharot{I}{B}}\n",
       "\\def\\icb{\\framerot{I}{B}}\n",
       "\\def\\dif{\\mathop{}\\!\\mathrm{d}}\n",
       "\\newcommand{\\intd}[1]{\\dif#1}\n",
       "\\newcommand{\\od}[3][]{{ \\frac{\\dif{^{#1}}#2}{\\dif{#3^{#1}}} }}\t\t\t\n",
       "\\newcommand{\\pd}[3][]{{ \\frac{\\partial{^{#1}}#2}{\\partial{#3^{#1}}} }}\t \n",
       "\\newcommand{\\md}[6]{{  \\frac{\\partial{^{#2}}#1}{\\partial{#3^{#4}}\\partial{#5^{#6}}} }}\n",
       "\\newcommand{\\fddt}[2][]{{  \\leftexp{\\mathcal{#2}}{\\frac{\\dif{#1}}{\\dif{t}}}  }}\n",
       "\\newcommand{\\fdddt}[2][]{{  \\leftexp{\\mathcal{#2}}{\\frac{\\dif{^{2}#1}}{\\dif{t^2}}}  }}\n",
       "\\newcommand{\\ddt}[1][]{\\fddt[#1]{I}}\n",
       "$\n"
      ],
      "text/plain": [
       "<IPython.core.display.Markdown object>"
      ]
     },
     "metadata": {},
     "output_type": "display_data"
    },
    {
     "data": {
      "text/markdown": [
       "# [Previous](<14-Keplers Laws Continued.ipynb>)"
      ],
      "text/plain": [
       "<IPython.core.display.Markdown object>"
      ]
     },
     "metadata": {},
     "output_type": "display_data"
    }
   ],
   "source": [
    "# These are helpful routines that will assist in building this book. \n",
    "# You should run this block before anything else. There is no output expected.\n",
    "from astrodynamicsbook.bookhelpers import *\n",
    "loadLatexPreamble()\n",
    "\n",
    "# This is only here to create the navigation link:\n",
    "genPrevLink()"
   ]
  },
  {
   "cell_type": "markdown",
   "id": "ddb08656-27e3-477f-8119-b688f45dbbee",
   "metadata": {},
   "source": [
    "# It's About Time\n",
    "\n",
    "While we've been busy patting ourselves on our collective backs about how *neat* everything about the two-body problem and its solution works out to be, it is possible that we've...missed something.  Let's review.  We have established that the orbital radius of the two-body system is given for all time by:\n",
    "$$r = \\frac{\\ell}{1+ e \\cos{\\left(\\nu \\right)} }$$\n",
    "where $\\ell$ and $e$ are constants.  $\\nu$, however, is a time-varying quantity (the only one in this expression) and we have already established it's rate of change, which is given by $\\dot \\nu = h r^{-2}$.\n",
    "\n",
    "When dealing with actual orbits, we wish to know where things are at specific times, and so presumably our next step is to rewrite our orbital radius expression explicitly as a function of time. Except, we *can't*. The problem lies in that $\\dot\\nu$ expression. In order to express $\\nu$ as a function of time, we would need to integrate this expression, which is a function of $r$, which is a function of $\\nu$.  You cannot write a closed form solution of this integral, and thus you cannot write an algebraic solution for the orbital radius as a function of time.\n",
    "\n",
    "<div class=\"alert alert-block alert-danger\">\n",
    "    Well, actually, that's a total lie.  You <i>can</i> write down a solution to this problem, but it will take the form of an infinite series (more on this soon).  It somewhat depends on how you define 'closed-form'.  If we wished to be precise (and you know that we do), we would rather say that no solution exists requiring a finite number of algebraic operations. \n",
    "    </div>\n",
    "\n",
    "Let's see what sympy thinks about this:"
   ]
  },
  {
   "cell_type": "code",
   "execution_count": 2,
   "id": "3c692347-999e-48a8-b983-019093adf9c9",
   "metadata": {},
   "outputs": [
    {
     "data": {
      "image/png": "[encoded data removed]",
      "text/latex": [
       "$\\displaystyle \\frac{h \\left(\\int\\limits_{0}^{t_{f}} 1\\, dt + \\int\\limits_{0}^{t_{f}} 2 e \\cos{\\left(\\nu{\\left(t \\right)} \\right)}\\, dt + \\int\\limits_{0}^{t_{f}} e^{2} \\cos^{2}{\\left(\\nu{\\left(t \\right)} \\right)}\\, dt\\right)}{\\ell^{2}}$"
      ],
      "text/plain": [
       "  ⎛                                  t_f                 ⎞\n",
       "  ⎜t_f        t_f                     ⌠                  ⎟\n",
       "  ⎜ ⌠          ⌠                      ⎮   2    2         ⎟\n",
       "h⋅⎜ ⎮  1 dt +  ⎮  2⋅e⋅cos(ν(t)) dt +  ⎮  e ⋅cos (ν(t)) dt⎟\n",
       "  ⎜ ⌡          ⌡                      ⌡                  ⎟\n",
       "  ⎝ 0          0                      0                  ⎠\n",
       "──────────────────────────────────────────────────────────\n",
       "                              2                           \n",
       "                           ell                            "
      ]
     },
     "execution_count": 2,
     "metadata": {},
     "output_type": "execute_result"
    }
   ],
   "source": [
    "# Let's ask sympy to integrate something we know to be non-integrable\n",
    "h,l,e,t,tf = symbols(\"h,ell,e,t,t_f\")\n",
    "nu = Function('nu')(t) # we'll define nu as a function of t\n",
    "r = l/(1 + e*cos(nu))\n",
    "dnu = h/r**2\n",
    "sympy.integrate(dnu,(t,0,tf))"
   ]
  },
  {
   "cell_type": "markdown",
   "id": "bfc3c82e-8aeb-4d02-9d31-36daf9e7c357",
   "metadata": {},
   "source": [
    "If sympy says it can't be done, then it's time to give up, right?  Well, maybe not.  Let's dip back into Kepler's geometric genius and see what else can be said about this problem.\n",
    "\n",
    "# Eccentric Anomaly\n",
    "\n",
    "Remember how circles are easy and boring? On a circular orbit, orbital speed and orbital radius are both constant, and the true anomaly changes linearly in time.  How can we leverage this for the analysis of elliptical orbits?  \n",
    "\n",
    "<p style=\"text-align:center;\"><img src=\"img/aux_circle_orbit_diagram.png\" alt=\"Auxiliary Circle\" width=\"800\" id=\"fig:aux_circ\"/></p>\n",
    "\n",
    "We start by circumscribing our elliptical orbit with a circular one whose radius is equal to the ellipse's semi-major axis.  This is known as the **auxiliary circle**.  Recall that we have [already proven](<4-Keplers Laws Continued.ipynb#Kepler's-Third-Law>) that the orbital periods of any two orbits with the same semi-major axes are identical, regardless of their eccentricities.  This means that a body following the elliptical orbit and the auxiliary circle orbit will have the same period and will hit periapsis and apoapsis at the same times. At all other times, however, locations on the two orbits will diverge."
   ]
  },
  {
   "cell_type": "markdown",
   "id": "a030ce90-0a56-4f5b-b9f0-f61a8a6413cf",
   "metadata": {},
   "source": [
    "We will next define the **eccentric anomaly** ($E$) as the angle between the major axis (eccentricity vector direction) and the line joining the geometric center ($C$) of our orbit with a point $A$, which is located on the auxiliary circle on the chord orthogonal to the major axis and passing through the body's position ($P$) on the elliptical orbit for some true anomaly ($\\nu$). \n",
    "\n",
    "Consider the right triangle $\\angle CAD$ where $D$ is the intersection of the chord described above with the major axis.  The hypotenuse of this triangle is the segment $\\overline{CA}$ (which has a length equal to the auxiliary circle's radius, which is the ellipse's semi-major axis, $a$).  The base of the triangle is segment $\\overline{CD}$, which can be split into segments $\\overline{CF}$ and $\\overline{FD}$.  The former has a length equal to the linear eccentricity ($ae$), while the latter is the base of another right triangle: $\\angle FPD$. The hypotenuse of $FPD$ is the orbital radius magnitude ($r$), and since the true anomaly is the angle between the major axis and the orbital radius vector, we can write: $\\overline{FD} = r\\cos(\\nu)$. "
   ]
  },
  {
   "cell_type": "markdown",
   "id": "4e4074e5-e03e-4dad-8ccd-efcf11712282",
   "metadata": {},
   "source": [
    "Returning to $\\angle CAD$, we thus have:\n",
    "$$a\\cos(E) = ae + r\\cos(\\nu) \\quad \\Longrightarrow \\quad \\cos(E) = \\frac{ae + r\\cos(\\nu)}{a}$$\n",
    "\n",
    "While this is a useful expression, it has one drawback: the range of arccosine is only $[0,\\pi]$, whereas both $E$ and $\\nu$ are well-defined in all four quadrants.  In order to have a completely general relationship between these two angles, we require an inversion with support over their full ranges. The typical approach in such cases is to find an expression for the sine of the angle in question, which allows for the use of a two-argument arctangent function, whose range covers the full plane.\n",
    "\n",
    "Let's substitute the equation for $r$ for an ellipse into the above expression to get a form of $\\cos(E)$ as a function of $e$ and $\\nu$ only:"
   ]
  },
  {
   "cell_type": "code",
   "execution_count": 3,
   "id": "ef31564b-2b15-48b2-a97d-22a64bd1bdc2",
   "metadata": {},
   "outputs": [
    {
     "data": {
      "image/png": "[encoded data removed]",
      "text/latex": [
       "$\\displaystyle \\frac{e + \\cos{\\left(\\nu \\right)}}{e \\cos{\\left(\\nu \\right)} + 1}$"
      ],
      "text/plain": [
       " e + cos(ν) \n",
       "────────────\n",
       "e⋅cos(ν) + 1"
      ]
     },
     "execution_count": 3,
     "metadata": {},
     "output_type": "execute_result"
    }
   ],
   "source": [
    "a,e,nu = symbols(\"a,e,nu\", real=True, positive=True)\n",
    "r = a*(1-e**2)/(1+e*cos(nu))\n",
    "cosE = simplify((a*e + r*cos(nu))/a)\n",
    "cosE"
   ]
  },
  {
   "cell_type": "markdown",
   "id": "5748a17c-098d-43bc-9ec8-04d1885adf5c",
   "metadata": {},
   "source": [
    "We can compute $\\sin(E)$ as $\\sqrt{1 - \\cos(E)^2}$, but this is not an independent expression and so would not be hugely helpful in a two-argument arctangent function (primarily because we do not know whether to use the positive or negative value of the square root for a given set of angles). An alternative trick we can play, however, is to use half-angle relationship to remap our angles to their full ranges. In particular, we will utilize the half-angle tangent relationships:\n",
    "$$\\tan\\left(\\frac{\\theta}{2}\\right) = \\frac{\\sin(\\theta)}{1 + \\cos(\\theta)} = \\frac{1 - \\cos(\\theta)}{\\sin(\\theta)}$$\n",
    "\n",
    "<div class=\"alert alert-block alert-danger\">\n",
    "    Trigonometric identities like this one are insanely useful and important.  They should be a basic part of your mathematical toolbox - to be reached for as frequently as you use a hammer (assuming you use a hammer frequently). There's no particular reason to memorize any of them - just know that they are always at your disposal.\n",
    "    </div>\n"
   ]
  },
  {
   "cell_type": "code",
   "execution_count": 4,
   "id": "3d639b2b-d56f-4576-81f7-1bd7ccc6eca3",
   "metadata": {},
   "outputs": [
    {
     "data": {
      "image/png": "[encoded data removed]",
      "text/latex": [
       "$\\displaystyle \\sqrt{- \\frac{\\left(e + \\cos{\\left(\\nu \\right)}\\right)^{2}}{\\left(e \\cos{\\left(\\nu \\right)} + 1\\right)^{2}} + 1}$"
      ],
      "text/plain": [
       "      _______________________\n",
       "     ╱                2      \n",
       "    ╱     (e + cos(ν))       \n",
       "   ╱   - ─────────────── + 1 \n",
       "  ╱                    2     \n",
       "╲╱       (e⋅cos(ν) + 1)      "
      ]
     },
     "execution_count": 4,
     "metadata": {},
     "output_type": "execute_result"
    }
   ],
   "source": [
    "# Calculate sin(E) from the cos(E) expression\n",
    "sinE = sqrt(1 - cosE**2)\n",
    "sinE"
   ]
  },
  {
   "cell_type": "code",
   "execution_count": 5,
   "id": "bfdc7512-6f33-4aab-b4f7-090c40467a18",
   "metadata": {},
   "outputs": [
    {
     "data": {
      "image/png": "[encoded data removed]",
      "text/latex": [
       "$\\displaystyle \\frac{\\sqrt{\\frac{1 - e^{2}}{\\left(e \\cos{\\left(\\nu \\right)} + 1\\right)^{2}}} \\left(e \\cos{\\left(\\nu \\right)} + 1\\right) \\left|{\\sin{\\left(\\nu \\right)}}\\right|}{e + \\cos{\\left(\\nu \\right)}}$"
      ],
      "text/plain": [
       "      _________________                        \n",
       "     ╱           2                             \n",
       "    ╱       1 - e                              \n",
       "   ╱   ─────────────── ⋅(e⋅cos(ν) + 1)⋅│sin(ν)│\n",
       "  ╱                  2                         \n",
       "╲╱     (e⋅cos(ν) + 1)                          \n",
       "───────────────────────────────────────────────\n",
       "                   e + cos(ν)                  "
      ]
     },
     "execution_count": 5,
     "metadata": {},
     "output_type": "execute_result"
    }
   ],
   "source": [
    "# Calculate tan(E)\n",
    "tanE = simplify(sinE/cosE)\n",
    "tanE"
   ]
  },
  {
   "cell_type": "code",
   "execution_count": 6,
   "id": "0b0212e7-9924-49c8-a221-49981c199fb7",
   "metadata": {},
   "outputs": [
    {
     "data": {
      "image/png": "[encoded data removed]",
      "text/latex": [
       "$\\displaystyle \\frac{e \\cos{\\left(\\nu \\right)} - e - \\cos{\\left(\\nu \\right)} + 1}{\\sqrt{\\frac{1 - e^{2}}{\\left(e \\cos{\\left(\\nu \\right)} + 1\\right)^{2}}} \\left(e \\cos{\\left(\\nu \\right)} + 1\\right) \\left|{\\sin{\\left(\\nu \\right)}}\\right|}$"
      ],
      "text/plain": [
       "           e⋅cos(ν) - e - cos(ν) + 1           \n",
       "───────────────────────────────────────────────\n",
       "      _________________                        \n",
       "     ╱           2                             \n",
       "    ╱       1 - e                              \n",
       "   ╱   ─────────────── ⋅(e⋅cos(ν) + 1)⋅│sin(ν)│\n",
       "  ╱                  2                         \n",
       "╲╱     (e⋅cos(ν) + 1)                          "
      ]
     },
     "execution_count": 6,
     "metadata": {},
     "output_type": "execute_result"
    }
   ],
   "source": [
    "# Calculate tan(E/2) from the trigonometric identity\n",
    "tanE2 = (1-cosE)/sinE\n",
    "simplify(tanE2)"
   ]
  },
  {
   "cell_type": "markdown",
   "id": "dd5f8cb8-f6eb-4be9-9389-542604ace3c8",
   "metadata": {},
   "source": [
    "Ugh.  This is going to be one of those times that sympy is intransigent in simplification.  It's actually doing everything correctly, and refusing to discard negative roots of various square roots, but we know that we can help it along.  Clearing the cruft, what we now have is:\n",
    "$$\\tan\\left(\\frac{E}{2}\\right) = \\frac{(1-e)(1-\\cos(\\nu))}{\\sqrt{1 - e^2}\\sin(\\nu)} = \\frac{\\sqrt{1+e}}{\\sqrt{1-e}}\\frac{1-\\cos(\\nu)}{\\sin(\\nu)}$$\n",
    "\n",
    "Again applying the half-angle tangent formula, we find:\n",
    "\n",
    "<div class=\"alert alert-block alert-info\">\n",
    "    $$\\tan\\left(\\frac{E}{2}\\right) = \\frac{\\sqrt{1-e}}{\\sqrt{1+e}}\\tan\\left(\\frac{\\nu}{2}\\right)$$\n",
    "    </div>\n",
    "which also gives us the inverse relationship simply by dividing by the square root term on the right-hand side.\n"
   ]
  },
  {
   "cell_type": "markdown",
   "id": "897b4386-f9bd-4d78-9780-22624b8161a3",
   "metadata": {},
   "source": [
    "The assertion here is that this half-angle form will correctly transform the angles over the full range of $\\nu$ values, whereas the $\\tan(E)$ expression will not.  Let's check this.  First, however, let's dial in some expectations: From Kepler's second law, we know that our orbiting body will be traveling the fastest near periapsis and slowest near apoapsis.  On the auxiliary circle, however, any point will be traveling at a constant rate.  Thus, we expect true anomaly to outpace eccentric anomaly near perapsis, then fall behind as we approach apoapsis, for the value to match exactly at apoapsis, and then for the pattern to repeat in reverse. Ok, now that we know what we're looking for, let's see if it works:"
   ]
  },
  {
   "cell_type": "code",
   "execution_count": 7,
   "id": "e7a5d5b1-aa89-4415-9db4-ccf3acd9b083",
   "metadata": {},
   "outputs": [
    {
     "data": {
      "image/png": "[encoded data removed]",
      "text/plain": [
       "<Figure size 900x600 with 1 Axes>"
      ]
     },
     "metadata": {
      "needs_background": "light"
     },
     "output_type": "display_data"
    }
   ],
   "source": [
    "# More plotting!\n",
    "%matplotlib inline\n",
    "plt.rcParams['figure.dpi'] = 150\n",
    "plt.rcParams['font.size'] = 12\n",
    "fig = plt.figure(figsize=(6,4))\n",
    "ax = fig.add_axes([0,0,1,1])\n",
    "\n",
    "# pick a value for e and sample values of nu uniformly over its full range\n",
    "e1 = 0.75 # we pick a fairly large e to accentuate various effects\n",
    "#note use of np.pi rather than pi, which is a sympy variable\n",
    "nu1 = np.linspace(0,2*np.pi,100) \n",
    "\n",
    "# we expect this to not work for nu outside of -pi/2,pi/2:\n",
    "E1 = np.mod(np.arctan(np.sqrt(1 - e1**2)*np.sin(nu1)/(e1 + np.cos(nu1))),2*np.pi)\n",
    "# we expect this to work much better:\n",
    "E2 = np.mod(2*np.arctan(np.sqrt(1-e1)/np.sqrt(1+e1)*np.tan(nu1/2)),2*np.pi)\n",
    "\n",
    "ax.plot(nu1,nu1,'k',nu1,E1,'b--',nu1,E2,'r-.',linewidth=3) \n",
    "ax.set_xlim([0,2*np.pi])\n",
    "ax.set_ylim([0,2*np.pi])\n",
    "ax.set_xlabel('$\\\\nu$ (rad)');\n",
    "ax.set_ylabel('(rad)');"
   ]
  },
  {
   "cell_type": "markdown",
   "id": "c97ac77c-954a-450a-8cef-48a9d351c779",
   "metadata": {},
   "source": [
    "The black curve shows $\\nu$ plotted against itself (i.e., the line with slope equal to 1) while the blue (dashed) and red (dash-dotted) curves show our two computations of $E$, using the inverse of the pure arctangent relationship and the inverse of the half-arctangent relationship, respectively.  As expected, the pure tangent formula fails when $\\nu$ is in the right-hand plane, whereas the half-angle expression behaves well everywhere.  The curves also match our physical expectations of this system: $E$ initially trails $\\nu$, then catches up at apoapsis, then leads up until they meet back at periapsis again. \n",
    "\n",
    "One final thing about the code above: note the use of the `np.mod` method.  This is numpy's modulo operator. When passed with second argument $2\\pi$, it automatically maps whatever's in the first argument to $[0,2\\pi)$, which is exactly what we want from angles in a closed orbit.  While trigonometric operators do not care about phase wrapping, some of the numerical techniques we explore later will, and so it is good practice to always force angle of a closed orbit into some preferred range.\n",
    "\n",
    "<div class=\"alert alert-block alert-danger\">\n",
    "    The strong caveat here is that this is explicitly <i>incorrect</i> for open orbits.  The range of true anomalies for an open orbit is strictly $(-\\dfrac{\\pi}{2},\\dfrac{\\pi}{2})$ and re-mapping to $[0,2\\pi)$ will lead to erroneous results.  Open orbits are not periodic, and it is crucially important to keep track of whether an orbiting body is pre- or post-periapsis passage. \n",
    "    </div>"
   ]
  },
  {
   "cell_type": "markdown",
   "id": "29c18c65-22a6-4c66-8f5d-6255c2dd0d55",
   "metadata": {},
   "source": [
    "# Kepler's Time Equation\n",
    "\n",
    "Returning to our derivation of the eccentric anomaly and its relationship with the true anomaly, note that as an intermediate step, we found that:\n",
    "$$\\cos(E) = \\frac{e + \\cos{\\left(\\nu \\right)}}{e \\cos{\\left(\\nu \\right)} + 1}$$\n",
    "which we can use to solve for $\\cos(\\nu)$:"
   ]
  },
  {
   "cell_type": "code",
   "execution_count": 8,
   "id": "580e3538-64ff-4f92-8eaf-a92c18b1182f",
   "metadata": {},
   "outputs": [
    {
     "data": {
      "image/png": "[encoded data removed]",
      "text/latex": [
       "$\\displaystyle \\frac{e - \\cos{\\left(E \\right)}}{e \\cos{\\left(E \\right)} - 1}$"
      ],
      "text/plain": [
       " e - cos(E) \n",
       "────────────\n",
       "e⋅cos(E) - 1"
      ]
     },
     "execution_count": 8,
     "metadata": {},
     "output_type": "execute_result"
    }
   ],
   "source": [
    "E = symbols(\"E\", real=True, positive=True)\n",
    "cosnu = sympy.solve(cosE-cos(E),cos(nu))[0]\n",
    "cosnu"
   ]
  },
  {
   "cell_type": "markdown",
   "id": "4526532b-b94f-4c2e-844b-a6f5d719aa00",
   "metadata": {},
   "source": [
    "We now substitute this into our orbital radius equation for an ellipse, scaled by the semi-major axis, to find:"
   ]
  },
  {
   "cell_type": "code",
   "execution_count": 9,
   "id": "80f75066-042e-4a9b-a646-f100a719e6d8",
   "metadata": {},
   "outputs": [
    {
     "data": {
      "image/png": "[encoded data removed]",
      "text/latex": [
       "$\\displaystyle - e \\cos{\\left(E \\right)} + 1$"
      ],
      "text/plain": [
       "-e⋅cos(E) + 1"
      ]
     },
     "execution_count": 9,
     "metadata": {},
     "output_type": "execute_result"
    }
   ],
   "source": [
    "ra1 = r/a # r/a as function of nu\n",
    "ra2 = simplify(ra1.subs(cos(nu),cosnu)) # r/a as function of E\n",
    "ra2"
   ]
  },
  {
   "cell_type": "markdown",
   "id": "654c7532-5a45-45e9-b265-7d9d8df4853c",
   "metadata": {},
   "source": [
    "Cool, huh? We have:\n",
    "$$\\frac{r}{a} = \\frac{1 - e^2}{1+e\\cos\\nu} = 1 - e\\cos(E)$$"
   ]
  },
  {
   "cell_type": "markdown",
   "id": "fd80a968-73f7-4a34-86b1-82607f809764",
   "metadata": {},
   "source": [
    "Let's differentiate both versions of this expression with respect to time and see what happens:"
   ]
  },
  {
   "cell_type": "code",
   "execution_count": 10,
   "id": "b601b938-7063-4a47-b0f3-092acaf95254",
   "metadata": {},
   "outputs": [
    {
     "data": {
      "image/png": "[encoded data removed]",
      "text/latex": [
       "$\\displaystyle \\left( \\frac{e \\dot{\\nu} \\left(1 - e^{2}\\right) \\sin{\\left(\\nu \\right)}}{\\left(e \\cos{\\left(\\nu \\right)} + 1\\right)^{2}}, \\  \\dot{E} e \\sin{\\left(E \\right)}\\right)$"
      ],
      "text/plain": [
       "⎛    ⎛     2⎞                   ⎞\n",
       "⎜e⋅ν̇⋅⎝1 - e ⎠⋅sin(ν)            ⎟\n",
       "⎜───────────────────, Ė⋅e⋅sin(E)⎟\n",
       "⎜                2              ⎟\n",
       "⎝  (e⋅cos(ν) + 1)               ⎠"
      ]
     },
     "execution_count": 10,
     "metadata": {},
     "output_type": "execute_result"
    }
   ],
   "source": [
    "nud,Ed = symbols(\"nudot,Edot\",real=True)\n",
    "diffmap = {nu:nud, E:Ed}\n",
    "dra1 = difftotal(ra1,t,diffmap)\n",
    "dra2 = difftotal(ra2,t,diffmap)\n",
    "dra1,dra2"
   ]
  },
  {
   "cell_type": "markdown",
   "id": "d988f38d-57d4-4444-8388-b21691fdc52c",
   "metadata": {},
   "source": [
    "We can clean up the $\\nu$ derivative by substituting back our expression for $r/a$ and recalling that $r^2\\dot\\nu = h$:"
   ]
  },
  {
   "cell_type": "code",
   "execution_count": 11,
   "id": "cf8cfa5c-3a78-47c5-9df4-b60e6f36b6e6",
   "metadata": {},
   "outputs": [
    {
     "data": {
      "image/png": "[encoded data removed]",
      "text/latex": [
       "$\\displaystyle \\frac{e h \\sin{\\left(\\nu \\right)}}{a^{2} \\cdot \\left(1 - e^{2}\\right)}$"
      ],
      "text/plain": [
       " e⋅h⋅sin(ν)\n",
       "───────────\n",
       " 2 ⎛     2⎞\n",
       "a ⋅⎝1 - e ⎠"
      ]
     },
     "execution_count": 11,
     "metadata": {},
     "output_type": "execute_result"
    }
   ],
   "source": [
    "r,mu = symbols('r,mu',real=True)\n",
    "dra1 = ((dra1/ra1**2)*r**2/a**2).subs(r**2*nud,h)\n",
    "dra1"
   ]
  },
  {
   "cell_type": "markdown",
   "id": "d7d608fb-91e5-4d1d-8fd5-f3f933a5b1f6",
   "metadata": {},
   "source": [
    "We have established several times now that $h^2/\\mu = \\ell$ and so, for an ellipse, $h = \\sqrt{\\mu a (1 - e^2)}$:"
   ]
  },
  {
   "cell_type": "code",
   "execution_count": 12,
   "id": "b01e2e12-59eb-453e-bd5c-83a7b972f017",
   "metadata": {},
   "outputs": [
    {
     "data": {
      "image/png": "[encoded data removed]",
      "text/latex": [
       "$\\displaystyle \\frac{e \\sqrt{\\mu \\left(1 - e^{2}\\right)} \\sin{\\left(\\nu \\right)}}{a^{\\frac{3}{2}} \\cdot \\left(1 - e^{2}\\right)}$"
      ],
      "text/plain": [
       "     ____________       \n",
       "    ╱   ⎛     2⎞        \n",
       "e⋅╲╱  μ⋅⎝1 - e ⎠ ⋅sin(ν)\n",
       "────────────────────────\n",
       "      3/2 ⎛     2⎞      \n",
       "     a   ⋅⎝1 - e ⎠      "
      ]
     },
     "execution_count": 12,
     "metadata": {},
     "output_type": "execute_result"
    }
   ],
   "source": [
    "dra1 = dra1.subs(h,sqrt(mu*a*(1-e**2)))\n",
    "dra1"
   ]
  },
  {
   "cell_type": "markdown",
   "id": "ca61486d-6257-4557-b41e-deb35a926fa1",
   "metadata": {},
   "source": [
    "Returning momentarily to our expression for $\\cos(\\nu)$ as a function of $E$, we can again find $\\sin(\\nu)$ as $\\sqrt{1 - \\cos^2(\\nu)}$:\n",
    "\n",
    "$$\\sin\\nu = \\sqrt{1 - \\left(\\frac{e - \\cos{\\left(E \\right)}}{e \\cos{\\left(E \\right)} - 1}\\right)^2} = \\frac{\\sqrt{1 - e^2}}{1 - e\\cos(E)}\\sin(E)$$\n",
    "\n",
    "Substituting back into our derivative of $r/a$:"
   ]
  },
  {
   "cell_type": "code",
   "execution_count": 13,
   "id": "5024ba45-94eb-453a-baea-b662f9b26495",
   "metadata": {},
   "outputs": [
    {
     "data": {
      "image/png": "[encoded data removed]",
      "text/latex": [
       "$\\displaystyle \\frac{e \\sqrt{\\mu \\left(1 - e^{2}\\right)} \\sin{\\left(E \\right)}}{a^{\\frac{3}{2}} \\sqrt{1 - e^{2}} \\left(- e \\cos{\\left(E \\right)} + 1\\right)}$"
      ],
      "text/plain": [
       "         ____________           \n",
       "        ╱   ⎛     2⎞            \n",
       "    e⋅╲╱  μ⋅⎝1 - e ⎠ ⋅sin(E)    \n",
       "────────────────────────────────\n",
       "        ________                \n",
       " 3/2   ╱      2                 \n",
       "a   ⋅╲╱  1 - e  ⋅(-e⋅cos(E) + 1)"
      ]
     },
     "execution_count": 13,
     "metadata": {},
     "output_type": "execute_result"
    }
   ],
   "source": [
    "dra1 = dra1.subs(sin(nu),sqrt(1 - e**2)/(1 - e*cos(E))*sin(E))\n",
    "dra1"
   ]
  },
  {
   "cell_type": "markdown",
   "id": "8b9a27c2-ed0f-456d-b9dd-2c0856d7b8cb",
   "metadata": {},
   "source": [
    "Let's regroup.  What we've shown so far is:\n",
    "\n",
    "$$ \\fddt{}\\left( \\frac{r}{a}\\right) = \\dot E e \\sin(E) = \\sqrt{\\frac{\\mu}{a^3}}\\frac{e  \\sin{\\left(E \\right)}}{ 1 - e \\cos{\\left(E \\right)} } $$\n",
    "\n",
    "That leading square root term on the right hand side looks awfully familiar.  In fact, it popped up during our derivation of [Kepler's third law](<4-Keplers Laws Continued.ipynb#Kepler's-Third-Law>).  We define it as:\n",
    "\n",
    "<div class=\"alert alert-block alert-info\">\n",
    "    The <b>mean motion</b>:\n",
    "    $$n \\triangleq  \\sqrt{\\frac{\\mu}{a^3}} \\equiv \\frac{2\\pi}{T_P}$$\n",
    "    </div>\n",
    "\n",
    "The mean motion is the *average* angular rate of motion of a body on its orbit (covering a full 2$\\pi$ radians in one orbital period, $T_P$).\n",
    "\n",
    "Now cancelling the $e\\sin(E)$ terms on either side of our equation, we have:\n",
    "$$ \\frac{\\intd{E}}{\\intd{t}} = \\frac{n}{1 - e\\cos(E)} \\quad \\Longrightarrow \\quad (1 - e\\cos(E))\\intd{E} = n \\intd{t}$$\n",
    "Integrating (as one does) we find:\n",
    "$$ E  - e\\sin(E) = nt + c \\triangleq n(t - t_p)$$\n",
    "\n",
    "where $c$ is a constant of integration, which we define as $-n t_p$.\n",
    "\n",
    "Let's consider what this all means.  We've established that $n$ is the average angular rate of progress along our orbit, which means that $nt$ represents the angle of the current position of our body (given by either $E$ or $\\nu$) on an equivalent *circular* orbit.  $t_p$ should therefore be interpreted as a time offset, representing the time of some fiducial point on the orbit.  For $t = t_p$, the right-hand side of this equation evaluates to zero.  The left-hand side is zero only for $E = 0$, which occurs when $\\nu = 0$, or at periapsis. Thus $t_p$ is the **time of periapsis passage** (sometimes also called time of periapse passage). Pretty lucky we gave it that little 'p' subscript, huh?\n",
    "\n",
    "From this, we define:\n",
    "<div class=\"alert alert-block alert-info\">\n",
    "    The <b>mean anomaly</b>:\n",
    "    $$M \\triangleq  n(t - t_p)$$\n",
    "    </div>\n",
    "\n",
    "This is the angle, measured from the geometric center of the ellipse, to the point on the auxiliary circle where our body *would be* at a specific time $t$ corresponding to some value of $\\nu$ and $E$, if it were traveling on the circular orbit instead of on the elliptical one (this is the point marked B in the <a href=\"#fig:aux_circ\" >figure</a>).\n",
    "\n",
    "All together, this gives us:\n",
    "<div class=\"alert alert-block alert-info\">\n",
    "    The <b>Kepler Time Equation</b>:\n",
    "    $$M  = E - e\\sin(E)$$\n",
    "    </div>\n",
    "\n",
    "\n",
    "<div class=\"alert alert-block alert-danger\">\n",
    "You might be wondering as to how Kepler arrived at this equation without the use of calculus.  In fact, there's an entirely geometric derivation based on Kepler's second and third laws that gets you the same result.  You could look it up, but wouldn't it be more fun to try to get there yourself?\n",
    "    </div>"
   ]
  },
  {
   "cell_type": "code",
   "execution_count": 14,
   "id": "8826aa50-05ad-431d-a111-e7bd4b9cd1f5",
   "metadata": {},
   "outputs": [
    {
     "data": {
      "text/markdown": [
       "# [Next](<16-Inverting the Time Equation.ipynb>)"
      ],
      "text/plain": [
       "<IPython.core.display.Markdown object>"
      ]
     },
     "metadata": {},
     "output_type": "display_data"
    }
   ],
   "source": [
    "# This is just here to generate the link to the next notebook\n",
    "genNextLink()"
   ]
  }
 ],
 "metadata": {
  "kernelspec": {
   "display_name": "Python 3 (ipykernel)",
   "language": "python",
   "name": "python3"
  },
  "language_info": {
   "codemirror_mode": {
    "name": "ipython",
    "version": 3
   },
   "file_extension": ".py",
   "mimetype": "text/x-python",
   "name": "python",
   "nbconvert_exporter": "python",
   "pygments_lexer": "ipython3",
   "version": "3.9.13"
  }
 },
 "nbformat": 4,
 "nbformat_minor": 5
}
