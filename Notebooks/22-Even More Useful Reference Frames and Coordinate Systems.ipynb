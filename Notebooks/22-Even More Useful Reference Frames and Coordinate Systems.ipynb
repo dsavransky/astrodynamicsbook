{
 "cells": [
  {
   "cell_type": "code",
   "execution_count": 1,
   "id": "2497d91d-89be-43b3-938f-0b783c3e29c7",
   "metadata": {},
   "outputs": [
    {
     "data": {
      "text/markdown": [
       "$\n",
       "\\def\\bs{\\boldsymbol}\n",
       "\\def\\mf{\\mathbf}\n",
       "\\def\\mb{\\mathbb}\n",
       "\\def\\mc{\\mathcal}\n",
       "\\def\\rfr{\\mathcal}\n",
       "\\def\\grad{{\\rm grad}}\n",
       "\\def\\Re{{\\rm Re}}\n",
       "\\def\\Im{{\\rm Im}}\n",
       "\\def\\und{\\underline}\n",
       "\\def\\ovl{\\overline}\n",
       "\\def\\unb{\\underbrace}\n",
       "\\def\\Log{\\mbox{Log}}\n",
       "\\def\\bfomega{\\bs \\omega}\n",
       "\\def\\bfalpha{\\bs \\alpha}\n",
       "\\def\\da{\\triangleq}\n",
       "\\newcommand{\\leftexp}[2]{{\\vphantom{#2}}^{#1}\\!{#2}}\n",
       "\\newcommand{\\leftsub}[2]{{\\vphantom{#2}}_{#1}\\!{#2}}\n",
       "\\newcommand{\\omegarot}[2]{{\\leftexp{\\mathcal{#1}}{\\boldsymbol{\\omega}}^{\\mathcal{#2}}}}\n",
       "\\newcommand{\\alpharot}[2]{{\\leftexp{\\mathcal{#1}}{\\boldsymbol{\\alpha}}^{\\mathcal{#2}}}}\n",
       "\\newcommand{\\framerot}[2]{{\\leftexp{\\mathcal{#1}}{C}^{\\mathcal{#2}}}}\n",
       "\\newcommand{\\dframerot}[2]{{\\vphantom{\\dot{C}}^{\\mathcal{#1}}\\!{\\dot{C}^{\\mathcal{#2}}}}}\n",
       "\\newcommand{\\bdot}[1]{\\dot{\\mathbf{#1}}}\n",
       "\\newcommand{\\bhat}[1]{\\hat{\\mathbf{#1}}}\n",
       "\\newcommand{\\mbhat}[1]{\\hat{\\mathbb{#1}}}\n",
       "\\def\\iwb{\\omegarot{I}{B}}\n",
       "\\def\\iab{\\alpharot{I}{B}}\n",
       "\\def\\icb{\\framerot{I}{B}}\n",
       "\\def\\dif{\\mathop{}\\!\\mathrm{d}}\n",
       "\\newcommand{\\intd}[1]{\\dif#1}\n",
       "\\newcommand{\\od}[3][]{{ \\frac{\\dif{^{#1}}#2}{\\dif{#3^{#1}}} }}\t\t\t\n",
       "\\newcommand{\\pd}[3][]{{ \\frac{\\partial{^{#1}}#2}{\\partial{#3^{#1}}} }}\t \n",
       "\\newcommand{\\md}[6]{{  \\frac{\\partial{^{#2}}#1}{\\partial{#3^{#4}}\\partial{#5^{#6}}} }}\n",
       "\\newcommand{\\fddt}[2][]{{  \\leftexp{\\mathcal{#2}}{\\frac{\\dif{#1}}{\\dif{t}}}  }}\n",
       "\\newcommand{\\fdddt}[2][]{{  \\leftexp{\\mathcal{#2}}{\\frac{\\dif{^{2}#1}}{\\dif{t^2}}}  }}\n",
       "\\newcommand{\\ddt}[1][]{\\fddt[#1]{I}}\n",
       "$\n"
      ],
      "text/plain": [
       "<IPython.core.display.Markdown object>"
      ]
     },
     "metadata": {},
     "output_type": "display_data"
    },
    {
     "data": {
      "text/markdown": [
       "# [Previous](<21-Universal Variables.ipynb>)"
      ],
      "text/plain": [
       "<IPython.core.display.Markdown object>"
      ]
     },
     "metadata": {},
     "output_type": "display_data"
    }
   ],
   "source": [
    "# These are helpful routines that will assist in building this book.\n",
    "# You should run this block before anything else. There is no output expected.\n",
    "from astrodynamicsbook.bookhelpers import *\n",
    "\n",
    "loadLatexPreamble()\n",
    "\n",
    "# This is only here to create the navigation link:\n",
    "genPrevLink()"
   ]
  },
  {
   "cell_type": "markdown",
   "id": "e9453aa8-3bb7-4667-aeb1-7a711589b222",
   "metadata": {},
   "source": [
    "# Even More Useful Reference Frames\n",
    "\n",
    "Recall our discussion of the [orientation of the perifocal frame](<18-Orbits%20in%203D.ipynb#Orientation-of-the-Perifocal-Frame>).  We defined the perifocal frame's orientation with respect to some arbitrary inertial frame. This inertial frame can be literally anything, but if we wish to use measurements made by others, or to communicate our own measurements/calculations with someone else, there needs to be some convention for defining standard reference frames with respect to which we define our coordinate systems. Before proceeding to our next topic, it is worthwhile to pause and review some standard definitions and conventions regarding measurements of celestial bodies and solar system objects. \n",
    "\n",
    "Traditionally, the [kinematics](<07-Second%20Law.ipynb#Kinematics>) of objects in space have been described via [spherical coodrindates](<01-Introduction.ipynb#Spherical-Coordinates>).  This is primarily due to the fact that it is relatively straightforward to measure the angular separation between two objects (and thereby derive the spherical angles of an object with respect to some fiducial inertial directions), whereas it is incredibly difficult to measure the precise distance to thing that are thousands or millions or trillions of km away. \n",
    "\n",
    "<div class=\"alert alert-block alert-danger\">\n",
    "    One trillion km doesn't get you as far as you'd think in space.  The nearest star to the sun, Proxima Centauri, is roughly 40 trillion km away.  The galactic center is (very) roughly 246 <i>quadrillion</i> km away. Space, as has been frequently pointed out, is big.  These numbers are effectively meaningless from the standpoint of everyday experience.  Best not to dwell on them and just stick to the angles of it all.\n",
    "</div>\n",
    "\n",
    "For most of human history, it was literally impossible for us to make any sort of measurements of the distances to objects outside of our solar system. The first-ever successful measurement of the distance to another star was performed by Friedrich Bessel (of the Bessel functions fame) in 1838, and was accurate to only about 10%. We have since significantly improved our abilities to measure accurate distances for things both inside and outside the solar system, but it is still worthwhile to decouple the angular positions and distances of celestial objects and spacecraft.  Spherical coordinates are ideal for this as they naturally isolate the magnitude of a vector:\n",
    "\n",
    "$$\\left[ \\mf{r}_{P/O} \\right]_\\mc I = r\\begin{bmatrix}\n",
    "\\cos\\theta \\sin\\phi \\\\ \\sin\\theta\\sin\\phi \\\\ \\cos\\phi \\end{bmatrix}_\\mc I \\quad\\Longrightarrow\\quad \\left[ \\bhat{r}_{P/O} \\right]_\\mc I = \\begin{bmatrix}\n",
    "\\cos\\theta \\sin\\phi \\\\ \\sin\\theta\\sin\\phi \\\\ \\cos\\phi \\end{bmatrix}_\\mc I $$\n",
    "\n",
    "Because of the ubiquity of spherical coordinates in determining body positions, it is useful for us to briefly review some concepts from spherical geometry. "
   ]
  },
  {
   "cell_type": "markdown",
   "id": "592d4925-6101-4e96-9dc2-9acb8055e8ca",
   "metadata": {},
   "source": [
    "# A Brief Review of Spherical Geometry\n",
    "\n",
    "Spherical geometry and trigonometry is done on the surface of a unit sphere, with center point $O$:\n",
    "\n",
    "<p style=\"text-align:center;\"><img src=\"img/sphere_diagram.png\" alt=\"Spherical Geometry diagram\" width=\"500\" id=\"fig:multframes\"/></p>"
   ]
  },
  {
   "cell_type": "markdown",
   "id": "5c7eff6c-2d20-4d04-9ca8-2289d9f6f9ce",
   "metadata": {},
   "source": [
    "# Solar System Reference Planes\n",
    "While we have standardized our notation such that our spherical angles $(\\theta, \\phi)$ represent azimuth and zenith angles, traditionally the coordinate systems used to describe objects in space have utilized the convention of azimuth and elevation angles.  There is no real difficulty in converting between the two conventions (see our [previous discussion](<01-Introduction.ipynb#Spherical-Coordinates>) on the topic), but we'll need to be careful and keep track of which convention is in play at all times.  As elevation angles are measured *up* from the base plane of a reference frame, we typically refer to a **reference plane**.  For the solar system, there are two historically important reference planes: the **equatorial** and **ecliptic** planes:\n",
    "\n",
    "<p style=\"text-align:center;\"><img src=\"img/earth_ecliptic_equatorial.png\" alt=\"Ecliptic and equatorial reference frames\" width=\"800\" id=\"fig:multframes\"/></p>\n",
    "\n",
    "The equatorial plane is the plane passing through the Earth's equator, which is the great circle "
   ]
  },
  {
   "cell_type": "code",
   "execution_count": null,
   "id": "b6604846-4fa0-41a9-b4a3-717137f1eed3",
   "metadata": {},
   "outputs": [],
   "source": []
  }
 ],
 "metadata": {
  "kernelspec": {
   "display_name": "Python 3 (ipykernel)",
   "language": "python",
   "name": "python3"
  },
  "language_info": {
   "codemirror_mode": {
    "name": "ipython",
    "version": 3
   },
   "file_extension": ".py",
   "mimetype": "text/x-python",
   "name": "python",
   "nbconvert_exporter": "python",
   "pygments_lexer": "ipython3",
   "version": "3.11.5"
  }
 },
 "nbformat": 4,
 "nbformat_minor": 5
}
