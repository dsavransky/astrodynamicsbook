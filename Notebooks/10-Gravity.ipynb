{
 "cells": [
  {
   "cell_type": "code",
   "execution_count": 17,
   "id": "3f98adae-f731-430c-b18d-0536d2b1c293",
   "metadata": {},
   "outputs": [
    {
     "data": {
      "text/markdown": [
       "$\n",
       "\\def\\bs{\\boldsymbol}\n",
       "\\def\\mf{\\mathbf}\n",
       "\\def\\mb{\\mathbb}\n",
       "\\def\\mc{\\mathcal}\n",
       "\\def\\rfr{\\mathcal}\n",
       "\\def\\grad{{\\rm grad}}\n",
       "\\def\\Re{{\\rm Re}}\n",
       "\\def\\Im{{\\rm Im}}\n",
       "\\def\\und{\\underline}\n",
       "\\def\\ovl{\\overline}\n",
       "\\def\\unb{\\underbrace}\n",
       "\\def\\Log{\\mbox{Log}}\n",
       "\\def\\bfomega{\\bs \\omega}\n",
       "\\def\\bfalpha{\\bs \\alpha}\n",
       "\\def\\da{\\triangleq}\n",
       "\\newcommand{\\leftexp}[2]{{\\vphantom{#2}}^{#1}\\!{#2}}\n",
       "\\newcommand{\\leftsub}[2]{{\\vphantom{#2}}_{#1}\\!{#2}}\n",
       "\\newcommand{\\omegarot}[2]{{\\leftexp{\\mathcal{#1}}{\\boldsymbol{\\omega}}^{\\mathcal{#2}}}}\n",
       "\\newcommand{\\alpharot}[2]{{\\leftexp{\\mathcal{#1}}{\\boldsymbol{\\alpha}}^{\\mathcal{#2}}}}\n",
       "\\newcommand{\\framerot}[2]{{\\leftexp{\\mathcal{#1}}{C}^{\\mathcal{#2}}}}\n",
       "\\newcommand{\\dframerot}[2]{{\\vphantom{\\dot{C}}^{\\mathcal{#1}}\\!{\\dot{C}^{\\mathcal{#2}}}}}\n",
       "\\newcommand{\\bdot}[1]{\\dot{\\mathbf{#1}}}\n",
       "\\newcommand{\\bhat}[1]{\\hat{\\mathbf{#1}}}\n",
       "\\newcommand{\\mbhat}[1]{\\hat{\\mathbb{#1}}}\n",
       "\\def\\iwb{\\omegarot{I}{B}}\n",
       "\\def\\iab{\\alpharot{I}{B}}\n",
       "\\def\\icb{\\framerot{I}{B}}\n",
       "\\def\\dif{\\mathop{}\\!\\mathrm{d}}\n",
       "\\newcommand{\\intd}[1]{\\dif#1}\n",
       "\\newcommand{\\od}[3][]{{ \\frac{\\dif{^{#1}}#2}{\\dif{#3^{#1}}} }}\t\t\t\n",
       "\\newcommand{\\pd}[3][]{{ \\frac{\\partial{^{#1}}#2}{\\partial{#3^{#1}}} }}\t \n",
       "\\newcommand{\\md}[6]{{  \\frac{\\partial{^{#2}}#1}{\\partial{#3^{#4}}\\partial{#5^{#6}}} }}\n",
       "\\newcommand{\\fddt}[2][]{{  \\leftexp{\\mathcal{#2}}{\\frac{\\dif{#1}}{\\dif{t}}}  }}\n",
       "\\newcommand{\\fdddt}[2][]{{  \\leftexp{\\mathcal{#2}}{\\frac{\\dif{^{2}#1}}{\\dif{t^2}}}  }}\n",
       "\\newcommand{\\ddt}[1][]{\\fddt[#1]{I}}\n",
       "$\n"
      ],
      "text/plain": [
       "<IPython.core.display.Markdown object>"
      ]
     },
     "metadata": {},
     "output_type": "display_data"
    },
    {
     "data": {
      "text/markdown": [
       "# [Previous](<08-Angular Momentum.ipynb>)"
      ],
      "text/plain": [
       "<IPython.core.display.Markdown object>"
      ]
     },
     "metadata": {},
     "output_type": "display_data"
    }
   ],
   "source": [
    "# These are helpful routines that will assist in building this book. \n",
    "# You should run this block before anything else. There is no output expected.\n",
    "from astrodynamicsbook.bookhelpers import *\n",
    "loadLatexPreamble()\n",
    "\n",
    "# This is only here to create the navigation link:\n",
    "genPrevLink()"
   ]
  },
  {
   "cell_type": "markdown",
   "id": "3d358819-68d5-4156-9cb2-1eb9fb48b8e2",
   "metadata": {},
   "source": [
    "# Newtonian Gravity \n",
    "\n",
    "We are now going to introduce a new bit of physics, and add a fourth law to the three we've been using so far.  This is Newton's Law of Gravity, sometimes called Newton's Law of Universal Gravitation. Once again, it is incredibly important to understand that it is a *law*, and postulates specific behavior that closely matches what we observe in the physical universe, most of the time, and under most conditions.  Modern physics now provides us with a better understanding of gravity, via Einstein's general theory of relativity, but it turns out that Newton's law works amazingly well in the vast majority of cases, and can almost *always* be used to get a very good first approximation for the dynamics of gravitational systems.\n",
    "\n",
    "<div class=\"alert alert-block alert-danger\">\n",
    "    The use of <i>better</i> to describe general relativity is not a value judgment. It is merely shorthand for 'makes predictions that more closely agree with observed phenomena over a broader range of conditions'. We also know relativity to be incomplete, as it does not (yet) play nicely with quantum mechanics.  The theory of gravity will keep being developed as new discoveries are made and new theories proposed.  Newton's law of gravity, however, is immutable, and will remain the same forever.\n",
    "    </div>\n",
    "    \n",
    "<p style=\"text-align:center;\"><img src=\"img/2body_frame.png\" alt=\"Two-Body Problem\" width=\"400\" id=\"fig:2bodyframe\"/></p>\n",
    "\n",
    "The simplest gravitational system is two particles interacting via the force of gravity, with no other masses or forces in the system.  This is known as the **two-body problem** and is illustrated in the <a href=\"#fig:2bodyframe\" >figure</a>, above. This system is incredibly important as it is the *only* gravitational system with a complete, closed-form, analytic solution.  All other gravitational systems require numerical integration in order to accurately predict the trajectories of constituent masses.  Newton's law of universal gravitation posits that the force on mass $m_1$ due to gravitational interaction with mass $m_2$ is given by:\n",
    "\n",
    "<div class=\"alert alert-block alert-info\">\n",
    "$$\\mf F_1 = -\\frac{G m_1 m_2}{\\Vert \\mf r_{1/2}\\Vert^3}\\mf r_{1/2} $$\n",
    "</div>\n",
    "\n",
    "Here, $G$ is a proportionality constant, known as the **gravitational constant** (or universal gravitational constant), and the numerical subscripts refer to mass 1 and 2, respectively. By Newton's third law, mass $m_2$ must experience an equal and opposite force, so $\\mf F_2 = -\\mf F_1$.\n",
    "\n",
    "The most important thing to note here is that Newtonian gravity is an inverse-square law!  We have written it in a standard form, with a cube of the separation vector in the denominator, but note that the law can equivalently be written as a strict inverse-square formula:\n",
    "$$\\mf F_1 = -\\frac{G m_1 m_2}{\\Vert \\mf r_{1/2}\\Vert^2}\\bhat r_{1/2} $$\n",
    "\n",
    "We were just talking about inverse-square laws (another *amazing* coincidence).  Let's see if we can apply any of our newly-developed formalism to the two-body problem.  We start in the same way that we start any dynamics problem - we define our reference frame, $I = (O, \\bhat{e}_1,  \\bhat{e}_2,\\bhat{e}_3)$, and draw free-body diagrams (as in the <a href=\"#fig:2bodyframe\" >figure</a>) and then proceed to apply Newton's second law to each mass in the system, which yields: \n",
    "$$ m_1\\fdddt{\\mc I}\\bhat{r}_{1/O} = -\\frac{G m_1 m_2}{\\Vert \\mf r_{1/2}\\Vert^3}\\mf r_{1/2}$$\n",
    "$$ m_2\\fdddt{\\mc I}\\bhat{r}_{2/O} = -\\frac{G m_1 m_2}{\\Vert \\mf r_{2/1}\\Vert^3}\\mf r_{2/1} = \\frac{G m_1 m_2}{\\Vert \\mf r_{1/2}\\Vert^3}\\mf r_{1/2}$$\n"
   ]
  },
  {
   "cell_type": "code",
   "execution_count": null,
   "id": "285a9af8-30a4-4603-878e-ab5c4481f8ac",
   "metadata": {},
   "outputs": [],
   "source": []
  }
 ],
 "metadata": {
  "kernelspec": {
   "display_name": "Python 3 (ipykernel)",
   "language": "python",
   "name": "python3"
  },
  "language_info": {
   "codemirror_mode": {
    "name": "ipython",
    "version": 3
   },
   "file_extension": ".py",
   "mimetype": "text/x-python",
   "name": "python",
   "nbconvert_exporter": "python",
   "pygments_lexer": "ipython3",
   "version": "3.9.7"
  }
 },
 "nbformat": 4,
 "nbformat_minor": 5
}
