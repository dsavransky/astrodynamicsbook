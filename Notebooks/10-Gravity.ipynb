{
 "cells": [
  {
   "cell_type": "code",
   "execution_count": 17,
   "id": "3f98adae-f731-430c-b18d-0536d2b1c293",
   "metadata": {},
   "outputs": [
    {
     "data": {
      "text/markdown": [
       "$\n",
       "\\def\\bs{\\boldsymbol}\n",
       "\\def\\mf{\\mathbf}\n",
       "\\def\\mb{\\mathbb}\n",
       "\\def\\mc{\\mathcal}\n",
       "\\def\\rfr{\\mathcal}\n",
       "\\def\\grad{{\\rm grad}}\n",
       "\\def\\Re{{\\rm Re}}\n",
       "\\def\\Im{{\\rm Im}}\n",
       "\\def\\und{\\underline}\n",
       "\\def\\ovl{\\overline}\n",
       "\\def\\unb{\\underbrace}\n",
       "\\def\\Log{\\mbox{Log}}\n",
       "\\def\\bfomega{\\bs \\omega}\n",
       "\\def\\bfalpha{\\bs \\alpha}\n",
       "\\def\\da{\\triangleq}\n",
       "\\newcommand{\\leftexp}[2]{{\\vphantom{#2}}^{#1}\\!{#2}}\n",
       "\\newcommand{\\leftsub}[2]{{\\vphantom{#2}}_{#1}\\!{#2}}\n",
       "\\newcommand{\\omegarot}[2]{{\\leftexp{\\mathcal{#1}}{\\boldsymbol{\\omega}}^{\\mathcal{#2}}}}\n",
       "\\newcommand{\\alpharot}[2]{{\\leftexp{\\mathcal{#1}}{\\boldsymbol{\\alpha}}^{\\mathcal{#2}}}}\n",
       "\\newcommand{\\framerot}[2]{{\\leftexp{\\mathcal{#1}}{C}^{\\mathcal{#2}}}}\n",
       "\\newcommand{\\dframerot}[2]{{\\vphantom{\\dot{C}}^{\\mathcal{#1}}\\!{\\dot{C}^{\\mathcal{#2}}}}}\n",
       "\\newcommand{\\bdot}[1]{\\dot{\\mathbf{#1}}}\n",
       "\\newcommand{\\bhat}[1]{\\hat{\\mathbf{#1}}}\n",
       "\\newcommand{\\mbhat}[1]{\\hat{\\mathbb{#1}}}\n",
       "\\def\\iwb{\\omegarot{I}{B}}\n",
       "\\def\\iab{\\alpharot{I}{B}}\n",
       "\\def\\icb{\\framerot{I}{B}}\n",
       "\\def\\dif{\\mathop{}\\!\\mathrm{d}}\n",
       "\\newcommand{\\intd}[1]{\\dif#1}\n",
       "\\newcommand{\\od}[3][]{{ \\frac{\\dif{^{#1}}#2}{\\dif{#3^{#1}}} }}\t\t\t\n",
       "\\newcommand{\\pd}[3][]{{ \\frac{\\partial{^{#1}}#2}{\\partial{#3^{#1}}} }}\t \n",
       "\\newcommand{\\md}[6]{{  \\frac{\\partial{^{#2}}#1}{\\partial{#3^{#4}}\\partial{#5^{#6}}} }}\n",
       "\\newcommand{\\fddt}[2][]{{  \\leftexp{\\mathcal{#2}}{\\frac{\\dif{#1}}{\\dif{t}}}  }}\n",
       "\\newcommand{\\fdddt}[2][]{{  \\leftexp{\\mathcal{#2}}{\\frac{\\dif{^{2}#1}}{\\dif{t^2}}}  }}\n",
       "\\newcommand{\\ddt}[1][]{\\fddt[#1]{I}}\n",
       "$\n"
      ],
      "text/plain": [
       "<IPython.core.display.Markdown object>"
      ]
     },
     "metadata": {},
     "output_type": "display_data"
    },
    {
     "data": {
      "text/markdown": [
       "# [Previous](<08-Angular Momentum.ipynb>)"
      ],
      "text/plain": [
       "<IPython.core.display.Markdown object>"
      ]
     },
     "metadata": {},
     "output_type": "display_data"
    }
   ],
   "source": [
    "# These are helpful routines that will assist in building this book. \n",
    "# You should run this block before anything else. There is no output expected.\n",
    "from astrodynamicsbook.bookhelpers import *\n",
    "loadLatexPreamble()\n",
    "\n",
    "# This is only here to create the navigation link:\n",
    "genPrevLink()"
   ]
  },
  {
   "cell_type": "markdown",
   "id": "3d358819-68d5-4156-9cb2-1eb9fb48b8e2",
   "metadata": {},
   "source": [
    "# Newtonian Gravity \n",
    "\n",
    "We are now going to introduce a new bit of physics, and add a fourth law to the three we've been using so far.  This is Newton's Law of Gravity, sometimes called Newton's Law of Universal Gravitation. Once again, it is incredibly important to understand that it is a *law*, and postulates specific behavior that closely matches what we observe in the physical universe, most of the time, and under most conditions.  Modern physics now provides us with a better understanding of gravity, via Einstein's general theory of relativity, but it turns out that Newton's law works amazingly well in the vast majority of cases, and can almost *always* be used to get a very good first approximation for the dynamics of gravitational systems.\n",
    "\n",
    "<div class=\"alert alert-block alert-danger\">\n",
    "    The use of <i>better</i> to describe general relativity is not a value judgment. It is merely shorthand for 'makes predictions that more closely agree with observed phenomena over a broader range of conditions'. We also know relativity to be incomplete, as it does not (yet) play nicely with quantum mechanics.  The theory of gravity will keep being developed as new discoveries are made and new theories proposed.  Newton's law of gravity, however, is immutable, and will remain the same forever.\n",
    "    </div>\n",
    "    \n",
    "<div class=\"alert alert-block alert-danger\">\n",
    "    Another aside: you will frequently hear (usually from physics majors) statements along the lines of: \"gravity is not a force.\"  This is honestly a bit of useless pedantry.  Yes, general relativity describes gravity as a curvature of spacetime due to uneven distribution of masses.  However, remember that we never actually defined what a force <i>is</i>.  Forces are the things that accelerate masses.  Gravity, in whatever flavor you happen to prefer, causes masses to move in particular ways, and apparently accelerate from the vantage point of an external observer.  Hence, insisting that gravity isn't a force is a bit silly.\n",
    "    </div>\n",
    "    \n",
    "<p style=\"text-align:center;\"><img src=\"img/2body_frame.png\" alt=\"Two-Body Problem\" width=\"400\" id=\"fig:2bodyframe\"/></p>\n",
    "\n",
    "## The Two-Body Problem\n",
    "The simplest gravitational system is two Newtonian particles interacting via the force of gravity, with no other masses or forces in the system.  This is known as the **two-body problem** and is illustrated in the <a href=\"#fig:2bodyframe\" >figure</a>, above. This system is incredibly important as it is the *only* gravitational system with a complete, closed-form, analytic solution.  All other gravitational systems require numerical integration in order to accurately predict the trajectories of constituent masses.  Newton's law of universal gravitation posits that the force on mass $m_1$ due to gravitational interaction with mass $m_2$ is given by:\n",
    "\n",
    "<div class=\"alert alert-block alert-info\">\n",
    "$$\\mf F_1 = -\\frac{G m_1 m_2}{\\Vert \\mf r_{1/2}\\Vert^3}\\mf r_{1/2} $$\n",
    "</div>\n",
    "\n",
    "Here, $G$ is a proportionality constant, known as the **gravitational constant** (or universal gravitational constant), and the numerical subscripts refer to mass 1 and 2, respectively. By Newton's third law, mass $m_2$ must experience an equal and opposite force, so $\\mf F_2 = -\\mf F_1$.\n",
    "\n",
    "The most important thing to note here is that Newtonian gravity is an inverse-square law!  We have written it in a standard form, with a cube of the separation vector in the denominator, but note that the law can equivalently be written as a strict inverse-square formula:\n",
    "$$\\mf F_1 = -\\frac{G m_1 m_2}{\\Vert \\mf r_{1/2}\\Vert^2}\\bhat r_{1/2} $$\n",
    "\n",
    "We were just talking about inverse-square laws [a short while ago](<08-Angular Momentum.ipynb#The-Laplace-Runge-Lenz-Vector>) (another *amazing* coincidence).  Let's see if we can apply any of our newly-developed formalism to the two-body problem.  We start in the same way that we start any dynamics problem - we define our reference frame, $I = (O, \\bhat{e}_1,  \\bhat{e}_2,\\bhat{e}_3)$, and draw free-body diagrams (as in the <a href=\"#fig:2bodyframe\" >figure</a>) and then proceed to apply Newton's second law to each mass in the system, which yields: \n",
    "$$ m_1\\fdddt{\\mc I}\\mf{r}_{1/O} = \\mf F_1 = -\\frac{G m_1 m_2}{\\Vert \\mf r_{1/2}\\Vert^3}\\mf r_{1/2}$$\n",
    "$$ m_2\\fdddt{\\mc I}\\mf{r}_{2/O} = \\mf F_2 = -\\mf F_1 =  -\\frac{G m_1 m_2}{\\Vert \\mf r_{2/1}\\Vert^3}\\mf r_{2/1} = \\frac{G m_1 m_2}{\\Vert \\mf r_{1/2}\\Vert^3}\\mf r_{1/2}$$\n"
   ]
  },
  {
   "cell_type": "markdown",
   "id": "afa39841-119d-4e48-9853-eae592958002",
   "metadata": {},
   "source": [
    "We've also defined $C$ as the location of the [center of mass](<09-Multi-particle Systems.ipynb#Collective-Linear-Motion-of-a-Multi-Particle-System>) of the two bodies:\n",
    "$$ \\mf r_{C/O} = \\frac{m_1 \\mf r_{1/O} + m_2 \\mf r_{2/O}}{m_1 + m_2} $$\n",
    "which we can rewrite as:\n",
    "$$m_1 \\mf r_{1/O} = \\left(m_1 + m_2\\right) \\mf r_{C/O} - m_2 \\mf r_{2/O} = m_1\\mf r_{C/O} + m_2\\left(\\mf r_{C/O} - \\mf r_{2/O}\\right)$$\n",
    "Assuming both masses are constant in time, we can substitute this directly into the second law expression for $m_1$ to get:\n",
    "$$m_1 \\fdddt{\\mc I} \\mf r_{C/O}  + m_2\\left(\\fdddt{\\mc I} \\mf r_{C/O} - \\fdddt{\\mc I} \\mf r_{2/O}\\right) = \\mf F_1 $$\n",
    "If we now substitute the original definition of $\\mf r_{C/O}$ into the second instance (the one being scaled by $m_2$, we can write:\n",
    "$$m_1 \\fdddt{\\mc I} \\mf r_{C/O}  + m_2\\underbrace{\\left( \\fdddt{\\mc I}\\left(\\frac{m_1 \\mf r_{1/O} + m_2 \\mf r_{2/O}}{m_1 + m_2}\\right) - \\fdddt{\\mc I} \\mf r_{2/O}\\right)}_{\\displaystyle \\frac{m_1}{m_1+m_2} \\fdddt{\\mc I}\\left( \\mf r_{1/O} - \\mf r_{2/O}\\right)   } = \\mf F_1$$\n"
   ]
  },
  {
   "cell_type": "markdown",
   "id": "6657d423-7b81-433a-8d7a-7a32dd76c79f",
   "metadata": {},
   "source": [
    "Applying the exact same procedure to the second law expression for the motion of $m_2$, we are left with the pair of expressions:\n",
    "$$m_1 \\fdddt{\\mc I} \\mf r_{C/O} + \\frac{m_1 m_2}{m_1+m_2} \\fdddt{\\mc I}\\left( \\mf r_{1/O} - \\mf r_{2/O}\\right) = \\mf F_1$$\n",
    "$$m_2 \\fdddt{\\mc I} \\mf r_{C/O} - \\frac{m_1 m_2}{m_1+m_2} \\fdddt{\\mc I}\\left( \\mf r_{1/O} - \\mf r_{2/O}\\right) = -\\mf F_1$$\n",
    "\n",
    "<div class=\"alert alert-block alert-info\">\n",
    "The term $\\frac{m_1 m_2}{m_1+m_2}$ arises throughout the analysis of the two-body problem, and is frequently called the <b>reduced mass</b>. It can be interpreted as the effective inertial mass of the two-body system, and is also equal to the reciprocal of the sum of reciprocals of the two masses.\n",
    "</div>\n",
    "\n",
    "If we sum the two equations, all of the terms of opposite signs cancel, and we are left with:\n",
    "$$(m_1 + m_2) \\fdddt{\\mc I} \\mf r_{C/O} = 0$$\n",
    "That is, the center of mass of a two-body system *does not accelerate*!  We could easily have reached this conclusions from first principles (there are no external forces acting on our collection of particles, and we know that internal forces must cancel, leading to an overall conservation of linear momentum for the collection) but it's nice when things are self-consistent. Knowing that the left-hand terms of both our expressions are zero, we now *subtract* the two to yield:\n",
    "$$2\\frac{m_1 m_2}{m_1+m_2} \\fdddt{\\mc I}\\left( \\mf r_{1/O} - \\mf r_{2/O}\\right) = 2\\mf F_1 \\quad \\Longrightarrow \\quad \\frac{m_1 m_2}{m_1+m_2} \\fdddt{\\mc I} \\mf r_{1/2} = -\\frac{G m_1 m_2}{\\Vert \\mf r_{1/2}\\Vert^3}\\mf r_{1/2}$$\n",
    "or equivalently\n",
    "$$ \\fdddt{\\mc I} \\mf r_{1/2} = -\\frac{G(m_1+m_2)}{\\Vert \\mf r_{1/2}\\Vert^3}\\mf r_{1/2}$$\n",
    "\n",
    "We define the **gravitational parameter** $\\mu \\triangleq G(m_1 + m_2)$ and the **orbital radius vector** $\\mf r \\triangleq \\mf r_{1/2}$ and write\n",
    "<div class=\"alert alert-block alert-info\">\n",
    " The two-body differential equation of motion:\n",
    "$$  \\fdddt{\\mc I} \\mf r + \\frac{\\mu\\mf r}{\\Vert \\mf r \\Vert^3} = 0 $$\n",
    "</div>\n",
    "\n",
    "<div class=\"alert alert-block alert-danger\">\n",
    "    A note on the $\\mu$ of it all: This symbol is egregiously overused in astrodynamics. The reduced mass introduced above is frequently denoted by $\\mu$ (we will never use it this way).  More importantly, $\\mu$ is often used to represent the <b>standard gravitational parameter</b> of a single body, in which case it is defined as $Gm$ (for body mass $m$).  In some cases, this is exactly the right term to use, whereas in others it is an approximation.  The latter refers to cases where one body is much more massive than the other (i.e., $m_1 \\gg m_2$ so that $m_1 + m_2 \\approx m_1$).  We will use both versions of $\\mu$, but will always delineate which definition is being used, and remind ourselves of any approximation in play.\n",
    "</div>\n",
    "    \n",
    "<div class=\"alert alert-block alert-danger\">\n",
    "    A note on the orbital radius: If you play back the derivation of the two-body equation of motion, you might notice that our choices leading to a final result where $\\mf r \\equiv \\mf r_{1/2}$ were entirely arbitrary.  Flip a few signs, and you get exactly the same expression (with exactly the same definition of $\\mu$) but with $\\mf r \\equiv \\mf r_{2/1}$.  This expression describe the time evolution of the separation vector between the two bodies.  It does not make any difference in the slightest which body is treated as the origin - both bodies are equivalently in orbit about one another.  We tend to think of smaller bodies as orbiting larger ones, and so by convention, we tend to define the orbital radius as pointing from the more massive to the less massive body, but there is absolutely no reason at all why we cannot reverse this definition at any time.  The only requirement is that we stay consistent in our definition throughout our analysis. \n",
    "</div>\n",
    "\n",
    "<div class=\"alert alert-block alert-warning\">\n",
    "    <b>Exercise</b><br> Prove that the two-body equation of motion remains unchanged if $\\mf r \\triangleq \\mf r_{2/1}$.\n",
    "</div>\n",
    "    "
   ]
  },
  {
   "cell_type": "markdown",
   "id": "47f99e93-d286-4ea3-b45b-4b84d810d364",
   "metadata": {},
   "source": [
    "## Specific Angular Momentum\n",
    "\n",
    "In astrodynamics, we tend to define quantities scaled by the mass of the 'orbiting' (by convention the less massive) body.  These quantities are known as **specific** quantities.  For example, \n",
    "<div class=\"alert alert-block alert-info\">\n",
    "    the <b>specific angular momentum</b> of a two-body system is given by:\n",
    "    $$ \\mf h \\triangleq \\mf r \\times \\fddt{\\mc I}\\mf r \\equiv \\mf r \\times \\mf v$$\n",
    "</div>\n",
    "\n",
    "where we have also defined $\\mf v$ as the inertial derivative of the orbital radius vector, otherwise known as the **orbital velocity vector** (or just orbital velocity).\n",
    "\n",
    "The two-body problem is a [central force problem](<08-Angular Momentum.ipynb#Central-Force-Problems>) and so we know that angular momentum must be conserved.  Let's verify that this assertion applies to the specific angular momentum as well.  We differentiate $\\mf h$ and write:\n",
    "$$\\fddt{\\mc I}{\\mf h} = \\fddt{\\mc I} \\mf r \\times \\fddt{\\mc I} \\mf r + \\mf r \\fddt{\\mc I} \\times \\mf r $$\n",
    "\n",
    "The first term of the right-hand side is zero because it has a vector crossed with itself.  For the second term, we return to the two-body equation of motion, which tells us that:\n",
    "$$\\fdddt{\\mc I} \\mf r \\propto \\mf r$$\n",
    "\n",
    "That is, the second derivative of the orbital radius vector is parallel (actually anti-parallel) to the orbital radius vector itself.  Therefore, their cross product is zero, and the specific angular momentum is conserved.  Isn't that nice?"
   ]
  },
  {
   "cell_type": "code",
   "execution_count": null,
   "id": "039a8e69-bc46-45e0-aaf2-c05f9f3a8daf",
   "metadata": {},
   "outputs": [],
   "source": []
  }
 ],
 "metadata": {
  "kernelspec": {
   "display_name": "Python 3 (ipykernel)",
   "language": "python",
   "name": "python3"
  },
  "language_info": {
   "codemirror_mode": {
    "name": "ipython",
    "version": 3
   },
   "file_extension": ".py",
   "mimetype": "text/x-python",
   "name": "python",
   "nbconvert_exporter": "python",
   "pygments_lexer": "ipython3",
   "version": "3.9.10"
  }
 },
 "nbformat": 4,
 "nbformat_minor": 5
}
