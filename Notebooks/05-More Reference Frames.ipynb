{
 "cells": [
  {
   "cell_type": "code",
   "execution_count": 1,
   "id": "6b35a0d9-4ff5-408a-8c32-dcf436d846a2",
   "metadata": {},
   "outputs": [
    {
     "data": {
      "text/markdown": [
       "$\n",
       "\\def\\bs{\\boldsymbol}\n",
       "\\def\\mf{\\mathbf}\n",
       "\\def\\mb{\\mathbb}\n",
       "\\def\\mc{\\mathcal}\n",
       "\\def\\rfr{\\mathcal}\n",
       "\\def\\grad{{\\rm grad}}\n",
       "\\def\\Re{{\\rm Re}}\n",
       "\\def\\Im{{\\rm Im}}\n",
       "\\def\\und{\\underline}\n",
       "\\def\\ovl{\\overline}\n",
       "\\def\\unb{\\underbrace}\n",
       "\\def\\Log{\\mbox{Log}}\n",
       "\\def\\bfomega{\\bs \\omega}\n",
       "\\def\\bfalpha{\\bs \\alpha}\n",
       "\\def\\da{\\triangleq}\n",
       "\\newcommand{\\leftexp}[2]{{\\vphantom{#2}}^{#1}\\!{#2}}\n",
       "\\newcommand{\\leftsub}[2]{{\\vphantom{#2}}_{#1}\\!{#2}}\n",
       "\\newcommand{\\omegarot}[2]{{\\leftexp{\\mathcal{#1}}{\\boldsymbol{\\omega}}^{\\mathcal{#2}}}}\n",
       "\\newcommand{\\alpharot}[2]{{\\leftexp{\\mathcal{#1}}{\\boldsymbol{\\alpha}}^{\\mathcal{#2}}}}\n",
       "\\newcommand{\\framerot}[2]{{\\leftexp{\\mathcal{#1}}{C}^{\\mathcal{#2}}}}\n",
       "\\newcommand{\\dframerot}[2]{\\ensuremath{\\vphantom{C}^{\\mathcal{#1}}\\!{\\dot C^{\\mathcal{#2}}}}}\n",
       "\\newcommand{\\bdot}[1]{\\dot{\\mathbf{#1}}}\n",
       "\\newcommand{\\bhat}[1]{\\hat{\\mathbf{#1}}}\n",
       "\\newcommand{\\mbhat}[1]{\\hat{\\mathbb{#1}}}\n",
       "\\def\\iwb{\\omegarot{I}{B}}\n",
       "\\def\\iab{\\alpharot{I}{B}}\n",
       "\\def\\icb{\\framerot{I}{B}}\n",
       "\\def\\dif{\\mathop{}\\!\\mathrm{d}}\n",
       "\\newcommand{\\intd}[1]{\\dif#1}\n",
       "\\newcommand{\\od}[3][]{{ \\frac{\\dif{^{#1}}#2}{\\dif{#3^{#1}}} }}\t\t\t\n",
       "\\newcommand{\\pd}[3][]{{ \\frac{\\partial{^{#1}}#2}{\\partial{#3^{#1}}} }}\t \n",
       "\\newcommand{\\md}[6]{{  \\frac{\\partial{^{#2}}#1}{\\partial{#3^{#4}}\\partial{#5^{#6}}} }}\n",
       "\\newcommand{\\fddt}[2][]{{  \\leftexp{\\mathcal{#2}}{\\frac{\\dif{#1}}{\\dif{t}}}  }}\n",
       "\\newcommand{\\fdddt}[2][]{{  \\leftexp{\\mathcal{#2}}{\\frac{\\dif{^{2}#1}}{\\dif{t^2}}}  }}\n",
       "\\newcommand{\\ddt}[1][]{\\fddt[#1]{I}}\n",
       "$\n"
      ],
      "text/plain": [
       "<IPython.core.display.Markdown object>"
      ]
     },
     "metadata": {},
     "output_type": "display_data"
    },
    {
     "data": {
      "text/markdown": [
       "# [Previous](<04-Simple Rotations.ipynb>)"
      ],
      "text/plain": [
       "<IPython.core.display.Markdown object>"
      ]
     },
     "metadata": {},
     "output_type": "display_data"
    }
   ],
   "source": [
    "# These are helpful routines that will assist in building this book. \n",
    "# You should run this block before anything else. There is no output expected.\n",
    "from astrodynamicsbook.bookhelpers import *\n",
    "loadLatexPreamble()\n",
    "\n",
    "# This is only here to create the navigation link:\n",
    "genPrevLink()"
   ]
  },
  {
   "cell_type": "markdown",
   "id": "45becb61-e5e6-4922-9343-1ecba75925d6",
   "metadata": {},
   "source": [
    "# Working with Multiple Reference Frames\n",
    "\n",
    "We started out the last notebook by setting out to investigate how we can describe the changes in direction of a vector, and then proceeded to expended quite a bit of time and effort to provide ourselves with tools for converting the components of a vector in one frame to components of that vector in a different frame.  The implication here is that there is some utility to operating in multiple reference frames.  But is there?  What, exactly, in Newton's laws suggests that we might be interested in defining and operating in multiple different reference frames?  The answer is: absolutely nothing.\n",
    "\n",
    "The laws of classical mechanics, as given so far, have absolutely nothing to say about reference frames. In describing his laws, Newton wrote of an \"absolute space and time\", defined relative to the \"fixed stars\" (spoiler: there ain't no such things).  In the 19th century, Newton's nomenclature was replaced by Ludwig Lange (a German physicist who made his major contribution in three papers published when he was 22 and 23. What are you doing with your life?).  Lange threw some great shade at Newton: \"Newton's absolute space is a phantom that should never be made the basis of an exact science\". Instead, Lange introduced the concept of **inertial** reference frames. An inertial frame is literally a frame of reference where Newton's laws holds true. In an inertial frame, the application of a force to a mass at rest will cause the mass to travel in a straight line in the direction of the applied force.  Don't worry for now that we have no idea what 'force' and 'mass' mean.  For now, we're focusing on the straight line part of things.\n",
    "\n",
    "So, do you need multiple reference frames to do Newtonian dynamics?  Absolutely not!  You only need one inertial frame.  Did we just waste a whole bunch of time on all that DCM nonsense?  Also no.  The introduction of multiple frames is not *necessary* but is frequently incredibly *convenient*.  Non-inertial reference frames can be incredibly handy for simplifying the description of various types of motion, and particularly rotational motion. We're going to posit this now, and proceed to develop a few useful reference frames.  Once we get to actually doing dynamics, it will be up to you to decide whether you agree about the utility of introducing non-inertial frames.  The basic message, however, is that only a single inertial reference frame is needed to do all of classical mechanics. "
   ]
  },
  {
   "cell_type": "markdown",
   "id": "9a93f4d6-8107-468c-a207-7a6b73da8931",
   "metadata": {},
   "source": [
    "# The Polar/Cylindrical Reference Frame\n",
    "\n",
    "Remember polar coordinates?  We said they were super useful in describing the radial motion of an object in a single plane?  What if, instead of relying on coordinates to handle this description, we define a reference frame to do it?  That frame would be a polar frame:\n",
    "\n",
    "<p style=\"text-align:center;\"><img src=\"img/cylindrical_frame.png\" alt=\"Polar/Cylindrical Reference Frame\" width=\"400\" id=\"fig:polarframe\"/></p>\n",
    "\n",
    "We start with an arbitrary frame $\\mc I = (O, \\bhat{e}_1, \\bhat{e}_2, \\bhat{e}_3)$ in which the location of a point $P$ with respect to coordinate origin $O$ is defined by Cartesian coordinates $(x,y,z)$ and cylindrical coordinates $(\\rho, \\theta, z)$.  We now define a new unit direction that *always* points along the direction of the $\\rho$ line (the projection of $\\mf r_{P/O}$ onto the $\\bhat{e}_1 - \\bhat{e}_2$ plane). If $P$ is moving with respect to $O$ in the $\\mc I$ frame (that is, if the values of $x,y,z,\\rho,\\theta$ are changing in time) then the direction of $\\bhat{e}_r$ will be changing in time as well.   We are now going to build a reference frame with $\\bhat{e}_r$ as its first unit vector.  We'll keep our original $\\bhat{e}_3$ as the third unit direction.  This means that our second unit direction, which we will call $\\bhat{e}_\\theta$ must equal $\\bhat{e}_3 \\times \\bhat{e}_r$.  This is our polar (or cylindrical) reference frame: $\\mc P = (O, \\bhat{e}_r, \\bhat{e}_\\theta, \\bhat{e}_3)$.    If $\\mc I$ were an inertial frame, and the angle between $\\bhat{e}_r$ and $\\bhat{e}_1$ ($\\theta$) were constant, then $\\mc P$ would also be an inertial frame, as the two frames would be at a constant orientation with respect to one another.  However, the whole point of what we're doing here is that we wish to allow for $\\theta$ to vary in time (i.e., $\\dot\\theta \\ne 0$), which means that the two frames will be rotating with respect to one another.  Rotation means acceleration.  Any frame accelerating with respect to an inertial frame is *not* inertial.\n",
    "\n",
    "<div class=\"alert alert-block alert-info\">\n",
    "   Notice that we have implicitly introduced one more bit of notation.  Any scalar with an overdot, such as $\\dot\\theta$ or $\\dot x$, etc., should be interpreted as the time derivative of the dotted quantity.  That is:\n",
    "    $$\\dot\\theta \\equiv \\frac{\\intd{\\theta}}{\\intd{t}}$$\n",
    "    </div>\n",
    "    \n",
    "All right, but what have we actually gained here?  To see the utility of the polar frame, we have to think about our coordinates.  $x,y,z$ are Cartesian coordinates in $\\mc I$. $\\rho,\\theta,z$ are cylindrical coordinates in $\\mc I$.  But $\\rho, z$ are *Cartesian* coordinates in $\\mc P$!\n",
    "\n",
    "<div class=\"alert alert-block alert-danger\">\n",
    " There must be a third Cartesian coordinate in $\\mc P$ - the one measured along $\\bhat{e}_\\theta$.  However, the whole point of defining this frame is that we don't need to use this coordinate, and so we shan't bother to name it. It is the coordinate with no name. \n",
    "    </div>\n",
    "\n",
    "The vector $\\mf r_{P/O}$ can be represented by 3 Cartesian or cylindrical coordinates in $\\mc I$, but only needs two Cartesian coordinates to be defined in $\\mc P$:\n",
    "$$\\left[ \\mf r_{P/O} \\right]_\\mc I =  \\left[\\begin{matrix}x\\\\y\\\\z\\end{matrix}\\right]_\\mc I \\equiv \\left[\\begin{matrix}\\rho\\cos\\theta\\\\\\rho\\sin\\theta\\\\z\\end{matrix}\\right]_\\mc I   \\quad\\textrm{and}\\quad \\left[ \\mf r_{P/O} \\right]_\\mc P =  \\left[\\begin{matrix}\\rho\\\\0\\\\z\\end{matrix}\\right]_\\mc P$$\n",
    "\n",
    "Does this mean that this position vector actually only requires two coordinates to describe it in three dimensional space?  No!  What's happening here is that we are sneakily hiding the extra coordinate ($\\theta$) within the frame definition of $\\mc P$.  The utility of all this still seems dubious.  We will have to be patient for a bit, and wait until we can actually apply this to some real dynamical systems before we can decide whether all of this is really worth it.   For now, however, let's explore the application of a bit more of our previously defined formalism. \n",
    "\n",
    "Since $\\mc I$ and $\\mc P$ are distinct frames, there is presumably a DCM that relates their orientation.  By inspection of the <a href=\"#fig:polarframe\" >figure</a>, we can see that both frames share the same $\\bhat e_3$ unit direction, and that the remaining two unit directions of $\\mc P$ are both $\\theta$ rotations from their counterparts in the $\\mc I$ frame.  Thus, frame $\\mc P$ can be described as a counter-clockwise rotation of $\\theta$ about the $\\bhat{e}_3$ direction - exactly what we previously defined as the $C_3(\\theta)$ DCM.  We can therefore write:\n",
    "$$ \\framerot{P}{I} \\equiv C_3(\\theta) = \\begin{bmatrix}  \\cos\\theta & \\sin\\theta & 0 \\\\ -\\sin\\theta & \\cos\\theta  & 0\\\\0 & 0 & 1  \\end{bmatrix} $$\n",
    "\n",
    "Remember the utility of this DCM:\n",
    "$$[\\mf r_{P/O}]_\\mc P = \\framerot{P}{I} [\\mf r_{P/O}]_\\mc I \\quad \\textrm{and}\\quad [\\mf r_{P/O}]_\\mc I = \\framerot{I}{P} [\\mf r_{P/O}]_\\mc P $$\n",
    "Let's take a look at the second expression first:"
   ]
  },
  {
   "cell_type": "code",
   "execution_count": 2,
   "id": "0720af07-b2e8-44d6-aa86-47c73e371878",
   "metadata": {},
   "outputs": [
    {
     "data": {
      "text/latex": [
       "$\\displaystyle \\left( \\left[\\begin{matrix}\\cos{\\left(\\theta \\right)} & \\sin{\\left(\\theta \\right)} & 0\\\\- \\sin{\\left(\\theta \\right)} & \\cos{\\left(\\theta \\right)} & 0\\\\0 & 0 & 1\\end{matrix}\\right], \\  \\left[\\begin{matrix}\\cos{\\left(\\theta \\right)} & - \\sin{\\left(\\theta \\right)} & 0\\\\\\sin{\\left(\\theta \\right)} & \\cos{\\left(\\theta \\right)} & 0\\\\0 & 0 & 1\\end{matrix}\\right]\\right)$"
      ],
      "text/plain": [
       "⎛⎡cos(θ)   sin(θ)  0⎤  ⎡cos(θ)  -sin(θ)  0⎤⎞\n",
       "⎜⎢                  ⎥  ⎢                  ⎥⎟\n",
       "⎜⎢-sin(θ)  cos(θ)  0⎥, ⎢sin(θ)  cos(θ)   0⎥⎟\n",
       "⎜⎢                  ⎥  ⎢                  ⎥⎟\n",
       "⎝⎣   0       0     1⎦  ⎣  0        0     1⎦⎠"
      ]
     },
     "execution_count": 2,
     "metadata": {},
     "output_type": "execute_result"
    }
   ],
   "source": [
    "th,rho,x,y,z = symbols('theta,rho,x,y,z')\n",
    "# rotMat is our method for generating our standard C_1, C_2, and C_3 matrices:\n",
    "pCi = rotMat(3,th)\n",
    "iCp = pCi.transpose() # the inverse rotation\n",
    "pCi, iCp"
   ]
  },
  {
   "cell_type": "code",
   "execution_count": 3,
   "id": "44500d76-ab87-483c-90d9-cf95141e5b1b",
   "metadata": {},
   "outputs": [
    {
     "data": {
      "text/latex": [
       "$\\displaystyle \\left[\\begin{matrix}\\rho \\cos{\\left(\\theta \\right)}\\\\\\rho \\sin{\\left(\\theta \\right)}\\\\z\\end{matrix}\\right]$"
      ],
      "text/plain": [
       "⎡ρ⋅cos(θ)⎤\n",
       "⎢        ⎥\n",
       "⎢ρ⋅sin(θ)⎥\n",
       "⎢        ⎥\n",
       "⎣   z    ⎦"
      ]
     },
     "execution_count": 3,
     "metadata": {},
     "output_type": "execute_result"
    }
   ],
   "source": [
    "# This should give us the I frame components:\n",
    "iCp*Matrix([rho,0,z])"
   ]
  },
  {
   "cell_type": "markdown",
   "id": "5ca39438-330b-4b98-a269-be59876b4d30",
   "metadata": {},
   "source": [
    "Notice that our frame definition has automatically recreated for us the transformation between polar and Cartesian coordinates.  We did not need to posit the polar coordinates at all - simply to define a frame in which only two coordinates were needed to describe the position of point $P$ and then work through the algebra associated with our newly-developed frame rotation machinery. Now let's take a look at the other direction:"
   ]
  },
  {
   "cell_type": "code",
   "execution_count": 4,
   "id": "eb9542cd-6291-4221-9cf2-7ab2c6566905",
   "metadata": {},
   "outputs": [
    {
     "data": {
      "text/latex": [
       "$\\displaystyle \\left[\\begin{matrix}x \\cos{\\left(\\theta \\right)} + y \\sin{\\left(\\theta \\right)}\\\\- x \\sin{\\left(\\theta \\right)} + y \\cos{\\left(\\theta \\right)}\\\\z\\end{matrix}\\right]$"
      ],
      "text/plain": [
       "⎡x⋅cos(θ) + y⋅sin(θ) ⎤\n",
       "⎢                    ⎥\n",
       "⎢-x⋅sin(θ) + y⋅cos(θ)⎥\n",
       "⎢                    ⎥\n",
       "⎣         z          ⎦"
      ]
     },
     "execution_count": 4,
     "metadata": {},
     "output_type": "execute_result"
    }
   ],
   "source": [
    "# This should give us the P frame components:\n",
    "pCi*Matrix([x, y, z])"
   ]
  },
  {
   "cell_type": "markdown",
   "id": "34edae33-55d2-4812-a2e0-cf1436ee9dbf",
   "metadata": {},
   "source": [
    "Remember - the matrix above is supposed to match the matrix representation of this vector's cylindrical frame components.  The first line should be equivalent to $\\rho$, which, by inspection, it appears to be.  If $x  = \\rho\\cos\\theta$ and $y = \\rho\\sin\\theta$ then $x\\cos\\theta + y\\sin\\theta = \\rho\\left(\\cos^2\\theta + \\sin^2\\theta\\right) = \\rho$. Great, but what about the second line?  This one is supposed to equal zero, and, by golly, it does!  Using the same substitutions, we have: $-x\\sin\\theta + y\\cos\\theta = \\rho\\left(-\\sin\\theta\\cos\\theta + \\sin\\theta\\cos\\theta\\right) = 0$.  Everything is wonderfully self-consistent, and life is good. There's not actually much more to say about the cylindrical/polar frame (at least for now), so let's make things a bit more interesting, and add another rotation."
   ]
  },
  {
   "cell_type": "markdown",
   "id": "432dbf51-1ca8-4287-ba28-ae670489658d",
   "metadata": {},
   "source": [
    "# Multiple Rotations\n",
    "Before we get to defining some fun, new reference frames, lets pause and consider the fact that we have, so far, only dealt with single rotations.  That feels rather...limiting.  What if you want to rotate many times?  What if you have need of multiple, sequential, rotations?  Fear not - it turns out our prep work has...well, prepared us for this. Let's consider three reference frames $\\mc A, \\mc B$ and $\\mc C$.  We now know that if we can identify the axes and angles of rotation between them, we can find the DCMs $\\framerot{B}{A}$ and $\\framerot{C}{B}$.  Similarly, we know that for a single vector $\\mf r$, we can write three different sets of components in these three frames: $[\\mf r]_\\mc A$, $[\\mf r]_\\mc B$, and $[\\mf r]_\\mc C$. Finally, we know that we can convert via these frame representations via the DCMs as:\n",
    "\n",
    "$$ [\\mf r]_\\mc B = \\framerot{B}{A} [\\mf r]_\\mc A  \\\\ [\\mf r]_\\mc C = \\framerot{C}{B} [\\mf r]_\\mc B $$\n",
    "\n",
    "What if we substitute the first expression into the second? Then we'd have something like: $$[\\mf r]_\\mc C = \\framerot{C}{B}\\framerot{B}{A} [\\mf r]_\\mc A$$\n",
    "But according to everything we've figured out so far, there must be a DCM $\\framerot{C}{A}$ which operates as $[\\mf r]_\\mc C = \\framerot{C}{A} [\\mf r]_\\mc A$.  Thus:\n",
    "$$\\framerot{C}{B}\\framerot{B}{A} \\equiv \\framerot{C}{A}$$\n",
    "\n",
    "DCMs are **composed** by matrix multiplication.  Furthermore, the same exact reasoning would apply whether we used two frames, or three frames, or $N$ frames.  In general:\n",
    "<div class=\"alert alert-block alert-info\">\n",
    "   Given $N$ frames $\\mc F_1\\ldots \\mc F_N$:\n",
    "$$\\leftexp{\\mc F_1}{C}^{\\mc F_2}\\leftexp{\\mc F_2}{C}^{\\mc F_3}\\leftexp{\\mc F_3}{C}^{\\mc F_4}\\ldots\\leftexp{\\mc F_{\\mc N-1}}{C}^{\\mc F_\\mc N} = \\leftexp{\\mc F_1}{C}^{\\mc F_\\mc N}$$\n",
    "    </div>\n",
    "\n",
    "A **composition** of functions is simply the application of one function to another.  In this case, the composition is given by a matrix multiplication, and since matrices do not, in general, commute, we know that the operation is non-commutative.  The order in which you apply the DCMs is important!  Each subsequent rotation is a *left* matrix multiplication.  The first rotation is represented by the *right*-most DCM. Notice also how our notation is helping us out here.  Whenever adjacent superscripts of a DCM match, they collapse into each other. \n",
    "\n",
    "We can also take a look at whether the inverse/transpose properties of these multiple rotation DCMs match what we have previously established for single rotation ones. Again taking the case of $\\framerot{C}{B}\\framerot{B}{A} = \\framerot{C}{A}$, and recalling that for matrices $A$ and $B$, $(AB)^T = B^T A^T$, we have:\n",
    "$$ \\framerot{A}{C} = \\left(\\framerot{C}{A}\\right)^T = \\left(\\framerot{C}{B}\\framerot{B}{A}\\right)^T = \\framerot{A}{B}\\framerot{B}{C}$$\n",
    "which all works out quite nicely.\n",
    "\n",
    "Armed with this new knowledge, let's make some new reference frames!"
   ]
  },
  {
   "cell_type": "markdown",
   "id": "4bb7f9c6-0981-44eb-b4d0-9428456429ae",
   "metadata": {},
   "source": [
    "# The Spherical Reference Frame\n",
    "\n",
    "You knew this was coming, right?  Once we defined a frame in which our polar radius coordinate became a Cartesian coordinate, you just knew that we would have to do the same thing for our spherical radius coordinate.  Well, you were right.  Let's do it.\n",
    "\n",
    "<p style=\"text-align:center;\"><img src=\"img/spherical_frame.png\" alt=\"Spherical Reference Frame\" width=\"400\" id=\"fig:spherframe\"/></p>\n",
    "\n",
    "We define a unit direction that *always* points along the direction of $\\mathbf{r}_{P/O}$, which we will call $\\bhat{r}$.  This is effectively the most compact encoding of this position vector we can get to.  The position of $\\mf P$ with respect to $O$ can now be expressed as a single Cartesian coordinate:\n",
    "$$ \\mathbf{r}_{P/O} = r\\bhat{r} $$\n",
    "\n",
    "<div class=\"alert alert-block alert-danger\">\n",
    " Again, be careful.  There's no free lunch.  We cannot magically go from describing something via three independent coordinates to describing that same thing with just one coordinate.  There must be two other variables hidden in the definition of the $\\bhat{r}$ unit vector, and there are: the azimuth and polar angles $\\theta$ and $\\phi$.\n",
    "</div>\n",
    "\n",
    "We define the spherical reference frame $\\mc S \\triangleq (O, \\bhat{e}_\\phi, \\bhat{e}_\\theta, \\bhat{r} )$, where we have used exactly the same $\\bhat{e}_\\theta$ direction from the polar frame definition. The other new direction $\\bhat{e}_\\phi$ must therefore equal $\\bhat{e}_\\theta \\times \\bhat{r}$.  Why did we do it this way, and why choose this particular ordering of unit vectors for this frame?  Why make $\\bhat{r}$ the third direction rather than the first unit direction.  It's the one we really care about, so why list it last?\n",
    "\n",
    "<div class=\"alert alert-block alert-warning\">\n",
    "    <b>Exercise</b><br> No, seriously, why <i>did</i> we do it this way?  Take a second to think it through before reading on.\n",
    "</div>\n",
    "\n",
    "We did this so that we could define $\\mc S$ as a simple rotation of $\\phi$ about the second axis of the $\\mc P$ frame!  That is: $\\framerot{S}{P} = C_2(\\phi)$. Using our new understanding of multiple rotations, we can therefore relate $\\mc S$ back to our starting point, the $\\mc I$ frame:\n",
    "$$\\framerot{S}{I} = \\framerot{S}{P}\\framerot{P}{I} = C_2(\\phi)C_3(\\theta)$$\n",
    "\n",
    "Remember - the first rotation is represented by the right-most DCM and each subsequent rotation is a left multiplication by its DCM.  Let's take a look at the resulting matrices:"
   ]
  },
  {
   "cell_type": "code",
   "execution_count": 5,
   "id": "174403c1-aae0-464b-8a74-a3e3953feb5d",
   "metadata": {},
   "outputs": [
    {
     "data": {
      "text/latex": [
       "$\\displaystyle \\left[\\begin{matrix}\\cos{\\left(\\phi \\right)} & 0 & - \\sin{\\left(\\phi \\right)}\\\\0 & 1 & 0\\\\\\sin{\\left(\\phi \\right)} & 0 & \\cos{\\left(\\phi \\right)}\\end{matrix}\\right]$"
      ],
      "text/plain": [
       "⎡cos(φ)  0  -sin(φ)⎤\n",
       "⎢                  ⎥\n",
       "⎢  0     1     0   ⎥\n",
       "⎢                  ⎥\n",
       "⎣sin(φ)  0  cos(φ) ⎦"
      ]
     },
     "execution_count": 5,
     "metadata": {},
     "output_type": "execute_result"
    }
   ],
   "source": [
    "r,phi = symbols('r,phi')\n",
    "sCp = rotMat(2,phi) #phi rotation about second axis\n",
    "sCp"
   ]
  },
  {
   "cell_type": "code",
   "execution_count": 6,
   "id": "776861ea-0888-4294-8a53-07e191e11d48",
   "metadata": {},
   "outputs": [
    {
     "data": {
      "text/latex": [
       "$\\displaystyle \\left[\\begin{matrix}\\cos{\\left(\\phi \\right)} \\cos{\\left(\\theta \\right)} & \\sin{\\left(\\theta \\right)} \\cos{\\left(\\phi \\right)} & - \\sin{\\left(\\phi \\right)}\\\\- \\sin{\\left(\\theta \\right)} & \\cos{\\left(\\theta \\right)} & 0\\\\\\sin{\\left(\\phi \\right)} \\cos{\\left(\\theta \\right)} & \\sin{\\left(\\phi \\right)} \\sin{\\left(\\theta \\right)} & \\cos{\\left(\\phi \\right)}\\end{matrix}\\right]$"
      ],
      "text/plain": [
       "⎡cos(φ)⋅cos(θ)  sin(θ)⋅cos(φ)  -sin(φ)⎤\n",
       "⎢                                     ⎥\n",
       "⎢   -sin(θ)        cos(θ)         0   ⎥\n",
       "⎢                                     ⎥\n",
       "⎣sin(φ)⋅cos(θ)  sin(φ)⋅sin(θ)  cos(φ) ⎦"
      ]
     },
     "execution_count": 6,
     "metadata": {},
     "output_type": "execute_result"
    }
   ],
   "source": [
    "sCi = sCp*pCi\n",
    "iCs = sCi.transpose() # Calculating now for future use\n",
    "sCi"
   ]
  },
  {
   "cell_type": "markdown",
   "id": "d8158813-87e4-4e47-af59-accbd8d75653",
   "metadata": {},
   "source": [
    "Notice how this matrix now has many more non-zero elements, meaning that it is closer (than our $C_i$ forms) to describing a completely arbitrary rotation (such as we saw when exploring the Rodrigues equation).  However, it still retains a single zero element, meaning that two successive rotations about different axes are not quite enough to describe any arbitrary simple rotation.  This is hinting at something that we'll return to.\n",
    "\n",
    "For now, let's see if we can repeat our trick from the polar frame and recreate the system of equations mapping spherical and Cartesian coordinates.  Specifically, we will look at the expression:\n",
    "$$[\\mf r_{P/O}]_\\mc I = \\framerot{I}{S} [\\mf r_{P/O}]_\\mc S$$"
   ]
  },
  {
   "cell_type": "code",
   "execution_count": 7,
   "id": "b019760b-1a9a-495a-9994-8a40083dbeb0",
   "metadata": {},
   "outputs": [
    {
     "data": {
      "text/latex": [
       "$\\displaystyle \\left[\\begin{matrix}r \\sin{\\left(\\phi \\right)} \\cos{\\left(\\theta \\right)}\\\\r \\sin{\\left(\\phi \\right)} \\sin{\\left(\\theta \\right)}\\\\r \\cos{\\left(\\phi \\right)}\\end{matrix}\\right]$"
      ],
      "text/plain": [
       "⎡r⋅sin(φ)⋅cos(θ)⎤\n",
       "⎢               ⎥\n",
       "⎢r⋅sin(φ)⋅sin(θ)⎥\n",
       "⎢               ⎥\n",
       "⎣   r⋅cos(φ)    ⎦"
      ]
     },
     "execution_count": 7,
     "metadata": {},
     "output_type": "execute_result"
    }
   ],
   "source": [
    "# This should give us the I frame components:\n",
    "iCs*Matrix([0,0,r])"
   ]
  },
  {
   "cell_type": "markdown",
   "id": "4f3a1427-1d82-4d6f-af66-78a3f006a4e8",
   "metadata": {},
   "source": [
    "Excellent! These are exactly the equations we laid out when first introducing spherical coordinates.  Your turn now:"
   ]
  },
  {
   "cell_type": "code",
   "execution_count": 8,
   "id": "324e4d34-5a1d-4a66-8303-11a263a3931f",
   "metadata": {},
   "outputs": [],
   "source": [
    "# Use the spherical frame definition to find the inverse set of equations\n",
    "\n"
   ]
  },
  {
   "cell_type": "markdown",
   "id": "d96efacf-2b30-4efd-801a-75518bc6a1eb",
   "metadata": {},
   "source": [
    "There are many other useful reference frames we can define, but these two (along with arbitrary frames attached to rotating bodies that are defined for use with corresponding Cartesian coordinates) actually have among the highest utility for a fairly broad set of problems.  We'll touch upon other frames as we need them, but for now, it's time to be moving along."
   ]
  },
  {
   "cell_type": "code",
   "execution_count": 9,
   "id": "fdfcc1e9-f16e-4cc5-8466-45efd39c1c16",
   "metadata": {},
   "outputs": [
    {
     "data": {
      "text/markdown": [
       "# [Next](<06-Vector Derivatives.ipynb>)"
      ],
      "text/plain": [
       "<IPython.core.display.Markdown object>"
      ]
     },
     "metadata": {},
     "output_type": "display_data"
    }
   ],
   "source": [
    "# This is just here to generate the link to the next notebook\n",
    "genNextLink()"
   ]
  }
 ],
 "metadata": {
  "kernelspec": {
   "display_name": "Python 3 (ipykernel)",
   "language": "python",
   "name": "python3"
  },
  "language_info": {
   "codemirror_mode": {
    "name": "ipython",
    "version": 3
   },
   "file_extension": ".py",
   "mimetype": "text/x-python",
   "name": "python",
   "nbconvert_exporter": "python",
   "pygments_lexer": "ipython3",
   "version": "3.9.7"
  }
 },
 "nbformat": 4,
 "nbformat_minor": 5
}
