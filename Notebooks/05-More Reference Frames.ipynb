{
 "cells": [
  {
   "cell_type": "code",
   "execution_count": 1,
   "id": "6b35a0d9-4ff5-408a-8c32-dcf436d846a2",
   "metadata": {},
   "outputs": [
    {
     "data": {
      "text/markdown": [
       "$\n",
       "\\def\\bs{\\boldsymbol}\n",
       "\\def\\mf{\\mathbf}\n",
       "\\def\\mb{\\mathbb}\n",
       "\\def\\mc{\\mathcal}\n",
       "\\def\\rfr{\\mathcal}\n",
       "\\def\\grad{{\\rm grad}}\n",
       "\\def\\Re{{\\rm Re}}\n",
       "\\def\\Im{{\\rm Im}}\n",
       "\\def\\und{\\underline}\n",
       "\\def\\ovl{\\overline}\n",
       "\\def\\unb{\\underbrace}\n",
       "\\def\\Log{\\mbox{Log}}\n",
       "\\def\\bfomega{\\bs \\omega}\n",
       "\\def\\bfalpha{\\bs \\alpha}\n",
       "\\def\\da{\\triangleq}\n",
       "\\newcommand{\\leftexp}[2]{{\\vphantom{#2}}^{#1}\\!{#2}}\n",
       "\\newcommand{\\leftsub}[2]{{\\vphantom{#2}}_{#1}\\!{#2}}\n",
       "\\newcommand{\\omegarot}[2]{{\\leftexp{\\mathcal{#1}}{\\boldsymbol{\\omega}}^{\\mathcal{#2}}}}\n",
       "\\newcommand{\\alpharot}[2]{{\\leftexp{\\mathcal{#1}}{\\boldsymbol{\\alpha}}^{\\mathcal{#2}}}}\n",
       "\\newcommand{\\framerot}[2]{{\\leftexp{\\mathcal{#1}}{C}^{\\mathcal{#2}}}}\n",
       "\\newcommand{\\dframerot}[2]{\\ensuremath{\\vphantom{C}^{\\mathcal{#1}}\\!{\\dot C^{\\mathcal{#2}}}}}\n",
       "\\newcommand{\\bdot}[1]{\\dot{\\mathbf{#1}}}\n",
       "\\newcommand{\\bhat}[1]{\\hat{\\mathbf{#1}}}\n",
       "\\newcommand{\\mbhat}[1]{\\hat{\\mathbb{#1}}}\n",
       "\\def\\iwb{\\omegarot{I}{B}}\n",
       "\\def\\iab{\\alpharot{I}{B}}\n",
       "\\def\\icb{\\framerot{I}{B}}\n",
       "\\def\\dif{\\mathop{}\\!\\mathrm{d}}\n",
       "\\newcommand{\\intd}[1]{\\dif#1}\n",
       "\\newcommand{\\od}[3][]{{ \\frac{\\dif{^{#1}}#2}{\\dif{#3^{#1}}} }}\t\t\t\n",
       "\\newcommand{\\pd}[3][]{{ \\frac{\\partial{^{#1}}#2}{\\partial{#3^{#1}}} }}\t \n",
       "\\newcommand{\\md}[6]{{  \\frac{\\partial{^{#2}}#1}{\\partial{#3^{#4}}\\partial{#5^{#6}}} }}\n",
       "\\newcommand{\\fddt}[2][]{{  \\leftexp{\\mathcal{#2}}{\\frac{\\dif{#1}}{\\dif{t}}}  }}\n",
       "\\newcommand{\\fdddt}[2][]{{  \\leftexp{\\mathcal{#2}}{\\frac{\\dif{^{2}#1}}{\\dif{t^2}}}  }}\n",
       "\\newcommand{\\ddt}[1][]{\\fddt[#1]{I}}\n",
       "$\n"
      ],
      "text/plain": [
       "<IPython.core.display.Markdown object>"
      ]
     },
     "metadata": {},
     "output_type": "display_data"
    },
    {
     "data": {
      "text/markdown": [
       "# [Previous](<04-Simple Rotations.ipynb>)"
      ],
      "text/plain": [
       "<IPython.core.display.Markdown object>"
      ]
     },
     "metadata": {},
     "output_type": "display_data"
    }
   ],
   "source": [
    "# These are helpful routines that will assist in building this book. \n",
    "# You should run this block before anything else. There is no output expected.\n",
    "from astrodynamicsbook.bookhelpers import *\n",
    "loadLatexPreamble()\n",
    "\n",
    "# This is only here to create the navigation link:\n",
    "genPrevLink()"
   ]
  },
  {
   "cell_type": "markdown",
   "id": "45becb61-e5e6-4922-9343-1ecba75925d6",
   "metadata": {},
   "source": [
    "# Working with Multiple Reference Frames\n",
    "\n",
    "We started out the last notebook by setting out to investigate how we can describe the changes in direction of a vector, and then proceeded to expended quite a bit of time and effort to provide ourselves with tools for converting the components of a vector in one frame to components of that vector in a different frame.  The implication here is that there is some utility to operating in multiple reference frames.  But is there?  What, exactly, in Newton's laws suggests that we might be interested in defining and operating in multiple different reference frames?  The answer is: absolutely nothing.\n",
    "\n",
    "The laws of classical mechanics, as given so far, have absolutely nothing to say about reference frames. In describing his laws, Newton wrote of an \"absolute space and time\", defined relative to the \"fixed stars\" (spoiler: there ain't no such things).  In the 19th century, Newton's nomenclature was replaced by Ludwig Lange (a German physicist who made his major contribution in three papers published when he was 22 and 23. What are you doing with your life?).  Lange threw some great shade at Newton: \"Newton's absolute space is a phantom that should never be made the basis of an exact science\". Instead, Lange introduced the concept of **inertial** reference frames. An inertial frame is literally a frame of reference where Newton's second law holds true. In an inertial frame, the application of a force to a mass at rest will cause the mass to travel in a straight line in the direction of the applied force.  Don't worry for now that we have no idea what 'force' and 'mass' mean.  For now, we're focusing on the straight line part of things.\n",
    "\n",
    "So, do you need multiple reference frames to do Newtonian dynamics?  Absolutely not!  You only need one inertial frame.  Did we just waste a whole bunch of time on all that DCM nonsense?  Also no.  The introduction of multiple frames is not *necessary* but is frequently incredibly *convenient*.  Non-inertial reference frames can be incredibly handy for simplifying the description of various types of motion, and particularly rotational motion. We're going to posit this now, and proceed to develop a few useful reference frames.  Once we get to actually doing dynamics, it will be up to you to decide whether you agree about the utility of introducing non-inertial frames.  The basic message, however, is that only a single inertial reference frame is needed to do all of classical mechanics. \n",
    "\n",
    "# Multiple Rotations\n",
    "Before we get to defining some fun, new reference frames, lets pause and consider the fact that we have, so far, only dealt with single rotations.  That feels rather...limiting.  What if you want to rotate many times?  What if you have need of multiple, sequential, rotations?  Fear not - it turns out our prep work has...well, prepared us for this. Let's consider three reference frames $\\mc A, \\mc B$ and $\\mc C$.  We now know that if we can identify the axes and angles of rotation between them, we can find the DCMs $\\framerot{B}{A}$ and $\\framerot{C}{B}$.  Similarly, we know that for a single vector $\\mf r$, we can write three different sets of components in these three frames: $[\\mf r]_\\mc A$, $[\\mf r]_\\mc B$, and $[\\mf r]_\\mc C$. Finally, we know that we can convert via these frame representations via the DCMs as:\n",
    "\n",
    "$$ [\\mf r]_\\mc B = \\framerot{B}{A} [\\mf r]_\\mc A  \\\\ [\\mf r]_\\mc C = \\framerot{C}{B} [\\mf r]_\\mc B $$\n",
    "\n",
    "What if we substitute the first expression into the second? Then we'd have something like: $$[\\mf r]_\\mc C = \\framerot{C}{B}\\framerot{B}{A} [\\mf r]_\\mc A$$\n",
    "But according to everything we've figured out so far, there must be a DCM $\\framerot{C}{A}$ which operates as $[\\mf r]_\\mc C = \\framerot{C}{A} [\\mf r]_\\mc A$.  Thus:\n",
    "$$\\framerot{C}{B}\\framerot{B}{A} \\equiv \\framerot{C}{A}$$\n",
    "\n",
    "DCMs are **composed** by matrix multiplication.  Furthermore, the same exact reasoning would apply whether we used two frames, or three frames, or $N$ frames.  In general:\n",
    "<div class=\"alert alert-block alert-info\">\n",
    "   Given $N$ frames $\\mc F_1\\ldots \\mc F_N$:\n",
    "$$\\leftexp{\\mc I}{C}^{\\mc F_1}\\leftexp{\\mc F_1}{C}^{\\mc F_2}\\leftexp{\\mc F_2}{C}^{\\mc F_3}\\ldots\\leftexp{\\mc F_{\\mc N-1}}{C}^{\\mc F_\\mc N} = \\leftexp{\\mc I}{C}^{\\mc F_\\mc N}$$\n",
    "    </div>\n",
    "    \n",
    "Notice how our notation is helping us out here.  Whenever adjacent superscripts of a DCM match, they collapse into each other. Armed with this new knowledge, let's make some reference frames!"
   ]
  },
  {
   "cell_type": "markdown",
   "id": "9a93f4d6-8107-468c-a207-7a6b73da8931",
   "metadata": {},
   "source": [
    "# The Polar/Cylindrical Reference Frame\n",
    "\n",
    "Remember polar coordinates?  We said they were super useful in describing the radial motion of an object in a single plane?  What if, instead of relying on coordinates to handle this description, we define a reference frame to do it?  That frame would be a polar frame:\n",
    "\n",
    "<p style=\"text-align:center;\"><img src=\"img/cylindrical_frame.png\" alt=\"Polar/Cylindrical Reference Frame\" width=\"400\" id=\"fig:polarframe\"/></p>\n",
    "\n",
    "We start with an arbitrary frame $\\mc I = (O, \\bhat{e}_1, \\bhat{e}_2, \\bhat{e}_3)$ in which the location of a point $P$ with respect to coordinate origin $O$ is defined by Cartesian coordinates $(x,y,z)$ and cylindrical coordinates $(\\rho, \\theta, z)$.  We now define a new unit direction that *always* points along the direction of the $\\rho$ line (the projection of $\\mf r_{P/O}$ onto the $\\bhat{e}_1 - \\bhat{e}_2$ plane). If $P$ is moving with respect to $O$ in the $\\mc I$ frame (that is, if the values of $x,y,z,\\rho,\\theta$ are changing in time) then the direction of $\\bhat{e}_r$ will be changing in time as well.   "
   ]
  },
  {
   "cell_type": "code",
   "execution_count": null,
   "id": "0720af07-b2e8-44d6-aa86-47c73e371878",
   "metadata": {},
   "outputs": [],
   "source": []
  }
 ],
 "metadata": {
  "kernelspec": {
   "display_name": "Python 3 (ipykernel)",
   "language": "python",
   "name": "python3"
  },
  "language_info": {
   "codemirror_mode": {
    "name": "ipython",
    "version": 3
   },
   "file_extension": ".py",
   "mimetype": "text/x-python",
   "name": "python",
   "nbconvert_exporter": "python",
   "pygments_lexer": "ipython3",
   "version": "3.9.7"
  }
 },
 "nbformat": 4,
 "nbformat_minor": 5
}
