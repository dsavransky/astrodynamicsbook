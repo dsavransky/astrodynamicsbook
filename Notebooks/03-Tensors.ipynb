{
 "cells": [
  {
   "cell_type": "code",
   "execution_count": 1,
   "id": "6bf62d34-ffc6-4ce0-b153-396ffb4a09a9",
   "metadata": {},
   "outputs": [
    {
     "data": {
      "text/markdown": [
       "$\n",
       "\\def\\bs{\\boldsymbol}\n",
       "\\def\\mf{\\mathbf}\n",
       "\\def\\mb{\\mathbb}\n",
       "\\def\\mc{\\mathcal}\n",
       "\\def\\rfr{\\mathcal}\n",
       "\\def\\grad{{\\rm grad}}\n",
       "\\def\\Re{{\\rm Re}}\n",
       "\\def\\Im{{\\rm Im}}\n",
       "\\def\\und{\\underline}\n",
       "\\def\\ovl{\\overline}\n",
       "\\def\\unb{\\underbrace}\n",
       "\\def\\Log{\\mbox{Log}}\n",
       "\\def\\bfomega{\\bs \\omega}\n",
       "\\def\\bfalpha{\\bs \\alpha}\n",
       "\\def\\da{\\triangleq}\n",
       "\\newcommand{\\leftexp}[2]{{\\vphantom{#2}}^{#1}\\!{#2}}\n",
       "\\newcommand{\\leftsub}[2]{{\\vphantom{#2}}_{#1}\\!{#2}}\n",
       "\\newcommand{\\omegarot}[2]{{\\leftexp{\\mathcal{#1}}{\\boldsymbol{\\omega}}^{\\mathcal{#2}}}}\n",
       "\\newcommand{\\alpharot}[2]{{\\leftexp{\\mathcal{#1}}{\\boldsymbol{\\alpha}}^{\\mathcal{#2}}}}\n",
       "\\newcommand{\\framerot}[2]{{\\leftexp{\\mathcal{#1}}{C}^{\\mathcal{#2}}}}\n",
       "\\newcommand{\\dframerot}[2]{\\ensuremath{\\vphantom{C}^{\\mathcal{#1}}\\!{\\dot C^{\\mathcal{#2}}}}}\n",
       "\\newcommand{\\bdot}[1]{\\dot{\\mathbf{#1}}}\n",
       "\\newcommand{\\bhat}[1]{\\hat{\\mathbf{#1}}}\n",
       "\\def\\iwb{\\omegarot{I}{B}}\n",
       "\\def\\iab{\\alpharot{I}{B}}\n",
       "\\def\\icb{\\framerot{I}{B}}\n",
       "\\def\\dif{\\mathop{}\\!\\mathrm{d}}\n",
       "\\newcommand{\\intd}[1]{\\dif#1}\n",
       "\\newcommand{\\od}[3][]{{ \\frac{\\dif{^{#1}}#2}{\\dif{#3^{#1}}} }}\t\t\t\n",
       "\\newcommand{\\pd}[3][]{{ \\frac{\\partial{^{#1}}#2}{\\partial{#3^{#1}}} }}\t \n",
       "\\newcommand{\\md}[6]{{  \\frac{\\partial{^{#2}}#1}{\\partial{#3^{#4}}\\partial{#5^{#6}}} }}\n",
       "\\newcommand{\\fddt}[2][]{{  \\leftexp{\\mathcal{#2}}{\\frac{\\dif{#1}}{\\dif{t}}}  }}\n",
       "\\newcommand{\\fdddt}[2][]{{  \\leftexp{\\mathcal{#2}}{\\frac{\\dif{^{2}#1}}{\\dif{t^2}}}  }}\n",
       "\\newcommand{\\ddt}[1][]{\\fddt[#1]{I}}\n",
       "$\n"
      ],
      "text/plain": [
       "<IPython.core.display.Markdown object>"
      ]
     },
     "metadata": {},
     "output_type": "display_data"
    }
   ],
   "source": [
    "# These are helpful routines that will assist in building this book. \n",
    "# You should run this block before anything else. There is no output expected.\n",
    "from astrodynamicsbook.bookhelpers import *\n",
    "loadLatexPreamble()\n"
   ]
  },
  {
   "cell_type": "markdown",
   "id": "8b1654aa-5a5e-4760-bfeb-4b03bd571671",
   "metadata": {},
   "source": [
    "# Tensors and Outer Products\n",
    "\n",
    "You may have noticed that we started our [vector products discussion](#Vector-Products) by stating that we were going to be introducing three different vector products, but we ended up only discussing two.  That's because the third type of vector product requires us to first introduce the concept of **tensors**. Unlike our foray into the fabulous world of vectors, tensors are not directly motivated by Newton's laws.  However, as we continue working our way on a firm mathematical description of these laws, and the exploration of their caveats and implications, we will find tensor formalism enormously helpful.\n",
    "\n",
    "Tensors can be thought of as a generalization of vectors that allow us to encode multilinear relationships between elements of vector spaces.  The core new concept that we need to add to our toolkit when it comes to tensors is **tensor rank**. The tensor rank (or order) describes the dimensionality of the array of scalars needed to describe the components of a tensor in some basis (reference frame).  So, a rank-0 tensor is a scalar.  A rank-1 tensor is a vector, whose components in some frame are encoded as a 1-D array (or column matrix). A rank-2 tensor, sometimes called a **dyadic**, has components that can be encoded as a 2-D array (or matrix). For our purposes, we will primarily be dealing with rank-2 tensors associated with the Euclidean vector space, with components encoded as 3x3 matrices. \n",
    "\n",
    "<div class=\"alert alert-block alert-danger\">\n",
    "    In various contexts, what we're calling rank here may be referred to as <b>order</b> or <b>dimensionality</b>, with order being the preferred nomenclature in many texts.  We reserve 'dimensionality' to describe the dimension of the associated vector space (almost always $\\mb R^3$ for us).  Some people insist that 'order' should always be used instead of 'rank' because matrix rank has a very specific (and different) definition in linear algebra (the number of linearly independent rows/columns in the matrix), but tensors are <i>not</i> matrices, and so we are comfortable using 'rank' in this context. Plus, it's fun to piss off mathematicians.\n",
    "</div>\n",
    "\n",
    "So how do we get at these tensors? The answer turns out to be: indirectly.  We're going to posit a basis for the tensors based on the **outer product** (or tensor product) operator ($\\otimes$), and develop our understanding of these two concepts jointly.\n",
    "\n",
    "<div class=\"alert alert-block alert-info\">\n",
    "   Given a basis set (reference frame) $\\mc I = (\\bhat{e}_1, \\bhat{e}_2, \\bhat{e}_3)$, the rank-2 tensor basis is given by the set of outer products $\\{\\bhat{e}_i \\otimes \\bhat{e}_j\\}$ for $i,j=1,2,3$.  This basis set therefore has 9 elements.\n",
    "</div>\n",
    "A rank-2 tensor (dyadic) $\\mb T$ can be defined as the outer product of two vectors $\\mf a$ and $\\mf b$, such that: $\\mb T \\triangleq \\mf a\\otimes \\mf b$.  Recall that $\\mf a$ and $\\mf b$ can be expressed as weighted sums of basis elements:\n",
    "$$\\mf a = \\sum_i a_i \\bhat e_i \\quad \\mathrm{and} \\quad \\mf b = \\sum_i b_i \\bhat e_i $$\n",
    "The tensor can equivalently be decomposed into components in a tensor basis:\n",
    "<div class=\"alert alert-block alert-info\">\n",
    "   $$  \\mb T = \\mf a \\otimes \\mf b \\triangleq \\sum_{i} \\sum_{j} T_{ij} \\left(\\bhat e_i \\otimes \\bhat e_j\\right) $$\n",
    "</div>\n",
    "where $T_{ij}$ are the component weights (measure numbers) of the tensor in frame $\\mc I$. Note that we are typesetting the tensor in a blackboard font ($\\mb T$).  We will maintain this notational convention from here on out. \n",
    "\n",
    "<div class=\"alert alert-block alert-info\">\n",
    "    Given geometric vectors $\\mf a, \\mf b, \\mf c$, and scalars $x$, the tensor outer product is:<br>\n",
    "<ol>\n",
    "    <li> Distributive over vector addition:$ (\\mf a+ \\mf b) \\otimes \\mf c = \\mf a \\otimes \\mf c + \\mf b \\otimes \\mf c$ and $\\mf c \\otimes (\\mf a+ \\mf b) = \\mf c \\otimes \\mf a + \\mf c \\otimes \\mf b$</li>\n",
    "    <li> Associative: $(\\mf a \\otimes \\mf b) \\otimes \\mf c = \\mf a \\otimes ( \\mf b \\otimes \\mf c)$</li>\n",
    "    <li> Compatible with scalar multiplication: $x(\\mf a \\otimes \\mf b) = (x\\mf a) \\otimes \\mf b = \\mf a \\otimes (x\\mf b)$</li>\n",
    "</ol>\n",
    "</div>\n",
    "\n",
    "The operation of the outer product is, in some sense, the opposite of that of the inner product, as it is rank-increasing. Just as we represent vector components in some frame as (column) matrices and vector products as linear algebraic operations on these matrices, so can we represent tensor components and tensor products.  Given:\n",
    "$$\\left[\\mf a\\right]_\\mc I =\\begin{bmatrix} a_1 \\\\ a_2 \\\\ a_3 \\end{bmatrix}_\\mc I\t\\hspace{30pt}  \\left[\\mf b\\right]_\\mc I =\\begin{bmatrix} b_1 \\\\ b_2 \\\\ b_3 \\end{bmatrix}_\\mc I \\hspace{22pt} \\left[ \\mathbb T \\right]_\\mc I = \\begin{bmatrix} T_{11} & T_{12} & T_{13} \\\\\n",
    "T_{21} & T_{22} & T_{23} \\\\\n",
    "T_{31} & T_{32} & T_{33}\\end{bmatrix}_\\mc I$$\n",
    "the outer product $\\mb T = \\mf a \\otimes \\mf b$ can be written in component form as:\n",
    "<div class=\"alert alert-block alert-info\">\n",
    "$$[\\mb T]_\\mc I = [\\mf a \\otimes \\mf b]_\\mc I = [\\mf a]_\\mc I [\\mf b]_\\mc I^T= \\begin{bmatrix} a_1 b_1 & a_1 b_2 & a_1 b_3 \\\\\n",
    " a_2 b_1 & a_2 b_2 & a_2 b_3 \\\\\n",
    " a_3 b_1 & a_3 b_2 & a_3 b_3\\end{bmatrix}_\\mc I$$\n",
    "</div>\n",
    "\n",
    "\n",
    "The dot product that we developed for geometric vectors can be applied equivalently to tensors, save that a dot product between a tensor and a vector will not return a scalar.  Remember that the dot product is an inner product, which means that it is rank-reducing. The dot product between two vectors (rank-1 tensors) produces a scalar. The dot product between a dyadic and a vector produces another vector. So, in the same way that we previously found that $a_i = \\mf a \\cdot \\bhat e_i$ and   $b_i = \\mf b \\cdot \\bhat e_i$ (for the $\\mf a$ and $\\mf b$ definitions given above), we can equivalently write:\n",
    "\n",
    "<div class=\"alert alert-block alert-info\">\n",
    "$$T_{ij} = \\bhat e_i \\cdot \\mb T \\cdot \\bhat e_j = a_ib_j$$\n",
    "</div>\n",
    "\n",
    "which matches exactly our understanding of the component representation we get from the outer produce evaluation. Note that this operation (dotting the tensor with two basis vectors to get the component weight) is not commutative, since we cannot first dot the two unit vectors together, or we would be left with just the original tensor multiplied by the identity scalar. In general, the dot product of a vector with a dyadic is **not** commutative.\n",
    "\n",
    "<div class=\"alert alert-block alert-info\">\n",
    "Given Euclidean vectors $\\mf a, \\mf b, \\mf c$:\n",
    "$$\\mf c \\cdot (\\mf a\\otimes \\mf b) = (\\mf c \\cdot \\mf a)\\mf b$$\n",
    "$$(\\mf a\\otimes \\mf b)\\cdot \\mf c = (\\mf b \\cdot \\mf c)\\mf a$$\n",
    "</div>\n",
    "\n",
    "We know how to carry out the operations on the right-hand sides of these expressions in component form, so let's take a look at what they look like:"
   ]
  },
  {
   "cell_type": "code",
   "execution_count": 2,
   "id": "6b2507fc-2caf-4d1a-9149-c658e4e76fcf",
   "metadata": {},
   "outputs": [
    {
     "data": {
      "text/latex": [
       "$\\displaystyle \\left[\\begin{matrix}a_{1} b_{1} c_{1} + a_{2} b_{1} c_{2} + a_{3} b_{1} c_{3}\\\\a_{1} b_{2} c_{1} + a_{2} b_{2} c_{2} + a_{3} b_{2} c_{3}\\\\a_{1} b_{3} c_{1} + a_{2} b_{3} c_{2} + a_{3} b_{3} c_{3}\\end{matrix}\\right]$"
      ],
      "text/plain": [
       "⎡a₁⋅b₁⋅c₁ + a₂⋅b₁⋅c₂ + a₃⋅b₁⋅c₃⎤\n",
       "⎢                              ⎥\n",
       "⎢a₁⋅b₂⋅c₁ + a₂⋅b₂⋅c₂ + a₃⋅b₂⋅c₃⎥\n",
       "⎢                              ⎥\n",
       "⎣a₁⋅b₃⋅c₁ + a₂⋅b₃⋅c₂ + a₃⋅b₃⋅c₃⎦"
      ]
     },
     "execution_count": 2,
     "metadata": {},
     "output_type": "execute_result"
    }
   ],
   "source": [
    "# First let's set up the symbols and vectors we'll be using:\n",
    "a1,a2,a3,b1,b2,b3,c1,c2,c3 = symbols(\"a_1, a_2, a_3, b_1, b_2, b_3, c_1, c_2, c_3\")\n",
    "a_I = Matrix([a1,a2,a3]) #the _I is to remind us of which frame we're using\n",
    "b_I = Matrix([b1,b2,b3])\n",
    "c_I = Matrix([c1,c2,c3])\n",
    "\n",
    "# Now we define the left dot product (as in the right-hand side of the expression above)\n",
    "left_dot_product = c_I.dot(a_I)*b_I\n",
    "expand(left_dot_product) # We're using the sympy expand command to distribute the b components over the multiplication"
   ]
  },
  {
   "cell_type": "code",
   "execution_count": 3,
   "id": "00b6a83a-9994-4387-97b2-c6a3e661945a",
   "metadata": {},
   "outputs": [
    {
     "data": {
      "text/latex": [
       "$\\displaystyle \\left[\\begin{matrix}a_{1} b_{1} c_{1} + a_{1} b_{2} c_{2} + a_{1} b_{3} c_{3}\\\\a_{2} b_{1} c_{1} + a_{2} b_{2} c_{2} + a_{2} b_{3} c_{3}\\\\a_{3} b_{1} c_{1} + a_{3} b_{2} c_{2} + a_{3} b_{3} c_{3}\\end{matrix}\\right]$"
      ],
      "text/plain": [
       "⎡a₁⋅b₁⋅c₁ + a₁⋅b₂⋅c₂ + a₁⋅b₃⋅c₃⎤\n",
       "⎢                              ⎥\n",
       "⎢a₂⋅b₁⋅c₁ + a₂⋅b₂⋅c₂ + a₂⋅b₃⋅c₃⎥\n",
       "⎢                              ⎥\n",
       "⎣a₃⋅b₁⋅c₁ + a₃⋅b₂⋅c₂ + a₃⋅b₃⋅c₃⎦"
      ]
     },
     "execution_count": 3,
     "metadata": {},
     "output_type": "execute_result"
    }
   ],
   "source": [
    "# Now we define the right dot product (as in the right-hand side of the expression above)\n",
    "right_dot_product = b_I.dot(c_I)*a_I\n",
    "expand(right_dot_product) "
   ]
  },
  {
   "cell_type": "markdown",
   "id": "de7e6641-d6e9-431f-babe-b372c6c384ab",
   "metadata": {},
   "source": [
    "Ok, clearly these two results are different, but what about the left-hand side?  Let's posit a linear algebraic form for the vector-dyadic dot product, and see if we can get things to be internally consistent. \n",
    "<div class=\"alert alert-block alert-info\">\n",
    "$$[\\mf c\\cdot \\mb T]_{\\mc I} = \\left([\\mf c]_{\\mc I}^T [\\mb T]_\\mc I\\right)^T =  [\\mb T]_\\mc I^T[\\mf c]_{\\mc I} \\\\ [\\mb T \\cdot \\mf c]_{\\mc I} = [\\mb T]_{\\mc I} [\\mf c]_{\\mc I}$$\n",
    "</div>\n",
    "In the first case, we use exactly the same form as we did for the dot product operation between two vectors, but introduce the overall transpose in order for the output to remain a column matrix. In the second case, we rely on the dimensionality of the system to get us the behavior we want.  Let's apply this to the same two dot products as before:"
   ]
  },
  {
   "cell_type": "code",
   "execution_count": 4,
   "id": "2389171d-07cb-4ad9-8bf6-a47d12150d39",
   "metadata": {},
   "outputs": [
    {
     "data": {
      "text/latex": [
       "$\\displaystyle \\left[\\begin{matrix}a_{1} b_{1} & a_{1} b_{2} & a_{1} b_{3}\\\\a_{2} b_{1} & a_{2} b_{2} & a_{2} b_{3}\\\\a_{3} b_{1} & a_{3} b_{2} & a_{3} b_{3}\\end{matrix}\\right]$"
      ],
      "text/plain": [
       "⎡a₁⋅b₁  a₁⋅b₂  a₁⋅b₃⎤\n",
       "⎢                   ⎥\n",
       "⎢a₂⋅b₁  a₂⋅b₂  a₂⋅b₃⎥\n",
       "⎢                   ⎥\n",
       "⎣a₃⋅b₁  a₃⋅b₂  a₃⋅b₃⎦"
      ]
     },
     "execution_count": 4,
     "metadata": {},
     "output_type": "execute_result"
    }
   ],
   "source": [
    "T_I = a_I*b_I.transpose()\n",
    "T_I"
   ]
  },
  {
   "cell_type": "code",
   "execution_count": 5,
   "id": "ae4c8bf7-dc95-492e-8a8e-d746e9772356",
   "metadata": {},
   "outputs": [
    {
     "data": {
      "text/latex": [
       "$\\displaystyle \\left( \\left[\\begin{matrix}a_{1} b_{1} c_{1} + a_{2} b_{1} c_{2} + a_{3} b_{1} c_{3}\\\\a_{1} b_{2} c_{1} + a_{2} b_{2} c_{2} + a_{3} b_{2} c_{3}\\\\a_{1} b_{3} c_{1} + a_{2} b_{3} c_{2} + a_{3} b_{3} c_{3}\\end{matrix}\\right], \\  \\left[\\begin{matrix}a_{1} b_{1} c_{1} + a_{1} b_{2} c_{2} + a_{1} b_{3} c_{3}\\\\a_{2} b_{1} c_{1} + a_{2} b_{2} c_{2} + a_{2} b_{3} c_{3}\\\\a_{3} b_{1} c_{1} + a_{3} b_{2} c_{2} + a_{3} b_{3} c_{3}\\end{matrix}\\right]\\right)$"
      ],
      "text/plain": [
       "⎛⎡a₁⋅b₁⋅c₁ + a₂⋅b₁⋅c₂ + a₃⋅b₁⋅c₃⎤  ⎡a₁⋅b₁⋅c₁ + a₁⋅b₂⋅c₂ + a₁⋅b₃⋅c₃⎤⎞\n",
       "⎜⎢                              ⎥  ⎢                              ⎥⎟\n",
       "⎜⎢a₁⋅b₂⋅c₁ + a₂⋅b₂⋅c₂ + a₃⋅b₂⋅c₃⎥, ⎢a₂⋅b₁⋅c₁ + a₂⋅b₂⋅c₂ + a₂⋅b₃⋅c₃⎥⎟\n",
       "⎜⎢                              ⎥  ⎢                              ⎥⎟\n",
       "⎝⎣a₁⋅b₃⋅c₁ + a₂⋅b₃⋅c₂ + a₃⋅b₃⋅c₃⎦  ⎣a₃⋅b₁⋅c₁ + a₃⋅b₂⋅c₂ + a₃⋅b₃⋅c₃⎦⎠"
      ]
     },
     "execution_count": 5,
     "metadata": {},
     "output_type": "execute_result"
    }
   ],
   "source": [
    "left_dot_product2 = T_I.transpose()*c_I\n",
    "right_dot_product2 = T_I*c_I\n",
    "left_dot_product2, right_dot_product2"
   ]
  },
  {
   "cell_type": "markdown",
   "id": "c0c83e6d-bd38-4ca0-904d-56a8a5c04655",
   "metadata": {},
   "source": [
    "Wunderbar! At the very least, our vector and linear algebra definitions of these operations are self-consistent.  Let's see if we can get a bit more consistency by replacing all instances of $a_ib_j$ with $T_{ij}$."
   ]
  },
  {
   "cell_type": "code",
   "execution_count": 6,
   "id": "4c3ac072-449d-4156-9f14-67437764ce13",
   "metadata": {},
   "outputs": [
    {
     "data": {
      "text/latex": [
       "$\\displaystyle \\left[\\begin{matrix}T_{11} & T_{12} & T_{13}\\\\T_{21} & T_{22} & T_{23}\\\\T_{31} & T_{32} & T_{33}\\end{matrix}\\right]$"
      ],
      "text/plain": [
       "⎡T_{11}  T_{12}  T_{13}⎤\n",
       "⎢                      ⎥\n",
       "⎢T_{21}  T_{22}  T_{23}⎥\n",
       "⎢                      ⎥\n",
       "⎣T_{31}  T_{32}  T_{33}⎦"
      ]
     },
     "execution_count": 6,
     "metadata": {},
     "output_type": "execute_result"
    }
   ],
   "source": [
    "# fancyMat is our method for generating indexed matrices.\n",
    "# It is very similar to sympy's subarray, but creates 1-based\n",
    "# (instead of 0-based) indices.\n",
    "T_I2 = fancyMat('T',(3,3)) \n",
    "T_I2"
   ]
  },
  {
   "cell_type": "code",
   "execution_count": 7,
   "id": "3fcd53cf-6568-4711-9b0d-59f02716736f",
   "metadata": {},
   "outputs": [
    {
     "data": {
      "text/latex": [
       "$\\displaystyle \\left[\\begin{matrix}T_{11} & T_{12} & T_{13}\\\\T_{21} & T_{22} & T_{23}\\\\T_{31} & T_{32} & T_{33}\\end{matrix}\\right]$"
      ],
      "text/plain": [
       "⎡T_{11}  T_{12}  T_{13}⎤\n",
       "⎢                      ⎥\n",
       "⎢T_{21}  T_{22}  T_{23}⎥\n",
       "⎢                      ⎥\n",
       "⎣T_{31}  T_{32}  T_{33}⎦"
      ]
     },
     "execution_count": 7,
     "metadata": {},
     "output_type": "execute_result"
    }
   ],
   "source": [
    "# We're going to make a dictionary of equivalent terms to use for substitution\n",
    "subdict = {}\n",
    "for ii,jj in zip(T_I, T_I2): subdict[ii] = jj\n",
    "# As a check, we apply this to the a_i b_j version of the T matrix, and expect to get the T_{ij} version:\n",
    "T_I.subs(subdict)"
   ]
  },
  {
   "cell_type": "code",
   "execution_count": 8,
   "id": "94d475ed-45af-454f-ae1b-4cf2f32d7347",
   "metadata": {},
   "outputs": [
    {
     "data": {
      "text/latex": [
       "$\\displaystyle \\left( \\left[\\begin{matrix}T_{11} c_{1} + T_{21} c_{2} + T_{31} c_{3}\\\\T_{12} c_{1} + T_{22} c_{2} + T_{32} c_{3}\\\\T_{13} c_{1} + T_{23} c_{2} + T_{33} c_{3}\\end{matrix}\\right], \\  \\left[\\begin{matrix}T_{11} c_{1} + T_{12} c_{2} + T_{13} c_{3}\\\\T_{21} c_{1} + T_{22} c_{2} + T_{23} c_{3}\\\\T_{31} c_{1} + T_{32} c_{2} + T_{33} c_{3}\\end{matrix}\\right]\\right)$"
      ],
      "text/plain": [
       "⎛⎡T_{11}⋅c₁ + T_{21}⋅c₂ + T_{31}⋅c₃⎤  ⎡T_{11}⋅c₁ + T_{12}⋅c₂ + T_{13}⋅c₃⎤⎞\n",
       "⎜⎢                                 ⎥  ⎢                                 ⎥⎟\n",
       "⎜⎢T_{12}⋅c₁ + T_{22}⋅c₂ + T_{32}⋅c₃⎥, ⎢T_{21}⋅c₁ + T_{22}⋅c₂ + T_{23}⋅c₃⎥⎟\n",
       "⎜⎢                                 ⎥  ⎢                                 ⎥⎟\n",
       "⎝⎣T_{13}⋅c₁ + T_{23}⋅c₂ + T_{33}⋅c₃⎦  ⎣T_{31}⋅c₁ + T_{32}⋅c₂ + T_{33}⋅c₃⎦⎠"
      ]
     },
     "execution_count": 8,
     "metadata": {},
     "output_type": "execute_result"
    }
   ],
   "source": [
    "# now let's apply this to the left and right dot product results:\n",
    "expand(left_dot_product).subs(subdict), expand(right_dot_product).subs(subdict)"
   ]
  },
  {
   "cell_type": "code",
   "execution_count": 9,
   "id": "016c81fb-c3db-493e-adb9-31a9e6ff4de1",
   "metadata": {},
   "outputs": [
    {
     "data": {
      "text/latex": [
       "$\\displaystyle \\left( \\left[\\begin{matrix}T_{11} c_{1} + T_{21} c_{2} + T_{31} c_{3}\\\\T_{12} c_{1} + T_{22} c_{2} + T_{32} c_{3}\\\\T_{13} c_{1} + T_{23} c_{2} + T_{33} c_{3}\\end{matrix}\\right], \\  \\left[\\begin{matrix}T_{11} c_{1} + T_{12} c_{2} + T_{13} c_{3}\\\\T_{21} c_{1} + T_{22} c_{2} + T_{23} c_{3}\\\\T_{31} c_{1} + T_{32} c_{2} + T_{33} c_{3}\\end{matrix}\\right]\\right)$"
      ],
      "text/plain": [
       "⎛⎡T_{11}⋅c₁ + T_{21}⋅c₂ + T_{31}⋅c₃⎤  ⎡T_{11}⋅c₁ + T_{12}⋅c₂ + T_{13}⋅c₃⎤⎞\n",
       "⎜⎢                                 ⎥  ⎢                                 ⎥⎟\n",
       "⎜⎢T_{12}⋅c₁ + T_{22}⋅c₂ + T_{32}⋅c₃⎥, ⎢T_{21}⋅c₁ + T_{22}⋅c₂ + T_{23}⋅c₃⎥⎟\n",
       "⎜⎢                                 ⎥  ⎢                                 ⎥⎟\n",
       "⎝⎣T_{13}⋅c₁ + T_{23}⋅c₂ + T_{33}⋅c₃⎦  ⎣T_{31}⋅c₁ + T_{32}⋅c₂ + T_{33}⋅c₃⎦⎠"
      ]
     },
     "execution_count": 9,
     "metadata": {},
     "output_type": "execute_result"
    }
   ],
   "source": [
    "# Finally, let's check this against the component definitions of these dot products:\n",
    "T_I2.transpose()*c_I, T_I2*c_I"
   ]
  },
  {
   "cell_type": "markdown",
   "id": "4c0fc4ef-4457-446e-a4ab-ce562ba6a319",
   "metadata": {},
   "source": [
    "Absolutely beautiful!"
   ]
  },
  {
   "cell_type": "code",
   "execution_count": 10,
   "id": "28e183ae-f436-4ec9-b355-f8a8877481d8",
   "metadata": {},
   "outputs": [],
   "source": [
    "# This is just here to generate the link to the next notebook\n",
    "genNextLink()"
   ]
  }
 ],
 "metadata": {
  "kernelspec": {
   "display_name": "Python 3 (ipykernel)",
   "language": "python",
   "name": "python3"
  },
  "language_info": {
   "codemirror_mode": {
    "name": "ipython",
    "version": 3
   },
   "file_extension": ".py",
   "mimetype": "text/x-python",
   "name": "python",
   "nbconvert_exporter": "python",
   "pygments_lexer": "ipython3",
   "version": "3.9.7"
  }
 },
 "nbformat": 4,
 "nbformat_minor": 5
}
