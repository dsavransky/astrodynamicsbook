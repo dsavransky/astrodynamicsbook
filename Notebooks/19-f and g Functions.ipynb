{
 "cells": [
  {
   "cell_type": "code",
   "execution_count": 1,
   "id": "a55f5699-9df5-4cbc-8a29-d028afdf8f2b",
   "metadata": {},
   "outputs": [
    {
     "data": {
      "text/markdown": [
       "$\n",
       "\\def\\bs{\\boldsymbol}\n",
       "\\def\\mf{\\mathbf}\n",
       "\\def\\mb{\\mathbb}\n",
       "\\def\\mc{\\mathcal}\n",
       "\\def\\rfr{\\mathcal}\n",
       "\\def\\grad{{\\rm grad}}\n",
       "\\def\\Re{{\\rm Re}}\n",
       "\\def\\Im{{\\rm Im}}\n",
       "\\def\\und{\\underline}\n",
       "\\def\\ovl{\\overline}\n",
       "\\def\\unb{\\underbrace}\n",
       "\\def\\Log{\\mbox{Log}}\n",
       "\\def\\bfomega{\\bs \\omega}\n",
       "\\def\\bfalpha{\\bs \\alpha}\n",
       "\\def\\da{\\triangleq}\n",
       "\\newcommand{\\leftexp}[2]{{\\vphantom{#2}}^{#1}\\!{#2}}\n",
       "\\newcommand{\\leftsub}[2]{{\\vphantom{#2}}_{#1}\\!{#2}}\n",
       "\\newcommand{\\omegarot}[2]{{\\leftexp{\\mathcal{#1}}{\\boldsymbol{\\omega}}^{\\mathcal{#2}}}}\n",
       "\\newcommand{\\alpharot}[2]{{\\leftexp{\\mathcal{#1}}{\\boldsymbol{\\alpha}}^{\\mathcal{#2}}}}\n",
       "\\newcommand{\\framerot}[2]{{\\leftexp{\\mathcal{#1}}{C}^{\\mathcal{#2}}}}\n",
       "\\newcommand{\\dframerot}[2]{{\\vphantom{\\dot{C}}^{\\mathcal{#1}}\\!{\\dot{C}^{\\mathcal{#2}}}}}\n",
       "\\newcommand{\\bdot}[1]{\\dot{\\mathbf{#1}}}\n",
       "\\newcommand{\\bhat}[1]{\\hat{\\mathbf{#1}}}\n",
       "\\newcommand{\\mbhat}[1]{\\hat{\\mathbb{#1}}}\n",
       "\\def\\iwb{\\omegarot{I}{B}}\n",
       "\\def\\iab{\\alpharot{I}{B}}\n",
       "\\def\\icb{\\framerot{I}{B}}\n",
       "\\def\\dif{\\mathop{}\\!\\mathrm{d}}\n",
       "\\newcommand{\\intd}[1]{\\dif#1}\n",
       "\\newcommand{\\od}[3][]{{ \\frac{\\dif{^{#1}}#2}{\\dif{#3^{#1}}} }}\t\t\t\n",
       "\\newcommand{\\pd}[3][]{{ \\frac{\\partial{^{#1}}#2}{\\partial{#3^{#1}}} }}\t \n",
       "\\newcommand{\\md}[6]{{  \\frac{\\partial{^{#2}}#1}{\\partial{#3^{#4}}\\partial{#5^{#6}}} }}\n",
       "\\newcommand{\\fddt}[2][]{{  \\leftexp{\\mathcal{#2}}{\\frac{\\dif{#1}}{\\dif{t}}}  }}\n",
       "\\newcommand{\\fdddt}[2][]{{  \\leftexp{\\mathcal{#2}}{\\frac{\\dif{^{2}#1}}{\\dif{t^2}}}  }}\n",
       "\\newcommand{\\ddt}[1][]{\\fddt[#1]{I}}\n",
       "$\n"
      ],
      "text/plain": [
       "<IPython.core.display.Markdown object>"
      ]
     },
     "metadata": {},
     "output_type": "display_data"
    },
    {
     "data": {
      "text/markdown": [
       "# [Previous](<18-Orbits in 3D.ipynb>)"
      ],
      "text/plain": [
       "<IPython.core.display.Markdown object>"
      ]
     },
     "metadata": {},
     "output_type": "display_data"
    }
   ],
   "source": [
    "# These are helpful routines that will assist in building this book.\n",
    "# You should run this block before anything else. There is no output expected.\n",
    "from astrodynamicsbook.bookhelpers import *\n",
    "\n",
    "loadLatexPreamble()\n",
    "\n",
    "# This is only here to create the navigation link:\n",
    "genPrevLink()"
   ]
  },
  {
   "cell_type": "markdown",
   "id": "00d467b7-ac13-4e66-ac06-70880c5d764f",
   "metadata": {},
   "source": [
    "# Direct Propagation of Orbital State Vectors\n",
    "\n",
    "Having [firmly established](<18-Orbits in 3D.ipynb#Conversion-Between-Orbital-Elements-and-Orbital-State-Vectors>) the equivalence of the orbital state vectors and Keplerian orbital elements, we can now ask whether it is possible to propagate the orbital state vectors directly, without having to resort to conversion to the Keplerian elements.  We do so by positing that we can express the orbital radius vector at a time $t + \\Delta t$ as a linear combination of the orbital state vectors at time $t$:\n",
    "$$ \\mf r(t + \\Delta t) = f \\mf r(t) + g \\mf v(t)$$\n",
    "where $f$ and $g$ are scalar functions of $t, \\Delta{t}$ and potentially of $\\mf r(t), \\mf v(t), \\mf r(t+\\Delta t), \\mf v(t+ \\Delta t)$.\n",
    "\n",
    "<div class=\"alert alert-block alert-danger\">\n",
    "    We're obviously going to prove that this works, but before we get to there, it's kind of annoying for someone to say 'we will posit' and then magically pull the answer out of seemingly nowhere.  The fact that it's provable doesn't make it less annoying. Let's try to remove this annoyance before proceeding. \n",
    "</div>\n",
    "\n",
    "So why would anyone have any expectation of this working?  Well, we know that both $\\mf r$ and $\\mf v$ at any point in the past or future will lie in the exact same plane (the perifocal plane) as $\\mf r$ and $\\mf v$ at an arbitrary time $t$.  Thus, so long as the orbital state vectors [span](<\"01-Introduction.ipynb#Vector-Space-Basis-and-Reference-Frames\">) the perifocal plane, then our assertion must be correct.  A pair of vectors span a plane if they are linearly independent, or, equivalently, non-parallel.  So, is it true that the orbital radius and orbital velocity vectors are nowhere parallel?\n",
    "\n",
    "Recalling the [component form](<13-The Perifocal Frame.ipynb#The-Perifocal-Frame>) of the state vectors:\n",
    "\n",
    "$$\\begin{split} \\mf r &\\propto \\cos(\\nu) \\bhat{e} + \\sin(\\nu) \\bhat{q}\\\\\n",
    "\\mf v &\\propto -\\sin(\\nu) \\bhat{e} + (e + \\cos(\\nu)) \\bhat{q}\\end{split}$$\n",
    "\n",
    "we see that in order for these two vectors to be parallel, we would simultaneously need $\\cos(\\nu) \\propto \\sin(\\nu)$ and $\\sin(\\nu) \\propto e+\\cos(\\nu)$. As $\\sin$ and $\\cos$ are orthogonal functions, and $e$ is a strictly positive real number, no combination of $e$ and $\\nu$ can exist to satisfy these two proportionalities.  $\\mf r$ and $\\mf v$ can never point in the same (or exactly opposite) directions! \n",
    "\n",
    "<div class=\"alert alert-block alert-warning\">\n",
    "<b>Exercise</b><br> Or can they?  (No, no they can't.  But convince yourself.)\n",
    "</div>"
   ]
  },
  {
   "cell_type": "markdown",
   "id": "d70ee027-f5ac-4e2a-b23d-fbd84268e9f4",
   "metadata": {},
   "source": [
    "# f and g Functions\n",
    "\n",
    "So, we're totally safe in asserting that there exist some scalars $f$ and $g$ via which we can map the current orbital state vectors to some future (or past) orbital radius vector.  To make things a bit notationally simpler, and clearly describe what we're doing here, let's define:\n",
    "$$ \\mf r_0 \\equiv \\mf r(t_0) \\,,\\quad \\mf r \\equiv \\mf r(t_0+\\Delta t) \\,,\\quad  \\mf v_0 \\equiv \\mf v(t_0) \\,,\\quad \\mf v \\equiv \\mf v(t_0+\\Delta t)$$\n",
    "where $\\Delta t$ is any positive or negative change in time.  We'll also take $\\nu_0$ to be the true anomaly at time $t_0$ and $\\nu$ to be the true anomaly at $t_0 + \\Delta{t}$, and $r, r_0$ to be the magnitudes of $\\mf r$ and $\\mf r_0$, respectively. Returning to our initial assertion, we thus have:\n",
    "$$\\mf r = f\\mf r_0 + g \\mf v_0$$\n",
    "\n",
    "Now, how about $\\mf v$? The key point here is that we are treating $\\mf r_0, \\mf v_0$ as basis vectors for the perifocal plane, meaning that they are constants.  As such, when we differentiate $\\mf r$ to get $\\mf v$, we only need to consider the scalar derivatives of $f$ and $g$:\n",
    "\n",
    "$$\\mf v = \\dot f\\mf r_0 + \\dot g \\mf v_0$$\n",
    "\n",
    "<div class=\"alert alert-block alert-danger\">\n",
    "This likely seems hugely counterintuitive, as we have worked long and hard to figure out the derivatives of the orbital radius and velocity vectors, but it's all a matter of definitions.  In this case, $\\mf r_0$ and $\\mf v_0$ do not represent time-varying quantities.  Rather, they are a constant, inertially-fixed basis, and thus have zero inertial derivatives.  Hold on to your skepticism, though - we'll be sure to come back at the end of this and validate that everything holds together.\n",
    "    </div>"
   ]
  },
  {
   "cell_type": "markdown",
   "id": "b5942b15-4062-4dc2-a0ed-bbd2a79c45b7",
   "metadata": {},
   "source": [
    "Remember that $\\mf h = \\mf r \\times \\mf v$ is a constant of motion, and so we can write:\n",
    "$$ \\mf r_0 \\times \\mf v_0 = \\mf r \\times \\mf v  = \\left(f\\mf r_0 + g \\mf v_0\\right) \\times \\left(\\dot f\\mf r_0 + \\dot g \\mf v_0\\right)$$\n",
    "\n",
    "Distributing out the cross products on the right-hand side of the expression, we find:\n",
    "$$\\mf r_0 \\times \\mf v_0 = f\\dot g \\left(\\mf r_0 \\times  \\mf v_0\\right) + g \\dot f\\underbrace{\\left(\\mf v_0 \\times  \\mf r_0)\\right)}_{\\displaystyle \\equiv -\\mf r_0 \\times  \\mf v_0} \\quad\\Longrightarrow\\quad f\\dot g - \\dot f g = 1$$\n",
    "\n",
    "That is, the $f$ and $g$ functions and their derivatives are not independent, but must obey this constraint equation.\n",
    "\n",
    "To find the actual values of these terms, note that we can isolate $f$ and $g$ by crossing $\\mf r$ with $\\mf v_0$ and $\\mf r_0$, respectively. That is:\n",
    "$$\\mf r \\times \\mf v_0 = \\left(f\\mf r_0 + g \\mf v_0\\right)\\times \\mf v_0 = f\\left(\\mf r_0 \\times \\mf v_0\\right) \\quad \\Longrightarrow \\quad \\Vert \\mf r \\times \\mf v_0\\Vert = fh$$\n",
    "\n",
    "\n",
    "Let's try it out:"
   ]
  },
  {
   "cell_type": "code",
   "execution_count": 2,
   "id": "722909d8-5d6e-45b9-9603-69f33b5e9eb1",
   "metadata": {},
   "outputs": [
    {
     "data": {
      "text/latex": [
       "$\\displaystyle \\left[\\begin{matrix}0\\\\0\\\\\\frac{\\mu r \\left(e + \\cos{\\left(\\nu_{0} \\right)}\\right) \\cos{\\left(\\nu \\right)}}{h} + \\frac{\\mu r \\sin{\\left(\\nu \\right)} \\sin{\\left(\\nu_{0} \\right)}}{h}\\end{matrix}\\right]$"
      ],
      "text/plain": [
       "⎡                      0                      ⎤\n",
       "⎢                                             ⎥\n",
       "⎢                      0                      ⎥\n",
       "⎢                                             ⎥\n",
       "⎢μ⋅r⋅(e + cos(ν₀))⋅cos(ν)   μ⋅r⋅sin(ν)⋅sin(ν₀)⎥\n",
       "⎢──────────────────────── + ──────────────────⎥\n",
       "⎣           h                       h         ⎦"
      ]
     },
     "execution_count": 2,
     "metadata": {},
     "output_type": "execute_result"
    }
   ],
   "source": [
    "r0, r, mu, h, e, l = symbols(\"r_0,r,mu,h,e,ell\", real=True, positive=True)\n",
    "nu0, nu = symbols(\"nu_0,nu\", real=True)\n",
    "# generate perifocal frame components of all initial and final orbital states\n",
    "r0vec = r0 * Matrix([cos(nu0), sin(nu0), 0])\n",
    "rvec = r * Matrix([cos(nu), sin(nu), 0])\n",
    "v0vec = mu / h * Matrix([-sin(nu0), e + cos(nu0), 0])\n",
    "vvec = mu / h * Matrix([-sin(nu), e + cos(nu), 0])\n",
    "fhvec = rvec.cross(v0vec)\n",
    "fhvec"
   ]
  },
  {
   "cell_type": "markdown",
   "id": "9448355f-cfa7-431e-a172-d6925a95a5b1",
   "metadata": {},
   "source": [
    "As expected, $\\mf r_1 \\times \\mf v_0$ is entirely in the $\\bhat{h}$ direction.  We can now solve for $f$ as:"
   ]
  },
  {
   "cell_type": "code",
   "execution_count": 3,
   "id": "9625c936-6cdf-4220-af70-fab5a9d22f0e",
   "metadata": {},
   "outputs": [
    {
     "data": {
      "image/png": "[encoded data removed]",
      "text/latex": [
       "$\\displaystyle \\frac{\\mu r \\left(e \\cos{\\left(\\nu \\right)} + \\cos{\\left(\\nu - \\nu_{0} \\right)}\\right)}{h^{2}}$"
      ],
      "text/plain": [
       "μ⋅r⋅(e⋅cos(ν) + cos(ν - ν₀))\n",
       "────────────────────────────\n",
       "              2             \n",
       "             h              "
      ]
     },
     "execution_count": 3,
     "metadata": {},
     "output_type": "execute_result"
    }
   ],
   "source": [
    "fexp = simplify(fhvec[2] / h)\n",
    "fexp"
   ]
  },
  {
   "cell_type": "markdown",
   "id": "30fb3caa-de69-4c48-b6de-b973c8336ca1",
   "metadata": {},
   "source": [
    "We can simplify this even further by recalling that $\\ell = \\dfrac{h^2}{\\mu}$ and that $r = \\dfrac{\\ell}{1 + e\\cos(\\nu)}$"
   ]
  },
  {
   "cell_type": "code",
   "execution_count": 4,
   "id": "b75506f1-7c21-473b-ae85-2debd1436de5",
   "metadata": {},
   "outputs": [
    {
     "data": {
      "image/png": "[encoded data removed]",
      "text/latex": [
       "$\\displaystyle \\frac{e \\cos{\\left(\\nu \\right)} + \\cos{\\left(\\nu - \\nu_{0} \\right)}}{e \\cos{\\left(\\nu \\right)} + 1}$"
      ],
      "text/plain": [
       "e⋅cos(ν) + cos(ν - ν₀)\n",
       "──────────────────────\n",
       "     e⋅cos(ν) + 1     "
      ]
     },
     "execution_count": 4,
     "metadata": {},
     "output_type": "execute_result"
    }
   ],
   "source": [
    "fexp = simplify(fexp.subs(mu / h**2, 1 / l).subs(r, l / (1 + e * cos(nu))))\n",
    "fexp"
   ]
  },
  {
   "cell_type": "markdown",
   "id": "b39fcfb0-95e0-4a92-8a7f-292387652e25",
   "metadata": {},
   "source": [
    "Noting that $\\cos$ is an even function (meaning we can swap the order of the subtraction in any cosine argument),  we can split this expression as:\n",
    "$$f = \\frac{e\\cos(\\nu)}{1+ e\\cos(\\nu)} + \\frac{\\cos(\\Delta\\nu)}{1+ e\\cos(\\nu)}$$\n",
    "where $\\Delta\\nu \\triangleq \\nu - \\nu_0$.  As:\n",
    "$$\\frac{1}{1+ e\\cos(\\nu)}  \\equiv \\frac{r}{\\ell} $$\n",
    "the first term on the right-hand side can be re-written as:\n",
    "$$\\frac{e\\cos(\\nu_1)}{1+ e\\cos(\\nu_1)} = \\frac{\\ell - r}{\\ell}$$\n",
    "and thus, the whole $f$ expression becomes:\n",
    "$$f = \\frac{\\ell - r}{\\ell} + \\frac{r}{\\ell}\\cos(\\Delta\\nu) = 1 - \\frac{r}{\\ell}\\left(1 - \\cos(\\Delta\\nu)\\right) $$\n",
    "\n",
    "Neat!  Now let's try for $g$:\n",
    "$$\\mf r_0 \\times \\mf r = \\mf r_0 \\times \\left(f\\mf r_0 + g \\mf v_0\\right) = g\\mf h$$"
   ]
  },
  {
   "cell_type": "code",
   "execution_count": 5,
   "id": "d84514b7-5d1d-4108-b5cf-6769cc730174",
   "metadata": {},
   "outputs": [
    {
     "data": {
      "image/png": "[encoded data removed]",
      "text/latex": [
       "$\\displaystyle \\frac{r r_{0} \\sin{\\left(\\nu - \\nu_{0} \\right)}}{h}$"
      ],
      "text/plain": [
       "r⋅r₀⋅sin(ν - ν₀)\n",
       "────────────────\n",
       "       h        "
      ]
     },
     "execution_count": 5,
     "metadata": {},
     "output_type": "execute_result"
    }
   ],
   "source": [
    "gexp = simplify(r0vec.cross(rvec)[2] / h)\n",
    "gexp"
   ]
  },
  {
   "cell_type": "markdown",
   "id": "9389312f-e25c-4551-a3d9-98e9c718e8f1",
   "metadata": {},
   "source": [
    "Sine is an odd function, and so flipping the order of subtraction in the argument flips the total sign of the expression, meaning that:\n",
    "$$g = \\frac{r_{0} r \\sin{\\left(\\Delta\\nu\\right)}}{\\sqrt{\\mu \\ell}}$$\n",
    "where we've also substituted $h = \\sqrt{\\mu \\ell}$.\n",
    "\n",
    "We now repeat the exact same steps to get $\\dot f$ and $\\dot g$ by crossing $\\mf v_1$ with $\\mf v_0$ and $\\mf r_0$:"
   ]
  },
  {
   "cell_type": "code",
   "execution_count": 6,
   "id": "87704f80-e813-4d99-b497-0849a4ff30da",
   "metadata": {},
   "outputs": [
    {
     "data": {
      "image/png": "[encoded data removed]",
      "text/latex": [
       "$\\displaystyle \\left( \\frac{\\mu^{2} \\left(- e \\sin{\\left(\\nu \\right)} + e \\sin{\\left(\\nu_{0} \\right)} - \\sin{\\left(\\nu - \\nu_{0} \\right)}\\right)}{h^{3}}, \\  \\frac{\\mu r_{0} \\left(e \\cos{\\left(\\nu_{0} \\right)} + \\cos{\\left(\\nu - \\nu_{0} \\right)}\\right)}{h^{2}}\\right)$"
      ],
      "text/plain": [
       "⎛ 2                                                                      ⎞\n",
       "⎜μ ⋅(-e⋅sin(ν) + e⋅sin(ν₀) - sin(ν - ν₀))  μ⋅r₀⋅(e⋅cos(ν₀) + cos(ν - ν₀))⎟\n",
       "⎜────────────────────────────────────────, ──────────────────────────────⎟\n",
       "⎜                    3                                    2              ⎟\n",
       "⎝                   h                                    h               ⎠"
      ]
     },
     "execution_count": 6,
     "metadata": {},
     "output_type": "execute_result"
    }
   ],
   "source": [
    "fdotexp = simplify((vvec.cross(v0vec))[2] / h)\n",
    "gdotexp = simplify(r0vec.cross(vvec)[2] / h)\n",
    "fdotexp, gdotexp"
   ]
  },
  {
   "cell_type": "markdown",
   "id": "37b8c405-8c09-488a-9798-40105e789b08",
   "metadata": {},
   "source": [
    "At this point, let's make sure that everything is holding together properly.   First, lets see if our constraint equation holds:"
   ]
  },
  {
   "cell_type": "code",
   "execution_count": 7,
   "id": "c29de4f8-841e-4d34-90e7-35b3979e603e",
   "metadata": {},
   "outputs": [
    {
     "data": {
      "image/png": "[encoded data removed]",
      "text/latex": [
       "$\\displaystyle 1$"
      ],
      "text/plain": [
       "1"
      ]
     },
     "execution_count": 7,
     "metadata": {},
     "output_type": "execute_result"
    }
   ],
   "source": [
    "simplify(\n",
    "    (fexp * gdotexp - gexp * fdotexp)\n",
    "    .subs(r0, h**2 / mu / (1 + e * cos(nu0)))\n",
    "    .subs(r, h**2 / mu / (1 + e * cos(nu)))\n",
    ")"
   ]
  },
  {
   "cell_type": "markdown",
   "id": "41e35763-c553-4f35-9327-9f35976ee6a9",
   "metadata": {},
   "source": [
    "Next, we can directly differentiate our $f$ and $g$ expressions and see if they match what we just found for $\\dot f$ and $\\dot g$.  The only caveat here is that we have to still be careful about what we treat as a time-varying quantity.  Just as $\\mf r_0$ and $\\mf v_0$ are constant in the scope of the $f$ and $g$ expression, so too is $\\nu_0$.  Only $\\nu$ should be considered to be time-variable here.  With this in mind, let's see how everything works out:"
   ]
  },
  {
   "cell_type": "code",
   "execution_count": 8,
   "id": "c84cc679-482b-46c3-a76d-d6dc5339093f",
   "metadata": {},
   "outputs": [
    {
     "data": {
      "image/png": "[encoded data removed]",
      "text/latex": [
       "$\\displaystyle \\frac{\\mu^{2} \\left(- e \\sin{\\left(\\nu \\right)} + e \\sin{\\left(\\nu_{0} \\right)} - \\sin{\\left(\\nu - \\nu_{0} \\right)}\\right)}{h^{3}}$"
      ],
      "text/plain": [
       " 2                                      \n",
       "μ ⋅(-e⋅sin(ν) + e⋅sin(ν₀) - sin(ν - ν₀))\n",
       "────────────────────────────────────────\n",
       "                    3                   \n",
       "                   h                    "
      ]
     },
     "execution_count": 8,
     "metadata": {},
     "output_type": "execute_result"
    }
   ],
   "source": [
    "nud, t = symbols(\"nudot, t\", real=True)\n",
    "diffmap = {nu: nud}\n",
    "nudexp = h / (h**2 / mu / (1 + e * cos(nu))) ** 2\n",
    "fdotexp_check = simplify(difftotal(fexp, t, diffmap).subs(nud, nudexp))\n",
    "fdotexp_check"
   ]
  },
  {
   "cell_type": "markdown",
   "id": "2223fff3-c9ca-4744-9c46-80ef78806dfb",
   "metadata": {},
   "source": [
    "Awesome! They match!  You see it, right:"
   ]
  },
  {
   "cell_type": "code",
   "execution_count": 9,
   "id": "a61a59a9-aced-4d58-83f8-cc52fdaeb05f",
   "metadata": {},
   "outputs": [
    {
     "data": {
      "image/png": "[encoded data removed]",
      "text/latex": [
       "$\\displaystyle 0$"
      ],
      "text/plain": [
       "0"
      ]
     },
     "execution_count": 9,
     "metadata": {},
     "output_type": "execute_result"
    }
   ],
   "source": [
    "fdotexp - fdotexp_check"
   ]
  },
  {
   "cell_type": "markdown",
   "id": "7399f064-a28b-4436-b911-c6579dc14aba",
   "metadata": {},
   "source": [
    "And ditto for the $g$ and $\\dot g$ expressions:"
   ]
  },
  {
   "cell_type": "code",
   "execution_count": 10,
   "id": "cc4da50b-880b-4bf1-abe3-719c4ec83410",
   "metadata": {},
   "outputs": [
    {
     "data": {
      "image/png": "[encoded data removed]",
      "text/latex": [
       "$\\displaystyle 0$"
      ],
      "text/plain": [
       "0"
      ]
     },
     "execution_count": 10,
     "metadata": {},
     "output_type": "execute_result"
    }
   ],
   "source": [
    "gdotexp_check = simplify(\n",
    "    difftotal(gexp.subs(r, h**2 / mu / (1 + e * cos(nu))), t, diffmap).subs(\n",
    "        nud, nudexp\n",
    "    )\n",
    ")\n",
    "gdotexp - gdotexp_check"
   ]
  },
  {
   "cell_type": "markdown",
   "id": "482779ca-0494-4a54-b4c2-5fe4d5a45133",
   "metadata": {},
   "source": [
    "Let's summarize.  The derived $\\dot g$ expression has the same basic form as the $f$ expression (except for having a lone $\\cos(\\nu_0)$ terms instead of $\\cos(\\nu))$, and so the exact same substitutions can be made.  For the $\\dot f$ expression, we can perform a few additional substitutions (and once again take advantage of the [half-angle tangent relationships](<15-Keplers Time Equation.ipynb#half-angle-tan>)) to get it in more of a standard form (i.e., one matching forms found throughout the literature).  Summarizing, we have:\n",
    "\n",
    "<div class=\"alert alert-block alert-info\" id=\"f-and-g-nu\">\n",
    "    $$f = 1 - \\frac{r}{\\ell}\\left(1 - \\cos(\\Delta\\nu)\\right) $$\n",
    "    $$g = \\frac{r_{0} r \\sin{\\left(\\Delta\\nu\\right)}}{\\sqrt{\\mu \\ell}}$$\n",
    "    $$\\dot f = \\sqrt{\\dfrac{\\mu}{\\ell}}\\tan\\left(\\dfrac{\\Delta \\nu}{2}\\right)\\left(\\dfrac{1 - \\cos(\\Delta\\nu)}{\\ell} - \\dfrac{1}{r_0} - \\dfrac{1}{r}\\right) $$\n",
    "    $$\\dot g = 1 - \\dfrac{r_0}{\\ell}\\left(1 - \\cos(\\Delta \\nu)\\right) $$\n",
    "</div>\n",
    "\n",
    "<div class=\"alert alert-block alert-warning\">\n",
    "<b>Exercise</b><br> Verify!\n",
    "</div>"
   ]
  },
  {
   "cell_type": "markdown",
   "id": "308c3fc7-9f12-4012-9b7d-749cd09cc0b2",
   "metadata": {},
   "source": [
    "## f and g Functions in Eccentric and Hyperbolic Anomaly\n",
    "\n",
    "We can also derive forms for $f$ and $g$ as functions functions of the eccentric anomaly:"
   ]
  },
  {
   "cell_type": "code",
   "execution_count": 11,
   "id": "084230d2-bce9-4fdb-89b2-6793282dc55c",
   "metadata": {},
   "outputs": [
    {
     "data": {
      "image/png": "[encoded data removed]",
      "text/latex": [
       "$\\displaystyle \\frac{a \\left(- e \\cos{\\left(E_{0} \\right)} + \\cos{\\left(E - E_{0} \\right)}\\right)}{r_{0}}$"
      ],
      "text/plain": [
       "a⋅(-e⋅cos(E₀) + cos(E - E₀))\n",
       "────────────────────────────\n",
       "             r₀             "
      ]
     },
     "execution_count": 11,
     "metadata": {},
     "output_type": "execute_result"
    }
   ],
   "source": [
    "# generate perifocal frame components of all initial and final orbital states\n",
    "# as functions of eccentric anomaly\n",
    "a = symbols(\"a\", real=True, positive=True)\n",
    "E, E0 = symbols(\"E, E_0\", real=True)\n",
    "r0vec = a * Matrix([cos(E0) - e, sqrt(1 - e**2) * sin(E0), 0])\n",
    "rvec = a * Matrix([cos(E) - e, sqrt(1 - e**2) * sin(E), 0])\n",
    "v0vec = (\n",
    "    a**2 * sqrt(mu / a**3) / r0 * Matrix([-sin(E0), sqrt(1 - e**2) * cos(E0), 0])\n",
    ")\n",
    "vvec = a**2 * sqrt(mu / a**3) / r * Matrix([-sin(E), sqrt(1 - e**2) * cos(E), 0])\n",
    "fhvec = rvec.cross(v0vec)\n",
    "fexp2 = simplify(fhvec[2] / sqrt(mu * a * (1 - e**2)))  # h = sqrt(mu*a*(1-e**2))\n",
    "fexp2"
   ]
  },
  {
   "cell_type": "markdown",
   "id": "a5377a6c-17ce-4594-8c1d-f1168e6d88a2",
   "metadata": {},
   "source": [
    "[Recalling](<15-Keplers Time Equation.ipynb#Kepler's-Time-Equation>) that $r = a(1 - e\\cos(E))$, we have:\n",
    "$$f = \\frac{a\\cos{\\left(E - E_{0} \\right)}}{r_{0}} + \\underbrace{\\frac{-ae\\cos(E_0)}{r_0}}_{\\displaystyle \\equiv \\frac{r_0 - a}{r_0}} = 1 - \\frac{a}{r_0}\\left(1 - \\cos(\\Delta{E})\\right)$$\n",
    "where $\\Delta{E} \\triangleq E - E_0$.\n",
    "\n",
    "For $g$ we have:"
   ]
  },
  {
   "cell_type": "code",
   "execution_count": 12,
   "id": "a36cdcd0-77c2-432a-9d0b-05efa495ab8f",
   "metadata": {},
   "outputs": [
    {
     "data": {
      "image/png": "[encoded data removed]",
      "text/latex": [
       "$\\displaystyle \\frac{a^{\\frac{3}{2}} \\left(- e \\sin{\\left(E \\right)} + e \\sin{\\left(E_{0} \\right)} + \\sin{\\left(E - E_{0} \\right)}\\right)}{\\sqrt{\\mu}}$"
      ],
      "text/plain": [
       " 3/2                                      \n",
       "a   ⋅(-e⋅sin(E) + e⋅sin(E₀) + sin(E - E₀))\n",
       "──────────────────────────────────────────\n",
       "                    √μ                    "
      ]
     },
     "execution_count": 12,
     "metadata": {},
     "output_type": "execute_result"
    }
   ],
   "source": [
    "gexp2 = simplify(r0vec.cross(rvec)[2] / sqrt(mu * a * (1 - e**2)))\n",
    "gexp2"
   ]
  },
  {
   "cell_type": "markdown",
   "id": "9ccef3cc-9264-4d1e-9152-49a1f3b6e3cb",
   "metadata": {},
   "source": [
    "Recalling Kepler's time equation, $-e\\sin(E) = n(t - t_p) - E$, and since $\\sqrt{a^3/\\mu} = n^{-1}$, we have:\n",
    "$$ g = \\frac{1}{n}\\left(n(t-t_p) - E -n(t_0 - t_p) + E_0 + \\sin(E - E_0)\\right) = \\Delta{t} - \\frac{\\Delta{E} - \\sin(\\Delta{E})}{n}$$\n",
    "\n",
    "And the derivatives:"
   ]
  },
  {
   "cell_type": "code",
   "execution_count": 13,
   "id": "f40b2b90-f3db-4d53-8f7d-407c30e4e62d",
   "metadata": {},
   "outputs": [
    {
     "data": {
      "image/png": "[encoded data removed]",
      "text/latex": [
       "$\\displaystyle \\left( - \\frac{\\sqrt{a} \\sqrt{\\mu} \\sin{\\left(E - E_{0} \\right)}}{r r_{0}}, \\  \\frac{a \\left(- e \\cos{\\left(E \\right)} + \\cos{\\left(E - E_{0} \\right)}\\right)}{r}\\right)$"
      ],
      "text/plain": [
       "⎛-√a⋅√μ⋅sin(E - E₀)   a⋅(-e⋅cos(E) + cos(E - E₀))⎞\n",
       "⎜───────────────────, ───────────────────────────⎟\n",
       "⎝        r⋅r₀                      r             ⎠"
      ]
     },
     "execution_count": 13,
     "metadata": {},
     "output_type": "execute_result"
    }
   ],
   "source": [
    "fdotexp2 = simplify((vvec.cross(v0vec))[2] / sqrt(mu * a * (1 - e**2)))\n",
    "gdotexp2 = simplify(r0vec.cross(vvec)[2] / sqrt(mu * a * (1 - e**2)))\n",
    "fdotexp2, gdotexp2"
   ]
  },
  {
   "cell_type": "markdown",
   "id": "541ea7ca-6fe1-40fa-8eb6-dc2e7b4415f2",
   "metadata": {},
   "source": [
    "Another quick round of verifications:"
   ]
  },
  {
   "cell_type": "code",
   "execution_count": 14,
   "id": "807100bb-7f8e-43ee-9154-63e79b49b97c",
   "metadata": {},
   "outputs": [
    {
     "data": {
      "image/png": "[encoded data removed]",
      "text/latex": [
       "$\\displaystyle 1$"
      ],
      "text/plain": [
       "1"
      ]
     },
     "execution_count": 14,
     "metadata": {},
     "output_type": "execute_result"
    }
   ],
   "source": [
    "simplify(\n",
    "    (fexp2 * gdotexp2 - gexp2 * fdotexp2)\n",
    "    .subs(r0, a * (1 - e * cos(E0)))\n",
    "    .subs(r, a * (1 - e * cos(E)))\n",
    ")"
   ]
  },
  {
   "cell_type": "code",
   "execution_count": 15,
   "id": "31fbd057-add3-4981-8b73-96b15d6b168e",
   "metadata": {},
   "outputs": [
    {
     "data": {
      "image/png": "[encoded data removed]",
      "text/latex": [
       "$\\displaystyle 0$"
      ],
      "text/plain": [
       "0"
      ]
     },
     "execution_count": 15,
     "metadata": {},
     "output_type": "execute_result"
    }
   ],
   "source": [
    "Ed = symbols(\"Edot\", real=True)\n",
    "diffmap = {E: Ed}\n",
    "Edexp = sqrt(mu / a**3) / (1 - e * cos(E))\n",
    "fdotexp2_check = simplify(difftotal(fexp2, t, diffmap).subs(Ed, Edexp))\n",
    "simplify(fdotexp2_check - fdotexp2.subs(r, a * (1 - e * cos(E))))"
   ]
  },
  {
   "cell_type": "code",
   "execution_count": 16,
   "id": "9986ad83-7fbc-4e8d-bfc6-c54ff42e1db7",
   "metadata": {},
   "outputs": [
    {
     "data": {
      "image/png": "[encoded data removed]",
      "text/latex": [
       "$\\displaystyle 0$"
      ],
      "text/plain": [
       "0"
      ]
     },
     "execution_count": 16,
     "metadata": {},
     "output_type": "execute_result"
    }
   ],
   "source": [
    "gdotexp2_check = simplify(difftotal(gexp2, t, diffmap).subs(Ed, Edexp))\n",
    "simplify(gdotexp2_check - gdotexp2.subs(r, a * (1 - e * cos(E))))"
   ]
  },
  {
   "cell_type": "markdown",
   "id": "914306b3-7a0f-4125-91c5-e29156b59c06",
   "metadata": {},
   "source": [
    "Fantastic!  To summarize:\n",
    "\n",
    "<div class=\"alert alert-block alert-info\" id=\"f-and-g-E\">\n",
    "    $$f = \\frac{a}{r_0}\\left(\\cos(\\Delta E) - 1\\right) + 1$$\n",
    "    $$g = \\frac{1}{n} \\left(\\sin(\\Delta E) - \\Delta E\\right) + \\Delta t $$\n",
    "    $$\\dot f = -\\dfrac{\\sqrt{\\mu a}}{rr_0}\\sin(\\Delta E) $$\n",
    "    $$\\dot g = \\dfrac{a}{r}\\left(\\cos(\\Delta E) - 1\\right) + 1 $$\n",
    "</div>\n",
    "\n",
    "Recalling the strong correspondence between the eccentric and hyperbolic anomaly equations, we can write the $f$ and $g$ functions for hyperbolic anomaly by inspection as:\n",
    "\n",
    "<div class=\"alert alert-block alert-info\">\n",
    "    $$f = \\frac{a}{r_0}\\left(\\cosh(\\Delta H) - 1\\right) + 1$$\n",
    "    $$g = \\frac{1}{n_h} \\left(\\Delta H - \\sinh(\\Delta H) \\right) + \\Delta t $$\n",
    "    $$\\dot f = -\\dfrac{\\sqrt{-\\mu a}}{rr_0}\\sinh(\\Delta H) $$\n",
    "    $$\\dot g = \\dfrac{a}{r}\\left(\\cosh(\\Delta H) - 1\\right) + 1 $$\n",
    "</div>"
   ]
  },
  {
   "cell_type": "markdown",
   "id": "36872810-ed1d-4dda-8dcd-13d194d0cb19",
   "metadata": {},
   "source": [
    "## f and g Functions in Parabolic Anomaly\n",
    "\n",
    "Just to show off, let's see if we can knock out the parabolic versions.  Leveraging our [previous work](<17-Open Orbit Propagation.ipynb#Perifocal-Frame-Components-as-Functions-of-Parabolic-Anomaly>):"
   ]
  },
  {
   "cell_type": "code",
   "execution_count": 17,
   "id": "5f665f78-93e0-434b-bed4-cf807f99d528",
   "metadata": {},
   "outputs": [
    {
     "data": {
      "image/png": "[encoded data removed]",
      "text/latex": [
       "$\\displaystyle \\left( \\frac{- B^{2} + 2 B B_{0} + 1}{B_{0}^{2} + 1}, \\  \\frac{\\ell^{\\frac{3}{2}} \\left(- B \\left(B_{0}^{2} - 1\\right) + B_{0} \\left(B^{2} - 1\\right)\\right)}{2 \\sqrt{\\mu}}, \\  \\frac{\\sqrt{\\ell} \\sqrt{\\mu} \\left(- B + B_{0}\\right)}{r r_{0}}, \\  \\frac{\\ell \\left(2 B B_{0} - B_{0}^{2} + 1\\right)}{2 r}\\right)$"
      ],
      "text/plain": [
       "⎛   2                  3/2 ⎛    ⎛  2    ⎞      ⎛ 2    ⎞⎞    _____                   ⎛           2    ⎞⎞\n",
       "⎜- B  + 2⋅B⋅B₀ + 1  ell   ⋅⎝- B⋅⎝B₀  - 1⎠ + B₀⋅⎝B  - 1⎠⎠  ╲╱ ell ⋅√μ⋅(-B + B₀)  ell⋅⎝2⋅B⋅B₀ - B₀  + 1⎠⎟\n",
       "⎜─────────────────, ────────────────────────────────────, ────────────────────, ──────────────────────⎟\n",
       "⎜       2                           2⋅√μ                          r⋅r₀                   2⋅r          ⎟\n",
       "⎝     B₀  + 1                                                                                         ⎠"
      ]
     },
     "execution_count": 17,
     "metadata": {},
     "output_type": "execute_result"
    }
   ],
   "source": [
    "B, B0, Bd = symbols(\"B, B_0, Bdot\", real=True)\n",
    "r0vec = l * Matrix([(1 - B0**2) / 2, B0, 0])\n",
    "rvec = l * Matrix([(1 - B**2) / 2, B, 0])\n",
    "v0vec = sqrt(mu * l) / r0 * Matrix([-B0, 1, 0])\n",
    "vvec = sqrt(mu * l) / r * Matrix([-B, 1, 0])\n",
    "fhvec = rvec.cross(v0vec)\n",
    "fexp3 = simplify(\n",
    "    (fhvec[2] / sqrt(mu * l)).subs(r0, l / 2 * (1 + B0**2))\n",
    ")  # h = sqrt(mu*l)\n",
    "gexp3 = simplify(r0vec.cross(rvec)[2] / sqrt(mu * l))\n",
    "fdotexp3 = simplify((vvec.cross(v0vec))[2] / sqrt(mu * l))\n",
    "gdotexp3 = simplify(r0vec.cross(vvec)[2] / sqrt(mu * l))\n",
    "\n",
    "fexp3, gexp3, fdotexp3, gdotexp3"
   ]
  },
  {
   "cell_type": "markdown",
   "id": "763e999b-4c85-4078-9d5c-d557b4a78faa",
   "metadata": {},
   "source": [
    "<div class=\"alert alert-block alert-warning\">\n",
    "<b>Exercise</b><br> Verify that the constraint expression and direct integration of $f$ and $g$ all work out in the parabolic anomaly case.\n",
    "</div>"
   ]
  },
  {
   "cell_type": "code",
   "execution_count": 18,
   "id": "e98eef5e-0048-4e7f-812a-0b49dbb773b8",
   "metadata": {},
   "outputs": [],
   "source": [
    "# Exercise!"
   ]
  },
  {
   "cell_type": "markdown",
   "id": "a28b2f9d-badd-4b79-a242-74d504aaf6d7",
   "metadata": {},
   "source": [
    "# The Kepler State Transition Matrix\n",
    "\n",
    "More in the way of convenient bookkeeping rather than introducing a new concept, we note that the $f$ and $g$ expressions give us a linear transformation in the state vectors.  If we define the orbital state:\n",
    "$$\\mf z \\triangleq \\begin{bmatrix} \\mf r \\\\ \\mf v \\end{bmatrix}$$\n",
    "then we can write:\n",
    "$$ \\mf z(t + \\Delta t) = \\underbrace{\\left.\\begin{bmatrix} f & g \\\\ \\dot f& \\dot g \\end{bmatrix}\\right|_{(t, \\Delta t)}}_{\\displaystyle \\triangleq \\Phi(t,\\Delta t) }\\mf z(t)$$"
   ]
  },
  {
   "cell_type": "markdown",
   "id": "88c1d89f-76a6-4b56-85e6-fb0f434ca2b4",
   "metadata": {},
   "source": [
    "where $\\Phi$ is known as the **Kepler State Transition Matrix**. While very convenient from a notational standpoint, the utility of this form is fairly limited, as the matrix must be recomputed for every new value of $t$ and $\\Delta t$, which requires solving for $\\Delta \\nu$ (or equivalently $\\Delta E$ or the change in any of the other anomalies, as appropriate), meaning that we have to do all of the numerical iteration work we've previously explored. Nevertheless, there are certain situations where the formalism of $f$ and $g$ functions can be incredibly helpful, and we will be returning to them periodically in the future. "
   ]
  },
  {
   "cell_type": "code",
   "execution_count": 19,
   "id": "77b04e33-0cc2-485e-8653-f090c6c6298a",
   "metadata": {},
   "outputs": [
    {
     "data": {
      "text/markdown": [
       "# [Next](<20-Series Solutions for f and g.ipynb>)"
      ],
      "text/plain": [
       "<IPython.core.display.Markdown object>"
      ]
     },
     "metadata": {},
     "output_type": "display_data"
    }
   ],
   "source": [
    "# This is just here to generate the link to the next notebook\n",
    "genNextLink()"
   ]
  }
 ],
 "metadata": {
  "kernelspec": {
   "display_name": "Python 3 (ipykernel)",
   "language": "python",
   "name": "python3"
  },
  "language_info": {
   "codemirror_mode": {
    "name": "ipython",
    "version": 3
   },
   "file_extension": ".py",
   "mimetype": "text/x-python",
   "name": "python",
   "nbconvert_exporter": "python",
   "pygments_lexer": "ipython3",
   "version": "3.9.13"
  }
 },
 "nbformat": 4,
 "nbformat_minor": 5
}
