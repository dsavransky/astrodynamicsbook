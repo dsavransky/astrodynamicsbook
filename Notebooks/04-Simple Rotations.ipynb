{
 "cells": [
  {
   "cell_type": "code",
   "execution_count": 1,
   "id": "66308fac-c976-402c-b709-a324616cee08",
   "metadata": {},
   "outputs": [
    {
     "data": {
      "text/markdown": [
       "$\n",
       "\\def\\bs{\\boldsymbol}\n",
       "\\def\\mf{\\mathbf}\n",
       "\\def\\mb{\\mathbb}\n",
       "\\def\\mc{\\mathcal}\n",
       "\\def\\rfr{\\mathcal}\n",
       "\\def\\grad{{\\rm grad}}\n",
       "\\def\\Re{{\\rm Re}}\n",
       "\\def\\Im{{\\rm Im}}\n",
       "\\def\\und{\\underline}\n",
       "\\def\\ovl{\\overline}\n",
       "\\def\\unb{\\underbrace}\n",
       "\\def\\Log{\\mbox{Log}}\n",
       "\\def\\bfomega{\\bs \\omega}\n",
       "\\def\\bfalpha{\\bs \\alpha}\n",
       "\\def\\da{\\triangleq}\n",
       "\\newcommand{\\leftexp}[2]{{\\vphantom{#2}}^{#1}\\!{#2}}\n",
       "\\newcommand{\\leftsub}[2]{{\\vphantom{#2}}_{#1}\\!{#2}}\n",
       "\\newcommand{\\omegarot}[2]{{\\leftexp{\\mathcal{#1}}{\\boldsymbol{\\omega}}^{\\mathcal{#2}}}}\n",
       "\\newcommand{\\alpharot}[2]{{\\leftexp{\\mathcal{#1}}{\\boldsymbol{\\alpha}}^{\\mathcal{#2}}}}\n",
       "\\newcommand{\\framerot}[2]{{\\leftexp{\\mathcal{#1}}{C}^{\\mathcal{#2}}}}\n",
       "\\newcommand{\\dframerot}[2]{\\ensuremath{\\vphantom{C}^{\\mathcal{#1}}\\!{\\dot C^{\\mathcal{#2}}}}}\n",
       "\\newcommand{\\bdot}[1]{\\dot{\\mathbf{#1}}}\n",
       "\\newcommand{\\bhat}[1]{\\hat{\\mathbf{#1}}}\n",
       "\\newcommand{\\mbhat}[1]{\\hat{\\mathbb{#1}}}\n",
       "\\def\\iwb{\\omegarot{I}{B}}\n",
       "\\def\\iab{\\alpharot{I}{B}}\n",
       "\\def\\icb{\\framerot{I}{B}}\n",
       "\\def\\dif{\\mathop{}\\!\\mathrm{d}}\n",
       "\\newcommand{\\intd}[1]{\\dif#1}\n",
       "\\newcommand{\\od}[3][]{{ \\frac{\\dif{^{#1}}#2}{\\dif{#3^{#1}}} }}\t\t\t\n",
       "\\newcommand{\\pd}[3][]{{ \\frac{\\partial{^{#1}}#2}{\\partial{#3^{#1}}} }}\t \n",
       "\\newcommand{\\md}[6]{{  \\frac{\\partial{^{#2}}#1}{\\partial{#3^{#4}}\\partial{#5^{#6}}} }}\n",
       "\\newcommand{\\fddt}[2][]{{  \\leftexp{\\mathcal{#2}}{\\frac{\\dif{#1}}{\\dif{t}}}  }}\n",
       "\\newcommand{\\fdddt}[2][]{{  \\leftexp{\\mathcal{#2}}{\\frac{\\dif{^{2}#1}}{\\dif{t^2}}}  }}\n",
       "\\newcommand{\\ddt}[1][]{\\fddt[#1]{I}}\n",
       "$\n"
      ],
      "text/plain": [
       "<IPython.core.display.Markdown object>"
      ]
     },
     "metadata": {},
     "output_type": "display_data"
    },
    {
     "data": {
      "text/markdown": [
       "# [Previous](<03-Tensors.ipynb>)"
      ],
      "text/plain": [
       "<IPython.core.display.Markdown object>"
      ]
     },
     "metadata": {},
     "output_type": "display_data"
    }
   ],
   "source": [
    "# These are helpful routines that will assist in building this book. \n",
    "# You should run this block before anything else. There is no output expected.\n",
    "from astrodynamicsbook.bookhelpers import *\n",
    "loadLatexPreamble()\n",
    "\n",
    "# This is only here to create the navigation link:\n",
    "genPrevLink()"
   ]
  },
  {
   "cell_type": "markdown",
   "id": "f6aaefe2-6b1b-45d9-8fc2-8cd08e055e47",
   "metadata": {},
   "source": [
    "# Simple Rotations\n",
    "\n",
    "We've loaded up on a *lot* of mathematical formalism, so let's try to bring ourselves back (slightly) to the physical realm, and think about how all of this is going to help us interpret the physics encoded by Newton's laws.  We've established that these laws encode vector quantities, but also that they deal with *changes* in those quantities (remember: the second law is about \"the alteration of motion\").  We know from a mathematical standpoint that the scalar multiplication operator allows us to change the magnitude of a vector without changing its direction.  There is a ready, intuitive, interpretation for what is happening here - we are scaling the size of our vector, either moving the points the vector joins in space further apart or closer together.  However, what can we say about the change in a vector's direction?  Let's try to look at the geometry of a rotation operation: changing the direction of a vector in space without altering its magnitude.  We will call this type of motion a **simple rotation**.\n",
    "\n",
    "## Axis-Angle Representation of Simple Rotations\n",
    "<p style=\"text-align:center;\"><img src=\"img/simple_rotation2b.png\" alt=\"Simple Rotation\" width=\"600\" id=\"fig:simprot1\"/></p>\n",
    "\n",
    "Consider the setup in the  <a href=\"#fig:simprot1\" >figure</a>, above. We have two vectors $\\mf a$ and $\\mf b$, of equal magnitude, whose projections onto the shaded plane are separated by an angle $\\theta$.  The direction $\\bhat{n}$ is orthogonal to the plane, and is special, because it is the *only* direction in which the components of $\\mf a$ and $\\mf b$ are equal.  That is, we are positing that there exists a unit vector $\\bhat n$ such that $\\bhat n \\cdot \\mf b \\equiv \\bhat n \\cdot \\mf a$, and further that this vector is unique for the assumed geometry. $\\bhat{n}$ is known as the **axis of rotation** while $\\theta$ is the **angle of rotation** and jointly, they form the **axis-angle** representation of a simple rotation.\n",
    "\n",
    "## The Rodrigues Equation\n",
    "\n",
    "We would like to describe the relationship between the $\\mf a$ and $\\mf b$ vectors, which will hopefully allow us to derive a rotation operator that we can apply in general.   We start by decomposing the two vectors into components in the $\\bhat n$ direction and the plane orthogonal to $\\bhat n$, as shown in the <a href=\"#fig:simprot1\" >figure</a>.  The projection of each vector into the $\\bhat{n}$ direction is given by $(\\mf a \\cdot \\bhat{n})\\bhat{n}$ and $(\\mf b \\cdot \\bhat{n})\\bhat{n}$.  Remember that we have specifically selected $\\bhat{n}$ such that these two quantities are identical. The remainder of each vector (the parts that lie in the shaded plane) can be found by subtracting these projections from the original vector.   Thus, what we are doing is writing:\n",
    "$$\\mf a = (\\mf a \\cdot \\bhat{n})\\bhat{n} + \\left(\\mf a - (\\mf a \\cdot \\bhat{n})\\bhat{n}\\right) \\\\\n",
    "\\mf b = (\\mf b \\cdot \\bhat{n})\\bhat{n} + \\left(\\mf b - (\\mf b \\cdot \\bhat{n})\\bhat{n}\\right)  = (\\mf a \\cdot \\bhat{n})\\bhat{n} + \\left(\\mf b - (\\mf a \\cdot \\bhat{n})\\bhat{n}\\right)$$\n",
    "where in the final line, we have applied our assumption that $(\\mf a \\cdot \\bhat{n})\\bhat{n} \\equiv (\\mf b \\cdot \\bhat{n})\\bhat{n}$.  Since nothing of interest is happening in the $\\bhat{n}$ direction, let's ignore it for now and just focus on the plane orthogonal to $\\bhat{n}$:\n",
    "\n",
    "<p style=\"text-align:center;\"><img src=\"img/simple_rotation3b.png\" alt=\"Plane orthogonal to simple rotation axis\" width=\"300\" id=\"fig:simprot2\"/></p>\n",
    "\n",
    "Let's get oriented in this new  <a href=\"#fig:simprot2\" >figure</a>. The shaded plane is exactly the same as in the preceding  <a href=\"#fig:simprot1\" >figure</a>. The horizontal line is the component of the original $\\mf a$ vector that lies in the plane orthogonal to $\\bhat{n}$.  The diagonal line is the component of the original $\\mf b$ vector that lies in this plane.  By our system definition, the angle between these two vectors is $\\theta$.  Finally, we are going to add a new thing (the vertical line) to represent the direction (still in the same plane) that is orthogonal to the $\\mf a$ component in the plane.  We do so by taking advantage of the properties of cross products, and crossing the $\\mf a$ in-plane component with $\\bhat{n}$, which we know to be orthogonal to the plane.\n",
    "\n",
    "\n",
    "<div class=\"alert alert-block alert-warning\">\n",
    "<b>Exercise</b><br> Convince yourself that $$\\left(\\mf a - (\\mf a \\cdot \\bhat{n})\\bhat{n}\\right), \\bhat{n} \\times \\left(\\mf a - (\\mf a \\cdot \\bhat{n})\\bhat{n}\\right), \\bhat{n}$$\n",
    "   are mutually orthogonal, and furthermore form a right-handed set, in the order given (i.e., akin to a reference frame, but with some non-unit magnitudes).\n",
    "</div>\n",
    "\n",
    "Our reason for defining this direction that is orthogonal to the projected part of $\\mf a$ is that we can now decompose the projection of $\\mf b$ into two independent components.  We can either work out the relevant dot products to do this, or, by inspection, rely on our knowledge of trigonometry and right triangles to write:\n",
    "$$\\mf b - (\\mf a \\cdot \\bhat{n})\\bhat{n} = \\cos\\theta\\left(\\mf a - (\\mf a \\cdot \\bhat{n})\\bhat{n}\\right) + \\sin\\theta \\left(\\bhat{n} \\times \\left(\\mf a - (\\mf a \\cdot \\bhat{n})\\bhat{n}\\right)\\right) $$\n",
    "\n",
    "<div class=\"alert alert-block alert-danger\">\n",
    "Do not proceed until you agree with this equation.  Remember that we posited that $\\mf a$ and $\\mf b$ have equal magnitudes.  Seriously.  Just stop and stare at this for a while until you're 100% comfortable with it.\n",
    "</div>\n",
    "\n",
    "We're going to take advantage of the fact that both scalar multiplication and the dot product are commutative, so every $(\\mf a \\cdot \\bhat{n})\\bhat{n}$ term is equivalent to $\\bhat{n}(\\bhat{n}\\cdot \\mf a)$, and look more closely at the final term multiplying $\\sin\\theta$.  Remember that the cross product is distributive over vector addition, so we can write: \n",
    "$$\\bhat{n} \\times \\left(\\mf a - \\bhat{n}(\\bhat{n}\\cdot \\mf a)\\right) = \\bhat{n} \\times \\mf a  - \\bhat{n} \\times \\bhat{n}(\\bhat{n}\\cdot \\mf a) =  \\bhat{n} \\times \\mf a  $$\n",
    "where the final simplification comes from the fact that the last term in the penultimate expression contain $\\bhat{n} \\times \\bhat{n}$, which is zero.\n",
    "\n",
    "With these substitutions and simplifications, let's rewrite this expression to isolate $\\mf b$ on the left-hand side (poor, lonely $\\mf b$ - don't worry, we'll get you some new friends soon). We're also going to take advantage of the commutative nature of scalar multiplication to re-order some of the terms.  When the smoke clears, we have:\n",
    "$$\\mf b = \\cos\\theta \\mf a + (1 - \\cos\\theta)\\bhat{n}(\\bhat{n}\\cdot \\mf a) + \\sin\\theta \\bhat{n} \\times \\mf a$$\n",
    "\n",
    "Why have we done any of this?  Well, if you squint hard enough at this expression, you might note that every term contains a factor of $\\mf a$.  We started down this road with the hope of getting some new insight into the relationship between $\\mf b$ and $\\mf a$, and now we seem tantalizingly close, with $\\mf b$ isolated to one side, and the other side being heavily populated by $\\mf a$ values. The question is, can we factor out the $\\mf a$ instances on the right-hand side?  Turns out, yes, we absolutely can, again leveraging the fact that the dot product is distributive over every relevant operator here.  Here's how it goes:\n",
    "$$\\mf b = \\cos\\theta \\underbrace{\\mf a}_{\\displaystyle \\mb U \\cdot \\mf a} + (1 - \\cos\\theta)\\underbrace{\\bhat{n}(\\bhat{n}\\cdot \\mf a)}_{\\displaystyle (\\bhat{n}\\otimes\\bhat{n})\\cdot \\mf a} + \\sin\\theta \\underbrace{\\bhat{n} \\times \\mf a}_{\\displaystyle \\mbhat{n}_\\times \\cdot \\mf a}$$\n",
    "\n",
    "The first substitution is definitional - the identity element $\\mb U$, when dotted with any vector returns the same vector.  The second substitution stems from our previous exploration of vector-dyadic dot products, and we have already verified an expression of this exact form.  Finally, the third substitution relates to our previous discussion on how any vector cross product can be represented by a dyadic-vector dot product via the introduction of the dyadic whose components are the cross-product equivalent matrix.  Basic message: we did the hard work already, and are now reaping the fruits of that labor. \n",
    "\n",
    "And what is it, exactly, that we are reaping here?  Well, we can now go ahead and factor out that $\\cdot \\mf a$ term from all three parts of the right-hand side of our equation, to find the **Rodrigues equation** (or Rodrigues's rotation formula), named after French banker, mathematician, social crusader, and coiner of the term avant-garde (in its modern artistic usage), Olinde Rodrigues: \n",
    "\n",
    "<div class=\"alert alert-block alert-info\">\n",
    "$$ \\mf b = \\left(\\cos\\theta \\mb U  +  (1 - \\cos\\theta)\\bhat{n}\\otimes\\bhat{n} + \\sin\\theta \\mbhat n_\\times \\right) \\cdot \\mf a $$\n",
    "</div>\n",
    "\n",
    "## The Rotation Dyadic\n",
    "So what have we learned here? The whole expression on the right-hand side of the Rodrigues equation being dotted with $\\mf a$ is itself a dyadic (every individual term is a dyadic, and the sum of dyadics is a dyadic).  We can make it explicit by defining it:\n",
    "$$\\mb R \\triangleq \\cos\\theta \\mb U  +  (1 - \\cos\\theta)\\bhat{n}\\otimes\\bhat{n} + \\sin\\theta \\mbhat n_\\times$$\n",
    "which means that $\\mf b = \\mb R \\cdot \\mf a$.  This is exactly what we wanted.  There exists a single operator, which we will call the **rotation dyadic** ($\\mb R$), which is defined solely in terms of the axis and angle of a rotation, that exactly transforms a vector $\\mf a$ into a vector $\\mf b$, rotated about axis $\\bhat{n}$ by a counter-clockwise angle $\\theta$, while preserving the vector's magnitude.\n",
    "\n",
    "It is difficult to overstate the importance of what we have just found.  The existence of the rotation dyadic is fundamentally key to essentially all of our future explorations, but, on its own, it has not quite yet demonstrated its full utility.  To see that, we're going to have to introduce some reference frames and look at the component representation of this tensor quantity."
   ]
  },
  {
   "cell_type": "markdown",
   "id": "c39e964a-1c1b-4693-859e-c1a998a3b5d2",
   "metadata": {},
   "source": [
    "# Reference Frame Rotation \n",
    "\n",
    "We derived the rotation dyadic simply by positing a vector $\\mf a$ being rotated into a vector $\\mf b$.  Along the way, we provided ourselves with a working definition of rotation: that there existed some axis $\\bhat{n}$, in the direction of which $\\mf a$ and $\\mf b$ retained the exact same component, while all of the change occurred in the plane orthogonal to $\\bhat{n}$, in which the projections of the two vectors were separated by an angle $\\theta$.  Following our right-hand rule convention, we also posited that $\\theta$ was defined to be positive in the counter-clockwise direction. \n",
    "\n",
    "<div class=\"alert alert-block alert-danger\">\n",
    "The concept of counter-clockwise can be tricky.  Remember: we think about this in the context of the right-hand rule, and so our vantage point is looking <i>down</i> the axis of rotation.  So, in your mind, orient the plane orthogonal to $\\bhat{n}$ such that the $\\bhat{n}$ vector is pointing straight at you.  The plane is now the face of a clock, and counter-clockwise is explicitly defined in this orientation. \n",
    "</div>\n",
    "\n",
    "<p style=\"text-align:center;\"><img src=\"img/simple_rotation_b.png\" alt=\"Simple rotation with reference frames\" width=\"800\" id=\"fig:simprot3\"/></p>\n",
    "\n",
    "We are going to continue with the mental picture of a vector $\\mf a$ rotating into a vector $\\mf b$ about an axis $\\bhat{n}$, but we are now going to attach a reference frame $\\mc A = (\\bhat{a}_1, \\bhat{a}_2, \\bhat{a}_3)$ to $\\mf a$, and a reference frame $\\mc B = (\\bhat{b}_1, \\bhat{b}_2, \\bhat{b}_3)$ to $\\mf b$.  These two reference frames rotate with their respective vectors, and are exactly aligned (such that $\\bhat{a}_i \\equiv \\bhat{b}_i$) when $\\mf a$ is aligned with $\\mf b$ (i.e., prior to the rotation).  In our new  <a href=\"#fig:simprot3\" >figure</a>, the two dashed lines define the plane orthogonal to the axis of rotation $\\bhat{n}$. \n",
    "We have now effectively extended our concept of simple rotations beyond pairs of vectors to pairs of reference frames.  Remember also that reference frames are identical to rigid bodies (this point is highlighted by the addition of the wireframe box in the <a href=\"#fig:simprot3\" >figure</a>), and so we can equivalently apply simple rotations to bodies, reference frames and vectors.\n",
    "\n",
    "The important thing to remember here is that *every single thing* we said about the geometric relationship between $\\mf a$ and $\\mf b$ equivalently holds for each pair of frame unit vectors $\\bhat{a}_i$ and $\\bhat{b}_i$ (for i = 1,2,3). The first of those important things was: the component of the vector undergoing a simple rotation that lies in the direction of the axis of rotation *does not change*.  So what does that tell us about the components of $\\bhat{n}$ in the $\\mc A$ and $\\mc B$ frames? We can write:\n",
    "$$[\\bhat{n}]_\\mc A = \\begin{bmatrix} \\bhat{n} \\cdot \\bhat{a}_1 \\\\  \\bhat{n} \\cdot \\bhat{a}_2  \\\\ \\bhat{n} \\cdot \\bhat{a}_3 \\end{bmatrix}_\\mc A \\quad \\textrm{and} \\quad [\\bhat{n}]_\\mc B = \\begin{bmatrix} \\bhat{n} \\cdot \\bhat{b}_1 \\\\  \\bhat{n} \\cdot \\bhat{b}_2  \\\\ \\bhat{n} \\cdot \\bhat{b}_3 \\end{bmatrix}_\\mc B $$\n",
    "but $\\bhat{a}_i$ and $\\bhat{b}_i$ are pairs of vectors undergoing a simple rotation about $\\bhat{n}$.  Dotting them with $\\bhat{n}$ is literally \"taking the component in the direction of $\\bhat{n}$\" and so, by our postulated behavior of simple rotations $\\bhat{n} \\cdot \\bhat{a}_i \\equiv \\bhat{n} \\cdot \\bhat{b}_i$ and\n",
    "<div class=\"alert alert-block alert-info\">\n",
    "$$ [\\bhat{n}]_\\mc A \\equiv [\\bhat{n}]_\\mc B$$\n",
    "</div>\n",
    "\n",
    "<div class=\"alert alert-block alert-danger\">\n",
    "    Warning! The rotation axis is the <b>only</b> vector whose components are the same in two different frames. In general, unless frames $\\mc A$ and $\\mc B$ are aligned (equivalent), then for an arbitrary vector $\\mf r$, $[\\mf r]_\\mc A \\ne [\\mf r]_\\mc B$\n",
    "</div>\n",
    "\n",
    "Let's cement this in our minds: when two reference frames are related by a simple rotation about rotation axis $\\bhat{n}$, this unit vector is special because it is the **only** unit direction that has exactly the same components in both frames.  The other way of saying this is that the rotation dyadic has no effect on the rotation axis.  Let's evaluate $\\mb R \\cdot \\bhat{n}$ via the Rodrigues equation:\n",
    "$$\\mb R \\cdot \\bhat{n} = \\left(\\cos\\theta \\mb U  +  (1 - \\cos\\theta)\\bhat{n}\\otimes\\bhat{n} + \\sin\\theta \\mbhat n_\\times\\right) \\cdot \\bhat{n} = \\cos\\theta\\bhat{n} + (1 - \\cos\\theta)\\bhat{n}(\\bhat{n}\\cdot\\bhat{n}) +  \\sin\\theta \\bhat{n} \\times \\bhat{n} = \\bhat{n}$$\n",
    "where we have effectively reversed all of the substitutions applied in deriving the Rodrigues equation in the first place.  The final term or the penultimate expression ($\\bhat{n} \\times \\bhat{n}$) is zero, and so the entire equation simplifies to just $\\bhat{n}$.  Thus, as posited, the rotation dyadic does not change the axis of rotation - it is the only direction in either reference frame that remains unchanged throughout the rotation."
   ]
  },
  {
   "cell_type": "markdown",
   "id": "68a4ea92-09b1-482b-95e1-a5b2974b0b42",
   "metadata": {},
   "source": [
    "# Direction Cosine Matrices\n",
    "\n",
    "Now that we have taken a look at the components of the rotation axis, let's do the same for the rotation dyadic. Remember, in order to get the components of the matrix representation of a dyadic in some reference frame, we have to dot the dyadic twice with each unique pair of frame unit vectors.  That is, we are decomposing $\\mb R$ as: \n",
    "$$ \\mb R = \\sum_{i} \\sum_{j} [R_{\\mc A}]_{ij} \\left(\\bhat a_i \\otimes \\bhat a_j\\right) $$\n",
    "where $[R_{\\mc A}]_{ij}$ represents the $ij$th element of matrix $R_\\mc A$.  Therefore $R_{\\mc A} \\equiv [\\mb R]_\\mc A$ is the matrix of $\\mb R$'s components in frame $\\mc A$, and the elements of this matrix are given by:\n",
    "$$[R_{\\mc A}]_{ij} = \\bhat{a}_i \\cdot \\mb R \\cdot \\bhat{a}_j$$\n",
    "\n",
    "But let's remember the fundamental concept behind the rotation dyadic.  Dotting the rotation dyadic with a vector produces the rotation of that vector encoded by the dyadic.  Based on how we set up frame $\\mc A$ and $\\mc B$, if $\\mb R$ is the dyadic encoding the $\\theta$ rotation about $\\bhat{n}$, then $\\mb R \\cdot \\bhat{a}_j = \\bhat{b}_j$.  Therefore, the elements of the matrix components in frame $\\mc A$ are:\n",
    "$$[R_{\\mc A}]_{ij} = \\bhat{a}_i \\cdot \\bhat{b}_j$$\n",
    "\n",
    "This matrix, sometimes called the **rotation matrix**, encodes each pair of dot products between each pair of unit vectors defining the two frames being operated on by the rotation that the rotation dyadic encodes. As these are unit vectors, their dot products are pure cosine terms in the angle between them, and so this matrix is more formally termed the **direction cosine matrix**, or DCM.\n",
    "\n",
    "Evaluating the entirety of the expression $\\mf b = \\mb R \\cdot \\mb a$ in $\\mc A$ components yields:\n",
    "$$[\\mf b]_\\mc A = [\\mb R \\cdot \\mf a]_\\mc A = R_{\\mc A}[\\mf a]_\\mc A$$\n",
    "\n",
    "Remember, $\\mf b$ is the rotation of $\\mf a$ about $\\bhat{n}$ by an angle $\\theta$ and so the utility of the direction cosine matrix in this case is to give us the vector resulting from the rotation in components of the original frame. \n",
    "\n",
    "Now, rather than dealing with two different vectors, let us consider a single vector, $\\mf r$.  As we have previously established, $\\mf r$ can be represented in components of either frame, $\\mc A$ or $\\mc B$, and these components are generally different in different reference frames.  As we have done previously, we will write:\n",
    "$$[\\mf r]_\\mc A = \\begin{bmatrix} \\mf r \\cdot \\bhat{a}_1\\\\\\mf r \\cdot \\bhat{a}_2 \\\\ \\mf r \\cdot \\bhat{a}_3\\end{bmatrix}_\\mc A \\quad\\textrm{and}\\quad [\\mf r]_\\mc B =  \\begin{bmatrix} \\mf r \\cdot \\bhat{b}_1 \\\\ \\mf r \\cdot \\bhat{b}_2 \\\\ \\mf r \\cdot \\bhat{b}_3 \\end{bmatrix}_\\mc B$$\n",
    "As always, remember that while $[\\mf r]_\\mc A  \\ne [\\mf r]_\\mc B $, together with their respective frame definitions, these matrices are encoding exactly the same vector quantity ($\\mf r$).\n",
    "\n",
    "So let's take a look at what happens when we apply our rotation matrix to the $\\mc B$ frame components of our vector $\\mf r$:\n",
    "$$R_\\mc A [\\mf r]_\\mc B = \\left[\\begin{matrix}(\\mathbf{\\hat{a}}_1\\cdot\\mathbf{\\hat{b}}_1) (\\mathbf{r}\\cdot\\mathbf{\\hat{b}}_1) + (\\mathbf{\\hat{a}}_1\\cdot\\mathbf{\\hat{b}}_2) (\\mathbf{r}\\cdot\\mathbf{\\hat{b}}_2) + (\\mathbf{\\hat{a}}_1\\cdot\\mathbf{\\hat{b}}_3) (\\mathbf{r}\\cdot\\mathbf{\\hat{b}}_3)\\\\(\\mathbf{\\hat{a}}_2\\cdot\\mathbf{\\hat{b}}_1) (\\mathbf{r}\\cdot\\mathbf{\\hat{b}}_1) + (\\mathbf{\\hat{a}}_2\\cdot\\mathbf{\\hat{b}}_2) (\\mathbf{r}\\cdot\\mathbf{\\hat{b}}_2) + (\\mathbf{\\hat{a}}_2\\cdot\\mathbf{\\hat{b}}_3) (\\mathbf{r}\\cdot\\mathbf{\\hat{b}}_3)\\\\(\\mathbf{\\hat{a}}_3\\cdot\\mathbf{\\hat{b}}_1) (\\mathbf{r}\\cdot\\mathbf{\\hat{b}}_1) + (\\mathbf{\\hat{a}}_3\\cdot\\mathbf{\\hat{b}}_2) (\\mathbf{r}\\cdot\\mathbf{\\hat{b}}_2) + (\\mathbf{\\hat{a}}_3\\cdot\\mathbf{\\hat{b}}_3) (\\mathbf{r}\\cdot\\mathbf{\\hat{b}}_3)\\end{matrix}\\right]$$\n",
    "\n",
    "Yikes! Well, that looks awful.  Perhaps it simplifies down a bit?  Let's consider just the first term of the first row of the resulting matrix (as all of them have the same basic form): $(\\mathbf{\\hat{a}}_1\\cdot\\mathbf{\\hat{b}}_1) (\\mathbf{r}\\cdot\\mathbf{\\hat{b}}_1)$.  This is known as a **multilinear form**, and is, due to the nature of the dot product, fully linear in each of the four arguments in the two dot products.  The upshot of this is that we can regroup this statement in pretty much any way that preserves the final scalar output.  For example, we can write:\n",
    "$$(\\mathbf{\\hat{a}}_1\\cdot\\mathbf{\\hat{b}}_1) (\\mathbf{r}\\cdot\\mathbf{\\hat{b}}_1) \\equiv \\bhat a_1 \\cdot \\left((\\bhat b_1 \\cdot \\mf r)\\bhat b_1\\right)$$\n",
    "<div class=\"alert alert-block alert-warning\">\n",
    "<b>Exercise</b><br> Convince yourself that the preceding expression is true.\n",
    "</div>\n",
    "\n",
    "Applying the same re-ordering to the other two terms in the first row, and taking advantage of the commutativity of the dot product and its distributivity over vector addition, the entire first row becomes: $\\left(\\sum_{j=1}^3(\\mf r \\cdot \\bhat b_j)\\bhat b_j\\right) \\cdot \\bhat{a}_1$.  Notice that the summation in that expression is exactly equal to $\\mf r$ itself.  Applying the same reasoning to the full matrix, we find:\n",
    "\n",
    "$$R_\\mc A [\\mf r]_\\mc B = \\begin{bmatrix}  \\mf r \\cdot \\bhat{a}_1\\\\\\mf r \\cdot \\bhat{a}_2 \\\\ \\mf r \\cdot \\bhat{a}_3 \\end{bmatrix} =  [\\mf r]_\\mc A$$\n",
    "\n",
    "Wow.  Just...wow.  This is so cool, in fact, that it merits a renaming of our DCM.  Because this is the true utility of this matrix - the transformation of vector components from one frame to another. So, the thing that we've been calling $R_{\\mc A}$ will henceforth be known as $\\framerot{A}{B}$."
   ]
  },
  {
   "cell_type": "markdown",
   "id": "90aed944-cacb-4cff-9dfa-d19d5a9906fd",
   "metadata": {},
   "source": [
    "<div class=\"alert alert-block alert-info\">\n",
    "The rotation dyadic $\\mb R$ encodes a counter-clockwise rotation (by angle $\\theta$ about rotation axis $\\bhat{n}$) rotating a frame $\\mc A$ into a frame $\\mc B$.  The matrix representation of the dyadic in frame $\\mc A$ components, $\\framerot{A}{B} \\triangleq [\\mb R]_\\mc A$ is called a direction cosine matrix and serves as a general transformation of <b>any</b> vector's components <b>from</b> frame $\\mc B$ <b>to</b> frame $\\mc A$.  That is, for any vector $\\mf r$:\n",
    "    $$[\\mf r]_\\mc A = \\framerot{A}{B} [\\mf r]_\\mc B$$\n",
    "</div>\n",
    "\n",
    "This is incredibly powerful.  We have suddenly gained the ability to easily translate the components of any vector between any pair of frames!  The only thing here that may be hard to wrap your mind around is the apparent disconnect in how we talked about the rotation dyadic and the DCM.  The first is described as encoding a rotation from $\\mc A$ to $\\mc B$, while the second is described as transforming vector components from $\\mc B$ to $\\mc A$.  In fact, there is no contradiction here - we are merely using these two mathematical tools in two different ways.  The dyadic (and its matrix representation, the DCM) do encode a rotation of vectors - that is, they take a vector in $\\mc A$ and rotate it into the equivalent vector in $\\mc B$. The output of this operation is a new vector, with the same magnitude as the original, but a new orientation given by the rotation. The use of the DCM to transform vector components deals with the *same* vector and only transforms its component representation. We will most often be using DCMs in this latter fashion (to transform vector components), and this informs our notation for them.  The superscripts on the DCM should be read from right to left ($\\framerot{A}{B}$ transforms from $\\mc B$ to $\\mc A$) and the DCM is expected to be right-multiplied by the component matrix in the frame of the right superscript."
   ]
  },
  {
   "cell_type": "code",
   "execution_count": 9,
   "id": "ebb55dcd-f94b-4c3c-b726-3d9e7f95e80f",
   "metadata": {},
   "outputs": [
    {
     "data": {
      "image/png": "[encoded data removed]",
      "text/latex": [
       "$\\displaystyle \\mathbf{\\hat{a}}_1 a_{1} + \\mathbf{\\hat{a}}_2 a_{2} + \\mathbf{\\hat{a}}_3 a_{3}$"
      ],
      "text/plain": [
       "\\mathbf{\\hat{a}}₁⋅a₁ + \\mathbf{\\hat{a}}₂⋅a₂ + \\mathbf{\\hat{a}}₃⋅a₃"
      ]
     },
     "execution_count": 9,
     "metadata": {},
     "output_type": "execute_result"
    }
   ],
   "source": [
    "#\n",
    "a1,a2,a3,b1,b2,b3 = symbols(\"a_1,a_2,a_3,b_1,b_2,b_3\")\n",
    "avecs = genRefFrame('a')\n",
    "bvecs = genRefFrame('b')\n",
    "Matrix([a1,a2,a3]).dot(Matrix(avecs))"
   ]
  },
  {
   "cell_type": "code",
   "execution_count": 20,
   "id": "85c72bbc-58a9-474f-b3d4-57e4c580edfc",
   "metadata": {},
   "outputs": [],
   "source": [
    "\n",
    "a = [r\"\\mathbf{\\hat{a}}_\" + str(j) for j in range(1, 4)]\n",
    "b = [r\"\\mathbf{\\hat{b}}_\" + str(j) for j in range(1, 4)]\n",
    "mat = []\n",
    "for i in range(3):\n",
    "    tmp = []\n",
    "    for j in range(3):\n",
    "        tmp.append(r\"({}\\cdot{})\".format(a[i],b[j]))\n",
    "    mat.append(tmp)\n",
    "R_A = Matrix(symbols(mat))"
   ]
  },
  {
   "cell_type": "code",
   "execution_count": 19,
   "id": "330ae825-ab34-4127-9369-c9fde51cfbdc",
   "metadata": {},
   "outputs": [],
   "source": [
    "mat = []\n",
    "for i in range(3):\n",
    "    mat.append(r\"(\\mathbf{{r}}\\cdot{})\".format(b[i]))\n",
    "r_B = Matrix(symbols(mat))"
   ]
  },
  {
   "cell_type": "code",
   "execution_count": 22,
   "id": "c584d8e0-23bf-4971-b86c-d23597b1e9f0",
   "metadata": {},
   "outputs": [
    {
     "data": {
      "text/latex": [
       "$\\displaystyle \\left( \\left[\\begin{matrix}(\\mathbf{\\hat{a}}_1\\cdot\\mathbf{\\hat{b}}_1) & (\\mathbf{\\hat{a}}_1\\cdot\\mathbf{\\hat{b}}_2) & (\\mathbf{\\hat{a}}_1\\cdot\\mathbf{\\hat{b}}_3)\\\\(\\mathbf{\\hat{a}}_2\\cdot\\mathbf{\\hat{b}}_1) & (\\mathbf{\\hat{a}}_2\\cdot\\mathbf{\\hat{b}}_2) & (\\mathbf{\\hat{a}}_2\\cdot\\mathbf{\\hat{b}}_3)\\\\(\\mathbf{\\hat{a}}_3\\cdot\\mathbf{\\hat{b}}_1) & (\\mathbf{\\hat{a}}_3\\cdot\\mathbf{\\hat{b}}_2) & (\\mathbf{\\hat{a}}_3\\cdot\\mathbf{\\hat{b}}_3)\\end{matrix}\\right], \\  \\left[\\begin{matrix}(\\mathbf{r}\\cdot\\mathbf{\\hat{b}}_1)\\\\(\\mathbf{r}\\cdot\\mathbf{\\hat{b}}_2)\\\\(\\mathbf{r}\\cdot\\mathbf{\\hat{b}}_3)\\end{matrix}\\right]\\right)$"
      ],
      "text/plain": [
       "⎛⎡(\\mathbf{\\hat{a}}_1\\cdot\\mathbf{\\hat{b}}_1)  (\\mathbf{\\hat{a}}_1\\cdot\\mathbf{\\hat{b}}_2)  (\\mathbf{\\hat{a}}_1\\cdot\\mathbf{\\hat{b}}_3)⎤  ⎡(\\mathbf{r}\\cdot\\mathbf{\\hat{b}}₁₎⎤⎞\n",
       "⎜⎢                                                                                                                                     ⎥  ⎢                                  ⎥⎟\n",
       "⎜⎢(\\mathbf{\\hat{a}}_2\\cdot\\mathbf{\\hat{b}}_1)  (\\mathbf{\\hat{a}}_2\\cdot\\mathbf{\\hat{b}}_2)  (\\mathbf{\\hat{a}}_2\\cdot\\mathbf{\\hat{b}}_3)⎥, ⎢(\\mathbf{r}\\cdot\\mathbf{\\hat{b}}₂₎⎥⎟\n",
       "⎜⎢                                                                                                                                     ⎥  ⎢                                  ⎥⎟\n",
       "⎝⎣(\\mathbf{\\hat{a}}_3\\cdot\\mathbf{\\hat{b}}_1)  (\\mathbf{\\hat{a}}_3\\cdot\\mathbf{\\hat{b}}_2)  (\\mathbf{\\hat{a}}_3\\cdot\\mathbf{\\hat{b}}_3)⎦  ⎣(\\mathbf{r}\\cdot\\mathbf{\\hat{b}}₃₎⎦⎠"
      ]
     },
     "execution_count": 22,
     "metadata": {},
     "output_type": "execute_result"
    }
   ],
   "source": [
    "R_A,r_B"
   ]
  },
  {
   "cell_type": "code",
   "execution_count": null,
   "id": "35d7580f-8ff8-4068-87c6-4fb4acc89948",
   "metadata": {},
   "outputs": [],
   "source": []
  }
 ],
 "metadata": {
  "kernelspec": {
   "display_name": "Python 3 (ipykernel)",
   "language": "python",
   "name": "python3"
  },
  "language_info": {
   "codemirror_mode": {
    "name": "ipython",
    "version": 3
   },
   "file_extension": ".py",
   "mimetype": "text/x-python",
   "name": "python",
   "nbconvert_exporter": "python",
   "pygments_lexer": "ipython3",
   "version": "3.9.7"
  }
 },
 "nbformat": 4,
 "nbformat_minor": 5
}
