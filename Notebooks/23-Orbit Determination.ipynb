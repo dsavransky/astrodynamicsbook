{
 "cells": [
  {
   "cell_type": "code",
   "execution_count": 1,
   "id": "99a29d92-05a0-40f5-a7d9-f8118226a302",
   "metadata": {},
   "outputs": [
    {
     "data": {
      "text/markdown": [
       "$\n",
       "\\def\\bs{\\boldsymbol}\n",
       "\\def\\mf{\\mathbf}\n",
       "\\def\\mb{\\mathbb}\n",
       "\\def\\mc{\\mathcal}\n",
       "\\def\\rfr{\\mathcal}\n",
       "\\def\\grad{{\\rm grad}}\n",
       "\\def\\Re{{\\rm Re}}\n",
       "\\def\\Im{{\\rm Im}}\n",
       "\\def\\und{\\underline}\n",
       "\\def\\ovl{\\overline}\n",
       "\\def\\unb{\\underbrace}\n",
       "\\def\\Log{\\mbox{Log}}\n",
       "\\def\\bfomega{\\bs \\omega}\n",
       "\\def\\bfalpha{\\bs \\alpha}\n",
       "\\def\\da{\\triangleq}\n",
       "\\newcommand{\\leftexp}[2]{{\\vphantom{#2}}^{#1}\\!{#2}}\n",
       "\\newcommand{\\leftsub}[2]{{\\vphantom{#2}}_{#1}\\!{#2}}\n",
       "\\newcommand{\\omegarot}[2]{{\\leftexp{\\mathcal{#1}}{\\boldsymbol{\\omega}}^{\\mathcal{#2}}}}\n",
       "\\newcommand{\\alpharot}[2]{{\\leftexp{\\mathcal{#1}}{\\boldsymbol{\\alpha}}^{\\mathcal{#2}}}}\n",
       "\\newcommand{\\framerot}[2]{{\\leftexp{\\mathcal{#1}}{C}^{\\mathcal{#2}}}}\n",
       "\\newcommand{\\dframerot}[2]{{\\vphantom{\\dot{C}}^{\\mathcal{#1}}\\!{\\dot{C}^{\\mathcal{#2}}}}}\n",
       "\\newcommand{\\bdot}[1]{\\dot{\\mathbf{#1}}}\n",
       "\\newcommand{\\bhat}[1]{\\hat{\\mathbf{#1}}}\n",
       "\\newcommand{\\mbhat}[1]{\\hat{\\mathbb{#1}}}\n",
       "\\def\\iwb{\\omegarot{I}{B}}\n",
       "\\def\\iab{\\alpharot{I}{B}}\n",
       "\\def\\icb{\\framerot{I}{B}}\n",
       "\\def\\dif{\\mathop{}\\!\\mathrm{d}}\n",
       "\\newcommand{\\intd}[1]{\\dif#1}\n",
       "\\newcommand{\\od}[3][]{{ \\frac{\\dif{^{#1}}#2}{\\dif{#3^{#1}}} }}\t\t\t\n",
       "\\newcommand{\\pd}[3][]{{ \\frac{\\partial{^{#1}}#2}{\\partial{#3^{#1}}} }}\t \n",
       "\\newcommand{\\md}[6]{{  \\frac{\\partial{^{#2}}#1}{\\partial{#3^{#4}}\\partial{#5^{#6}}} }}\n",
       "\\newcommand{\\fddt}[2][]{{  \\leftexp{\\mathcal{#2}}{\\frac{\\dif{#1}}{\\dif{t}}}  }}\n",
       "\\newcommand{\\fdddt}[2][]{{  \\leftexp{\\mathcal{#2}}{\\frac{\\dif{^{2}#1}}{\\dif{t^2}}}  }}\n",
       "\\newcommand{\\ddt}[1][]{\\fddt[#1]{I}}\n",
       "$\n"
      ],
      "text/plain": [
       "<IPython.core.display.Markdown object>"
      ]
     },
     "metadata": {},
     "output_type": "display_data"
    }
   ],
   "source": [
    "# These are helpful routines that will assist in building this book.\n",
    "# You should run this block before anything else. There is no output expected.\n",
    "from astrodynamicsbook.bookhelpers import *\n",
    "\n",
    "loadLatexPreamble()"
   ]
  },
  {
   "cell_type": "code",
   "execution_count": null,
   "id": "c43f829a",
   "metadata": {},
   "outputs": [
    {
     "data": {
      "text/markdown": [
       "# [Previous](<21-Universal Variables.ipynb>)"
      ],
      "text/plain": [
       "<IPython.core.display.Markdown object>"
      ]
     },
     "metadata": {},
     "output_type": "display_data"
    }
   ],
   "source": [
    "# This is only here to create the navigation link:\n",
    "genPrevLink()"
   ]
  },
  {
   "cell_type": "markdown",
   "id": "a00e9a6b-a3be-4886-a476-9d1ebb100c10",
   "metadata": {},
   "source": [
    "# Orbit Determination\n",
    "\n",
    "Most modern orbit determination, especially for Earth-orbiting spacecraft, relist on range, azimuth, and elevation measurements, along with their rates of change.  This is typically provided by RADAR/LIDAR systems, and a full set of such measurements makes it relatively straightforward to compute orbital elements.  We will first go through the exercise of deriving the relevant transformations for this measurement set, before proceeding to consider the cases where range information cannot be easily obtained.  "
   ]
  },
  {
   "cell_type": "code",
   "execution_count": null,
   "id": "8ee3a513-2c75-49c0-a55b-fcb51b9f238b",
   "metadata": {},
   "outputs": [],
   "source": []
  },
  {
   "cell_type": "code",
   "execution_count": null,
   "id": "a2056e4d-56a8-4649-a001-1eebc192bc31",
   "metadata": {},
   "outputs": [],
   "source": []
  }
 ],
 "metadata": {
  "kernelspec": {
   "display_name": "Python 3 (ipykernel)",
   "language": "python",
   "name": "python3"
  },
  "language_info": {
   "codemirror_mode": {
    "name": "ipython",
    "version": 3
   },
   "file_extension": ".py",
   "mimetype": "text/x-python",
   "name": "python",
   "nbconvert_exporter": "python",
   "pygments_lexer": "ipython3",
   "version": "3.11.5"
  }
 },
 "nbformat": 4,
 "nbformat_minor": 5
}
