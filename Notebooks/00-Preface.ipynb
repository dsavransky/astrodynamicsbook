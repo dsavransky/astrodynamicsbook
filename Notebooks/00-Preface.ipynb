{
 "cells": [
  {
   "cell_type": "markdown",
   "id": "f76b7f86-2fe1-4010-82b2-741bb38d0dfc",
   "metadata": {},
   "source": [
    "*What this is, right here, is skippable.*\n",
    "\n",
    "What this is, right here, is approximately 20 years of trying to figure things out. Most things, in general, but in particular, the field of study collectively known as dynamics or classical mechanics, and most especially the subset of this field known as celestial mechanics or astrodynamics. \n",
    "\n",
    "What this is, right here, is also an exercise in figuring out how to convey knowledge in efficient and possibly new ways.\n",
    "\n",
    "Because this is an exercise in figuring things out, and then figuring out how to relate such things that have been figured out, there's not much here that's original (even the jokes are relatively stale (there may be one or two jokes (see if you can spot them all))). The content draws on a huge range of sources, but the most important, in no particular order, are:\n",
    "\n",
    "* **Engineering Dynamics** by N. Jeremy Kasdin and Derek A. Paley.  This is a wonderfully rigorous undergraduate text in classical mechanics, and a great introduction to:\n",
    "* **Spacecraft Dynamics** by Thomas R. Kane, Peter W. Likins, and David A. Levinson. This is an amazing book.  In fact, don't read this - read [that](<https://ecommons.cornell.edu/handle/1813/637>). (Or, maybe, read that, and then come back to this). Also important are the various other dynamics texts by Kane et al.\n",
    "* **Fundamentals of Astrodynamics and Applications** by David A. Vallado.  This is the single most complete and best astrodynamics book available today. It contains numerous 'recipes' and pseudocode for implementing a variety of standard calculations, along with in-depth and illustrative discussions of the relevant physics. It is a huge inspiration for this, right here.\n",
    "* **An Introduction to the Mathematics and Methods of Astrodynamics** by Richard H. Battin. An absolutely crucial reference for all things astrodynamic. \n",
    "* **Fundamentals of Astrodynamics** by Roger R. Bate, Donald D. Mueller, and Jerry E. White.  A classic text, and deservedly so. \n",
    "* **Solar System Dynamics** by Carl D. Murray and S. F. Dermott.  The standard text in celestial mechanics courses. \n",
    "* **Galactic Dynamics** James Binney and Scott Tremaine.  An incredible book about dynamics and all sorts of other things, writ large.\n",
    "* **Numerical Recipes in C: The Art of Scientific Computing, Second Edition** by William H. Press,  Brian P. Flannery, Saul A. Teukolsky, and William T. Vetterling.  You should have this on your shelf. Why don't you?\n",
    "\n",
    "In addition, while not a direct resource for the contents, much inspiration was drawn from George Spencer-Brown's *Laws of Form* (no, don't worry, this isn't written in e-prime, although perhaps it should have been). Other texts frequently reached for include Bryan A. Garner's *Modern American Usage* and Edward R. Tufte's *Visual Display of Quantitative Information*."
   ]
  },
  {
   "cell_type": "code",
   "execution_count": null,
   "id": "106c2d4d-9b6e-4576-b645-b6358fec8411",
   "metadata": {},
   "outputs": [],
   "source": []
  }
 ],
 "metadata": {
  "kernelspec": {
   "display_name": "Python 3 (ipykernel)",
   "language": "python",
   "name": "python3"
  },
  "language_info": {
   "codemirror_mode": {
    "name": "ipython",
    "version": 3
   },
   "file_extension": ".py",
   "mimetype": "text/x-python",
   "name": "python",
   "nbconvert_exporter": "python",
   "pygments_lexer": "ipython3",
   "version": "3.11.10"
  }
 },
 "nbformat": 4,
 "nbformat_minor": 5
}
