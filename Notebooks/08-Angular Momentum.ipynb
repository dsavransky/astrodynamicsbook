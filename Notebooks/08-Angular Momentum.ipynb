{
 "cells": [
  {
   "cell_type": "code",
   "execution_count": 1,
   "id": "7c0190b3-0516-4f1f-b957-5b379101e917",
   "metadata": {},
   "outputs": [
    {
     "data": {
      "text/markdown": [
       "$\n",
       "\\def\\bs{\\boldsymbol}\n",
       "\\def\\mf{\\mathbf}\n",
       "\\def\\mb{\\mathbb}\n",
       "\\def\\mc{\\mathcal}\n",
       "\\def\\rfr{\\mathcal}\n",
       "\\def\\grad{{\\rm grad}}\n",
       "\\def\\Re{{\\rm Re}}\n",
       "\\def\\Im{{\\rm Im}}\n",
       "\\def\\und{\\underline}\n",
       "\\def\\ovl{\\overline}\n",
       "\\def\\unb{\\underbrace}\n",
       "\\def\\Log{\\mbox{Log}}\n",
       "\\def\\bfomega{\\bs \\omega}\n",
       "\\def\\bfalpha{\\bs \\alpha}\n",
       "\\def\\da{\\triangleq}\n",
       "\\newcommand{\\leftexp}[2]{{\\vphantom{#2}}^{#1}\\!{#2}}\n",
       "\\newcommand{\\leftsub}[2]{{\\vphantom{#2}}_{#1}\\!{#2}}\n",
       "\\newcommand{\\omegarot}[2]{{\\leftexp{\\mathcal{#1}}{\\boldsymbol{\\omega}}^{\\mathcal{#2}}}}\n",
       "\\newcommand{\\alpharot}[2]{{\\leftexp{\\mathcal{#1}}{\\boldsymbol{\\alpha}}^{\\mathcal{#2}}}}\n",
       "\\newcommand{\\framerot}[2]{{\\leftexp{\\mathcal{#1}}{C}^{\\mathcal{#2}}}}\n",
       "\\newcommand{\\dframerot}[2]{{\\vphantom{\\dot{C}}^{\\mathcal{#1}}\\!{\\dot{C}^{\\mathcal{#2}}}}}\n",
       "\\newcommand{\\bdot}[1]{\\dot{\\mathbf{#1}}}\n",
       "\\newcommand{\\bhat}[1]{\\hat{\\mathbf{#1}}}\n",
       "\\newcommand{\\mbhat}[1]{\\hat{\\mathbb{#1}}}\n",
       "\\def\\iwb{\\omegarot{I}{B}}\n",
       "\\def\\iab{\\alpharot{I}{B}}\n",
       "\\def\\icb{\\framerot{I}{B}}\n",
       "\\def\\dif{\\mathop{}\\!\\mathrm{d}}\n",
       "\\newcommand{\\intd}[1]{\\dif#1}\n",
       "\\newcommand{\\od}[3][]{{ \\frac{\\dif{^{#1}}#2}{\\dif{#3^{#1}}} }}\t\t\t\n",
       "\\newcommand{\\pd}[3][]{{ \\frac{\\partial{^{#1}}#2}{\\partial{#3^{#1}}} }}\t \n",
       "\\newcommand{\\md}[6]{{  \\frac{\\partial{^{#2}}#1}{\\partial{#3^{#4}}\\partial{#5^{#6}}} }}\n",
       "\\newcommand{\\fddt}[2][]{{  \\leftexp{\\mathcal{#2}}{\\frac{\\dif{#1}}{\\dif{t}}}  }}\n",
       "\\newcommand{\\fdddt}[2][]{{  \\leftexp{\\mathcal{#2}}{\\frac{\\dif{^{2}#1}}{\\dif{t^2}}}  }}\n",
       "\\newcommand{\\ddt}[1][]{\\fddt[#1]{I}}\n",
       "$\n"
      ],
      "text/plain": [
       "<IPython.core.display.Markdown object>"
      ]
     },
     "metadata": {},
     "output_type": "display_data"
    },
    {
     "data": {
      "text/markdown": [
       "# [Previous](<07-Second Law.ipynb>)"
      ],
      "text/plain": [
       "<IPython.core.display.Markdown object>"
      ]
     },
     "metadata": {},
     "output_type": "display_data"
    }
   ],
   "source": [
    "# These are helpful routines that will assist in building this book. \n",
    "# You should run this block before anything else. There is no output expected.\n",
    "from astrodynamicsbook.bookhelpers import *\n",
    "loadLatexPreamble()\n",
    "\n",
    "# This is only here to create the navigation link:\n",
    "genPrevLink()"
   ]
  },
  {
   "cell_type": "markdown",
   "id": "ef70950c-4df2-45b9-97f5-cebd34f5162d",
   "metadata": {},
   "source": [
    "# Angular Momentum\n",
    "\n",
    "We are now going to proceed to play some mathematical games in order to produce some additional, potentially useful equations, but they should be understood as just that: mathematical manipulations of the rules that we have already laid down.  We are *not* adding any new physics here at all.\n",
    "\n",
    "What we are doing is, essentially, crossing the second law equation with the position vector and seeing what happens.  We start by defining a new quantity, the **angular momentum** which is given by the cross product of the position of a mass with its linear momentum:\n",
    "\n",
    "<div class=\"alert alert-block alert-info\">\n",
    "$$\\leftexp{\\mc I}{\\mf h_{P/O}} \\triangleq \\mf r_{P/O} \\times \\leftexp{\\mc I}{\\mf p_{P/O}}$$\n",
    "</div>\n",
    "where $P$ is the location of a particle of mass $m$, $O$ is an inertially non-accelerating point, and $\\mc I$ is an inertial frame. In our notation we say that $\\leftexp{\\mc I}{\\mf h_{P/O}}$ is the angular momentum of $P$ *about* $O$. We now differentiate the angular momentum with respect to $\\mc I$:\n",
    "$$\\fddt{\\mc I}{\\leftexp{\\mc I}{\\mf h_{P/O}}} = \\fddt{\\mc I} \\underbrace{\\mf r_{P/O} \\times \\leftexp{\\mc I}{\\mf p_{P/O}}}_{\\displaystyle \\leftexp{\\mc I}{\\mf v_{P/O}} \\times m\\leftexp{\\mc I}{\\mf v_{P/O}}} + \\mf r_{P/O} \\times \\underbrace{\\fddt{\\mc I}\\leftexp{\\mc I}{\\mf p_{P/O}}}_{\\displaystyle \\equiv \\mf F_P}$$\n",
    "\n",
    "where we have substituted the definition of linear momentum in the first term and the original form of Newton's second law in the second.  The first term contains the cross product of the inertial velocity with itself, and so must be zero.  We define the second term as the **moment** (or **torque**) applied to $P$ about $O$:\n",
    "<div class=\"alert alert-block alert-info\">\n",
    "$${\\mf M_{P/O}} \\triangleq \\mf r_{P/O} \\times \\mf F_P$$\n",
    "</div>\n",
    "\n",
    "Thus, we now have a new form of Newton's second law, also known as an **angular momentum balance**:\n",
    "<div class=\"alert alert-block alert-info\">\n",
    "$$\\fddt{I}\\leftexp{\\mc I}{\\mf h_{P/O}} = \\mf M_{P/O}$$\n",
    "</div>"
   ]
  },
  {
   "cell_type": "markdown",
   "id": "b8842080-4c96-47c7-ad47-a1e0c7c5142b",
   "metadata": {},
   "source": [
    "# Angular Momentum Conservation\n",
    "\n",
    "Note that while linear and angular momenta are clearly related, they are *not* the same.  Most importantly, it is possible to have a non-zero resultant force acting on $P$, resulting in a zero moment (by the rules of the cross product, this occurs whenever $\\mf F_P$ and $\\mf r_{P/O}$ are parallel).  Therefore, it is useful to point out that we can write an angular momentum conservation law analogous to our linear momentum conservation law.  \n",
    "\n",
    "<div class=\"alert alert-block alert-info\">\n",
    "    When the net moment on particle $P$ about $O$ is zero: \n",
    "    $$\\fddt{I}{\\leftexp{\\mc I}{\\mf h_{P/O}}} = 0 \\quad \\Rightarrow \\quad \\leftexp{\\mc I}{\\mf h_{P/O}} = \\textrm{ constant }$$\n",
    "    </div>\n",
    "\n",
    "# Central Force Problems\n",
    "\n",
    "Funny we should mention forces corresponding to zero moments.  Well, not funny, so much as incredibly convenient.  These forces are collectively known as **central forces**.  Formally, a force $\\mf F_P$ is a central force if $\\mf r_{P/O} \\times \\mf F_P = 0$ where $O$ is an inertially non-accelerating point and $\\mf r_{P/O} \\ne 0$. This definition has two corollaries:\n",
    "1. Particles experiencing only central forces have conserved angular momentum\n",
    "2. Since the angular momentum vector does not change in time, it represents a fixed direction in inertial space.  As both position and velocity are orthogonal to the angular momentum vector, all motion in a central force problem must take place in the plane orthogonal to the angular momentum vector.\n",
    "\n",
    "The fact that both position and velocity are orthogonal to the angular momentum stems from its definition ($\\leftexp{\\mc I}{\\mf h_{P/O}} \\triangleq \\mf r_{P/O} \\times \\leftexp{\\mc I}{\\mf p_{P/O}} = \\mf r_{P/O} \\times m\\leftexp{\\mc I}{\\mf v_{P/O}}$).  Therefore, in a central force problem, for all time, both position and velocity are constrained for all time to a 2D subspace (a plane) of the full 3D space.\n",
    "\n",
    "Let's consider a very general form of central force, where the force acts in the direction of the position vector, and has a magnitude that is some function ($f$) of the magnitude of the position vector:\n",
    "$$\\mf F_P = f(r) \\bhat{r}_{P/O} \\equiv \\frac{f(r)}{r} \\mf{r}_{P/O}$$\n",
    "where $r \\triangleq \\Vert \\mf r_{P/O}\\Vert$.  By Newton's second law:\n",
    "$\\fddt{I}{\\leftexp{\\mc I}{\\mf p_{P/O}}} = f(r) \\bhat{r}_{P/O}$.  Let's see what happens if we cross this expression with the angular momentum of $P$ about $O$:\n",
    "$$\\fddt{I}{\\leftexp{\\mc I}{\\mf p_{P/O}}} \\times \\leftexp{\\mc I}{\\mf h_{P/O}}  = \\frac{f(r)}{r} \\mf{r}_{P/O} \\times \\leftexp{\\mc I}{\\mf h_{P/O}} = \\frac{f(r)}{r} \\mf{r}_{P/O} \\times \\left(\\mf{r}_{P/O} \\times \\leftexp{\\mc I}{\\mf p_{P/O}}\\right) $$\n",
    "\n",
    "By the vector triple product, the last term can be rewritten as:\n",
    "$$\\fddt{I}{\\leftexp{\\mc I}{\\mf p_{P/O}}} \\times \\leftexp{\\mc I}{\\mf h_{P/O}}  =\\frac{f(r)}{r} \\left( \\mf r_{P/O}\\left(\\mf r_{P/O} \\cdot \\leftexp{\\mc I}{\\mf p_{P/O}} \\right) - \\leftexp{\\mc I}{\\mf p_{P/O}}\\underbrace{\\left( \\mf r_{P/O} \\cdot \\mf r_{P/O} \\right)}_{\\displaystyle \\equiv r^2} \\right)$$"
   ]
  },
  {
   "cell_type": "markdown",
   "id": "897c281d-447f-4ba3-a76a-4e86e565c837",
   "metadata": {},
   "source": [
    "As an aside, let's momentarily consider the component forms of $\\mf r_{P/O}$ and its derivative with respect to the $\\mc I$ frame.  As we have done previously, we can write:\n",
    "$$\\mf r_{P/O} \\triangleq \\sum_{i=1}^3 r_i \\bhat{e}_i  \\quad\\textrm{and}\\quad \\fddt{\\mc I}\\mf r_{P/O} = \\sum_{i=1}^3 \\fddt{}r_i \\bhat{e}_i$$\n",
    "where $\\mc I = (O,\\bhat{e}_1, \\bhat{e}_2, \\bhat{e}_3)$. The dot product of $\\mf r_{P/O}$ with its derivative is therefore:\n",
    "$$\\mf r_{P/O} \\cdot  \\fddt{\\mc I}\\mf r_{P/O} = \\left(\\sum_{i=1}^3 r_i \\bhat{e}_i \\right) \\cdot \\left(\\sum_{i=1}^3 \\fddt{}r_i \\bhat{e}_i\\right) =\\sum_{i=1}^3 r_i \\fddt{}r_i = \\Vert \\mf r_{P/O} \\Vert \\fddt{}\\left( \\Vert \\mf r_{P/O} \\Vert \\right)$$\n",
    "\n",
    "This assertion is easily checked:"
   ]
  },
  {
   "cell_type": "code",
   "execution_count": 2,
   "id": "95e16135-bcfa-4a1c-8c9e-00b14aafe6ab",
   "metadata": {},
   "outputs": [
    {
     "data": {
      "image/png": "[encoded data removed]",
      "text/latex": [
       "$\\displaystyle r_{1} \\dot{r}_{1} + r_{2} \\dot{r}_{2} + r_{3} \\dot{r}_{3}$"
      ],
      "text/plain": [
       "r₁⋅ṙ₁ + r₂⋅ṙ₂ + r₃⋅ṙ₃"
      ]
     },
     "execution_count": 2,
     "metadata": {},
     "output_type": "execute_result"
    }
   ],
   "source": [
    "# Set up symbols and the position/velocity vectors\n",
    "r1,r2,r3,dr1,dr2,dr3,t = symbols(\"r_1,r_2,r_3,rdot_1, rdot_2,rdot_3,t\",real=True)\n",
    "diffmap = {r1:dr1,r2:dr2,r3:dr3}\n",
    "rv = Matrix([r1,r2,r3])\n",
    "drv = Matrix([dr1,dr2,dr3])\n",
    "# Take their dot product\n",
    "rv.dot(drv)"
   ]
  },
  {
   "cell_type": "code",
   "execution_count": 3,
   "id": "17300a6d-a70e-4e52-aabf-f59e80060a09",
   "metadata": {},
   "outputs": [
    {
     "data": {
      "image/png": "[encoded data removed]",
      "text/latex": [
       "$\\displaystyle r_{1} \\dot{r}_{1} + r_{2} \\dot{r}_{2} + r_{3} \\dot{r}_{3}$"
      ],
      "text/plain": [
       "r₁⋅ṙ₁ + r₂⋅ṙ₂ + r₃⋅ṙ₃"
      ]
     },
     "execution_count": 3,
     "metadata": {},
     "output_type": "execute_result"
    }
   ],
   "source": [
    "# Differentiate the norm of the position vector and multiply by itself\n",
    "r = rv.norm()\n",
    "r*difftotal(r,t,diffmap)\n",
    "# They match!"
   ]
  },
  {
   "cell_type": "markdown",
   "id": "c75635ae-1ab0-487a-af27-079f3f44ccbf",
   "metadata": {},
   "source": [
    "This observation can be directly applied to the term $\\mf r_{P/O} \\cdot \\leftexp{\\mc I}{\\mf p_{P/O}}  = \\mf r_{P/O} \\cdot m \\fddt{I} \\mf r_{P/O}$.  Our original cross product expression now becomes:\n",
    "\n",
    "$$\\fddt{I}{\\leftexp{\\mc I}{\\mf p_{P/O}}} \\times \\leftexp{\\mc I}{\\mf h_{P/O}}  =\\frac{f(r)}{r} \\left( m r\\mf r_{P/O}\\fddt{}\\left( \\Vert \\mf r_{P/O} \\Vert \\right) - m r^2\\fddt{\\mc I}{\\mf r_{P/O}} \\right) = -f(r)mr^2\\underbrace{\\left(\\frac{1}{r}\\fddt{\\mc I}{\\mf r_{P/O}} - \\frac{1}{r^2}\\fddt{}\\left( \\Vert \\mf r_{P/O} \\Vert \\right)\\mf r_{P/O}  \\right)}_{\\displaystyle \\equiv \\fddt{I}\\left(\\frac{\\mf r_{P/O}}{\\Vert\\mf r_{P/O}\\Vert}\\right) } $$\n",
    "\n",
    "Again, let's verify the assertion in the final part of the expression:"
   ]
  },
  {
   "cell_type": "code",
   "execution_count": 4,
   "id": "6a2dfc3b-8090-4d9e-b365-6c754cc3925e",
   "metadata": {},
   "outputs": [
    {
     "data": {
      "image/png": "[encoded data removed]",
      "text/latex": [
       "$\\displaystyle \\left[\\begin{matrix}0\\\\0\\\\0\\end{matrix}\\right]$"
      ],
      "text/plain": [
       "⎡0⎤\n",
       "⎢ ⎥\n",
       "⎢0⎥\n",
       "⎢ ⎥\n",
       "⎣0⎦"
      ]
     },
     "execution_count": 4,
     "metadata": {},
     "output_type": "execute_result"
    }
   ],
   "source": [
    "# Calculate the total derivative of the position vector divided by its norm\n",
    "rhs = difftotalmat(rv/rv.norm(),t,diffmap)\n",
    "# Calculate the original parenthesized expression:\n",
    "lhs = drv/rv.norm() - difftotal(r,t,diffmap)*rv/r**2\n",
    "# Compare\n",
    "simplify(lhs - rhs)"
   ]
  },
  {
   "cell_type": "markdown",
   "id": "4b56af68-ce0e-4729-879a-da54637a1fea",
   "metadata": {},
   "source": [
    "As a final step, let's turn to the left hand side of the equation, above, and consider the derivative of the cross product of linear and angular momentum:\n",
    "$$\\fddt{I}\\left(\\leftexp{\\mc I}{\\mf p_{P/O}} \\times \\leftexp{\\mc I}{\\mf h_{P/O}}\\right) = \\fddt{I}{\\leftexp{\\mc I}{\\mf p_{P/O}}} \\times \\leftexp{\\mc I}{\\mf h_{P/O}} + {\\leftexp{\\mc I}{\\mf p_{P/O}}} \\times \\fddt{I}\\leftexp{\\mc I}{\\mf h_{P/O}}$$\n",
    "we have already established that the angular momentum must be conserved in this case, and so the final derivative (and entire final cross product) must be zero.  Therefore $\\fddt{I}\\left(\\leftexp{\\mc I}{\\mf p_{P/O}} \\times \\leftexp{\\mc I}{\\mf h_{P/O}}\\right) \\equiv \\fddt{I}{\\leftexp{\\mc I}{\\mf p_{P/O}}} \\times \\leftexp{\\mc I}{\\mf h_{P/O}}$ and we can substitute this term into our original equation, which now looks like:\n",
    "$$\\fddt{I}\\left(\\leftexp{\\mc I}{\\mf p_{P/O}} \\times \\leftexp{\\mc I}{\\mf h_{P/O}}\\right) = -f(r)mr^2 \\fddt{I}\\left(\\frac{\\mf r_{P/O}}{\\Vert\\mf r_{P/O}\\Vert}\\right) $$\n",
    "\n",
    "We seem to be tantalizingly close to something cool here, with two exact differentials on either side of the equation, but that darn $f(r)$ is ruining things.  So, let's make things a little bit less general, and assume that $f(r) \\propto -r^{-2}$.  This now describes an inverse-square law, and physics is chock-full of these, so this is probably not a bad direction to go in.  What does this buy us?  Now we have:\n",
    "$$\\fddt{I}\\left(\\leftexp{\\mc I}{\\mf p_{P/O}} \\times \\leftexp{\\mc I}{\\mf h_{P/O}}\\right) = \\kappa m \\fddt{I}\\left(\\frac{\\mf r_{P/O}}{\\Vert\\mf r_{P/O}\\Vert}\\right) $$\n",
    "where $\\kappa$ is some constant of proportionality in our $f(r)$ expression.  And now, we have to exact differentials on either side of an equals sign, which means we must integrate.\n",
    "\n",
    "<div class=\"alert alert-block alert-danger\">\n",
    "   No, really, we must.  Anytime you see a derivative equal to another derivative in the same variable, you just have to integrate.  There's probably a law about it, somewhere.\n",
    "    </div>"
   ]
  },
  {
   "cell_type": "markdown",
   "id": "89469949-45fe-4673-97ab-4353a10dcc63",
   "metadata": {},
   "source": [
    "# The Laplace-Runge-Lenz Vector\n",
    "\n",
    "The integrated expression from above  is:\n",
    "<div class=\"alert alert-block alert-info\">\n",
    "    $$\\leftexp{\\mc I}{\\mf p_{P/O}} \\times \\leftexp{\\mc I}{\\mf h_{P/O}} - \\kappa m \\bhat r_{P/O} = \\mf c$$\n",
    "</div>\n",
    "where $\\mf c$ is the constant of integration.  Since we have established that differentiation of vectors works in much the same way as differentiation of scalars (except for the frame-dependent behavior), the same must be true of integration (anti-differentiation) of vectors.  Anytime you evaluate an indefinite integral, you must introduce a constant of integration.  In the case where you're integrating a vector expression, the constant must be a vector.\n",
    "\n",
    "This vector is known as the **Laplace-Runge-Lenz** vector (or LRL vector) and pops up quite a bit in a fairly surprisingly broad cross section of physics. Our use of it will be limited to classical central force problems, but don't be surprised if you see it pop up in contexts of special relativity and quantum mechanics.\n",
    "\n",
    "While the vector can be defined for *any* central force, it is only conserved for inverse square forces (i.e., $f(r) = -\\kappa r^{-2}$). The really cool thing about this vector is that it tells you the exact shape of the trajectory of the system (the solution to the system's equations of motion).  Here's how:  let $\\theta$ be the angle between $\\mf c$ and $\\mf r_{P/O}$.  Then:\n",
    "$$ \\mf c \\cdot \\mf r_{P/O} = \\Vert \\mf c \\Vert r \\cos\\theta = \\mf r_{P/O} \\cdot \\left (\\leftexp{\\mc I}{\\mf p_{P/O}} \\times \\leftexp{\\mc I}{\\mf h_{P/O}} + \\kappa m \\bhat r_{P/O} \\right ) = \\underbrace{\\mf r_{P/O} \\cdot\\left (\\leftexp{\\mc I}{\\mf p_{P/O}} \\times \\leftexp{\\mc I}{\\mf h_{P/O}} \\right)}_{\\displaystyle \\left(\\mf r_{P/O} \\times\\leftexp{\\mc I}{\\mf p_{P/O}} \\right)\\cdot \\leftexp{\\mc I}{\\mf h_{P/O}} } - \\kappa m r$$\n",
    "where we have used the circular permutability of the scalar triple product. $\\mf r_{P/O} \\times\\leftexp{\\mc I}{\\mf p_{P/O}}$ is our definition of the angular momentum, and so the whole term evaluates to $\\Vert \\leftexp{\\mc I}{\\mf h_{P/O}} \\Vert^2$.\n",
    "\n",
    "We therefore now have:\n",
    "$$ \\Vert \\mf c \\Vert r \\cos\\theta = \\Vert \\leftexp{\\mc I}{\\mf h_{P/O}} \\Vert^2 - \\kappa m r \\quad\\Rightarrow\\quad r = \\frac{\\displaystyle\\frac{\\Vert \\leftexp{\\mc I}{\\mf h_{P/O}} \\Vert^2}{\\kappa m r}}{1 + \\dfrac{\\Vert \\mf c\\Vert}{\\kappa m r}\\cos\\theta}$$\n",
    "\n",
    "Why did we put this expression into such a weird, mangled final form? Because this is exactly the form of the polar representation of a conic section! Inverse square forces will generate **orbits** taking the form of **conic sections**. Conic sections are intersections of the surface of a cone with a plane.  This leads to three possible curves: ellipses (including circles), parabolae, and hyperbolae.  \n",
    "\n",
    "<p style=\"text-align:center;\"><img src=\"img/conic_sections.png\" alt=\"Conic Sections\" width=\"400\" id=\"fig:conics\"/></p>\n",
    "\n",
    "The general polar form for all of these is: \n",
    "$$r = \\frac{\\ell}{1 + e\\cos(\\theta)}$$\n",
    "where $\\ell$ is the **semi-parameter** (or **semi-latus rectum** - go ahead and titter, we'll wait) and $e$ is the **eccentricity**.  We will investigate conic sections in much greater detail presently - first, we just need to give ourselves a good reason for doing so."
   ]
  },
  {
   "cell_type": "code",
   "execution_count": 5,
   "id": "633fc415-b342-4a00-8b30-38e5faaf8d21",
   "metadata": {},
   "outputs": [
    {
     "data": {
      "text/markdown": [
       "# [Next](<09-Gravity.ipynb>)"
      ],
      "text/plain": [
       "<IPython.core.display.Markdown object>"
      ]
     },
     "metadata": {},
     "output_type": "display_data"
    }
   ],
   "source": [
    "# This is just here to generate the link to the next notebook\n",
    "genNextLink()"
   ]
  },
  {
   "cell_type": "code",
   "execution_count": null,
   "id": "490e3c11-15eb-4a03-b883-1226e5047d6b",
   "metadata": {},
   "outputs": [],
   "source": []
  }
 ],
 "metadata": {
  "kernelspec": {
   "display_name": "Python 3 (ipykernel)",
   "language": "python",
   "name": "python3"
  },
  "language_info": {
   "codemirror_mode": {
    "name": "ipython",
    "version": 3
   },
   "file_extension": ".py",
   "mimetype": "text/x-python",
   "name": "python",
   "nbconvert_exporter": "python",
   "pygments_lexer": "ipython3",
   "version": "3.9.7"
  }
 },
 "nbformat": 4,
 "nbformat_minor": 5
}
