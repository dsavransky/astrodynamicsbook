{
 "cells": [
  {
   "cell_type": "code",
   "execution_count": 1,
   "id": "3f98adae-f731-430c-b18d-0536d2b1c293",
   "metadata": {},
   "outputs": [
    {
     "data": {
      "text/markdown": [
       "$\n",
       "\\def\\bs{\\boldsymbol}\n",
       "\\def\\mf{\\mathbf}\n",
       "\\def\\mb{\\mathbb}\n",
       "\\def\\mc{\\mathcal}\n",
       "\\def\\rfr{\\mathcal}\n",
       "\\def\\grad{{\\rm grad}}\n",
       "\\def\\Re{{\\rm Re}}\n",
       "\\def\\Im{{\\rm Im}}\n",
       "\\def\\und{\\underline}\n",
       "\\def\\ovl{\\overline}\n",
       "\\def\\unb{\\underbrace}\n",
       "\\def\\Log{\\mbox{Log}}\n",
       "\\def\\bfomega{\\bs \\omega}\n",
       "\\def\\bfalpha{\\bs \\alpha}\n",
       "\\def\\da{\\triangleq}\n",
       "\\newcommand{\\leftexp}[2]{{\\vphantom{#2}}^{#1}\\!{#2}}\n",
       "\\newcommand{\\leftsub}[2]{{\\vphantom{#2}}_{#1}\\!{#2}}\n",
       "\\newcommand{\\omegarot}[2]{{\\leftexp{\\mathcal{#1}}{\\boldsymbol{\\omega}}^{\\mathcal{#2}}}}\n",
       "\\newcommand{\\alpharot}[2]{{\\leftexp{\\mathcal{#1}}{\\boldsymbol{\\alpha}}^{\\mathcal{#2}}}}\n",
       "\\newcommand{\\framerot}[2]{{\\leftexp{\\mathcal{#1}}{C}^{\\mathcal{#2}}}}\n",
       "\\newcommand{\\dframerot}[2]{{\\vphantom{\\dot{C}}^{\\mathcal{#1}}\\!{\\dot{C}^{\\mathcal{#2}}}}}\n",
       "\\newcommand{\\bdot}[1]{\\dot{\\mathbf{#1}}}\n",
       "\\newcommand{\\bhat}[1]{\\hat{\\mathbf{#1}}}\n",
       "\\newcommand{\\mbhat}[1]{\\hat{\\mathbb{#1}}}\n",
       "\\def\\iwb{\\omegarot{I}{B}}\n",
       "\\def\\iab{\\alpharot{I}{B}}\n",
       "\\def\\icb{\\framerot{I}{B}}\n",
       "\\def\\dif{\\mathop{}\\!\\mathrm{d}}\n",
       "\\newcommand{\\intd}[1]{\\dif#1}\n",
       "\\newcommand{\\od}[3][]{{ \\frac{\\dif{^{#1}}#2}{\\dif{#3^{#1}}} }}\t\t\t\n",
       "\\newcommand{\\pd}[3][]{{ \\frac{\\partial{^{#1}}#2}{\\partial{#3^{#1}}} }}\t \n",
       "\\newcommand{\\md}[6]{{  \\frac{\\partial{^{#2}}#1}{\\partial{#3^{#4}}\\partial{#5^{#6}}} }}\n",
       "\\newcommand{\\fddt}[2][]{{  \\leftexp{\\mathcal{#2}}{\\frac{\\dif{#1}}{\\dif{t}}}  }}\n",
       "\\newcommand{\\fdddt}[2][]{{  \\leftexp{\\mathcal{#2}}{\\frac{\\dif{^{2}#1}}{\\dif{t^2}}}  }}\n",
       "\\newcommand{\\ddt}[1][]{\\fddt[#1]{I}}\n",
       "$\n"
      ],
      "text/plain": [
       "<IPython.core.display.Markdown object>"
      ]
     },
     "metadata": {},
     "output_type": "display_data"
    }
   ],
   "source": [
    "# These are helpful routines that will assist in building this book.\n",
    "# You should run this block before anything else. There is no output expected.\n",
    "from astrodynamicsbook.bookhelpers import *\n",
    "\n",
    "loadLatexPreamble()"
   ]
  },
  {
   "cell_type": "code",
   "execution_count": null,
   "id": "a934acf0",
   "metadata": {},
   "outputs": [
    {
     "data": {
      "text/markdown": [
       "# [Previous](<10-Work and Energy.ipynb>)"
      ],
      "text/plain": [
       "<IPython.core.display.Markdown object>"
      ]
     },
     "metadata": {},
     "output_type": "display_data"
    }
   ],
   "source": [
    "# This is only here to create the navigation link:\n",
    "genPrevLink()"
   ]
  },
  {
   "cell_type": "markdown",
   "id": "3d358819-68d5-4156-9cb2-1eb9fb48b8e2",
   "metadata": {},
   "source": [
    "# Newtonian Gravity \n",
    "\n",
    "We are now going to introduce a new bit of physics, and add a fourth law to the three we've been using so far.  This is Newton's Law of Gravity, sometimes called Newton's Law of Universal Gravitation. Once again, it is incredibly important to understand that it is a *law*, and postulates specific behavior that closely matches what we observe in the physical universe, most of the time, and under most conditions.  Modern physics now provides us with a better understanding of gravity, via Einstein's general theory of relativity, but it turns out that Newton's law works amazingly well in the vast majority of cases, and can almost *always* be used to get a very good first approximation for the dynamics of gravitational systems.\n",
    "\n",
    "<div class=\"alert alert-block alert-danger\">\n",
    "    The use of <i>better</i> to describe general relativity is not a value judgment. It is merely shorthand for 'makes predictions that more closely agree with observed phenomena over a broader range of conditions'. We also know relativity to be incomplete, as it does not (yet) play nicely with quantum mechanics.  The theory of gravity will keep being developed as new discoveries are made and new theories proposed.  Newton's law of gravity, however, is immutable, and will remain the same forever.\n",
    "    </div>\n",
    "    \n",
    "<div class=\"alert alert-block alert-danger\">\n",
    "    Another aside: you will frequently hear (usually from physics majors) statements along the lines of: \"gravity is not a force.\"  This is honestly a bit of useless pedantry.  Yes, general relativity describes gravity as a curvature of spacetime due to uneven distribution of masses.  However, remember that we never actually defined what a force <i>is</i>.  Forces are the things that accelerate masses.  Gravity, in whatever flavor you happen to prefer, causes masses to move in particular ways, and apparently accelerate from the vantage point of an external observer.  Hence, insisting that gravity isn't a force is a bit silly.\n",
    "    </div>\n",
    "    \n",
    "<p style=\"text-align:center;\"><img src=\"img/2body_frame.png\" alt=\"Two-Body Problem\" width=\"400\" id=\"fig:2bodyframe\"/></p>\n",
    "\n",
    "## The Two-Body Problem\n",
    "The simplest gravitational system is two Newtonian particles interacting via the force of gravity, with no other masses or forces in the system.  This is known as the **two-body problem** and is illustrated in the <a href=\"#fig:2bodyframe\" >figure</a>, above. This system is incredibly important as it is the *only* gravitational system with a complete, closed-form, analytic solution.  All other gravitational systems require numerical integration in order to accurately predict the trajectories of constituent masses.  Newton's law of universal gravitation posits that the force on mass $m_1$ due to gravitational interaction with mass $m_2$ is given by:\n",
    "\n",
    "<div class=\"alert alert-block alert-info\">\n",
    "$$\\mf F_1 = -\\frac{G m_1 m_2}{\\Vert \\mf r_{1/2}\\Vert^3}\\mf r_{1/2} $$\n",
    "</div>\n",
    "\n",
    "Here, $G$ is a proportionality constant, known as the **gravitational constant** (or universal gravitational constant), and the numerical subscripts refer to mass 1 and 2, respectively. By Newton's third law, mass $m_2$ must experience an equal and opposite force, so $\\mf F_2 = -\\mf F_1$.\n",
    "\n",
    "The most important thing to note here is that Newtonian gravity is an inverse-square law!  We have written it in a standard form, with a cube of the separation vector in the denominator, but note that the law can equivalently be written as a strict inverse-square formula:\n",
    "$$\\mf F_1 = -\\frac{G m_1 m_2}{\\Vert \\mf r_{1/2}\\Vert^2}\\bhat r_{1/2} $$\n",
    "\n",
    "We were just talking about inverse-square laws [a short while ago](<08-Angular Momentum.ipynb#The-Laplace-Runge-Lenz-Vector>) (another *amazing* coincidence).  Let's see if we can apply any of our newly-developed formalism to the two-body problem.  We start in the same way that we start any dynamics problem - we define our *inertial* reference frame, $\\mc I = (O, \\bhat{e}_1,  \\bhat{e}_2,\\bhat{e}_3)$, and draw free-body diagrams (as in the <a href=\"#fig:2bodyframe\" >figure</a>) and then proceed to apply Newton's second law to each mass in the system, which yields: \n",
    "$$ m_1\\fdddt{\\mc I}\\mf{r}_{1/O} = \\mf F_1 = -\\frac{G m_1 m_2}{\\Vert \\mf r_{1/2}\\Vert^3}\\mf r_{1/2}$$\n",
    "$$ m_2\\fdddt{\\mc I}\\mf{r}_{2/O} = \\mf F_2 = -\\mf F_1 =  -\\frac{G m_1 m_2}{\\Vert \\mf r_{2/1}\\Vert^3}\\mf r_{2/1} = \\frac{G m_1 m_2}{\\Vert \\mf r_{1/2}\\Vert^3}\\mf r_{1/2}$$\n"
   ]
  },
  {
   "cell_type": "markdown",
   "id": "afa39841-119d-4e48-9853-eae592958002",
   "metadata": {},
   "source": [
    "We've also defined $C$ as the location of the [center of mass](<09-Multi-particle Systems.ipynb#Collective-Linear-Motion-of-a-Multi-Particle-System>) of the two bodies:\n",
    "$$ \\mf r_{C/O} = \\frac{m_1 \\mf r_{1/O} + m_2 \\mf r_{2/O}}{m_1 + m_2} $$\n",
    "which we can rewrite as:\n",
    "$$m_1 \\mf r_{1/O} = \\left(m_1 + m_2\\right) \\mf r_{C/O} - m_2 \\mf r_{2/O} = m_1\\mf r_{C/O} + m_2\\left(\\mf r_{C/O} - \\mf r_{2/O}\\right)$$\n",
    "Assuming both masses are constant in time, we can substitute this directly into the second law expression for $m_1$ to get:\n",
    "$$m_1 \\fdddt{\\mc I} \\mf r_{C/O}  + m_2\\left(\\fdddt{\\mc I} \\mf r_{C/O} - \\fdddt{\\mc I} \\mf r_{2/O}\\right) = \\mf F_1 $$\n",
    "If we now substitute the original definition of $\\mf r_{C/O}$ into the second instance (the one being scaled by $m_2$, we can write:\n",
    "$$m_1 \\fdddt{\\mc I} \\mf r_{C/O}  + m_2\\underbrace{\\left( \\fdddt{\\mc I}\\left(\\frac{m_1 \\mf r_{1/O} + m_2 \\mf r_{2/O}}{m_1 + m_2}\\right) - \\fdddt{\\mc I} \\mf r_{2/O}\\right)}_{\\displaystyle \\frac{m_1}{m_1+m_2} \\fdddt{\\mc I}\\left( \\mf r_{1/O} - \\mf r_{2/O}\\right)   } = \\mf F_1$$\n"
   ]
  },
  {
   "cell_type": "markdown",
   "id": "6657d423-7b81-433a-8d7a-7a32dd76c79f",
   "metadata": {},
   "source": [
    "Applying the exact same procedure to the second law expression for the motion of $m_2$, we are left with the pair of expressions:\n",
    "$$m_1 \\fdddt{\\mc I} \\mf r_{C/O} + \\frac{m_1 m_2}{m_1+m_2} \\fdddt{\\mc I}\\left( \\mf r_{1/O} - \\mf r_{2/O}\\right) = \\mf F_1$$\n",
    "$$m_2 \\fdddt{\\mc I} \\mf r_{C/O} - \\frac{m_1 m_2}{m_1+m_2} \\fdddt{\\mc I}\\left( \\mf r_{1/O} - \\mf r_{2/O}\\right) = -\\mf F_1$$\n",
    "\n",
    "<div class=\"alert alert-block alert-info\">\n",
    "The term $\\frac{m_1 m_2}{m_1+m_2}$ arises throughout the analysis of the two-body problem, and is frequently called the <b>reduced mass</b>. It can be interpreted as the effective inertial mass of the two-body system, and is also equal to the reciprocal of the sum of reciprocals of the two masses.\n",
    "</div>\n",
    "\n",
    "If we sum the two equations, all of the terms of opposite signs cancel, and we are left with:\n",
    "$$(m_1 + m_2) \\fdddt{\\mc I} \\mf r_{C/O} = 0$$\n",
    "That is, the center of mass of a two-body system *does not accelerate*!  We could easily have reached this conclusions from first principles (there are no external forces acting on our collection of particles, and we know that internal forces must cancel, leading to an overall conservation of linear momentum for the collection) but it's nice when things are self-consistent. Knowing that the left-hand terms of both our expressions are zero, we now *subtract* the two to yield:\n",
    "$$2\\frac{m_1 m_2}{m_1+m_2} \\fdddt{\\mc I}\\left( \\mf r_{1/O} - \\mf r_{2/O}\\right) = 2\\mf F_1 \\quad \\Longrightarrow \\quad \\frac{m_1 m_2}{m_1+m_2} \\fdddt{\\mc I} \\mf r_{1/2} = -\\frac{G m_1 m_2}{\\Vert \\mf r_{1/2}\\Vert^3}\\mf r_{1/2}$$\n",
    "or equivalently\n",
    "$$ \\fdddt{\\mc I} \\mf r_{1/2} = -\\frac{G(m_1+m_2)}{\\Vert \\mf r_{1/2}\\Vert^3}\\mf r_{1/2}$$\n",
    "\n",
    "We define the **gravitational parameter** $\\mu \\triangleq G(m_1 + m_2)$ and the **orbital radius vector** $\\mf r \\triangleq \\mf r_{1/2}$ and write\n",
    "<div class=\"alert alert-block alert-info\">\n",
    " The two-body differential equation of motion:\n",
    "$$  \\fdddt{\\mc I} \\mf r + \\frac{\\mu\\mf r}{\\Vert \\mf r \\Vert^3} = 0 $$\n",
    "</div>\n",
    "\n",
    "<div class=\"alert alert-block alert-danger\">\n",
    "    A note on the $\\mu$ of it all: This symbol is egregiously overused in astrodynamics. The reduced mass introduced above is frequently denoted by $\\mu$ (we will never use it this way).  More importantly, $\\mu$ is often used to represent the <b>standard gravitational parameter</b> of a single body, in which case it is defined as $Gm$ (for body mass $m$).  In some cases, this is exactly the right term to use, whereas in others it is an approximation.  The latter refers to cases where one body is much more massive than the other (i.e., $m_1 \\gg m_2$ so that $m_1 + m_2 \\approx m_1$).  We will use both versions of $\\mu$, but will always delineate which definition is being used, and remind ourselves of any approximation in play.\n",
    "</div>\n",
    "    \n",
    "<div class=\"alert alert-block alert-danger\">\n",
    "    A note on the orbital radius: If you play back the derivation of the two-body equation of motion, you might notice that our choices leading to a final result where $\\mf r \\equiv \\mf r_{1/2}$ were entirely arbitrary.  Flip a few signs, and you get exactly the same expression (with exactly the same definition of $\\mu$) but with $\\mf r \\equiv \\mf r_{2/1}$.  This expression describes the time evolution of the separation vector between the two bodies.  It does not make any difference in the slightest which body is treated as the origin - both bodies are equivalently in orbit about one another.  We tend to think of smaller bodies as orbiting larger ones, and so by convention, we tend to define the orbital radius as pointing from the more massive to the less massive body, but there is absolutely no reason at all why we cannot reverse this definition at any time.  The only requirement is that we stay consistent in our definition throughout our analysis. \n",
    "</div>\n",
    "\n",
    "<div class=\"alert alert-block alert-warning\">\n",
    "    <b>Exercise</b><br> Prove that the two-body equation of motion remains unchanged if $\\mf r \\triangleq \\mf r_{2/1}$.\n",
    "</div>\n",
    "    "
   ]
  },
  {
   "cell_type": "markdown",
   "id": "47f99e93-d286-4ea3-b45b-4b84d810d364",
   "metadata": {},
   "source": [
    "## Specific Angular Momentum\n",
    "\n",
    "In astrodynamics, we tend to define quantities scaled by the mass of the 'orbiting' (by convention the less massive) body.  These quantities are known as **specific** quantities.  For example, \n",
    "<div class=\"alert alert-block alert-info\">\n",
    "    the <b>specific angular momentum</b> of a two-body system is given by:\n",
    "    $$ \\mf h \\triangleq \\mf r \\times \\fddt{\\mc I}\\mf r \\equiv \\mf r \\times \\mf v$$\n",
    "</div>\n",
    "\n",
    "where we have also defined $\\mf v$ as the inertial derivative of the orbital radius vector, otherwise known as the **orbital velocity vector** (or just orbital velocity).\n",
    "\n",
    "The two-body problem is a [central force problem](<08-Angular Momentum.ipynb#Central-Force-Problems>) and so we know that angular momentum must be conserved.  Let's verify that this assertion applies to the specific angular momentum as well.  We differentiate $\\mf h$ and write:\n",
    "$$\\fddt{\\mc I}{\\mf h} = \\fddt{\\mc I} \\mf r \\times \\fddt{\\mc I} \\mf r + \\mf r \\fddt{\\mc I} \\times \\mf r $$\n",
    "\n",
    "The first term of the right-hand side is zero because it has a vector crossed with itself.  For the second term, we return to the two-body equation of motion, which tells us that:\n",
    "$$\\fdddt{\\mc I} \\mf r \\propto \\mf r$$\n",
    "\n",
    "That is, the second derivative of the orbital radius vector is parallel (actually anti-parallel) to the orbital radius vector itself.  Therefore, their cross product is zero, and the specific angular momentum is conserved.  Isn't that nice?\n",
    "\n",
    "The two-body problem represents a central force problem with an inverse-square force, and so we already know exactly what its solution looks like: [a conic section](<08-Angular Momentum.ipynb#The-Laplace-Runge-Lenz-Vector>).  However, just for practice, let's find the specific form of the LRL vector and conic section solution that is most useful for the gravitational two-body problem."
   ]
  },
  {
   "cell_type": "markdown",
   "id": "681341f6-804a-421b-b9ac-387abcd14b7a",
   "metadata": {},
   "source": [
    "We start by crossing the two-body equation of motion with the specific angular momentum to find:\n",
    "$$ \\fdddt{\\mc I}\\left( \\mf r\\right) \\times \\mf h = - \\frac{\\mu}{\\Vert \\mf r \\Vert^3}\\left(\\mf r \\times \\mf h\\right) =  - \\frac{\\mu}{\\Vert \\mf r \\Vert^3}\\left(\\mf r \\times \\left(\\mf r \\times \\mf v\\right)\\right)$$\n",
    "where we have replaced the second instance of $\\mf h$ on the right-hand side with its definition of $\\mf r \\times \\mf v$.\n",
    "\n",
    "We expand the [vector triple product](<02-Vector Products.ipynb#Vector-Triple-Product>) to find:\n",
    "$$ \\mf r \\times \\left(\\mf r \\times \\mf v\\right) =  \\mf r\\left( \\mf r \\cdot \\mf v\\right) - \\mf v\\underbrace{\\left( \\mf r \\cdot \\mf r\\right)}_{\\displaystyle \\equiv \\Vert \\mf r \\Vert^2} $$\n",
    "and so\n",
    "$$\\fdddt{\\mc I}\\left( \\mf r\\right) \\times \\mf h = - \\frac{\\mu}{\\Vert \\mf r \\Vert^3}\\left(\\left( \\mf r \\cdot \\mf v\\right) \\mf r - \\Vert \\mf r \\Vert^2 \\mf v\\right)$$\n",
    "\n",
    "Focusing momentarily on the first term on the right-hand side, and recalling that $\\mf v$ is the inertial derivative of $\\mf r$, [we can write](<06-Vector Derivatives.ipynb#Vector-Derivatives-in-Time>):\n",
    "$$ \\mf r \\cdot \\mf v = \\mf r \\cdot \\left( \\fddt{\\mc I}\\mf r\\right) = \\left( \\sum_{i=1}^3 r_i \\bhat{e}_i  \\right) \\cdot \\left( \\sum_{i=1}^3 \\dot{r}_i \\bhat{e}_i\\right) = \\sum_{i=1}^3 r_i \\dot r_i =  \\Vert \\mf r \\Vert \\fddt{}\\left(\\Vert \\mf r \\Vert \\right)$$\n",
    "where $r_i$ are the components of the orbital radius vector in the $\\mc I$ frame.  Let's check the final assertion of equality in the equation above:"
   ]
  },
  {
   "cell_type": "code",
   "execution_count": 2,
   "id": "266ff0d7-5482-4b41-840e-5de0d66de84c",
   "metadata": {},
   "outputs": [
    {
     "data": {
      "image/png": "[encoded data removed]",
      "text/latex": [
       "$\\displaystyle r_{1} \\dot{r}_{1} + r_{2} \\dot{r}_{2} + r_{3} \\dot{r}_{3}$"
      ],
      "text/plain": [
       "r₁⋅ṙ₁ + r₂⋅ṙ₂ + r₃⋅ṙ₃"
      ]
     },
     "execution_count": 2,
     "metadata": {},
     "output_type": "execute_result"
    }
   ],
   "source": [
    "# We first define the two vectors and take their dot product\n",
    "r1, r2, r3, rd1, rd2, rd3, t, mu = symbols(\"r_1,r_2,r_3,rdot_1,rdot_2,rdot_3,t,mu\")\n",
    "rvec = Matrix([r1, r2, r3])  # orbital radius\n",
    "vvec = Matrix([rd1, rd2, rd3])  # orbital velocity\n",
    "rdotv1 = rvec.dot(vvec)\n",
    "rdotv1  # radius dotted into velocity"
   ]
  },
  {
   "cell_type": "code",
   "execution_count": 3,
   "id": "cd29c1b5-84f7-45e9-ad29-d0a3f8ca6872",
   "metadata": {},
   "outputs": [
    {
     "data": {
      "image/png": "[encoded data removed]",
      "text/latex": [
       "$\\displaystyle r_{1} \\dot{r}_{1} + r_{2} \\dot{r}_{2} + r_{3} \\dot{r}_{3}$"
      ],
      "text/plain": [
       "r₁⋅ṙ₁ + r₂⋅ṙ₂ + r₃⋅ṙ₃"
      ]
     },
     "execution_count": 3,
     "metadata": {},
     "output_type": "execute_result"
    }
   ],
   "source": [
    "# We next evaluate the norm of the orbital radius vector multiplied by its derivative\n",
    "diffmap = {r1: rd1, r2: rd2, r3: rd3}\n",
    "r = sqrt(rvec.dot(rvec))\n",
    "rdot = difftotal(r, t, diffmap)\n",
    "r * rdot"
   ]
  },
  {
   "cell_type": "markdown",
   "id": "257d4729-b27d-4fb2-8cbd-c08dcedfb1dd",
   "metadata": {},
   "source": [
    "Cool beans. So where are we at? We got here by crossing the two-body equation of motion with the specific angular momentum, so let's get back to that:\n",
    "$$\\fdddt{\\mc I}\\left( \\mf r\\right) \\times \\mf h  = \\underbrace{- \\frac{\\mu}{\\Vert \\mf r \\Vert^2}\\fddt{}\\left(\\Vert \\mf r \\Vert \\right)\\mf r  + \\frac{\\mu}{\\Vert \\mf r \\Vert}\\fddt{\\mc I}\\left(\\mf r \\right)}_{\\displaystyle \\equiv\\fddt{\\mc I}\\left( \\frac{\\mu}{\\Vert \\mf r \\Vert} \\mf r\\right)}  $$\n",
    "\n",
    "Ugh.  Another unproven assertion.  You know what?  You take this one.\n",
    "\n",
    "<div class=\"alert alert-block alert-warning\">\n",
    "    <b>Exercise</b><br> Prove that\n",
    "    $$ - \\frac{\\mu}{\\Vert \\mf r \\Vert^2}\\fddt{}\\left(\\Vert \\mf r \\Vert \\right)\\mf r  + \\frac{\\mu}{\\Vert \\mf r \\Vert}\\fddt{\\mc I}\\left(\\mf r \\right) \\equiv \\fddt{\\mc I}\\left( \\frac{\\mu}{\\Vert \\mf r \\Vert} \\mf r\\right)$$\n",
    "    \n",
    "</div>"
   ]
  },
  {
   "cell_type": "code",
   "execution_count": 4,
   "id": "e63f0b8d-91ec-4cef-af95-ae99b4ac8dec",
   "metadata": {},
   "outputs": [],
   "source": [
    "# Here's some space to play."
   ]
  },
  {
   "cell_type": "markdown",
   "id": "bab50102-e739-4473-9eb3-0cf266a37e7c",
   "metadata": {},
   "source": [
    "Assuming we are satisfied with all of the above (we should be!) we finally turn to the left-hand side of our expression and consider:\n",
    "$$\\fddt{\\mc I}\\left( \\fddt{\\mc I}\\left( \\mf r\\right) \\times \\mf h\\right) = \\fdddt{\\mc I}\\left(\\mf r\\right) \\times \\mf h + \\fddt{\\mc I} \\left( \\mf r\\right) \\times \\fddt{\\mc I} \\left( \\mf h\\right)$$\n",
    "\n",
    "However, $\\mf h$ is a conserved quantity in the two-body problem, and thus the whole second term of the differentiation is zero, leaving us with:\n",
    "$$\\fddt{\\mc I}\\left( \\fddt{\\mc I}\\left( \\mf r\\right) \\times \\mf h\\right) \\equiv \\fdddt{\\mc I}\\left(\\mf r\\right) \\times \\mf h = \\fddt{\\mc I}\\left( \\frac{\\mu}{\\Vert \\mf r \\Vert} \\mf r\\right)  \\Longrightarrow \\fddt{\\mc I}\\left( \\fddt{\\mc I}\\left( \\mf r\\right)  \\times \\mf h - \\frac{\\mu}{\\Vert \\mf r \\Vert} \\mf r\\right) = 0$$\n",
    "\n",
    "*Do you see what just happened there?* We've just produced two exact differentials (in the same variable) on either side of an equation.  This should have the same effect on you as cartoon mice to on cartoon cats.  Your nose should twitch.  Your whiskers quiver. Your tail shake.  You must pounce...and *integrate*!\n",
    "\n",
    "<div class=\"alert alert-block alert-danger\">\n",
    "No, but seriously.  You get a pure differential form, and you integrate that sucker immediately. \n",
    "</div>\n",
    "\n",
    "## The Eccentricity Vector\n",
    "We integrate and find:\n",
    "$$\\fddt{\\mc I}\\left( \\mf r\\right)  \\times \\mf h - \\frac{\\mu}{\\Vert \\mf r \\Vert} \\mf r = \\mf c \\triangleq \\mu \\mf e$$\n",
    "where $\\mf c$ is our (vector-valued) constant of integration, which we define as the gravitational parameter scaled by a vector $\\mf e$, which we'll call the **eccentricity vector**.  We'll return to the physical significance of $\\mf e$ shortly, but for now, it is sufficient to recognize that it is a slightly modified form of the [LRL vector](<08-Angular Momentum.ipynb#The-Laplace-Runge-Lenz-Vector>).  We can, however, immediately make a statement about how it relates to other vector quantities in our system by rearranging the equation to write:\n",
    "$$\\fddt{\\mc I}\\left( \\mf r\\right)  \\times \\mf h  = \\mu \\left( \\frac{\\mf r }{\\Vert \\mf r \\Vert}  + \\mf e\\right)$$\n",
    "\n",
    "By the properties of the cross product, the left-hand side of this expression produces a vector orthogonal to the specific angular momentum.  The first term of the right-hand side is the unit direction of the orbital radius ($\\bhat{r}$), which must similarly be orthogonal to $\\mf h$ by the physics of the central force problem.  This means that our new constant of integration, $\\mf e$ must likewise be orthogonal to $\\mf h$ such that $\\mf e \\cdot \\mf h = 0$. \n",
    "\n",
    "We now proceed to dot our integrated expression with the orbital radius vector to write:\n",
    "\n",
    "$$\\underbrace{\\mf{r} \\cdot \\left( \\fddt{\\mc I}\\left( \\mf r\\right)  \\times \\mf h\\right)}_{\\displaystyle \\equiv \\left( \\mf r \\times \\fddt{\\mc I}\\left( \\mf r\\right)\\right) \\cdot \\mf h}    = \\mu \\left( \\frac{\\mf r \\cdot \\mf r }{\\Vert \\mf r \\Vert}  + \\mf r \\cdot \\mf e\\right)$$\n",
    "\n",
    "where we have taken advantage of the circular permutability of the [scalar triple product](<02-Vector Products.ipynb#Scalar-Triple-Product>).  The left-hand side is thus equivalent to $\\mf h \\cdot \\mf h = \\Vert \\mf h\\Vert^2$. The right-hand side, meanwhile, has the form $\\mu\\left( \\Vert \\mf r \\Vert + \\mf r \\cdot \\mf e\\right)$.  We will make the following definitions:\n",
    "\n",
    "- The specific angular momentum magnitude: $h \\triangleq \\Vert \\mf h \\Vert$\n",
    "- The orbital radius: $r \\triangleq \\Vert \\mf r \\Vert$\n",
    "- **Eccentricity**: $e \\triangleq \\Vert \\mf e \\Vert$\n",
    "- **True Anomaly**: $\\nu \\triangleq \\cos^{-1}\\left( \\mf r \\cdot \\mf e \\right)$ (the angle between the orbital radius and the eccentricity vector).\n",
    "\n",
    "It is important to note that specific angular momentum magnitude is constant by the physics of the central force problem (and our own derivations have confirmed this), while the eccentricity vector is a constant of integration, and thus its magnitude (the eccentricity) must be constant as well.  The orbital radius vector, is free to change in both direction and magnitude, meaning that both the orbital radius and true anomaly can vary in time.  We substitute these definitions into our final expression, above, and find:\n",
    "<div class=\"alert alert-block alert-info\">\n",
    "    <b> The conic section solution to the gravitational two-body problem</b>:\n",
    "    $$r = \\frac{ h^2/\\mu}{1 + e\\cos\\nu}$$\n",
    "</div>\n"
   ]
  },
  {
   "cell_type": "markdown",
   "id": "dc40c6a2-08ec-4a91-908a-3891dbb85553",
   "metadata": {},
   "source": [
    "## The N-Body Problem\n",
    "\n",
    "We will return, momentarily, to a much, much (*much*) deeper analysis of the two-body problem, but first, let us consider the full generalization of this system: the mutual interaction under the force of gravity of $N$ particles.  This is known (as usual, unsurprisingly) as the N-body problem, and is a direct application of our previous discussion on [multi-particle systems](<09-Multi-particle Systems.ipynb#Multi-Particle-Systems>).\n",
    "\n",
    "<p style=\"text-align:center;\"><img src=\"img/nbody_forces2.png\" alt=\"N-Body Problem\" width=\"400\" id=\"fig:Nbodyforces\"/></p>\n",
    "\n",
    "For every mass $i$ in the collection of $N$ masses, we can write its inertial acceleration with respect to an inertially non-accelerating point $O$ as:\n",
    "$$\\fdddt{I}\\mf r_{i/O} = -G \\sum^N_{\\substack{j = 1\\\\ j \\ne i}} \\frac{m_j}{\\Vert \\mf r_{i/j}\\Vert^3} \\mf r_{i/j} $$\n",
    "where the summation represents a double summation over both $i$ and $j$ (other than the single instance of $i = j$, as the particles have no effects on themselves.\n",
    "\n",
    "As with the two-body problem, the center of mass of the whole system ($C$) has zero inertial acceleration:\n",
    "$$\\fdddt{I}\\mf r_{C/O} = 0$$\n",
    "\n",
    "<div class=\"alert alert-block alert-warning\">\n",
    "    <b>Exercise</b><br> Prove all of the above.\n",
    "</div>\n",
    "\n",
    "And that's it. We cannot really go any farther, and we certainly cannot find an analytical solution for the trajectory of any individual particle in our collection.  Even going from 2 bodies to 3 bodies instantly destroys our ability to form analytical solutions.  In astrodynamics, as in life, the addition of a body strangely complicates things.\n",
    "\n",
    "But why is that?"
   ]
  },
  {
   "cell_type": "markdown",
   "id": "21b71c54-3051-4800-9c3f-653d5629d575",
   "metadata": {},
   "source": [
    "# Two-Body Constants of Motion and Integrability\n",
    "\n",
    "We have already established two conserved vector quantities in the two-body system: the specific angular momentum and the eccentricity vector, comprising six scalar quantities.  We know that these six are not independent of one another, since we have established that the two vectors are orthogonal, meaning that only five are truly independent.  On top of this, we know that there must be yet another conserved quantity, as gravity is a conservative force, and therefore must lead to a conservation of total energy. \n",
    "\n",
    "## Specific Energy\n",
    "\n",
    "We define the specific energy of the two-body system as the energy of the 'orbiting' mass (i.e., whichever of the two masses we've selected the orbital radius vector to point at) scaled by its mass.\n",
    "\n",
    "<div class=\"alert alert-block alert-info\">\n",
    "    <b>Specific Energy:</b>\n",
    "    $$\\mc E \\triangleq \\frac{E_\\textrm{tot}}{m} = \\frac{\\mf v \\cdot \\mf v}{2} + U(\\mf r)$$\n",
    "</div>\n",
    "The first terms in the specific energy expression is the (specific) kinetic energy, while the second term represents the particle's potential energy. We posit a gravitational potential that is a function of orbital radius only (same as the gravitational force is a function of the orbital radius only).  Recalling that conservative forces are negative gradients of scalar potential functions, we can write:\n",
    "$$U(\\mf r) = -\\int \\frac{\\mf F}{m} \\cdot \\leftexp{\\mc I}{\\intd{\\mf r}}$$\n",
    "The specific force in the integrand can be replaced with the particle's acceleration (the second derivative of the orbital radius vector), which, by Newton's law of gravity, yields:\n",
    "\n",
    "$$U(\\mf r) = -\\int -\\frac{\\mu \\mf r}{\\Vert \\mf r \\Vert^3}\\cdot \\leftexp{\\mc I}{\\intd{\\mf r}} = -\\frac{\\mu}{r} + \\frac{\\mu}{r_\\mathrm{ref}}$$\n",
    "\n",
    "where the second term in the final expression represents a constant of integration.  We formulate this constant as the potential at some reference orbital radius magnitude $r_\\mathrm{ref}$.  Our basic model of gravity is such that its effects go to zero at infinite separations, and so we take this reference magnitude to be $\\infty$, making the second term zero. \n",
    "\n",
    "Before proceeding, let's make sure that everything here holds.  We can evaluate the gradient of our potential function with respect to the orbital radius vector, which should give us negative the force due to gravity.  Let's check:"
   ]
  },
  {
   "cell_type": "code",
   "execution_count": 5,
   "id": "6ec03e2c-c339-4e26-8a97-4baea2e5c604",
   "metadata": {},
   "outputs": [
    {
     "data": {
      "text/latex": [
       "$\\displaystyle \\left[\\begin{matrix}\\frac{\\mu r_{1}}{\\left(r_{1}^{2} + r_{2}^{2} + r_{3}^{2}\\right)^{\\frac{3}{2}}}\\\\\\frac{\\mu r_{2}}{\\left(r_{1}^{2} + r_{2}^{2} + r_{3}^{2}\\right)^{\\frac{3}{2}}}\\\\\\frac{\\mu r_{3}}{\\left(r_{1}^{2} + r_{2}^{2} + r_{3}^{2}\\right)^{\\frac{3}{2}}}\\end{matrix}\\right]$"
      ],
      "text/plain": [
       "⎡        μ⋅r₁        ⎤\n",
       "⎢────────────────────⎥\n",
       "⎢                 3/2⎥\n",
       "⎢⎛  2     2     2⎞   ⎥\n",
       "⎢⎝r₁  + r₂  + r₃ ⎠   ⎥\n",
       "⎢                    ⎥\n",
       "⎢        μ⋅r₂        ⎥\n",
       "⎢────────────────────⎥\n",
       "⎢                 3/2⎥\n",
       "⎢⎛  2     2     2⎞   ⎥\n",
       "⎢⎝r₁  + r₂  + r₃ ⎠   ⎥\n",
       "⎢                    ⎥\n",
       "⎢        μ⋅r₃        ⎥\n",
       "⎢────────────────────⎥\n",
       "⎢                 3/2⎥\n",
       "⎢⎛  2     2     2⎞   ⎥\n",
       "⎣⎝r₁  + r₂  + r₃ ⎠   ⎦"
      ]
     },
     "execution_count": 5,
     "metadata": {},
     "output_type": "execute_result"
    }
   ],
   "source": [
    "# Gradient of the potential\n",
    "U = -mu / r\n",
    "gradU = Matrix([diff(U, r1), diff(U, r2), diff(U, r3)])\n",
    "simplify(gradU)"
   ]
  },
  {
   "cell_type": "code",
   "execution_count": 6,
   "id": "b74adf29-7bd8-4843-957f-61ec9410a98a",
   "metadata": {},
   "outputs": [
    {
     "data": {
      "text/latex": [
       "$\\displaystyle \\left[\\begin{matrix}0\\\\0\\\\0\\end{matrix}\\right]$"
      ],
      "text/plain": [
       "⎡0⎤\n",
       "⎢ ⎥\n",
       "⎢0⎥\n",
       "⎢ ⎥\n",
       "⎣0⎦"
      ]
     },
     "execution_count": 6,
     "metadata": {},
     "output_type": "execute_result"
    }
   ],
   "source": [
    "# The gradient is exactly the negative of the gravity force\n",
    "gradU + (-mu * rvec / r**3)"
   ]
  },
  {
   "cell_type": "markdown",
   "id": "5cf7aaf0-cab9-4d09-97a0-e0693c726db7",
   "metadata": {},
   "source": [
    "We thus have:\n",
    "$$\\mc E = \\frac{v^2}{2} - \\frac{\\mu}{r}$$\n",
    "where we have defined the orbital velocity magnitude $v \\triangleq \\Vert \\mf v \\Vert$.  The specific energy is explicitly a conserved quantity (giving us a very useful constraint between orbital radius and velocity magnitudes - much more on this soon).  Does that mean that we are back to six total constants of motion for the two-body problem?  Or is there another constraint between the remaining constant values?\n",
    "\n",
    "Let's consider the quantity $\\mf e \\cdot \\mf e$:\n",
    "$$ \\mf e \\cdot \\mf e \\equiv e^2 = \\left( \\frac{\\mf v \\times \\mf h}{\\mu} - \\bhat{r}\\right) \\cdot  \\left( \\frac{\\mf v \\times \\mf h}{\\mu} - \\bhat{r}\\right) $$\n",
    "where we have substituted in the solution for $\\mf e$ from the original integration yielding this constant vector.\n",
    "\n",
    "Expanding out the dot product, we have:\n",
    "$$ e^2 = \\frac{\\left( \\mf v \\times \\mf h\\right) \\cdot \\left( \\mf v \\times \\mf h\\right)}{\\mu^2} - \\underbrace{\\frac{2 \\left( \\mf v \\times \\mf h\\right) \\cdot \\bhat{r}}{\\mu}}_{\\displaystyle \\equiv \\frac{2(\\mf r \\times \\mf h)\\cdot \\mf h}{r\\mu}}  + \\underbrace{\\bhat{r}\\cdot\\bhat{r}}_{\\displaystyle \\equiv 1}$$\n",
    "where we have once again taken advantage of the circular permutability of the scalar triple product in the second term.  Note that the numerator of this term now contains $(\\mf r \\times \\mf h)\\cdot \\mf h$ which is equivalent to $\\mf h \\cdot \\mf h = h^2$.\n",
    "\n",
    "The numerator of the first term on the right-hand side is an example of a scalar *quadruple* product.  In general, it can be shown that:\n",
    "$$(\\mf a \\times \\mf b) \\cdot (\\mf c \\times \\mf d) = (\\mf a \\cdot \\mf c)(\\mf b \\cdot \\mf d) - (\\mf a \\cdot \\mf d)(\\mf b \\cdot \\mf c)$$\n",
    "\n",
    "<div class=\"alert alert-block alert-warning\">\n",
    "    <b>Exercise</b><br> You know what to do.\n",
    "</div>\n",
    "\n",
    "Applying the quadruple product to the first term, we get:\n",
    "$$ \\left( \\mf v \\times \\mf h\\right) \\cdot \\left( \\mf v \\times \\mf h\\right) = \\left(\\mf v \\cdot \\mf v\\right)\\left(\\mf h\\cdot \\mf h \\right) - \\left(\\mf v \\cdot \\mf h\\right) \\left(\\mf v \\cdot \\mf h\\right)$$\n",
    "As $\\mf v$ and $\\mf h$ are orthogonal (remember: all two-body orbital motion takes place in the plane orthogonal to the angular momentum vector), the second term is strictly zero, and what remains is just $v^2 h^2$.\n",
    "\n",
    "Putting all this together, we have:\n",
    "$$ e^2 = \\frac{v^2 h^2}{\\mu^2}  - \\frac{2h^2}{\\mu r} + 1 = \\frac{2 h^2}{\\mu^2}\\mc E + 1$$\n",
    "\n",
    "We have thus established a constraint relationship between the eccentricity and the specific energy, bumping us back down to a total of 5 independent constants in the two-body problem.\n",
    "\n",
    "## Superintegrability\n",
    "Why is the number of constants so important?  Because 5 is as many independent constants that this system can possibly have!  In general, in 3 dimensions, every Newtonian particle has 3 **degrees of freedom** (often abbreviated as DOF).  The number of degrees of freedom in a system is equal to the number of required [generalized coordinates](<01-Introduction.ipynb#Coordinate-Systems>) needed to describe the system, and equal to the number of second-order differential equations of motion produced by the application of Newton's second law. A system with $d$ DOF can have at *most* $2d-1$ constants of motion - a maximally constrained system boils down to a single free parameter (typically something mapping to time - in the case of our two-body conic section solution, the true anomaly, which is a time-varying quantity). \n",
    "\n",
    "Our system consists of 2 particles in 3 dimensions, and so it would seem as if it has 6 DOF, but the particles are constrained to follow paths dictated by their gravitational interactions.  Factoring in the constraints, our two-body system actually has only 3 degrees of freedom (hence being able to describe the motion using the orbital radius vector, which consists of only 3 scalar quantities), and, as we have shown, 5 independent conserved quantities.  Thus, the two-body system has the maximum possible number of constants of motion. \n",
    "\n",
    "Systems with exactly $2d - 1$ constants are called **maximally superintegrable** while systems with $d$ or more constraints are just superintegrable. However, as soon as we add even just one more particle to our original two, all of this instantly goes away.  The N-body system has exactly ten conserved quantities (three from conservation of total linear momentum, three from conservation of total angular momentum, three from the constant velocity of the barycenter, and one from conservation of total energy).  With three bodies, we must describe each of their positions with respect to the barycenter, and so we nominally have 9 degrees of freedom, meaning that there are now only $d+1$ constants.  With each additional body, things only get harder, as those ten conserved quantities are all we get. \n",
    "\n",
    "This is why we will spend so much of our time and efforts on the two-body system: it is literally the only one that can be explicitly solved for all time.  It is the only one where we are not forced to turn to numerical integration to get at the trajectories of the system.  However, this effort is not misplaced. Despite its apparent simplicity, and the basic fact that literally *nothing* in the universe is a true two-body system, lots and lots of things behave like collections of slightly perturbed two-body orbits (the solar system included).  So, it is not that we don't tackle the N-body problem because it's just too hard (it is, but we will anyway, promise).  We pause and make base camp at the two-body problem because the lessons it has to teach us will serve us well as start our ascent away from maximal superintegrability. "
   ]
  },
  {
   "cell_type": "code",
   "execution_count": 7,
   "id": "ccc531dc-cc9c-47ea-8ff7-b9dd24ef5972",
   "metadata": {},
   "outputs": [
    {
     "data": {
      "text/markdown": [
       "# [Next](<12-Keplers Laws.ipynb>)"
      ],
      "text/plain": [
       "<IPython.core.display.Markdown object>"
      ]
     },
     "metadata": {},
     "output_type": "display_data"
    }
   ],
   "source": [
    "# This is just here to generate the link to the next notebook\n",
    "genNextLink()"
   ]
  },
  {
   "cell_type": "code",
   "execution_count": null,
   "id": "47c233c7-3ff8-4918-af59-f9b008c72ce6",
   "metadata": {},
   "outputs": [],
   "source": []
  }
 ],
 "metadata": {
  "kernelspec": {
   "display_name": "Python 3 (ipykernel)",
   "language": "python",
   "name": "python3"
  },
  "language_info": {
   "codemirror_mode": {
    "name": "ipython",
    "version": 3
   },
   "file_extension": ".py",
   "mimetype": "text/x-python",
   "name": "python",
   "nbconvert_exporter": "python",
   "pygments_lexer": "ipython3",
   "version": "3.11.10"
  }
 },
 "nbformat": 4,
 "nbformat_minor": 5
}
