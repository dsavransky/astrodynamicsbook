{
 "cells": [
  {
   "cell_type": "code",
   "execution_count": 1,
   "id": "79a7ff9c-b32b-4164-9ce9-23f8dbdfe68c",
   "metadata": {},
   "outputs": [
    {
     "data": {
      "text/markdown": [
       "$\n",
       "\\def\\bs{\\boldsymbol}\n",
       "\\def\\mf{\\mathbf}\n",
       "\\def\\mb{\\mathbb}\n",
       "\\def\\mc{\\mathcal}\n",
       "\\def\\rfr{\\mathcal}\n",
       "\\def\\grad{{\\rm grad}}\n",
       "\\def\\Re{{\\rm Re}}\n",
       "\\def\\Im{{\\rm Im}}\n",
       "\\def\\und{\\underline}\n",
       "\\def\\ovl{\\overline}\n",
       "\\def\\unb{\\underbrace}\n",
       "\\def\\Log{\\mbox{Log}}\n",
       "\\def\\bfomega{\\bs \\omega}\n",
       "\\def\\bfalpha{\\bs \\alpha}\n",
       "\\def\\da{\\triangleq}\n",
       "\\newcommand{\\leftexp}[2]{{\\vphantom{#2}}^{#1}\\!{#2}}\n",
       "\\newcommand{\\leftsub}[2]{{\\vphantom{#2}}_{#1}\\!{#2}}\n",
       "\\newcommand{\\omegarot}[2]{{\\leftexp{\\mathcal{#1}}{\\boldsymbol{\\omega}}^{\\mathcal{#2}}}}\n",
       "\\newcommand{\\alpharot}[2]{{\\leftexp{\\mathcal{#1}}{\\boldsymbol{\\alpha}}^{\\mathcal{#2}}}}\n",
       "\\newcommand{\\framerot}[2]{{\\leftexp{\\mathcal{#1}}{C}^{\\mathcal{#2}}}}\n",
       "\\newcommand{\\dframerot}[2]{{\\vphantom{\\dot{C}}^{\\mathcal{#1}}\\!{\\dot{C}^{\\mathcal{#2}}}}}\n",
       "\\newcommand{\\bdot}[1]{\\dot{\\mathbf{#1}}}\n",
       "\\newcommand{\\bhat}[1]{\\hat{\\mathbf{#1}}}\n",
       "\\newcommand{\\mbhat}[1]{\\hat{\\mathbb{#1}}}\n",
       "\\def\\iwb{\\omegarot{I}{B}}\n",
       "\\def\\iab{\\alpharot{I}{B}}\n",
       "\\def\\icb{\\framerot{I}{B}}\n",
       "\\def\\dif{\\mathop{}\\!\\mathrm{d}}\n",
       "\\newcommand{\\intd}[1]{\\dif#1}\n",
       "\\newcommand{\\od}[3][]{{ \\frac{\\dif{^{#1}}#2}{\\dif{#3^{#1}}} }}\t\t\t\n",
       "\\newcommand{\\pd}[3][]{{ \\frac{\\partial{^{#1}}#2}{\\partial{#3^{#1}}} }}\t \n",
       "\\newcommand{\\md}[6]{{  \\frac{\\partial{^{#2}}#1}{\\partial{#3^{#4}}\\partial{#5^{#6}}} }}\n",
       "\\newcommand{\\fddt}[2][]{{  \\leftexp{\\mathcal{#2}}{\\frac{\\dif{#1}}{\\dif{t}}}  }}\n",
       "\\newcommand{\\fdddt}[2][]{{  \\leftexp{\\mathcal{#2}}{\\frac{\\dif{^{2}#1}}{\\dif{t^2}}}  }}\n",
       "\\newcommand{\\ddt}[1][]{\\fddt[#1]{I}}\n",
       "$\n"
      ],
      "text/plain": [
       "<IPython.core.display.Markdown object>"
      ]
     },
     "metadata": {},
     "output_type": "display_data"
    },
    {
     "data": {
      "text/markdown": [
       "# [Previous](<15-Keplers Time Equation.ipynb>)"
      ],
      "text/plain": [
       "<IPython.core.display.Markdown object>"
      ]
     },
     "metadata": {},
     "output_type": "display_data"
    }
   ],
   "source": [
    "# These are helpful routines that will assist in building this book. \n",
    "# You should run this block before anything else. There is no output expected.\n",
    "from astrodynamicsbook.bookhelpers import *\n",
    "loadLatexPreamble()\n",
    "\n",
    "# This is only here to create the navigation link:\n",
    "genPrevLink()"
   ]
  },
  {
   "cell_type": "markdown",
   "id": "33658421-c756-40af-80e3-a8607c755ffd",
   "metadata": {},
   "source": [
    "# Inverting Kepler's Time Equation\n",
    "\n",
    "Recall our impetus for deriving the time equation in the first place:  We wished to write our conic section solution explicitly as a function of time, and found that we couldn't.  We now have a daisy-chain of equations mapping from $\\nu$ to $E$ to $M$ and $M$ is directly proportional to time, so, presumably all that's left to do is to invert the time equation.\n",
    "\n",
    "And...we can't. It's a transcendental expression with no closed form solution. So, that was all a giant waste of time, huh?\n",
    "\n",
    "Well, note quite.  While impossible to invert analytically, the time equation is incredibly straight-forward to invert *numerically* using any number of well-established algorithms. Let's explore."
   ]
  },
  {
   "cell_type": "markdown",
   "id": "9172a8c7-9d4b-461e-b7a9-48e7fa2ab4c1",
   "metadata": {},
   "source": [
    "# Newton-Raphson Iteration\n",
    "\n",
    "**Newton-Raphson** iteration (sometimes known as Newton's method, and named in honor - surprise - of Newton and Joseph Raphson, whose greatest claim to fame is how shockingly little we know about his life) is one of the most basic and powerful methods for root-finding (that is, approximating the zeroes of some function). The method goes as follows:\n",
    "\n",
    "<div class=\"alert alert-block alert-info\">\n",
    "    <b>Newton-Raphson Iteration</b>\n",
    "    <ol>\n",
    "        <li>Given a real-valued function $f(x) = 0, \\, x\\in \\mathbb{R}$, its derivative with respect to $x$:\n",
    "        $$f'(x) = \\frac{\\intd{f}}{\\intd{x}}$$\n",
    "        and some starting guess $x_0$</li>\n",
    "        <li> Compute the next guess (iterant) as:\n",
    "            $$x_{n+1} = x_n - \\frac{f(x_n)}{f'(x_n)}$$</li>\n",
    "        <li> Continue updating the solution until converged, that is until:\n",
    "            $$\\vert x_{n+1} - x_n\\vert < \\epsilon$$\n",
    "            for some small value $\\epsilon$</li>\n",
    "    </ol>\n",
    "    </div>\n",
    "    \n",
    "## Newton-Raphson Iteration of the Kepler Time Equation\n",
    "\n",
    "We can easily apply this method to the time equation by first rewriting it to a form that equals zero:\n",
    "$$M - (E - e\\sin(E)) = 0$$\n",
    "Differentiating with respect to $E$ yields $e\\cos(E) - 1$ and so our iteration is given by:\n",
    "$$E_{n+1} = E_n - \\frac{M - E_n + e\\sin(E_n)}{e\\cos(E_n) - 1}$$\n",
    "\n",
    "The only remaining questions are, what should we use as an initial guess, and what should we use as a convergence criterion? Let's consider the latter question first."
   ]
  },
  {
   "cell_type": "markdown",
   "id": "6992589a-eb4f-4963-9dc6-ae563f4c6ba4",
   "metadata": {},
   "source": [
    "# Computer Representations of Real Numbers\n",
    "\n",
    "This feels like a huge aside, but is actually a crucial discussion to have before embarking on any numerical adventures.  The fact is, we will be doing our math on a computer, and it is important to realize that computers have many different ways of encoding numbers, and most are highly non-intuitive and can lead to some pretty surprising behavior. For a start, consider the following:\n",
    "\n",
    "$$1 + 1\\times 10^{-16} - 1$$\n",
    "$$1 + 1\\times 10^{-14} - 1$$\n",
    "\n",
    "We know that these two expressions must evaluate to $1\\times 10^{-16}$ and $1\\times 10^{-14}$, respectively.  But does *your computer* know this?  Let's find out:"
   ]
  },
  {
   "cell_type": "code",
   "execution_count": 9,
   "id": "34e43965-dcc9-4222-ad43-5a999f490946",
   "metadata": {},
   "outputs": [
    {
     "data": {
      "image/png": "[encoded data removed]",
      "text/latex": [
       "$\\displaystyle 0.0$"
      ],
      "text/plain": [
       "0.0"
      ]
     },
     "execution_count": 9,
     "metadata": {},
     "output_type": "execute_result"
    }
   ],
   "source": [
    "1 + 1e-16 - 1"
   ]
  },
  {
   "cell_type": "code",
   "execution_count": 10,
   "id": "c4fcd8db-de28-4cec-a287-49f704a4237e",
   "metadata": {},
   "outputs": [
    {
     "data": {
      "image/png": "[encoded data removed]",
      "text/latex": [
       "$\\displaystyle 9.99200722162641 \\cdot 10^{-15}$"
      ],
      "text/plain": [
       "9.992007221626409e-15"
      ]
     },
     "execution_count": 10,
     "metadata": {},
     "output_type": "execute_result"
    }
   ],
   "source": [
    "1 + 1e-14 - 1"
   ]
  },
  {
   "cell_type": "markdown",
   "id": "4bc2ef1d-96f6-46e6-a9a0-98be6e68c791",
   "metadata": {},
   "source": [
    "What?!?  This is madness.  Not only did neither operation produce the correct answer, but they didn't even fail in the same way. The good news is that this was fully expected and deterministic behavior.  The *better* news is that we get to learn about something new.\n",
    "\n",
    "Say that you wish to encode an arbitrary real number in a computer.  At the most basic level, computers store things in registers as collections of bits, which are binary 0-1 values.\n",
    "\n",
    "<div class=\"alert alert-block alert-danger\">\n",
    "    We're going to be simplifying <i>hugely</i> here so, CS and EE majors: shut your ears.\n",
    "    </div>\n",
    "\n",
    "Thus, the amount of "
   ]
  },
  {
   "cell_type": "code",
   "execution_count": null,
   "id": "1d302049-0d90-41bd-a601-4c6931df6b44",
   "metadata": {},
   "outputs": [],
   "source": []
  }
 ],
 "metadata": {
  "kernelspec": {
   "display_name": "Python 3 (ipykernel)",
   "language": "python",
   "name": "python3"
  },
  "language_info": {
   "codemirror_mode": {
    "name": "ipython",
    "version": 3
   },
   "file_extension": ".py",
   "mimetype": "text/x-python",
   "name": "python",
   "nbconvert_exporter": "python",
   "pygments_lexer": "ipython3",
   "version": "3.9.13"
  }
 },
 "nbformat": 4,
 "nbformat_minor": 5
}
