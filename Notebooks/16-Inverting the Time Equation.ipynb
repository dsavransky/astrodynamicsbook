{
 "cells": [
  {
   "cell_type": "code",
   "execution_count": 11,
   "id": "79a7ff9c-b32b-4164-9ce9-23f8dbdfe68c",
   "metadata": {},
   "outputs": [
    {
     "data": {
      "text/markdown": [
       "$\n",
       "\\def\\bs{\\boldsymbol}\n",
       "\\def\\mf{\\mathbf}\n",
       "\\def\\mb{\\mathbb}\n",
       "\\def\\mc{\\mathcal}\n",
       "\\def\\rfr{\\mathcal}\n",
       "\\def\\grad{{\\rm grad}}\n",
       "\\def\\Re{{\\rm Re}}\n",
       "\\def\\Im{{\\rm Im}}\n",
       "\\def\\und{\\underline}\n",
       "\\def\\ovl{\\overline}\n",
       "\\def\\unb{\\underbrace}\n",
       "\\def\\Log{\\mbox{Log}}\n",
       "\\def\\bfomega{\\bs \\omega}\n",
       "\\def\\bfalpha{\\bs \\alpha}\n",
       "\\def\\da{\\triangleq}\n",
       "\\newcommand{\\leftexp}[2]{{\\vphantom{#2}}^{#1}\\!{#2}}\n",
       "\\newcommand{\\leftsub}[2]{{\\vphantom{#2}}_{#1}\\!{#2}}\n",
       "\\newcommand{\\omegarot}[2]{{\\leftexp{\\mathcal{#1}}{\\boldsymbol{\\omega}}^{\\mathcal{#2}}}}\n",
       "\\newcommand{\\alpharot}[2]{{\\leftexp{\\mathcal{#1}}{\\boldsymbol{\\alpha}}^{\\mathcal{#2}}}}\n",
       "\\newcommand{\\framerot}[2]{{\\leftexp{\\mathcal{#1}}{C}^{\\mathcal{#2}}}}\n",
       "\\newcommand{\\dframerot}[2]{{\\vphantom{\\dot{C}}^{\\mathcal{#1}}\\!{\\dot{C}^{\\mathcal{#2}}}}}\n",
       "\\newcommand{\\bdot}[1]{\\dot{\\mathbf{#1}}}\n",
       "\\newcommand{\\bhat}[1]{\\hat{\\mathbf{#1}}}\n",
       "\\newcommand{\\mbhat}[1]{\\hat{\\mathbb{#1}}}\n",
       "\\def\\iwb{\\omegarot{I}{B}}\n",
       "\\def\\iab{\\alpharot{I}{B}}\n",
       "\\def\\icb{\\framerot{I}{B}}\n",
       "\\def\\dif{\\mathop{}\\!\\mathrm{d}}\n",
       "\\newcommand{\\intd}[1]{\\dif#1}\n",
       "\\newcommand{\\od}[3][]{{ \\frac{\\dif{^{#1}}#2}{\\dif{#3^{#1}}} }}\t\t\t\n",
       "\\newcommand{\\pd}[3][]{{ \\frac{\\partial{^{#1}}#2}{\\partial{#3^{#1}}} }}\t \n",
       "\\newcommand{\\md}[6]{{  \\frac{\\partial{^{#2}}#1}{\\partial{#3^{#4}}\\partial{#5^{#6}}} }}\n",
       "\\newcommand{\\fddt}[2][]{{  \\leftexp{\\mathcal{#2}}{\\frac{\\dif{#1}}{\\dif{t}}}  }}\n",
       "\\newcommand{\\fdddt}[2][]{{  \\leftexp{\\mathcal{#2}}{\\frac{\\dif{^{2}#1}}{\\dif{t^2}}}  }}\n",
       "\\newcommand{\\ddt}[1][]{\\fddt[#1]{I}}\n",
       "$\n"
      ],
      "text/plain": [
       "<IPython.core.display.Markdown object>"
      ]
     },
     "metadata": {},
     "output_type": "display_data"
    },
    {
     "data": {
      "text/markdown": [
       "# [Previous](<15-Keplers Time Equation.ipynb>)"
      ],
      "text/plain": [
       "<IPython.core.display.Markdown object>"
      ]
     },
     "metadata": {},
     "output_type": "display_data"
    }
   ],
   "source": [
    "# These are helpful routines that will assist in building this book. \n",
    "# You should run this block before anything else. There is no output expected.\n",
    "from astrodynamicsbook.bookhelpers import *\n",
    "loadLatexPreamble()\n",
    "\n",
    "# This is only here to create the navigation link:\n",
    "genPrevLink()"
   ]
  },
  {
   "cell_type": "markdown",
   "id": "33658421-c756-40af-80e3-a8607c755ffd",
   "metadata": {},
   "source": [
    "# Inverting Kepler's Time Equation\n",
    "\n",
    "Recall our impetus for deriving the time equation in the first place:  We wished to write our conic section solution explicitly as a function of time, and found that we couldn't.  We now have a daisy-chain of equations mapping from $\\nu$ to $E$ to $M$ and $M$ is directly proportional to time, so, presumably all that's left to do is to invert the time equation.\n",
    "\n",
    "And...we can't. It's a transcendental expression with no closed form solution. So, that was all a giant waste of time, huh?\n",
    "\n",
    "Well, note quite.  While impossible to invert analytically, the time equation is incredibly straight-forward to invert *numerically* using any number of well-established algorithms. Let's explore."
   ]
  },
  {
   "cell_type": "markdown",
   "id": "9172a8c7-9d4b-461e-b7a9-48e7fa2ab4c1",
   "metadata": {},
   "source": [
    "# Newton-Raphson Iteration\n",
    "\n",
    "**Newton-Raphson** iteration (sometimes known as Newton's method, and named in honor - surprise - of Newton and Joseph Raphson, whose greatest claim to fame is how shockingly little we know about his life) is one of the most basic and powerful methods for root-finding (that is, approximating the zeroes of some function). The method goes as follows:\n",
    "\n",
    "<div class=\"alert alert-block alert-info\">\n",
    "    <b>Newton-Raphson Iteration</b>\n",
    "    <ol>\n",
    "        <li>Given a real-valued function $f(x) = 0, \\, x\\in \\mathbb{R}$, its derivative with respect to $x$:\n",
    "        $$f'(x) = \\frac{\\intd{f}}{\\intd{x}}$$\n",
    "        and some starting guess $x_0$</li>\n",
    "        <li> Compute the next guess (iterant) as:\n",
    "            $$x_{n+1} = x_n - \\frac{f(x_n)}{f'(x_n)}$$</li>\n",
    "        <li> Continue updating the solution until converged, that is until:\n",
    "            $$\\vert x_{n+1} - x_n\\vert < \\epsilon$$\n",
    "            for some small value $\\epsilon$</li>\n",
    "    </ol>\n",
    "    </div>\n"
   ]
  },
  {
   "cell_type": "markdown",
   "id": "228c4bbe-b8de-4249-81ce-cbe0165de73b",
   "metadata": {},
   "source": [
    "Let's do a quick example, using function $f(x) = x^2 + x -6$.  We know the roots of the function to be $x = 2,-3$ (always nice to know the result before you begin a software experiment). The derivative of the function is $2x + 1$ and so our iterant is given by:\n",
    "$$x_{n+1} = x_n - \\frac{x^2 + x - 6}{2x + 1}$$\n",
    "\n",
    "We can implement this in many different ways.  Here's just one example:"
   ]
  },
  {
   "cell_type": "code",
   "execution_count": 5,
   "id": "03e3f348-63a0-479d-9723-b724b489db0c",
   "metadata": {},
   "outputs": [
    {
     "name": "stdout",
     "output_type": "stream",
     "text": [
      "6.0\n",
      "3.230769230769231\n",
      "2.203013481363997\n",
      "2.007623800972449\n",
      "2.0000115891269745\n"
     ]
    }
   ],
   "source": [
    "xn = 0 # Our initial guess\n",
    "diff = 1 # This variable will track our current value of |x_n+1 - x_n|\n",
    "while diff > 0.01: # We loop until the difference is below a tolerance value of 0.01\n",
    "    update = (xn**2 + xn - 6)/(2*xn + 1) \n",
    "    diff = abs(update)\n",
    "    xn = xn - update\n",
    "    print(xn) #at each loop we'll print out our current value of the iterant"
   ]
  },
  {
   "cell_type": "markdown",
   "id": "a1b69a74-cd51-453a-9967-4256e6fc4a96",
   "metadata": {},
   "source": [
    "A few notes on the algorithm and the code above:\n",
    "\n",
    "- We used a `while` loop, which makes sense as we do not know, *a priori*, just how many iterations will be needed for convergence. However, there's an inherent danger with while loops of creating and **infinite loop** - i.e., one that does not terminate.  To account for this, it is common to also use a counter variable that increments at each loop iteration and to terminate the loop if the counter exceeds some preset value.\n",
    "- We checked for convergence by looking at the magnitude of the update (i.e., $f(x_n)/f'(x_n)$). An alternative approach is to evaluate the original function at each iteration and check how far you are from zero (i.e., loop until $\\vert f(x_n) \\vert < \\epsilon$)$. Both approaches typically lead to the same results, except for some edge cases (more on that below).\n",
    "- Our initial value of zero led us to converge to the positive root. We would need to start with a different initial value to get the negative root.\n",
    "\n",
    "<div class=\"alert alert-block alert-warning\">\n",
    "<b>Exercise</b><br> Find an initial value for the iteration in the code block above that converges to the negative root of the polynomial.  Are there initial conditions that will get you into trouble?\n",
    "</div>\n"
   ]
  },
  {
   "cell_type": "code",
   "execution_count": 6,
   "id": "bfd8641e-18f5-468d-ad69-4546431d13eb",
   "metadata": {},
   "outputs": [],
   "source": [
    "# Some space for the exercise\n",
    "\n"
   ]
  },
  {
   "cell_type": "markdown",
   "id": "88ca4d3f-8c6c-4e0d-9c9d-759c36b44443",
   "metadata": {},
   "source": [
    "## Newton-Raphson Iteration of the Kepler Time Equation\n",
    "\n",
    "We can easily apply this method to the time equation by first rewriting it to a form that equals zero:\n",
    "$$M - (E - e\\sin(E)) = 0$$\n",
    "Differentiating with respect to $E$ yields $e\\cos(E) - 1$ and so our iteration is given by:\n",
    "$$E_{n+1} = E_n - \\frac{M - E_n + e\\sin(E_n)}{e\\cos(E_n) - 1}$$\n",
    "\n",
    "The only remaining questions are, what should we use as an initial guess, and what should we use as a convergence criterion? Let's consider the latter question first."
   ]
  },
  {
   "cell_type": "markdown",
   "id": "6992589a-eb4f-4963-9dc6-ae563f4c6ba4",
   "metadata": {},
   "source": [
    "# Computer Representations of Real Numbers\n",
    "\n",
    "This feels like a huge aside, but is actually a crucial discussion to have before embarking on any numerical adventures.  The fact is, we will be doing our math on a computer, and it is important to realize that computers have many different ways of encoding numbers, and most are highly non-intuitive and can lead to some pretty surprising behavior. For a start, consider the following:\n",
    "\n",
    "$$1 + 1\\times 10^{-16} - 1$$\n",
    "$$1 + 1\\times 10^{-14} - 1$$\n",
    "\n",
    "We know that these two expressions must evaluate to $1\\times 10^{-16}$ and $1\\times 10^{-14}$, respectively.  But does *your computer* know this?  Let's find out:"
   ]
  },
  {
   "cell_type": "code",
   "execution_count": 9,
   "id": "34e43965-dcc9-4222-ad43-5a999f490946",
   "metadata": {},
   "outputs": [
    {
     "data": {
      "image/png": "[encoded data removed]",
      "text/latex": [
       "$\\displaystyle 0.0$"
      ],
      "text/plain": [
       "0.0"
      ]
     },
     "execution_count": 9,
     "metadata": {},
     "output_type": "execute_result"
    }
   ],
   "source": [
    "1 + 1e-16 - 1"
   ]
  },
  {
   "cell_type": "code",
   "execution_count": 10,
   "id": "c4fcd8db-de28-4cec-a287-49f704a4237e",
   "metadata": {},
   "outputs": [
    {
     "data": {
      "image/png": "[encoded data removed]",
      "text/latex": [
       "$\\displaystyle 9.99200722162641 \\cdot 10^{-15}$"
      ],
      "text/plain": [
       "9.992007221626409e-15"
      ]
     },
     "execution_count": 10,
     "metadata": {},
     "output_type": "execute_result"
    }
   ],
   "source": [
    "1 + 1e-14 - 1"
   ]
  },
  {
   "cell_type": "markdown",
   "id": "4bc2ef1d-96f6-46e6-a9a0-98be6e68c791",
   "metadata": {},
   "source": [
    "What?!?  This is madness.  Not only did neither operation produce the correct answer, but they didn't even fail in the same way. The good news is that this was fully expected and deterministic behavior.  The *better* news is that we get to learn about something new.\n",
    "\n",
    "## Arbitrary-Precision Arithmetic\n",
    "\n",
    "Say that you wish to encode an arbitrary real number in a computer.  At the most basic level, computers store things in registers as collections of bits, which are binary 0-1 values.\n",
    "\n",
    "<div class=\"alert alert-block alert-danger\">\n",
    "    We're going to be simplifying <i>hugely</i> here so, CS and EE majors: shut your ears.\n",
    "    </div>\n",
    "\n",
    "Thus, the amount of memory needed to store our arbitrary real number to its full precision is proportional to the number of digits in its binary (base-2) representation. 8 bits is 1 byte (allowing us to encode values up to $2^8 - 1 = 255$, the minus one because we also have to be able to encode 0), and 1024 ($2^{10}$) of those is a kilobyte, $1024^2$ bytes is a megabyte, and so on. \n",
    "\n",
    "<div class=\"alert alert-block alert-danger\">\n",
    "    There actually exist multiple naming conventions for the sizes of memory units, one (the one describe above) based on powers of 2 and the other (used more and more by hardware manufacturers) based on powers of 10. This is why your various computers can never quite agree on just how much space is available on that flash drive. Technically, we should call what we described above 'kibibytes' and 'mebibytes', but doesn't that sound a bit silly?\n",
    "    </div>\n",
    "    \n",
    "So far, so good. We want to encode the number 100? That's binary 1100100 - 7 bytes.  How about $10^{100}$? A bit more costly, but the binary representation only has 333 bytes - just shy of 42 megabytes.  Seems a little hefty for a single number, but the machine you're likely working on now has memory measured in the gigabytes, and how often do you really need to encode $10^{100}$?\n",
    "\n",
    "The problem is, we've only been talking about integers so far.  The real fun begins when you start trying to encode all real numbers.  Say you want to encode both 100 and 0.01.  Our scheme of just converting numbers to binary won't work, because we don't have a way of specifying where the decimal point is.  Okay, so perhaps we can scale all numbers such that they have no non-zero decimal places before converting to binary.  We would need to carry this scaling along with our encoding, adding more memory requirements, but it would work for any number with a finite number of digits in its decimal representation. \n",
    "\n",
    "Except that the reals contain infinite numbers of values whose decimal representation has an infinite number of digits.  We're not even just talking about irrational and transcendental numbers here - just think about the decimal representation of one third.\n",
    "\n",
    "What we've been discussing so far is known formally as **arbitrary-precision arithmetic** (or multiple-precision or infinite-precision).  This is basically using as much memory as needed (or is available) in order to encode numbers to their full precision.  As we've already intimated, when doing arithmetic with all possible real-values, this can lead to enormous memory requirements and always carries with it quite a bit of computational overhead."
   ]
  },
  {
   "cell_type": "markdown",
   "id": "b3235243-691e-41f1-bcfd-a76821edb708",
   "metadata": {},
   "source": [
    "## Fixed-Precision Arithmetic\n",
    "\n",
    "An alternative to arbitrary-precision encoding is **fixed-precision** (or fixed-point), which works exactly the way it sounds:  non-integer  values are stored to a fixed number of decimal points.  We're all fairly used to fixed-precision representation in our everyday lives via the use of money: regardless of the true costs of things (think gas, which is frequently sold at prices of fractional cents per gallon), we only carry costs to hundredths of dollars (i.e., cents).  A computer encoding of this (base 10 system) would simply scale all values by 100, and then truncate (or round) all values past the new decimal point. \n",
    "\n",
    "For general purpose computer encodings of fixed-precision numbers, it is more common to operate in base 2, and to choose an exponential scaling factor to allow for greater precision. The utility of fixed-precision encodings is that they always take up the same amount of memory for every value encoded.  The huge drawback, however, is that the fixed scaling factor means that the encoding precision may quickly become inadequate as you deal with greater and greater ranges of numbers.  That is, if all of your fixed-precision operations deal with quantities of similar magnitudes (say in the tens and thousands and millions) then everything is ok.  However, as you try to encode values of order 1 and values of order $10^{16}$ using the same precision datatype, you'll quickly run into problems."
   ]
  },
  {
   "cell_type": "markdown",
   "id": "f485aff1-5174-498c-89ab-e3355338ead3",
   "metadata": {},
   "source": [
    "## Floating-Point Arithmetic\n",
    "\n",
    "In order to strike a balance between the drawbacks of infinite-precision and fixed-precision, we come to the concept of **floating-point arithmetic**.  A floating-point encoding uses a fixed variable size (same as fixed-point), but allows the precision of the encoding to drift in proportion to the magnitude of the number being encoded, thus supporting a much larger range of values.  In general, a floating point number is stored as a **significand** ($s$), which has precision ($p$) equal to the number of digits of $s$, and an **exponent** ($e$), such that for base $b$, the number is approximated by:\n",
    "$$ s b^{e-p+1} $$\n",
    "\n",
    "The IEEE 754 standard (adopted in 1985, shortly before floating point units became standard parts of essentially all commercial CPUs), sets out specific definitions for single and double (as well as other, less frequently encountered) floating-point numbers.  Double-precision numbers are the default in a large number of interpreted, weakly typed languages (i.e., anything like Python that doesn't require you to define your variables' types will likely encode non-integer values as double-precision floating point by default). An IEEE 754 double-precision float uses base 2 ($b = 2$) and encodes the significand using 52 bits and exponent using 11 bits (an extra bit is allotted to store the sign of the number for 64 bits total or 8 bytes). \n",
    "\n",
    "With this knowledge in hand, we are finally able to fully understand what was happening in our example with the two subtractions at the start of this section.  The form of the encoding tells us the precision of the encoding as a function of the magnitude of the number being encoded. For any value $x$, we can figure out the smallest step that we can take that will result in a difference in the floating point encoding.  Adding or subtracting any value smaller than this step will literally have no effect on the floating-point number.  Since we are operating in base 2 and using a significand precision of 52, the overall precision of the encoding is:\n",
    "$$2^{\\log_{2}(\\vert x \\vert) - 52}$$\n",
    "\n",
    "Note that the encoding size of the exponent does not determine the encoding precision - it only sets limits on the magnitude of numbers that can be encoded.\n",
    "\n",
    "So let's give it a try:"
   ]
  },
  {
   "cell_type": "code",
   "execution_count": 22,
   "id": "6b9bb253-bc6d-4f16-b981-1e71eb521417",
   "metadata": {},
   "outputs": [],
   "source": [
    "# Define a lambda function for calculating double foating-point\n",
    "# local precisions\n",
    "eps = lambda x: 2**(np.log2(abs(x)) - 52)"
   ]
  },
  {
   "cell_type": "code",
   "execution_count": 23,
   "id": "d8d8c166-fe21-4062-be6c-43f796bb55e8",
   "metadata": {},
   "outputs": [
    {
     "data": {
      "image/png": "[encoded data removed]",
      "text/latex": [
       "$\\displaystyle 2.22044604925031 \\cdot 10^{-16}$"
      ],
      "text/plain": [
       "2.220446049250313e-16"
      ]
     },
     "execution_count": 23,
     "metadata": {},
     "output_type": "execute_result"
    }
   ],
   "source": [
    "# Now let's evalute the epsilon of 1\n",
    "eps(1)"
   ]
  },
  {
   "cell_type": "markdown",
   "id": "a8af16b1-16cc-4ab1-8f5a-f549e69d37c0",
   "metadata": {},
   "source": [
    "And there it is.  We initially added a value ($10^{-16}$) to 1 that was smaller than the smallest step that can be taken away from 1 in the double-precision encoding.  The result of the summation was therefore still 1, and the subsequent subtraction of 1 left a result of zero.  On our second attempt, the number we were adding was larger than the epsilon value, and so the first summation changed the stored floating-point value, but to a value that was not exactly $1+10^{-14}$ but as close as we could get using the precision of the datatype.  When we then subtracted 1, we saw the results of this finite precision as what came back was a value just below $10^{-14}$.\n",
    "\n",
    "The process is, as promised, entirely deterministic, but nonetheless quite startling if you've never encountered it before."
   ]
  },
  {
   "cell_type": "markdown",
   "id": "75119571-86c4-406b-a6ba-304b7933e9ca",
   "metadata": {},
   "source": [
    "## Selecting Convergence Criteria\n",
    "\n",
    "Recall why we embarked on this whole discussion of computer representations of numbers.  We are trying to determine what to use for the $\\epsilon$ value that determines when to terminate our Newton-Raphson iteration loops.  Assuming you are encoding values using standard floating point variables (and typically, there's no reason for you to do otherwise) then the floating point limit defined above represents the absolute limit on possible convergence.  Because the smallest step that can be taken from any floating point value is a function of the magnitude of that value, the absolute convergence limit should be set based on the largest expected iterant value. In the case of inversion of Kepler's time equation, assuming we are forcing all angles to the range of $[0, 2\\pi]$ (or $-\\pi, \\pi$) then we know the absolute limits of values encountered and can use their minimum floating point offsets as the convergence criteria. As a rule of thumb, you probably want to use at least twice of four times this value to ensure that you don't hit any annoying edge cases.\n",
    "\n",
    "<div class=\"alert alert-block alert-danger\">\n",
    "    Note that use of of the floating point relative accuracy (or some small integer multiple of it) for your convergence limit is, for most use cases, <i>massive</i> overkill. In many classic text, you will find fairly arbitrary convergence definitions (e.g. $10^{-6}$ is very popular for various historical reasons) and these will usually work just fine. Using an arbitrary fixed limit will work, and will very rarely cause any kinds of issues. However, as we'll see, using a scaling of floating point relative accuracy incurs fairly minor additional costs on modern hardware, and so this will be our preferred strategy. \n",
    "</div>\n",
    "\n",
    "<div class=\"alert alert-block alert-danger\">\n",
    "    The numpy python package provides a routine called spacing that returns the relative accuracy for any datatype.  The values produced differ slightly from those calculated by our eps function defined above (by less than a factor of 2). In practice, it really doesn't matter which you use.\n",
    "</div>"
   ]
  },
  {
   "cell_type": "markdown",
   "id": "5315eddb-8fc1-4d2c-b3a7-c2f73cbc7321",
   "metadata": {},
   "source": [
    "# Choice of Initial Values\n",
    "\n",
    "Returning back to Newton-Raphson iteration for the Kepler time equation, our final remaining open question is what to use for our initial guess. There has been an enormous amount written on this topic and a huge number of initialization schemes have been proposed. Here, we will quickly introduce a tiny subset of these, and then perform our own benchmarking exercises to establish how well these work.\n",
    "\n",
    "## $E_0 = M$\n",
    "\n",
    "This is the absolute simplest approach and actually has a lot of good points to it. It is incredibly simple to implement, requiring no additional computations.  It is exact for $e=0$, requiring no additional logic checking, and also exactly correct for $M = 0,\\pi$.  The only place where it really runs into issues is for very high eccentricities (i.e, $e$ approaching 1), which might not even come up in practice when dealing with strictly closed orbits. \n",
    "\n",
    "## $E_0 = M + e$\n",
    "\n",
    "Another incredibly simple approach with surprisingly good convergence characteristics. There's not much more to say on this one, and we'll explore it explicitly below.\n",
    "\n",
    "## Taylor Expansion of the Time Equation\n",
    "\n",
    "Let's consider the Taylor expansion of the time equation about $E = 0$:"
   ]
  },
  {
   "cell_type": "code",
   "execution_count": 68,
   "id": "1f193b3f-9bae-4f11-8169-9f213f0a0c0d",
   "metadata": {},
   "outputs": [
    {
     "data": {
      "image/png": "[encoded data removed]",
      "text/latex": [
       "$\\displaystyle E \\left(1 - e\\right) + \\frac{E^{3} e}{6} + O\\left(E^{4}\\right)$"
      ],
      "text/plain": [
       "             3          \n",
       "            E ⋅e    ⎛ 4⎞\n",
       "E⋅(1 - e) + ──── + O⎝E ⎠\n",
       "             6          "
      ]
     },
     "execution_count": 68,
     "metadata": {},
     "output_type": "execute_result"
    }
   ],
   "source": [
    "E,e = symbols(\"E,e\", positive=True)\n",
    "# Another hugely useful sympy method\n",
    "sympy.series(E - e*sin(E),x=E,x0=0,n=4) # Expanding in E, about 0, to fourth order"
   ]
  },
  {
   "cell_type": "markdown",
   "id": "372b31fb-a075-473a-b997-7775af647488",
   "metadata": {},
   "source": [
    "An interesting thing happens in the first two terms of this expansion as $M$ and $E$ diverge. Either one or the other will be much larger.  We can illustrate by plotting the terms against one another for the full range of $E$ values and multiple values of eccentricity:"
   ]
  },
  {
   "cell_type": "code",
   "execution_count": 86,
   "id": "ab2eb3e8-9fc0-47b0-81e6-d337d7c19cdf",
   "metadata": {},
   "outputs": [
    {
     "data": {
      "image/png": "[encoded data removed]",
      "text/plain": [
       "<Figure size 900x600 with 1 Axes>"
      ]
     },
     "metadata": {
      "needs_background": "light"
     },
     "output_type": "display_data"
    }
   ],
   "source": [
    "%matplotlib inline\n",
    "plt.rcParams['figure.dpi'] = 150\n",
    "plt.rcParams['font.size'] = 12\n",
    "fig = plt.figure(figsize=(6,4))\n",
    "ax = fig.add_axes([0,0,1,1])\n",
    "\n",
    "E1 = np.linspace(0,2*np.pi,100)\n",
    "es = [0.1,0.3,0.5, 0.9]\n",
    "\n",
    "for e1 in es:\n",
    "    ax.plot(E1*(1-e1),E1**3*e1/6, linewidth=3, label=\"e = {}\".format(e1)) \n",
    "ax.legend()\n",
    "ax.set_xlim([0,2*np.pi])\n",
    "ax.set_xlabel('$E(1-e)$');\n",
    "ax.set_ylabel('$E^3e/6$');"
   ]
  },
  {
   "cell_type": "markdown",
   "id": "01e7cd77-7bd7-490e-9048-bda8185131e7",
   "metadata": {},
   "source": [
    "How can we use this to choose an initial condition? Let's assume that one or the other term is always dominant.  In that case, we can approximate:\n",
    "$$M \\approx E(1-e) \\quad \\Longrightarrow \\quad E \\approx \\frac{M}{1-e}$$\n",
    "or\n",
    "$$M \\approx \\frac{E^3e}{6} \\quad \\Longrightarrow \\quad E \\approx \\left(\\frac{6M}{e}\\right)^{\\frac{1}{3}}$$\n",
    "\n",
    "The intersection between these two approximations occurs when\n",
    "$$E(1-e) = \\frac{E^3e}{6} \\quad \\Longrightarrow \\quad E = \\sqrt{\\frac{6(1-e)}{e}}$$\n",
    "\n",
    "When the approximation based on the first term is below this value, we wish to use it as our initial guess. Otherwise, we choose the approximation based on the second term:\n",
    "\n",
    "$$E_0 = \\begin{cases}\n",
    "\\dfrac{M}{1-e} & \\dfrac{M}{1-e} < \\sqrt{\\frac{6(1-e)}{e}}\\\\\n",
    "\\left(\\dfrac{6M}{e}\\right)^{\\frac{1}{3}} & \\textrm{else}\n",
    "\\end{cases}$$"
   ]
  },
  {
   "cell_type": "markdown",
   "id": "d1edfd62-4d67-4c12-806a-50f13dd766e8",
   "metadata": {},
   "source": [
    "# Time to do some work\n",
    "\n",
    "<div class=\"alert alert-block alert-warning\">\n",
    "<b>Exercise</b><br> Implement a function for evaluating the eccentric anomaly given the mean anomaly, eccentricity, and an initial guess. Your function should return the result and the number of iterations that were required. Test your function on multiple different cases and using the various initialization strategies described above.\n",
    "</div>"
   ]
  },
  {
   "cell_type": "code",
   "execution_count": null,
   "id": "a068c0f8-ab43-4509-8158-fa1f1379648c",
   "metadata": {},
   "outputs": [],
   "source": [
    "# Define a function to invert Kepler's time equation\n",
    "def invKepler(M,e,E0):\n",
    "    \"\"\"\n",
    "    Args:\n",
    "        M (float):\n",
    "            Mean anomaly (rad)\n",
    "        e (float):\n",
    "            Eccentricity (between 0 and 1)\n",
    "        E0 (float):\n",
    "            Initial guess for eccentric anomaly (rad)\n",
    "\n",
    "    Returns:\n",
    "        tuple:\n",
    "            E (float):\n",
    "                eccentric anomaly (rad)\n",
    "            numIter (int):\n",
    "                Number of iterations    \n",
    "    \"\"\"\n",
    "    \n",
    "    \n",
    "    #write some code!\n",
    "    \n",
    "    \n",
    "    \n",
    "    \n",
    "    return E, numIter"
   ]
  },
  {
   "cell_type": "code",
   "execution_count": null,
   "id": "47ebc1b3-3be8-4687-84b1-37f0d01750c8",
   "metadata": {},
   "outputs": [],
   "source": []
  },
  {
   "cell_type": "code",
   "execution_count": 87,
   "id": "8db09d66-e9a6-4168-be7a-be12192b4bd2",
   "metadata": {},
   "outputs": [
    {
     "data": {
      "image/png": "[encoded data removed]",
      "text/latex": [
       "$\\displaystyle 2.22044604925031 \\cdot 10^{-15}$"
      ],
      "text/plain": [
       "2.2204460492503123e-15"
      ]
     },
     "execution_count": 87,
     "metadata": {},
     "output_type": "execute_result"
    }
   ],
   "source": [
    "eps(10)"
   ]
  },
  {
   "cell_type": "code",
   "execution_count": 88,
   "id": "e65c6a87-06cc-4b71-b906-a6984e9c6dd8",
   "metadata": {},
   "outputs": [
    {
     "data": {
      "image/png": "[encoded data removed]",
      "text/latex": [
       "$\\displaystyle 1.77635683940025 \\cdot 10^{-15}$"
      ],
      "text/plain": [
       "1.7763568394002505e-15"
      ]
     },
     "execution_count": 88,
     "metadata": {},
     "output_type": "execute_result"
    }
   ],
   "source": [
    "np.spacing(10)"
   ]
  },
  {
   "cell_type": "code",
   "execution_count": null,
   "id": "a9208a91-b816-417a-bd00-29ed4eebb2b4",
   "metadata": {},
   "outputs": [],
   "source": []
  }
 ],
 "metadata": {
  "kernelspec": {
   "display_name": "Python 3 (ipykernel)",
   "language": "python",
   "name": "python3"
  },
  "language_info": {
   "codemirror_mode": {
    "name": "ipython",
    "version": 3
   },
   "file_extension": ".py",
   "mimetype": "text/x-python",
   "name": "python",
   "nbconvert_exporter": "python",
   "pygments_lexer": "ipython3",
   "version": "3.9.13"
  }
 },
 "nbformat": 4,
 "nbformat_minor": 5
}
