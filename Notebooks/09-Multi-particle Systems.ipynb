{
 "cells": [
  {
   "cell_type": "code",
   "execution_count": 1,
   "id": "ff4b597e-83e0-4ba6-8b6e-26ba852bae68",
   "metadata": {},
   "outputs": [
    {
     "data": {
      "text/markdown": [
       "$\n",
       "\\def\\bs{\\boldsymbol}\n",
       "\\def\\mf{\\mathbf}\n",
       "\\def\\mb{\\mathbb}\n",
       "\\def\\mc{\\mathcal}\n",
       "\\def\\rfr{\\mathcal}\n",
       "\\def\\grad{{\\rm grad}}\n",
       "\\def\\Re{{\\rm Re}}\n",
       "\\def\\Im{{\\rm Im}}\n",
       "\\def\\und{\\underline}\n",
       "\\def\\ovl{\\overline}\n",
       "\\def\\unb{\\underbrace}\n",
       "\\def\\Log{\\mbox{Log}}\n",
       "\\def\\bfomega{\\bs \\omega}\n",
       "\\def\\bfalpha{\\bs \\alpha}\n",
       "\\def\\da{\\triangleq}\n",
       "\\newcommand{\\leftexp}[2]{{\\vphantom{#2}}^{#1}\\!{#2}}\n",
       "\\newcommand{\\leftsub}[2]{{\\vphantom{#2}}_{#1}\\!{#2}}\n",
       "\\newcommand{\\omegarot}[2]{{\\leftexp{\\mathcal{#1}}{\\boldsymbol{\\omega}}^{\\mathcal{#2}}}}\n",
       "\\newcommand{\\alpharot}[2]{{\\leftexp{\\mathcal{#1}}{\\boldsymbol{\\alpha}}^{\\mathcal{#2}}}}\n",
       "\\newcommand{\\framerot}[2]{{\\leftexp{\\mathcal{#1}}{C}^{\\mathcal{#2}}}}\n",
       "\\newcommand{\\dframerot}[2]{{\\vphantom{\\dot{C}}^{\\mathcal{#1}}\\!{\\dot{C}^{\\mathcal{#2}}}}}\n",
       "\\newcommand{\\bdot}[1]{\\dot{\\mathbf{#1}}}\n",
       "\\newcommand{\\bhat}[1]{\\hat{\\mathbf{#1}}}\n",
       "\\newcommand{\\mbhat}[1]{\\hat{\\mathbb{#1}}}\n",
       "\\def\\iwb{\\omegarot{I}{B}}\n",
       "\\def\\iab{\\alpharot{I}{B}}\n",
       "\\def\\icb{\\framerot{I}{B}}\n",
       "\\def\\dif{\\mathop{}\\!\\mathrm{d}}\n",
       "\\newcommand{\\intd}[1]{\\dif#1}\n",
       "\\newcommand{\\od}[3][]{{ \\frac{\\dif{^{#1}}#2}{\\dif{#3^{#1}}} }}\t\t\t\n",
       "\\newcommand{\\pd}[3][]{{ \\frac{\\partial{^{#1}}#2}{\\partial{#3^{#1}}} }}\t \n",
       "\\newcommand{\\md}[6]{{  \\frac{\\partial{^{#2}}#1}{\\partial{#3^{#4}}\\partial{#5^{#6}}} }}\n",
       "\\newcommand{\\fddt}[2][]{{  \\leftexp{\\mathcal{#2}}{\\frac{\\dif{#1}}{\\dif{t}}}  }}\n",
       "\\newcommand{\\fdddt}[2][]{{  \\leftexp{\\mathcal{#2}}{\\frac{\\dif{^{2}#1}}{\\dif{t^2}}}  }}\n",
       "\\newcommand{\\ddt}[1][]{\\fddt[#1]{I}}\n",
       "$\n"
      ],
      "text/plain": [
       "<IPython.core.display.Markdown object>"
      ]
     },
     "metadata": {},
     "output_type": "display_data"
    },
    {
     "data": {
      "text/markdown": [
       "# [Previous](<08-Angular Momentum.ipynb>)"
      ],
      "text/plain": [
       "<IPython.core.display.Markdown object>"
      ]
     },
     "metadata": {},
     "output_type": "display_data"
    }
   ],
   "source": [
    "# These are helpful routines that will assist in building this book. \n",
    "# You should run this block before anything else. There is no output expected.\n",
    "from astrodynamicsbook.bookhelpers import *\n",
    "loadLatexPreamble()\n",
    "\n",
    "# This is only here to create the navigation link:\n",
    "genPrevLink()"
   ]
  },
  {
   "cell_type": "markdown",
   "id": "fb6708ab-afc8-4a43-b84e-ad6fbd3d01c7",
   "metadata": {
    "tags": []
   },
   "source": [
    "# Multi-Particle Systems\n",
    "\n",
    "Remember: Newton's laws are explicitly defined for particles, and, so far, we have faithfully been sticking to that edict.  However, there's nothing preventing us from applying Newton's laws to lots of particles all at once.  So let's do that. \n",
    "\n",
    "Let's consider a system of $n$ particles, which we will label $P_1 \\ldots P_n$.  Each particle has a mass $m_i$ and is acted upon by a resultant force $\\mf F_i$ for $i \\in [1,n]$.  Applying Newton's second law to each particle, we can write:\n",
    "$$\\mf F_i =  m_i \\leftexp{\\mc I}{\\mf a_{i/O}} \\qquad i = 1\\ldots n$$\n",
    "\n",
    "There. Done. Easy-peasy."
   ]
  },
  {
   "cell_type": "markdown",
   "id": "d7af524f-c631-4104-a5b5-d097d76af5cd",
   "metadata": {},
   "source": [
    "Well, note quite.  Everything we wrote above is true, but it is also trivial and boring, and doesn't take into account particle interactions.  To do so, let's distinguish between **internal forces** and **external forces**.  Internal forces on particles in our collection are due to the rest of the collection.  External forces are everything else. Based on this, we can split the resultant force on mass $m_i$ as:\n",
    "$$ \\mf F_i = \\mf F_i^{\\mathrm{ext}} + \\mf F_i^{\\mathrm{int}} = \\mf F_i^{\\mathrm{ext}} + \\sum_{j \\ne i} \\mf F_{i,j}$$\n",
    "where $\\mf F_i^{\\mathrm{ext}}$ represents the resultant external force on $m_i$ and $\\mf F_i^{\\mathrm{int}}$ represents the net internal force on $m_i$.  The latter is then rewritten as the sum of all of the forces on $m_i$ due to all the other masses $m_j$ in the collection, represented by $\\mf F_{i,j}$.\n",
    "\n",
    "There are a few interesting observations to be made about these internal forces.  First, in our model of forces and particles, we assume that an individual particle cannot exert a force upon itself (since it's just a point mass with no extent in space), and so we assume $\\mf F_{i,i} \\equiv 0$ for any $m_i$.  Second, by Newton's third law, internal forces between pairs of particles must be equal and opposite, and so:\n",
    "$$\\mf F_{i,j} = - \\mf F_{j,i}$$\n",
    "What happens if we sum over all internal forces within a collection of particles? We can write:\n",
    "$$\\sum_i \\mf F_i^{\\mathrm{int}} = \\sum_i \\sum_{j \\ne i} \\mf F_{i,j} = \\sum_i^n \\left(\\mf F_{i,n-i} + \\mf F_{n-i,i}\\right) = 0$$\n",
    "for a collection of $n$ particles.  In other words, the net effect of internal forces on the whole collection must be zero!  Internally, particles making up a collection can interact in very complex ways, but taken as a whole, all of these internal force interactions have to cancel out."
   ]
  },
  {
   "cell_type": "markdown",
   "id": "b27377e6-03fe-4dc5-8efe-c8ee3d9c9c9a",
   "metadata": {},
   "source": [
    "# Collective Linear Motion of a Multi-Particle System\n",
    "We produced an interesting result by considering the summation over all internal forces in a collection of particles, and so it makes sense to see what else we could say about the summed behavior of the whole collection.  We return to our initial application of Newton's second law to each particle in the collection, and now sum over all these expressions to write:\n",
    "$$\\sum_{i=1}^n\\mf F_i = \\sum_{i=1}^n\\left( m_i \\leftexp{\\mc I}{\\mf a_{i/O}}\\right) $$\n",
    "We have already established that the sum over all resultant forces on the entire collection must be equal to the sum of the external forces (as the internal forces cancel out), but what about the right-hand side?  Assuming that each particle has constant mass in time, and recalling that vector derivatives are distributive over vector addition we can rewrite the expression as:\n",
    "$$\\sum_{i=1}^n\\mf F_i^\\textrm{ext} = \\fdddt{I}\\left(\\sum_{i=1}^n\\left( m_i \\mf r_{i/O}\\right) \\right) $$\n",
    "where $\\mf r_{i/O}$ is the position of particle $i$ with respect to some inertially non-accelerating point $O$. \n",
    "\n",
    "This is beginning to look a lot like a Newton's second law statement for a single particle rather than many particles.  The summed force on the left-hand side can be treated as a single resultant force (say $\\mf F^\\textrm{ext}$). If we divide it by the total mass of the collection ($m_G \\triangleq \\sum_{i=1}^n m_i$) then it would represent the acceleration of a single particle with a mass equal to the summed mass of our whole collection of particles.  But how would we describe the position of this mega-particle?  For that, we turn to the right-hand side of our summation expression:\n",
    "$$\\frac{\\mf F^\\textrm{ext}}{m_G} = \\fdddt{I}\\left(\\frac{\\sum_{i=1}^n\\left( m_i \\mf r_{i/O}\\right)}{m_G} \\right) $$\n",
    "The expression in the parentheses on the right-hand side of this equation represents the mass-weighted average of all of the positions of the particles in the collection with respect to point $O$. We call this value the **center of mass** of the collection and generally denote it as $G$:\n",
    "<div class=\"alert alert-block alert-info\">\n",
    "$$\\mf r_{G/O} \\triangleq \\dfrac{\\sum_{i=1}^n\\left( m_i \\mf r_{i/O}\\right)}{\\sum_{i=1}^n m_i}$$\n",
    "</div>\n",
    "\n",
    "The center of mass of our collection is literally the position of a single particle with the total mass of the collection experiencing the same resultant external force as the entire collection. In this way, we have rigorously demonstrated that the linear momentum form of Newton's second law is trivially extensible to multi-particle systems. \n",
    "\n",
    "## Center of Mass Corollary\n",
    "There's an interesting corollary to our center of mass definition (often called, to everyone's great surprise, the **center of mass corollary**).  We can express the position of each particle in the collection as:\n",
    "$$ r_{i/O} = r_{i/G} + r_{G/O} $$\n",
    "Substituting into the center of mass definition:\n",
    "$$\\mf r_{G/O} = \\frac{1}{\\sum_{i=1}^n m_i}\\sum_{i=1}^n\\left( m_i \\left(\\mf r_{i/G} + r_{G/O}\\right)\\right) = \\frac{1}{\\sum_{i=1}^n m_i}\\left(\\sum_{i=1}^n\\left( m_i \\mf r_{i/G}\\right) + \\sum_{i=1}^n m_i  r_{G/O}\\right) \\Longrightarrow 0 =  \\sum_{i=1}^n\\left( m_i \\mf r_{i/G}\\right) $$\n",
    "\n",
    "That is, the mass-weighted sum (or average) of all particle positions with respect to the center of mass of the collection is zero! This is the one (and only) special thing about the center of mass and why it is the position at which the whole collection's linear momentum can be treated as if belonging to a single, Newtonian particle. \n",
    "\n",
    "<div class=\"alert alert-block alert-danger\">\n",
    "Center of gravity is not the same thing as center of mass. A body's center of gravity is the point about which gravity forces produce a net zero resultant torque.  If gravity is being modeled as a constant force (more on this later) then the center of mass and center of gravity are the same point.  However, these are two entirely separate concepts and should not be confused or conflated, lest ye be judged.  Harshly. \n",
    "</div>"
   ]
  },
  {
   "cell_type": "markdown",
   "id": "0efc2350-e1bb-4199-9d28-e4dc213510ea",
   "metadata": {},
   "source": [
    "# Angular Momentum of Collections of Particles\n",
    "\n",
    "Given our discussion on the linear momentum of collections of particles, it would seem that treating the angular momentum of many particles should be similarly straightforward.  Of course, given the preceding sentence, you obviously now know that that won't be the case.  As we attempt the same thing we did with linear momentum with angular momentum (i.e., summing over all of the torques on our collection of particles), we very quickly hit a brick wall.  Let us now explore the nature of this wall."
   ]
  },
  {
   "cell_type": "markdown",
   "id": "15d0df79-4cf1-40e8-9741-695e59c90d95",
   "metadata": {},
   "source": [
    "As before, we define the angular momentum of particle $i$ about inertially non-accelerating point $O$ as $\\leftexp{\\mc I}{\\mf h_{i/O}} \\triangleq  m_i \\mf r_{i/O} \\times \\leftexp{\\mc I}{\\mf v_{i/O}}$, and define the total angular momentum of the full collection of $N$ particles about $O$ as:\n",
    "$$\\leftexp{\\mc I}{\\mf h_O} \\triangleq \\sum_{i=1}^N \\leftexp{\\mc I}{\\mf h_{i/O}} = \\sum_{i=1}^N m_i \\mf r_{i/O} \\times \\leftexp{\\mc I}{\\mf v_{i/O}}$$\n",
    "The time derivative of this quantity must be equal to the net moment (torque) on the collection, and we once again split the forces generating all torques into external and internal forces, leading to the expression: \n",
    "$$\\fddt{I}\\left(\\leftexp{\\mc I}{\\mf h_O}\\right) = \\underbrace{\\sum_{i=1}^N \\mf r_{i/O} \\times \\mf F_i^\\textrm{ext}}_{\\displaystyle \\triangleq \\mf M_O^\\textrm{ext}} + \\sum_{i=1}^N\\left( \\mf r_{i/O} \\times \\sum_{j=1}^N \\mf F_{i,j}\\right)$$\n",
    "\n",
    "We again appear to have an expression that looks a lot like the angular version of Newton's second law for the entire collection, except that this time, annoyingly, the final term cannot simply be automatically dismissed by the application of Newton's third law.  This last assertion is not necessarily self-evident.  The easiest way to demonstrate its truth is with a specific example. \n",
    "\n",
    "Consider the interaction between between a magnetically charged particle $P$ and a magnetic dipole $D$, whose dipole moment is perpendicular to the plane in which the particle and dipole lie (we'll call this direction $\\bhat{z}$). The force on the particle due to the dipole will have the form:\n",
    "$$\\mf F_{P,D} = \\frac{\\kappa}{\\Vert \\mf r_{P/D} \\Vert^3} \\leftexp{\\mc I}{\\mf v_{P/O}} \\times \\left(3\\left(\\bhat{z}\\cdot \\bhat{r}_{P/D}\\right) \\bhat{r}_{P/D} - \\bhat{z}\\right)$$\n",
    "where $\\kappa$ is a constant that is a function of the dipole's magnetic strength, the particle's charge and mass, and the permeability of free space. Even though there are only internal forces in this system, and the force on the dipole due to the particle must be equal and opposite to the force on the particle, the force acts in a direction perpendicular to the vector separating the two particles.  We therefore expect a non-zero internal moment, which can be confirmed by evaluating the final term of our total angular momentum balance expression:\n",
    "$$\\sum_{i=1}^N\\left( \\mf r_{i/O} \\times \\sum_{j=1}^N \\mf F_{i,j}\\right) = \\mf r_{P/O} \\times \\mf F_{P,D} + \\mf r_{D/O} \\times \\mf F_{D,P} = -\n",
    "\\frac{\\kappa}{\\Vert \\mf r_{P/D} \\Vert^3} \\mf r_{P/D} \\times \\left( \\leftexp{\\mc I}{\\mf v_{P/O}} \\times \\bhat{z}\\right)$$\n",
    "As $\\bhat{z}$ is perpendicular to the plane of the trajectory, this will be guaranteed to be non-zero."
   ]
  },
  {
   "cell_type": "markdown",
   "id": "a987a148-6a57-48b1-913b-23e46be7de3e",
   "metadata": {},
   "source": [
    "## The Internal Moment Assumption\n",
    "\n",
    "If you're thinking to yourself that that was a fairly tortured example, you're not wrong. The vast majority of the time, internal forces will act along the separation vectors between elements of a collection, making the internal moments all explicitly zero.  Even when this is not true, you are still probably fairly safe in making what is sometimes called the **internal moment assumption**: that the net internal moments are zero, or:\n",
    "$$\\sum_{i=1}^N\\sum_{j=1}^N \\left(\\mf r_{i/j} \\times \\mf F_{i,j}\\right) = 0$$\n",
    "\n",
    "If this assumption holds, then $\\sum_{i=1}^N\\left( \\mf r_{i/O} \\times \\sum_{j=1}^N \\mf F_{i,j}\\right) = 0$, and we regain the single particle-like form of total angular momentum:\n",
    "\n",
    "$$\\fddt{I}\\left(\\leftexp{\\mc I}{\\mf h_O}\\right) = \\mf M_O^\\textrm{ext}$$\n",
    "\n",
    "<div class=\"alert alert-block alert-warning\">\n",
    "    <b>Exercise</b><br> Prove that the given form of the internal moment assumption yields the above equation.\n",
    "</div>"
   ]
  },
  {
   "cell_type": "code",
   "execution_count": 2,
   "id": "b7be1995-a2ef-46f4-9cef-0df817d36c3d",
   "metadata": {},
   "outputs": [
    {
     "data": {
      "text/markdown": [
       "# [Next](<10-Gravity.ipynb>)"
      ],
      "text/plain": [
       "<IPython.core.display.Markdown object>"
      ]
     },
     "metadata": {},
     "output_type": "display_data"
    }
   ],
   "source": [
    "# This is just here to generate the link to the next notebook\n",
    "genNextLink()"
   ]
  }
 ],
 "metadata": {
  "kernelspec": {
   "display_name": "Python 3 (ipykernel)",
   "language": "python",
   "name": "python3"
  },
  "language_info": {
   "codemirror_mode": {
    "name": "ipython",
    "version": 3
   },
   "file_extension": ".py",
   "mimetype": "text/x-python",
   "name": "python",
   "nbconvert_exporter": "python",
   "pygments_lexer": "ipython3",
   "version": "3.9.10"
  }
 },
 "nbformat": 4,
 "nbformat_minor": 5
}
