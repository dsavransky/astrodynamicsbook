{
 "cells": [
  {
   "cell_type": "code",
   "execution_count": 1,
   "id": "2eb09c97-e3e7-4bda-84ee-84f374c65c23",
   "metadata": {},
   "outputs": [
    {
     "data": {
      "text/markdown": [
       "$\n",
       "\\def\\bs{\\boldsymbol}\n",
       "\\def\\mf{\\mathbf}\n",
       "\\def\\mb{\\mathbb}\n",
       "\\def\\mc{\\mathcal}\n",
       "\\def\\rfr{\\mathcal}\n",
       "\\def\\grad{{\\rm grad}}\n",
       "\\def\\Re{{\\rm Re}}\n",
       "\\def\\Im{{\\rm Im}}\n",
       "\\def\\und{\\underline}\n",
       "\\def\\ovl{\\overline}\n",
       "\\def\\unb{\\underbrace}\n",
       "\\def\\Log{\\mbox{Log}}\n",
       "\\def\\bfomega{\\bs \\omega}\n",
       "\\def\\bfalpha{\\bs \\alpha}\n",
       "\\def\\da{\\triangleq}\n",
       "\\newcommand{\\leftexp}[2]{{\\vphantom{#2}}^{#1}\\!{#2}}\n",
       "\\newcommand{\\leftsub}[2]{{\\vphantom{#2}}_{#1}\\!{#2}}\n",
       "\\newcommand{\\omegarot}[2]{{\\leftexp{\\mathcal{#1}}{\\boldsymbol{\\omega}}^{\\mathcal{#2}}}}\n",
       "\\newcommand{\\alpharot}[2]{{\\leftexp{\\mathcal{#1}}{\\boldsymbol{\\alpha}}^{\\mathcal{#2}}}}\n",
       "\\newcommand{\\framerot}[2]{{\\leftexp{\\mathcal{#1}}{C}^{\\mathcal{#2}}}}\n",
       "\\newcommand{\\dframerot}[2]{\\ensuremath{\\vphantom{C}^{\\mathcal{#1}}\\!{\\dot C^{\\mathcal{#2}}}}}\n",
       "\\newcommand{\\bdot}[1]{\\dot{\\mathbf{#1}}}\n",
       "\\newcommand{\\bhat}[1]{\\hat{\\mathbf{#1}}}\n",
       "\\def\\iwb{\\omegarot{I}{B}}\n",
       "\\def\\iab{\\alpharot{I}{B}}\n",
       "\\def\\icb{\\framerot{I}{B}}\n",
       "\\def\\dif{\\mathop{}\\!\\mathrm{d}}\n",
       "\\newcommand{\\intd}[1]{\\dif#1}\n",
       "\\newcommand{\\od}[3][]{{ \\frac{\\dif{^{#1}}#2}{\\dif{#3^{#1}}} }}\t\t\t\n",
       "\\newcommand{\\pd}[3][]{{ \\frac{\\partial{^{#1}}#2}{\\partial{#3^{#1}}} }}\t \n",
       "\\newcommand{\\md}[6]{{  \\frac{\\partial{^{#2}}#1}{\\partial{#3^{#4}}\\partial{#5^{#6}}} }}\n",
       "\\newcommand{\\fddt}[2][]{{  \\leftexp{\\mathcal{#2}}{\\frac{\\dif{#1}}{\\dif{t}}}  }}\n",
       "\\newcommand{\\fdddt}[2][]{{  \\leftexp{\\mathcal{#2}}{\\frac{\\dif{^{2}#1}}{\\dif{t^2}}}  }}\n",
       "\\newcommand{\\ddt}[1][]{\\fddt[#1]{I}}\n",
       "$\n"
      ],
      "text/plain": [
       "<IPython.core.display.Markdown object>"
      ]
     },
     "metadata": {},
     "output_type": "display_data"
    },
    {
     "data": {
      "text/markdown": [
       "# [Previous](<01-Introduction.ipynb>)"
      ],
      "text/plain": [
       "<IPython.core.display.Markdown object>"
      ]
     },
     "metadata": {},
     "output_type": "display_data"
    }
   ],
   "source": [
    "# These are helpful routines that will assist in building this book. \n",
    "# You should run this block before anything else. There is no output expected.\n",
    "from astrodynamicsbook.bookhelpers import *\n",
    "loadLatexPreamble()\n",
    "\n",
    "# This is only here to create the navigation link:\n",
    "genPrevLink()"
   ]
  },
  {
   "cell_type": "markdown",
   "id": "bec538dc",
   "metadata": {},
   "source": [
    "# Vector Products"
   ]
  },
  {
   "cell_type": "markdown",
   "id": "161458e8",
   "metadata": {
    "tags": []
   },
   "source": [
    "Recall that our definition of vectors (as elements of a vector space) carried with it the definition of a vector addition operator and scalar multiplication operator, but no vector multiplication operator.  Part of the reason for this is that no such operator required for the vector space definition to work, but also, because there's not one unique operator (or even class of operators) that you can call vector multiplication.  There are at least three different types of operator that can all equivalently be termed vector multiplication, and each of them produces an entirely different *kind* of result.  We will now discuss each of these, in turn.\n",
    "\n",
    "## (Scalar) Dot Product\n",
    "\n",
    "The **dot product**, sometimes called a **scalar dot product** or **scalar product** is an operation on two vectors returning a scalar (i.e., $V \\times V \\rightarrow \\mc F$ for vector space $V$ defined over field $\\mc F$).  Formally, it is an **inner product** for the Euclidean vector space. Inner products are additional operators that can be defined for vector spaces (making them into inner product spaces) that are defined (much like vector addition) by their required properties.   Here, we will list the relevant properties of the scalar dot product of the Euclidean vector space defined over the field of real numbers, which are a subset of the full inner product definition. \n",
    "\n",
    "<div class=\"alert alert-block alert-info\">\n",
    "    Given geometric vectors $\\mf a, \\mf b, \\mf c$, and scalars $x,y$, the scalar dot product is:<br>\n",
    "<ol>\n",
    "    <li> Commutative: $\\mf a \\cdot \\mf b = \\mf b \\cdot  \\mf a$</li>\n",
    "    <li> Distributive over vector addition: $\\mf a \\cdot (\\mf b+ \\mf c) = \\mf a \\cdot \\mf b + \\mf a \\cdot \\mf c$</li>\n",
    "    <li> Compatible with scalar multiplication: $x\\mf a \\cdot y\\mf b = xy(\\mf a \\cdot \\mf b)$</li>\n",
    "</ol>\n",
    "</div>\n",
    "\n",
    "The dot product also gives us our first formal definition of orthogonality.  Two vectors $\\mf a$ and $\\mf b$ are mutually orthogonal if and only if $\\mf a \\cdot \\mf b = 0$. 'If and only if' (iff) is one of the strongest statements you can make in mathematics. It defines a bi-directional relationship, such that each half of the statement requires the other.  That is to say, if you have two vectors whose dot product equals zero, then they are necessarily orthogonal to one another, and stating that two vectors are orthogonal equivalently means that their dot product is zero. \n",
    "\n",
    "<p style=\"text-align:center;\"><img src=\"img/dot_product.png\" alt=\"Scalar Dot Product\" width=\"350\" id=\"fig:dotproduct\"/></p>\n",
    "\n",
    "There is also a purely geometric interpretation of the dot product, as illustrated in the <a href=\"#fig:dotproduct\" >figure</a>, above. Recall our visualization of Euclidean vectors as joining two points in space.  Recall also our previous discussion that any two vectors with the same magnitude and direction are effectively the same vector.  This means that we can always represent two vectors as being co-originating, as in the <a href=\"#fig:dotproduct\" >figure</a>.  That is to say, if we have a vector joining points $A$ and $B$, and another vector joining points $C$ and $D$, we can always draw them as two legs of a triangle, as in the <a href=\"#fig:dotproduct\" >figure</a>, so long as we preserve their magnitudes and directions.  From Euclidean geometry, we know that every triangle lies within a plane, and so we are always able to uniquely define an angle between our two vectors, which we shall call $\\theta$. Given all this, we can state another definition for the scalar dot product:\n",
    "<div class=\"alert alert-block alert-info\">\n",
    "   $$\\mf a \\cdot \\mf b = \\Vert \\mf a \\Vert\\Vert \\mf b \\Vert \\cos\\theta$$\n",
    "</div>\n",
    "\n",
    "If the angle between the two vectors is 90 degrees, then the cosine and the overall dot product evaluate to zero.  In this way, orthogonality of Euclidean vectors is equivalent to the vectors being at a right angle to one another, as we posited earlier.  Yay! We have resolved one of our pending assumptions! Only about eleventy-billion left to go. We now have a working definition of the geometric relationship between the unit vectors forming our reference frames:  if $\\bhat{e}_1, \\bhat{e}_2, \\bhat{e}_3$ form a reference frame, then $\\bhat{e}_1 \\cdot \\bhat{e}_2 = 0$, $\\bhat{e}_1 \\cdot \\bhat{e}_3 = 0$ and $\\bhat{e}_2 \\cdot \\bhat{e}_3 = 0$.\n",
    "\n",
    "The geometric interpretation of the dot product also nails down the concept of **projection**. The point of a reference frame is that it allows us to decompose any vector into components that measure the parts of the vector that extend in the directions of each of the three unit vectors making up the frame.  If a vector's direction is, for example, entirely in $\\bhat{e}_1$, then we would expect that this vector has a non-zero $\\bhat{e}_1$ component (with a measure number equal to the vector's magnitude) and zero components in the $\\bhat{e}_2$ and $\\bhat{e}_3$ directions.  Alternatively, if a vector lies entirely in the $\\bhat{e}_2 - \\bhat{e}_3$ plane, then we would expect the $\\bhat{e}_2$ and $\\bhat{e}_3$ components to be non-zero, and the $\\bhat{e}_1$ component to be zero.  The process of extracting the component of a vector that lies in a particular direction is the process of projection.  Mathematically, what we are doing when we calculate the components of a vector in the various directions of a reference frame is computing the dot product of the vector with each of those directions.  That is, the $\\bhat{e}_1$ component of a vector $\\mf r$ is $(\\mf r \\cdot \\bhat{e}_1) \\bhat{e}_1$.  More generally, we can write:\n",
    "<div class=\"alert alert-block alert-info\">\n",
    "   $$\\left[\\mf r \\right]_\\mc I = \\begin{bmatrix}\\mf r \\cdot \\bhat{e}_1 \\\\ \\mf r \\cdot \\bhat{e}_2 \\\\ \\mf r \\cdot \\bhat{e}_3\\end{bmatrix}_\\mc I  \\quad\\mathrm{for}\\quad \\mc I = (\\bhat{e}_1,\\bhat{e}_2,\\bhat{e}_3)$$ \n",
    "</div>\n",
    "\n",
    "Any vector can be projected onto any other vector (unit or not, defining a frame or not).  The interpretation of the projection of vector $\\mf a$ onto vector $\\mf b$ is the calculation of the component of $\\mf a$ in the direction of $\\mf b$. Looking again at the <a href=\"#fig:dotproduct\" >figure</a>, above, we see that the process of projection is geometrically linked to the formation of right triangles.  The part of $\\mf a$ that lies in the direction of $\\mf b$ (what we call $\\bhat{b}$) is equal in magnitude to the base of the right triangle whose hypotenuse is given by $\\mf a$ and whose height is the right intersection of a line drawn from the end of $\\mf a$ with $\\mf b$ (this is why pictures are better - all of these words can be needlessly confusing, but they help nail down exactly what is happening). The magnitude of this base is given by the doc product of $\\mf a$ with the direction of $\\mf b$: $\\mf a \\cdot \\bhat{b}$. We can similarly project $\\mf b$ onto $\\mf a$, and the magnitude of this projection will be the length of the base of the right triangle whose height is drawn from the end of $\\mf b$ and makes a right intersection with $\\mf a$.  The magnitude of this base will be $\\mf b \\cdot \\bhat{a}$. \n",
    "\n",
    "Finally, let's consider the case of a vector dotted with itself.  Using the geometric formula given above, we have:\n",
    "$$\\mf a \\cdot \\mf a = \\Vert \\mf a \\Vert \\Vert \\mf a \\Vert \\cos(0) = \\Vert \\mf a \\Vert^2$$\n",
    "where the zero comes from the fact that a vector is parallel to itself, and therefore the angle separating a vector from itself is zero. This is a very important finding, as it gives us a practical way of computing vector norms (more on this soon).\n"
   ]
  },
  {
   "cell_type": "markdown",
   "id": "e995f1ad",
   "metadata": {
    "tags": []
   },
   "source": [
    "## (Vector) Cross Product\n",
    "\n",
    "The **cross product**, sometimes called a **vector dot product** or **vector product** is an operation on two *Euclidean* vectors returning another Euclidean vector (i.e., $V \\times V \\rightarrow V$ for geometric vector space $V$). Notice that, unlike in our dot product definition, here we are very specific about the fact that it applies only to geometric vectors (i.e., $\\mb R^3$).  There is no generalization of the cross product to other vector spaces like the inner product generalization for the dot product.  In fact, the cross product we are about to explore can *only* be defined for $\\mb R^3$ and $\\mb R^7$.\n",
    "\n",
    "<div class=\"alert alert-block alert-danger\">\n",
    "$\\mb R^7$, you say.  Where did $\\mb R^7$ come from? Don't panic, $\\mb R^7$ is just like $\\mb R^3$, really, if you have four extra dimensions. Many people struggle to ascribe physical significance to the fact that the operator that we're describing here is only definable in these two vector spaces, one of which appears to map directly to our perception of the physical universe.  It is tempting to want to similarly map $\\mb R^7$ to our world, and though there are a few correspondences, they are neither as straightforward nor as useful as the ones we find for $\\mb R^3$.  So, basically...don't worry about it.  Treat this as just a quirk of our mathematics, which it most likely is. And for the love of all that is good and holy, do not get dragged into the mess that is the physical interpretation of Octonians. You have been warned.  \n",
    "</div>\n",
    "\n",
    "<div class=\"alert alert-block alert-info\">\n",
    "    Given geometric vectors $\\mf a, \\mf b, \\mf c$, and scalar $x$, the vector cross product is:<br>\n",
    "<ol>\n",
    "    <li> Anti-Commutative: $\\mf a \\times \\mf b = -\\mf b \\cdot  \\mf a$</li>\n",
    "    <li> Distributive over vector addition: $\\mf a \\times (\\mf b+ \\mf c) = \\mf a \\times \\mf b + \\mf a \\times \\mf c$</li>\n",
    "    <li> Compatible with scalar multiplication: $x\\mf a \\times \\mf b = x(\\mf a \\times \\mf b) = \\mf a \\times x\\mf b$</li>\n",
    "</ol>\n",
    "</div>\n",
    "\n",
    "<p style=\"text-align:center;\"><img src=\"img/cross_product.png\" alt=\"Vector Cross Product\" width=\"400\" id=\"fig:crossproduct\"/></p>\n",
    "\n",
    "Just like the dot product, the cross product has a geometric interpretation:\n",
    "<div class=\"alert alert-block alert-info\">\n",
    " $$\\mf a \\times \\mf b = \\Vert \\mf a \\Vert \\Vert \\mf b \\Vert \\sin\\theta \\mathbf{\\hat{c}} \\quad\\mathrm{where}\\quad \\mathbf{\\hat{c}} \\perp \\mf a, \\mf b$$\n",
    "</div>\n",
    "\n",
    "$\\perp$ means 'perpendicular to', which we now understand (for geometric vectors) to be equivalent to 'orthogonal to'. So, the cross product of vectors $\\mf a$ and $\\mf b$ produces a new vector whose magnitude is equal to the product of their magnitudes and the sine of the angle between them, and which points in the direction that is orthogonal to the directions of both vectors. The geometric interpretation of the magnitude of the cross product output is relatively straightforward: $\\Vert \\mf a \\Vert \\Vert \\mf b \\Vert \\sin\\theta$ is equal to the area of the parallelogram whose edges are defined by $\\mf a$ and $\\mf b$. Notice that the sine term evaluates to zero for a $\\theta$ of $0^\\circ$ and $180^\\circ$.  This means that if $\\mf a$ and $\\mf b$ are parallel or anti-parallel, their cross product will be zero.  Similarly, the cross product with itself (or with its own unit direction, or with its additive inverse, or with the direction of its additive inverse) will also be zero.\n",
    "\n",
    "The direction of the cross-product output is a bit harder.  We start by noting that 'the direction orthogonal to both $\\mf a$ and $\\mf b$' is not uniquely defined, even in $\\mb R^3$ (it is not even remotely uniquely defined in other vector spaces, which is why the cross product operator is itself undefined in those other vector spaces).  Looking at the <a href=\"#fig:crossproduct\" >figure</a>, we see that both $\\bhat{c}$ and $-\\bhat{c}$ are equivalently orthogonal to both $\\mf a$ and $\\mf b$.  So, how do we select which direction to use for the output of the cross product?  We need another convention, typically known as the 'right-hand rule'.  $\\bhat{c}$ is the direction such that going from $\\mf a$ to $\\mf b$ represents a counter-clockwise rotation.  In your mind, draw an arc between the ends of $\\mf a$ and $\\mf b$ in the <a href=\"#fig:crossproduct\" >figure</a>, above.  Follow the arc and note that it is in the counter-clockwise direction.  $\\bhat{c}$ points up in the <a href=\"#fig:crossproduct\" >figure</a> because that is how it must be drawn such that we can look *down* this direction and get a counter-clockwise arc from $\\mf a$ to $\\mf b$.  If we instead were evaluating the cross product $\\mf b \\times \\mf a$, then the same arc would be followed clockwise.  To get it to be in a counter-clockwise direction, we would need to switch our vantage point and be looking at the shaded plane in the <a href=\"#fig:crossproduct\" >figure</a> from below, which would mean switching the direction of $\\bhat{c}$, which is essentially encoding our vantage point.  This is a direct geometric encoding of the anti-commutative property of the cross product.\n",
    "\n",
    "The dot product brought with it a new understanding of orthogonality as well as a way of evaluating vector norms.  The cross product similarly brings something else to the table: the fundamental definition of a reference frame.\n",
    "\n",
    "<div class=\"alert alert-block alert-info\">\n",
    " $$\\textrm{If } \\mf a \\perp \\mf b \\textrm{ then } \\bhat{a}, \\bhat b, \\bhat a \\times \\bhat b \\textrm{ is a reference frame.}$$\n",
    "</div>\n",
    "\n",
    "You see it in the <a href=\"#fig:crossproduct\" >figure</a> above, right?  If $\\theta$ is a right (i.e., $90^\\circ$ angle, then the directions of $\\mf a$, $\\mf b$, $\\mf c$ would look exactly how we've previously defined reference frames?  And this means that our reference frames follow the right-hand rule convention. \n",
    "\n",
    "<div class=\"alert alert-block alert-danger\">\n",
    "    Pedantic time! Reference frames don't <i>have</i> to follow the right-hand rule.  Those that do are technically called 'dextral' (which is fancy talk (read:latin) for right-handed).  Nothing prevents you from defining a left-handed (or 'sinistral') reference frame.  Yes, 'sinistral' is the same root as 'sinister'.  People <i>really</i> weren't down with the left-handed folk back in the day. We will always follow the right-handed convention, but don't forget that that's all it is: a convention. (And not like, a particularly fun one, like in Vegas or something).\n",
    "</div>\n",
    "\n",
    "The right-hand rule is so-called because it literally allows you to use your right hand to figure out the direction of the cross product output.  Look again at the configuration of the vectors in the above <a href=\"#fig:crossproduct\" >figure</a>.  Stick out the thumb and index finger on your right hand, and align your index finger with the $\\mf a$ vector.  Curl the remainder of your fingers such that they form the arc stretching from the end of $\\mf a$ to the end of $\\mf b$.  Your thumb will be aligned with the $\\bhat{c}$ direction.  Flip your hand over so that your index finger is pointing along $\\mf b$ and the rest of your fingers curl from $\\mf b$ to $\\mf a$.  Now your thumb is along $-\\bhat{c}$, and you have found the direction of $\\mf b \\times \\mf a$.\n",
    "\n",
    "While it's a lot of fun to see a room full of people waving their hands in the air during an exam to invoke the mathematical magics (remember: you can't be a true magician if you don't do your hand exercises), this is not the only way of reminding yourself about the right-hand rule. An alternative is to simply sketch the relationships encoded by the ordering of your reference frame unit vectors:\n",
    "\n",
    "<p style=\"text-align:center;\"><img src=\"img/cross_product_circle.png\" alt=\"Right-hand rule\" width=\"250\" id=\"fig:rhl\"/></p>\n",
    "\n",
    "Note that this representation is describing the case where $\\bhat a \\perp \\bhat b$. We order the three elements of our cross products (or equivalently the unit vectors defining our reference frame) in a counter-clockwise circle (to remind us of the counter-clockwise convention associated with the right-hand rule).  Following the arrows of the circle counter-clockwise yields positive cross products: $\\bhat a \\times \\bhat b = \\bhat a \\times \\bhat b$, $\\bhat b \\times (\\bhat a \\times \\bhat b) = \\bhat{a}$, and $(\\bhat a \\times \\bhat b)  \\times \\bhat{a} = \\bhat{b}$. Remember that the cross product is **not** associative, and so the parentheses are fairly important here.  If we carry out any of the cross products in the clockwise direction, we'll get negative results: $\\bhat b \\times \\bhat a = -(\\bhat a \\times \\bhat b)$, $(\\bhat a \\times \\bhat b) \\times \\bhat b= -\\bhat{a}$, and $\\bhat{a}\\times(\\bhat a \\times \\bhat b) = -\\bhat{b}$.\n",
    "\n",
    "\n",
    "<div class=\"alert alert-block alert-warning\">\n",
    "<b>Exercise</b><br> Draw a right-hand rule cross-product circle (as in the <a href=\"#fig:rhl\" >figure</a> above) for the unit vectors of the frame $\\mc I = (\\bhat{e}_1, \\bhat{e}_2, \\bhat{e}_3)$. Convince yourself that $\\bhat{e}_3 \\times \\bhat{e}_2 = -\\bhat{e}_1$.  Remember that the ordering of reference frame unit vectors matters.  In your figure, $\\bhat{e}_1$ should correspond to $\\bhat{a}$ and $\\bhat{e}_2$ should correspond to $\\bhat{b}$.\n",
    "</div>"
   ]
  },
  {
   "cell_type": "markdown",
   "id": "f9b3ac70",
   "metadata": {},
   "source": [
    "## Vector Products and Linear Algebra\n",
    "\n",
    "Remember how we said that there was a good reason for representing the components of a vector as a column matrix?  Time to reveal the reason (This. Book. Keeps. Its. Promises!) The column matrix format allows us to encode every single vector operation as a linear algebraic operation. Let's explore this idea by defining a reference frame $\\mc I= \\left(O, \\bhat{e}_1, \\bhat{e}_2, \\bhat{e}_3\\right)$ and defining two vectors $\\mf a$ and $\\mf b$.  We will call the components of $\\mf a$ in $\\mc I$ ($a_1, a_2, a_3$) and the components of $\\mf b$ in $\\mc I$ ($b_1, b_2, b_3$). Thus, we can write:\n",
    "$$\\mf a = a_{1} \\mathbf{\\hat{e}}_1 + a_{2} \\mathbf{\\hat{e}}_2 + a_{3} \\mathbf{\\hat{e}}_3 \\quad\\mathrm{and}\\quad \\mf b =  b_{1} \\mathbf{\\hat{e}}_1 + b_{2} \\mathbf{\\hat{e}}_2 + b_{3} \\mathbf{\\hat{e}}_3$$\n",
    "or equivalently:\n",
    "$$ \\left[\\mf a\\right]_\\mc I = \\begin{bmatrix} a_1 \\\\ a_2 \\\\ a_3 \\end{bmatrix}_\\mc I\t\\quad\\mathrm{and}\\quad \\left[\\mf b\\right]_\\mc I = \\begin{bmatrix} b_1 \\\\ b_2 \\\\ b_3 \\end{bmatrix}_\\mc I $$\n",
    "\n",
    "If we take index $i$ to be a general subscript (i.e., $i$ can equal 1, 2, or 3, or $i \\in [1,2,3]$), then we can also write expressions of the form:\n",
    "$$ \\mf a = \\sum_i a_i \\bhat e_i \\quad\\mathrm{and}\\quad \\mf b = \\sum_i b_i \\bhat e_i $$\n",
    "\n",
    "<div class=\"alert alert-block alert-danger\">\n",
    "    Please be sure that you agree with everything in the preceding paragraph before proceeding.\n",
    "</div>\n",
    "\n",
    "Now let's make the computer do all of the above.  Note that the code cells in this section are intended to be run sequentially and build upon one another."
   ]
  },
  {
   "cell_type": "code",
   "execution_count": 2,
   "id": "1453ce1b",
   "metadata": {},
   "outputs": [
    {
     "data": {
      "image/png": "[encoded data removed]",
      "text/latex": [
       "$\\displaystyle \\left( \\mathbf{\\hat{e}}_1 a_{1} + \\mathbf{\\hat{e}}_2 a_{2} + \\mathbf{\\hat{e}}_3 a_{3}, \\  \\mathbf{\\hat{e}}_1 b_{1} + \\mathbf{\\hat{e}}_2 b_{2} + \\mathbf{\\hat{e}}_3 b_{3}\\right)$"
      ],
      "text/plain": [
       "(\\mathbf{\\hat{e}}₁⋅a₁ + \\mathbf{\\hat{e}}₂⋅a₂ + \\mathbf{\\hat{e}}₃⋅a₃, \\mathbf{\\hat{e}}₁⋅b₁ + \\mathbf{\\hat{e}}₂⋅b₂ + \\mathbf{\\hat{e}}₃⋅b₃)"
      ]
     },
     "execution_count": 2,
     "metadata": {},
     "output_type": "execute_result"
    }
   ],
   "source": [
    "# define all the variables we'll need\n",
    "a1,a2,a3,b1,b2,b3 = symbols(\"a_1, a_2, a_3, b_1, b_2, b_3\")\n",
    "# set up the component representations of the two vectors\n",
    "a_I = Matrix([a1,a2,a3]) #the _I is to remind us of which frame we're using\n",
    "b_I = Matrix([b1,b2,b3])\n",
    "mat2vec(a_I),mat2vec(b_I)"
   ]
  },
  {
   "cell_type": "markdown",
   "id": "83aaa741",
   "metadata": {},
   "source": [
    "The dot product operator, when written in component form, is equivalent to a matrix multiplication of the transpose of the first column matrix with the second column matrix representing the two vectors.  That is:\n",
    "\n",
    "<div class=\"alert alert-block alert-info\">\n",
    "$$\\mf a\\cdot \\mf b = [\\mf a]_{\\mc I}^T [\\mf b]_\\mc I$$\n",
    "</div>\n",
    "\n",
    "Let's pause and think about the dimensionality of things.  The column matrices representing our geometric vectors are 3x1 (that is, 3 rows by 1 column).  The transpose of one of these columns will result in a row matrix, whose dimensionality is 1x3 (1 row, 3 columns).  The dimensionality of a matrix multiplication of (1x3)\\*(3x1)= 1x1, otherwise known as a scalar.  So, at the very least, this encoding of the dot product produces the *kind* of output that we want.  Notice also that we didn't put any square braces around the left-hand side of the expression above.  That's because the output of the dot product is a scalar, and *not* a matrix.  One the right-hand side of the expression, we are operating with matrix representations of vectors, and we need for all components to be written in the same frame.  As long as both vectors' components are given in the same frame, the output of the dot product will be the same (we will prove this to ourselves as soon as we learn how to write vector components in multiple frames).\n",
    "\n",
    "Applying this definition to our two vectors ($\\mf a$ and $\\mf b$) as defined above shows that \n",
    "$$\\mf a \\cdot \\mf b = a_{1} b_{1} + a_{2} b_{2} + a_{3} b_{3}$$\n",
    "\n",
    "\n",
    "From our understanding of the dot product, we can equivalently write:\n",
    "$$a_i = \\mf a \\cdot \\bhat e_i  \\quad\\mathrm{and}\\quad b_i = \\mf b \\cdot \\bhat e_i $$\n",
    "\n",
    "Let's see if this continues working:"
   ]
  },
  {
   "cell_type": "code",
   "execution_count": 3,
   "id": "3a2fd1a4",
   "metadata": {},
   "outputs": [
    {
     "data": {
      "text/latex": [
       "$\\displaystyle \\left[\\begin{matrix}a_{1} b_{1} + a_{2} b_{2} + a_{3} b_{3}\\end{matrix}\\right]$"
      ],
      "text/plain": [
       "[a₁⋅b₁ + a₂⋅b₂ + a₃⋅b₃]"
      ]
     },
     "execution_count": 3,
     "metadata": {},
     "output_type": "execute_result"
    }
   ],
   "source": [
    "# evaluate the dot product of the vectors defined in the previous code cell\n",
    "# sympy matrices have a transpose() method:\n",
    "a_I.transpose()*b_I"
   ]
  },
  {
   "cell_type": "code",
   "execution_count": 4,
   "id": "e809e85d",
   "metadata": {},
   "outputs": [
    {
     "data": {
      "image/png": "[encoded data removed]",
      "text/latex": [
       "$\\displaystyle a_{1} b_{1} + a_{2} b_{2} + a_{3} b_{3}$"
      ],
      "text/plain": [
       "a₁⋅b₁ + a₂⋅b₂ + a₃⋅b₃"
      ]
     },
     "execution_count": 4,
     "metadata": {},
     "output_type": "execute_result"
    }
   ],
   "source": [
    "# Note that the previous output was a 1x1 matrix, \n",
    "# whereas we would like it to be a scalar.  We can\n",
    "# fix this by simply extracting the first element:\n",
    "(a_I.transpose()*b_I)[0]"
   ]
  },
  {
   "cell_type": "code",
   "execution_count": 5,
   "id": "f9a68348",
   "metadata": {},
   "outputs": [
    {
     "data": {
      "image/png": "[encoded data removed]",
      "text/latex": [
       "$\\displaystyle a_{1} b_{1} + a_{2} b_{2} + a_{3} b_{3}$"
      ],
      "text/plain": [
       "a₁⋅b₁ + a₂⋅b₂ + a₃⋅b₃"
      ]
     },
     "execution_count": 5,
     "metadata": {},
     "output_type": "execute_result"
    }
   ],
   "source": [
    "# sympy matrices also have a very convenient dot method\n",
    "# (representing the dot prodcut). Let's see whether it \n",
    "# gives the same result:\n",
    "a_I.dot(b_I)"
   ]
  },
  {
   "cell_type": "code",
   "execution_count": 6,
   "id": "816a8adc",
   "metadata": {},
   "outputs": [
    {
     "data": {
      "image/png": "[encoded data removed]",
      "text/latex": [
       "$\\displaystyle \\left( a_{1}, \\  a_{2}, \\  a_{3}\\right)$"
      ],
      "text/plain": [
       "(a₁, a₂, a₃)"
      ]
     },
     "execution_count": 6,
     "metadata": {},
     "output_type": "execute_result"
    }
   ],
   "source": [
    "# finally, let's explore dotting with the standard basis:\n",
    "e_1_I = Matrix([1,0,0])\n",
    "e_2_I = Matrix([0,1,0])\n",
    "e_3_I = Matrix([0,0,1])\n",
    "a_I.dot(e_1_I), a_I.dot(e_2_I), a_I.dot(e_3_I)"
   ]
  },
  {
   "cell_type": "code",
   "execution_count": 7,
   "id": "c0e529ca",
   "metadata": {},
   "outputs": [],
   "source": [
    "# see if you can reproduce that last bit for vector b\n",
    "# extract the components of b by dotting with elements of the standard basis\n",
    "\n"
   ]
  },
  {
   "cell_type": "markdown",
   "id": "52b9d7b3",
   "metadata": {},
   "source": [
    "Recall that one of the benefits of defining the geometric interpretation of the dot product was that it allowed us to evaluate the vector norm, as we showed that $\\mf a \\cdot \\mf a = \\Vert \\mf a\\Vert^2$.  So, for a vector $\\mf a = a_{1} \\mathbf{\\hat{e}}_1 + a_{2} \\mathbf{\\hat{e}}_2 + a_{3} \\mathbf{\\hat{e}}_3$, $\\Vert \\mf a\\Vert$ = "
   ]
  },
  {
   "cell_type": "code",
   "execution_count": 8,
   "id": "6cdd7cc3",
   "metadata": {},
   "outputs": [
    {
     "data": {
      "image/png": "[encoded data removed]",
      "text/latex": [
       "$\\displaystyle \\sqrt{a_{1}^{2} + a_{2}^{2} + a_{3}^{2}}$"
      ],
      "text/plain": [
       "   _________________\n",
       "  ╱   2     2     2 \n",
       "╲╱  a₁  + a₂  + a₃  "
      ]
     },
     "execution_count": 8,
     "metadata": {},
     "output_type": "execute_result"
    }
   ],
   "source": [
    "sqrt(a_I.dot(a_I))"
   ]
  },
  {
   "cell_type": "markdown",
   "id": "c2a42e4a",
   "metadata": {},
   "source": [
    "Now how about the cross product?  To do cross products as matrix operations, we need to define a new thing, called the **cross-product equivalent matrix**:\n",
    "$$[\\mf a\\times]_{\\mc I} \\triangleq \\begin{bmatrix}\n",
    "0 & -a_3 & a_2\\\\\n",
    "a_3 & 0 & -a_1\\\\\n",
    "-a_2 & a_1 & 0\n",
    "\\end{bmatrix}_\\mc I $$\n",
    "\n",
    "If $A$ is a skew-symmetric matrix then $A^T = -A$, i.e., a skew-symmetric matrix is one whose transpose equals its negative.  The negative of a matrix should be understood as multiplying the matrix by -1, which is equivalent to flipping the sign of every matrix element.  Since the transpose operator does not modify the contents of the diagonal of a matrix, this definition is telling us that the diagonal elements of a skew-symmetric matrix must equal their own negative values.  The only real number for which this is true is zero, and so every skew-symmetric matrix must have zeros all along the diagonal.  The off-diagonal elements must be symmetric, with opposite signs.  \n",
    "\n",
    "Notice that we can flip the signs on all of the elements in our cross-product equivalent matrix and still get a valid skew-symmetric matrix (i.e., the first row could be 0, $a_3$, $-a_2$, etc.).  So why prefer this version?  This is how the cross-product equivalent matrix encodes the right-hand rule!  If we were to flip the signs, we would be switching to a left-handed convention.  We'll return to this in a while, but do keep it in mind. \n",
    "\n",
    "sympy doesn't provide a skew-symmetric operator, but this book does, so let's try it out:"
   ]
  },
  {
   "cell_type": "code",
   "execution_count": 9,
   "id": "20a11bc0",
   "metadata": {},
   "outputs": [
    {
     "data": {
      "text/latex": [
       "$\\displaystyle \\left[\\begin{matrix}0 & - a_{3} & a_{2}\\\\a_{3} & 0 & - a_{1}\\\\- a_{2} & a_{1} & 0\\end{matrix}\\right]$"
      ],
      "text/plain": [
       "⎡ 0   -a₃  a₂ ⎤\n",
       "⎢             ⎥\n",
       "⎢a₃    0   -a₁⎥\n",
       "⎢             ⎥\n",
       "⎣-a₂  a₁    0 ⎦"
      ]
     },
     "execution_count": 9,
     "metadata": {},
     "output_type": "execute_result"
    }
   ],
   "source": [
    "skew(a_I)"
   ]
  },
  {
   "cell_type": "markdown",
   "id": "99f5cba0",
   "metadata": {},
   "source": [
    "Having defined the cross-product equivalent matrix, we can now provide a linear algebraic definition of the cross product:\n",
    "<div class=\"alert alert-block alert-info\">\n",
    "$$[\\mf a \\times \\mf b]_\\mc I = [\\mf a \\times]_\\mc I [\\mf b]_\\mc I $$\n",
    "</div>\n",
    "\n",
    "Interesting.  Let's give it a shot."
   ]
  },
  {
   "cell_type": "code",
   "execution_count": 10,
   "id": "61a313d5",
   "metadata": {},
   "outputs": [
    {
     "data": {
      "text/latex": [
       "$\\displaystyle \\left[\\begin{matrix}a_{2} b_{3} - a_{3} b_{2}\\\\- a_{1} b_{3} + a_{3} b_{1}\\\\a_{1} b_{2} - a_{2} b_{1}\\end{matrix}\\right]$"
      ],
      "text/plain": [
       "⎡a₂⋅b₃ - a₃⋅b₂ ⎤\n",
       "⎢              ⎥\n",
       "⎢-a₁⋅b₃ + a₃⋅b₁⎥\n",
       "⎢              ⎥\n",
       "⎣a₁⋅b₂ - a₂⋅b₁ ⎦"
      ]
     },
     "execution_count": 10,
     "metadata": {},
     "output_type": "execute_result"
    }
   ],
   "source": [
    "# this should result in the cross product of a and b in I frame components:\n",
    "skew(a_I)*b_I"
   ]
  },
  {
   "cell_type": "markdown",
   "id": "4f6a5170",
   "metadata": {},
   "source": [
    "Remember, the output is a vector with components in the same frame as the inputs. Let's remind ourselves of this by making it explicit:\n",
    "\n",
    "$[\\mf a \\times \\mf b]_\\mc I = $"
   ]
  },
  {
   "cell_type": "code",
   "execution_count": 11,
   "id": "3af151d2",
   "metadata": {},
   "outputs": [
    {
     "data": {
      "image/png": "[encoded data removed]",
      "text/latex": [
       "$\\displaystyle \\mathbf{\\hat{e}}_1 \\left(a_{2} b_{3} - a_{3} b_{2}\\right) + \\mathbf{\\hat{e}}_2 \\left(- a_{1} b_{3} + a_{3} b_{1}\\right) + \\mathbf{\\hat{e}}_3 \\left(a_{1} b_{2} - a_{2} b_{1}\\right)$"
      ],
      "text/plain": [
       "\\mathbf{\\hat{e}}₁⋅(a₂⋅b₃ - a₃⋅b₂) + \\mathbf{\\hat{e}}₂⋅(-a₁⋅b₃ + a₃⋅b₁) + \\mathbf{\\hat{e}}₃⋅(a₁⋅b₂ - a₂⋅b₁)"
      ]
     },
     "execution_count": 11,
     "metadata": {},
     "output_type": "execute_result"
    }
   ],
   "source": [
    "mat2vec(skew(a_I)*b_I)"
   ]
  },
  {
   "cell_type": "markdown",
   "id": "95d00c36",
   "metadata": {},
   "source": [
    "The evaluation of the cross product is frequently taught as taking the determinant of a matrix whose first row consists of the basis elements of the reference frame and the second and third rows are the components of the two vectors whose cross product is being evaluated.  Let's see if we can reproduce this:"
   ]
  },
  {
   "cell_type": "code",
   "execution_count": 12,
   "id": "31119340",
   "metadata": {},
   "outputs": [
    {
     "data": {
      "text/latex": [
       "$\\displaystyle \\left[\\begin{matrix}\\mathbf{\\hat{e}}_1 & \\mathbf{\\hat{e}}_2 & \\mathbf{\\hat{e}}_3\\\\a_{1} & a_{2} & a_{3}\\\\b_{1} & b_{2} & b_{3}\\end{matrix}\\right]$"
      ],
      "text/plain": [
       "⎡\\mathbf{\\hat{e}}₁  \\mathbf{\\hat{e}}₂  \\mathbf{\\hat{e}}₃⎤\n",
       "⎢                                                       ⎥\n",
       "⎢       a₁                 a₂                 a₃        ⎥\n",
       "⎢                                                       ⎥\n",
       "⎣       b₁                 b₂                 b₃        ⎦"
      ]
     },
     "execution_count": 12,
     "metadata": {},
     "output_type": "execute_result"
    }
   ],
   "source": [
    "e1,e2,e3 = symbols('\\mathbf{\\hat{e}}_1, \\mathbf{\\hat{e}}_2, \\mathbf{\\hat{e}}_3')\n",
    "# 2D matrices are defined as arrays of arrays (or lists of lists):\n",
    "cross_product_matrix = Matrix([[e1, e2, e3], [a1, a2, a3], [b1, b2,b3]])\n",
    "cross_product_matrix"
   ]
  },
  {
   "cell_type": "code",
   "execution_count": 13,
   "id": "13f50a67",
   "metadata": {},
   "outputs": [
    {
     "data": {
      "image/png": "[encoded data removed]",
      "text/latex": [
       "$\\displaystyle \\mathbf{\\hat{e}}_1 a_{2} b_{3} - \\mathbf{\\hat{e}}_1 a_{3} b_{2} - \\mathbf{\\hat{e}}_2 a_{1} b_{3} + \\mathbf{\\hat{e}}_2 a_{3} b_{1} + \\mathbf{\\hat{e}}_3 a_{1} b_{2} - \\mathbf{\\hat{e}}_3 a_{2} b_{1}$"
      ],
      "text/plain": [
       "\\mathbf{\\hat{e}}₁⋅a₂⋅b₃ - \\mathbf{\\hat{e}}₁⋅a₃⋅b₂ - \\mathbf{\\hat{e}}₂⋅a₁⋅b₃ + \\mathbf{\\hat{e}}₂⋅a₃⋅b₁ + \\mathbf{\\hat{e}}₃⋅a₁⋅b₂ - \\mathbf{\\hat{e}}₃⋅a₂⋅b₁"
      ]
     },
     "execution_count": 13,
     "metadata": {},
     "output_type": "execute_result"
    }
   ],
   "source": [
    "# Now let's carry out the determinant:\n",
    "cross_product_matrix.det() # this is sympy's determinant operator"
   ]
  },
  {
   "cell_type": "markdown",
   "id": "d045dbb9",
   "metadata": {},
   "source": [
    "Did we get the right answer?  It's a bit hard to tell because the expression above is not simplified.  Fortunately, sympy provides us with a method of collecting terms called (conveniently) collect:"
   ]
  },
  {
   "cell_type": "code",
   "execution_count": 14,
   "id": "6ff9110f",
   "metadata": {},
   "outputs": [
    {
     "data": {
      "image/png": "[encoded data removed]",
      "text/latex": [
       "$\\displaystyle \\mathbf{\\hat{e}}_1 \\left(a_{2} b_{3} - a_{3} b_{2}\\right) + \\mathbf{\\hat{e}}_2 \\left(- a_{1} b_{3} + a_{3} b_{1}\\right) + \\mathbf{\\hat{e}}_3 \\left(a_{1} b_{2} - a_{2} b_{1}\\right)$"
      ],
      "text/plain": [
       "\\mathbf{\\hat{e}}₁⋅(a₂⋅b₃ - a₃⋅b₂) + \\mathbf{\\hat{e}}₂⋅(-a₁⋅b₃ + a₃⋅b₁) + \\mathbf{\\hat{e}}₃⋅(a₁⋅b₂ - a₂⋅b₁)"
      ]
     },
     "execution_count": 14,
     "metadata": {},
     "output_type": "execute_result"
    }
   ],
   "source": [
    "collect(cross_product_matrix.det(), (e1,e2,e3))"
   ]
  },
  {
   "cell_type": "markdown",
   "id": "920067ae",
   "metadata": {},
   "source": [
    "By George, I think we've got it.\n",
    "\n",
    "Of course, sympy has a built-in cross product method as well.  Let's see if it does the same thing:"
   ]
  },
  {
   "cell_type": "code",
   "execution_count": 15,
   "id": "6397e125",
   "metadata": {},
   "outputs": [
    {
     "data": {
      "text/latex": [
       "$\\displaystyle \\left[\\begin{matrix}a_{2} b_{3} - a_{3} b_{2}\\\\- a_{1} b_{3} + a_{3} b_{1}\\\\a_{1} b_{2} - a_{2} b_{1}\\end{matrix}\\right]$"
      ],
      "text/plain": [
       "⎡a₂⋅b₃ - a₃⋅b₂ ⎤\n",
       "⎢              ⎥\n",
       "⎢-a₁⋅b₃ + a₃⋅b₁⎥\n",
       "⎢              ⎥\n",
       "⎣a₁⋅b₂ - a₂⋅b₁ ⎦"
      ]
     },
     "execution_count": 15,
     "metadata": {},
     "output_type": "execute_result"
    }
   ],
   "source": [
    "a_I.cross(b_I)"
   ]
  },
  {
   "cell_type": "markdown",
   "id": "2e434bf0",
   "metadata": {},
   "source": [
    "Visual inspection of simple matrices is fine, but sometimes we want a more systematic comparison.  What if we just subtracted the two cross product results?  If they match, we should get back a matrix of zeros, right? Let's see:"
   ]
  },
  {
   "cell_type": "code",
   "execution_count": 16,
   "id": "a02f029b",
   "metadata": {},
   "outputs": [
    {
     "data": {
      "text/latex": [
       "$\\displaystyle \\left[\\begin{matrix}0\\\\0\\\\0\\end{matrix}\\right]$"
      ],
      "text/plain": [
       "⎡0⎤\n",
       "⎢ ⎥\n",
       "⎢0⎥\n",
       "⎢ ⎥\n",
       "⎣0⎦"
      ]
     },
     "execution_count": 16,
     "metadata": {},
     "output_type": "execute_result"
    }
   ],
   "source": [
    "skew(a_I)*b_I - a_I.cross(b_I)"
   ]
  },
  {
   "cell_type": "markdown",
   "id": "627ef7a8",
   "metadata": {},
   "source": [
    "Fantastic! So many new toys to play with.  Let's see if we can nail down our understanding of the commutative properties of the cross product. So far we've been looking at $\\mf a \\times \\mf b$ but now let's consider $\\mf b \\times \\mf a$:"
   ]
  },
  {
   "cell_type": "code",
   "execution_count": 17,
   "id": "21fa1b56",
   "metadata": {},
   "outputs": [
    {
     "data": {
      "text/latex": [
       "$\\displaystyle \\left[\\begin{matrix}- a_{2} b_{3} + a_{3} b_{2}\\\\a_{1} b_{3} - a_{3} b_{1}\\\\- a_{1} b_{2} + a_{2} b_{1}\\end{matrix}\\right]$"
      ],
      "text/plain": [
       "⎡-a₂⋅b₃ + a₃⋅b₂⎤\n",
       "⎢              ⎥\n",
       "⎢a₁⋅b₃ - a₃⋅b₁ ⎥\n",
       "⎢              ⎥\n",
       "⎣-a₁⋅b₂ + a₂⋅b₁⎦"
      ]
     },
     "execution_count": 17,
     "metadata": {},
     "output_type": "execute_result"
    }
   ],
   "source": [
    "# this is b cross a in I frame components:\n",
    "skew(b_I)*a_I"
   ]
  },
  {
   "cell_type": "markdown",
   "id": "5f81dd66",
   "metadata": {},
   "source": [
    "We expect this to equal $-(\\mf a \\times \\mf b)$.  We verify by *adding* the two results, again expecting all zeros:"
   ]
  },
  {
   "cell_type": "code",
   "execution_count": 18,
   "id": "5127861e",
   "metadata": {},
   "outputs": [
    {
     "data": {
      "text/latex": [
       "$\\displaystyle \\left[\\begin{matrix}0\\\\0\\\\0\\end{matrix}\\right]$"
      ],
      "text/plain": [
       "⎡0⎤\n",
       "⎢ ⎥\n",
       "⎢0⎥\n",
       "⎢ ⎥\n",
       "⎣0⎦"
      ]
     },
     "execution_count": 18,
     "metadata": {},
     "output_type": "execute_result"
    }
   ],
   "source": [
    "skew(b_I)*a_I + skew(a_I)*b_I"
   ]
  },
  {
   "cell_type": "markdown",
   "id": "6ffb3aca",
   "metadata": {},
   "source": [
    "Notice that in both calculations above, we took the skew-symmetric matrix of the left-hand vector.  However, nothing prevents us from using the skew-symmetric matrix of the right-hand vector in the cross product, so long as we are careful with dimensionality and order of operations.  We can equivalently write:\n",
    "$$[\\mf a \\times \\mf b]_\\mc I = [\\mf a \\times]_\\mc I [\\mf b]_\\mc I  = \\left([\\mf a]^T_\\mc I [\\mf b \\times]_\\mc I \\right)^T = [\\mf b \\times]^T_\\mc I [\\mf a]_\\mc I$$\n",
    "where we have made use of the linear algebra theorem: For matrices $A, B$:\n",
    "$$(AB)^T \\equiv B^T A^T$$\n",
    "\n",
    "Recall also the fundamental property of a skew-symmetric matrix, $A$: $A^T = -A$. The above expression can therefore be written as:\n",
    "\n",
    "<div class=\"alert alert-block alert-info\">\n",
    "$$[\\mf a \\times \\mf b]_\\mc I = -[\\mf b \\times]_\\mc I [\\mf a]_\\mc I$$\n",
    "</div>\n",
    "    \n",
    "Let's confirm:"
   ]
  },
  {
   "cell_type": "code",
   "execution_count": 35,
   "id": "59e1043d-aafd-42c8-a4b2-a16f7948e6f4",
   "metadata": {},
   "outputs": [
    {
     "data": {
      "text/latex": [
       "$\\displaystyle \\left[\\begin{matrix}0\\\\0\\\\0\\end{matrix}\\right]$"
      ],
      "text/plain": [
       "⎡0⎤\n",
       "⎢ ⎥\n",
       "⎢0⎥\n",
       "⎢ ⎥\n",
       "⎣0⎦"
      ]
     },
     "execution_count": 35,
     "metadata": {},
     "output_type": "execute_result"
    }
   ],
   "source": [
    "a_I.cross(b_I) - (-skew(b_I)*a_I)"
   ]
  },
  {
   "cell_type": "markdown",
   "id": "52412801-b739-4dde-b764-a723b43cbebc",
   "metadata": {},
   "source": [
    "Finally, let's confirm our previously posited behavior of the standard basis."
   ]
  },
  {
   "cell_type": "code",
   "execution_count": 19,
   "id": "0ab8aab3",
   "metadata": {},
   "outputs": [
    {
     "data": {
      "image/png": "[encoded data removed]",
      "text/latex": [
       "$\\displaystyle \\mathbf{\\hat{e}}_3$"
      ],
      "text/plain": [
       "\\mathbf{\\hat{e}}₃"
      ]
     },
     "execution_count": 19,
     "metadata": {},
     "output_type": "execute_result"
    }
   ],
   "source": [
    "#e_1 crossed with e_2 should result in e_3\n",
    "mat2vec(skew(e_1_I)*e_2_I)"
   ]
  },
  {
   "cell_type": "code",
   "execution_count": 20,
   "id": "363c34b7",
   "metadata": {},
   "outputs": [
    {
     "data": {
      "image/png": "[encoded data removed]",
      "text/latex": [
       "$\\displaystyle \\mathbf{\\hat{e}}_1$"
      ],
      "text/plain": [
       "\\mathbf{\\hat{e}}₁"
      ]
     },
     "execution_count": 20,
     "metadata": {},
     "output_type": "execute_result"
    }
   ],
   "source": [
    "#e_2 crossed with e_3 should result in e_1\n",
    "mat2vec(skew(e_2_I)*e_3_I)"
   ]
  },
  {
   "cell_type": "code",
   "execution_count": 21,
   "id": "21ff7eb0",
   "metadata": {},
   "outputs": [],
   "source": [
    "# Now, show that e_3 crossed with e_2 should result in -e_1\n",
    "\n",
    "\n"
   ]
  },
  {
   "cell_type": "markdown",
   "id": "0f5d93c9",
   "metadata": {},
   "source": [
    "## Triple Products\n",
    "\n",
    "Now that we have fully defined the dot and cross products, we can start mixing and matching them to create triple products (i.e., combinations of two vector products).  \n",
    "\n",
    "### Scalar Triple Product\n",
    "\n",
    "Given three Euclidean vectors $\\mf a, \\mf b$, and $\\mf c$, the scalar triple product is defined as $\\mf a \\cdot (\\mf b \\times \\mf c)$. The absolute value of this quantity (a scalar value) is equivalent to the volume of the parallelepiped defined by the three vectors.  The scalar triple product is invariant under a circular shift of the two operators.  That is:\n",
    "\n",
    "<div class=\"alert alert-block alert-info\">\n",
    "$$\\mf a \\cdot (\\mf b \\times \\mf c) = \\mf b \\cdot (\\mf c \\times \\mf a) = \\mf c \\cdot (\\mf a \\times \\mf b) $$\n",
    "</div>\n",
    "\n",
    "Let's confirm:"
   ]
  },
  {
   "cell_type": "code",
   "execution_count": 22,
   "id": "bce844b8",
   "metadata": {},
   "outputs": [
    {
     "data": {
      "image/png": "[encoded data removed]",
      "text/latex": [
       "$\\displaystyle \\left( a_{1} \\left(b_{2} c_{3} - b_{3} c_{2}\\right) + a_{2} \\left(- b_{1} c_{3} + b_{3} c_{1}\\right) + a_{3} \\left(b_{1} c_{2} - b_{2} c_{1}\\right), \\  b_{1} \\left(- a_{2} c_{3} + a_{3} c_{2}\\right) + b_{2} \\left(a_{1} c_{3} - a_{3} c_{1}\\right) + b_{3} \\left(- a_{1} c_{2} + a_{2} c_{1}\\right), \\  c_{1} \\left(a_{2} b_{3} - a_{3} b_{2}\\right) + c_{2} \\left(- a_{1} b_{3} + a_{3} b_{1}\\right) + c_{3} \\left(a_{1} b_{2} - a_{2} b_{1}\\right)\\right)$"
      ],
      "text/plain": [
       "(a₁⋅(b₂⋅c₃ - b₃⋅c₂) + a₂⋅(-b₁⋅c₃ + b₃⋅c₁) + a₃⋅(b₁⋅c₂ - b₂⋅c₁), b₁⋅(-a₂⋅c₃ + a₃⋅c₂) + b₂⋅(a₁⋅c₃ - a₃⋅c₁) + b₃⋅(-a₁⋅c₂ + a₂⋅c₁), c₁⋅(a₂⋅b₃ - a₃⋅b₂) + c₂⋅(-a₁⋅b₃ + a₃⋅b₁) + c₃⋅(a₁⋅b₂ - a₂⋅b₁))"
      ]
     },
     "execution_count": 22,
     "metadata": {},
     "output_type": "execute_result"
    }
   ],
   "source": [
    "c1,c2,c3 = symbols(\"c_1, c_2, c_3\")\n",
    "# set up the component representation of the new c vector\n",
    "c_I = Matrix([c1,c2,c3]) #the _I is to remind us of which frame we're using\n",
    "\n",
    "#evaluate the three versions of the triple product\n",
    "a_I.dot(b_I.cross(c_I)), b_I.dot(c_I.cross(a_I)),c_I.dot(a_I.cross(b_I))"
   ]
  },
  {
   "cell_type": "code",
   "execution_count": 23,
   "id": "0d98c5ea-c3b4-4292-9e22-edcf07098366",
   "metadata": {},
   "outputs": [
    {
     "data": {
      "image/png": "[encoded data removed]",
      "text/latex": [
       "$\\displaystyle \\left( 0, \\  0\\right)$"
      ],
      "text/plain": [
       "(0, 0)"
      ]
     },
     "execution_count": 23,
     "metadata": {},
     "output_type": "execute_result"
    }
   ],
   "source": [
    "#and confirm that they're actually the same:\n",
    "simplify(a_I.dot(b_I.cross(c_I)) -  b_I.dot(c_I.cross(a_I))), simplify(a_I.dot(b_I.cross(c_I)) -  c_I.dot(a_I.cross(b_I)))"
   ]
  },
  {
   "cell_type": "markdown",
   "id": "672ba95d-b586-4829-a587-3df023623361",
   "metadata": {},
   "source": [
    "Note the use of the sympy simplify function to ensure that we are fully algebraically simplifying the difference expressions.\n",
    "\n",
    "The scalar triple product can equivalently be represented by the determinant of the matrix whose rows are the components of the three vectors:"
   ]
  },
  {
   "cell_type": "code",
   "execution_count": 24,
   "id": "c4c9d298-bcf0-4e57-bf35-76e41c14aba5",
   "metadata": {},
   "outputs": [
    {
     "data": {
      "text/latex": [
       "$\\displaystyle \\left[\\begin{matrix}a_{1} & a_{2} & a_{3}\\\\b_{1} & b_{2} & b_{3}\\\\c_{1} & c_{2} & c_{3}\\end{matrix}\\right]$"
      ],
      "text/plain": [
       "⎡a₁  a₂  a₃⎤\n",
       "⎢          ⎥\n",
       "⎢b₁  b₂  b₃⎥\n",
       "⎢          ⎥\n",
       "⎣c₁  c₂  c₃⎦"
      ]
     },
     "execution_count": 24,
     "metadata": {},
     "output_type": "execute_result"
    }
   ],
   "source": [
    "# define the matrix\n",
    "tripleproductmatrix = Matrix([[a1,a2,a3],[b1,b2,b3],[c1,c2,c3]])\n",
    "tripleproductmatrix"
   ]
  },
  {
   "cell_type": "code",
   "execution_count": 25,
   "id": "f0e93cdc-24c4-4d0f-87f4-45518e102a29",
   "metadata": {},
   "outputs": [
    {
     "data": {
      "image/png": "[encoded data removed]",
      "text/latex": [
       "$\\displaystyle a_{1} b_{2} c_{3} - a_{1} b_{3} c_{2} - a_{2} b_{1} c_{3} + a_{2} b_{3} c_{1} + a_{3} b_{1} c_{2} - a_{3} b_{2} c_{1}$"
      ],
      "text/plain": [
       "a₁⋅b₂⋅c₃ - a₁⋅b₃⋅c₂ - a₂⋅b₁⋅c₃ + a₂⋅b₃⋅c₁ + a₃⋅b₁⋅c₂ - a₃⋅b₂⋅c₁"
      ]
     },
     "execution_count": 25,
     "metadata": {},
     "output_type": "execute_result"
    }
   ],
   "source": [
    "# carry out the determinant\n",
    "tripleproductmatrix.det()"
   ]
  },
  {
   "cell_type": "code",
   "execution_count": 26,
   "id": "2af21ae3-3378-4d82-8683-a3ab11abf1dd",
   "metadata": {},
   "outputs": [
    {
     "data": {
      "image/png": "[encoded data removed]",
      "text/latex": [
       "$\\displaystyle 0$"
      ],
      "text/plain": [
       "0"
      ]
     },
     "execution_count": 26,
     "metadata": {},
     "output_type": "execute_result"
    }
   ],
   "source": [
    "# and to verify that this produces the same result:\n",
    "simplify(tripleproductmatrix.det() - a_I.dot(b_I.cross(c_I)))"
   ]
  },
  {
   "cell_type": "markdown",
   "id": "dc25f4d3-d5da-48ab-a1ca-acaa760c77ca",
   "metadata": {},
   "source": [
    "### Vector Triple Product\n",
    "\n",
    "We can define a second triple product via the application of two cross products.  This vector cross product has the form:\n",
    "\n",
    "<div class=\"alert alert-block alert-info\">\n",
    "$$ \\mf a \\times (\\mf b \\times \\mf c) = \\mf b (\\mf a \\cdot \\mf c) - \\mf c \\left( \\mf a \\cdot \\mf b\\right) $$\n",
    "</div>\n",
    "\n",
    "A useful mnemonic for this product is \"back - cab\" (stare at the equation until that makes sense). Remember that the placement of parentheses is incredibly important here.  The vector formed by  $(\\mf a \\times \\mf b) \\times \\mf c$ is completely different from the one given by $\\mf a \\times (\\mf b \\times \\mf c)$.  We can use the expression above to evaluate this alternate form (taking into account the anti-commutative nature of the cross product):\n",
    "\n",
    "<div class=\"alert alert-block alert-info\">\n",
    "$$ (\\mf a \\times \\mf b) \\times \\mf c = -\\mf c \\times (\\mf a \\times \\mf b) = -\\mf a (\\mf c \\cdot \\mf b) + \\mf b \\left( \\mf c \\cdot \\mf a\\right) $$\n",
    "</div>\n",
    "\n",
    "Note that the first version is the one that arises most frequently in our derivations, although the second version makes an occassional appearance as well. \n",
    "\n",
    "Let's verify all this:"
   ]
  },
  {
   "cell_type": "code",
   "execution_count": 32,
   "id": "a306cc14-c641-4271-b581-6e09229d3f2c",
   "metadata": {},
   "outputs": [
    {
     "data": {
      "text/latex": [
       "$\\displaystyle \\left[\\begin{matrix}0\\\\0\\\\0\\end{matrix}\\right]$"
      ],
      "text/plain": [
       "⎡0⎤\n",
       "⎢ ⎥\n",
       "⎢0⎥\n",
       "⎢ ⎥\n",
       "⎣0⎦"
      ]
     },
     "execution_count": 32,
     "metadata": {},
     "output_type": "execute_result"
    }
   ],
   "source": [
    "# compare the two sides of the vector triple product expression.\n",
    "# If they are the same, we expect their difference to be zero:\n",
    "simplify(a_I.cross(b_I.cross(c_I)) - (b_I*a_I.dot(c_I) - c_I*(a_I.dot(b_I))))"
   ]
  },
  {
   "cell_type": "code",
   "execution_count": 30,
   "id": "294a34c5-6f37-410f-bb88-dd533ecb7d73",
   "metadata": {},
   "outputs": [],
   "source": [
    "# now you verify the second expression (a x b)x c:\n",
    "\n"
   ]
  },
  {
   "cell_type": "code",
   "execution_count": 31,
   "id": "f3d518ee-b349-4446-99da-f49e66e31583",
   "metadata": {},
   "outputs": [
    {
     "data": {
      "text/markdown": [
       "# [Next](<03-Tensors.ipynb>)"
      ],
      "text/plain": [
       "<IPython.core.display.Markdown object>"
      ]
     },
     "metadata": {},
     "output_type": "display_data"
    }
   ],
   "source": [
    "# This is just here to generate the link to the next notebook\n",
    "genNextLink()"
   ]
  },
  {
   "cell_type": "code",
   "execution_count": null,
   "id": "0d0700d0-0ddf-499b-b4bb-d962dd292efc",
   "metadata": {},
   "outputs": [],
   "source": []
  }
 ],
 "metadata": {
  "kernelspec": {
   "display_name": "Python 3 (ipykernel)",
   "language": "python",
   "name": "python3"
  },
  "language_info": {
   "codemirror_mode": {
    "name": "ipython",
    "version": 3
   },
   "file_extension": ".py",
   "mimetype": "text/x-python",
   "name": "python",
   "nbconvert_exporter": "python",
   "pygments_lexer": "ipython3",
   "version": "3.9.7"
  }
 },
 "nbformat": 4,
 "nbformat_minor": 5
}
