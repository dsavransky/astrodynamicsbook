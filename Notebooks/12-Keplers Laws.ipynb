{
 "cells": [
  {
   "cell_type": "code",
   "execution_count": 1,
   "id": "03f45184-99e9-4f10-a0a6-0eeec3563bd4",
   "metadata": {},
   "outputs": [
    {
     "data": {
      "text/markdown": [
       "$\n",
       "\\def\\bs{\\boldsymbol}\n",
       "\\def\\mf{\\mathbf}\n",
       "\\def\\mb{\\mathbb}\n",
       "\\def\\mc{\\mathcal}\n",
       "\\def\\rfr{\\mathcal}\n",
       "\\def\\grad{{\\rm grad}}\n",
       "\\def\\Re{{\\rm Re}}\n",
       "\\def\\Im{{\\rm Im}}\n",
       "\\def\\und{\\underline}\n",
       "\\def\\ovl{\\overline}\n",
       "\\def\\unb{\\underbrace}\n",
       "\\def\\Log{\\mbox{Log}}\n",
       "\\def\\bfomega{\\bs \\omega}\n",
       "\\def\\bfalpha{\\bs \\alpha}\n",
       "\\def\\da{\\triangleq}\n",
       "\\newcommand{\\leftexp}[2]{{\\vphantom{#2}}^{#1}\\!{#2}}\n",
       "\\newcommand{\\leftsub}[2]{{\\vphantom{#2}}_{#1}\\!{#2}}\n",
       "\\newcommand{\\omegarot}[2]{{\\leftexp{\\mathcal{#1}}{\\boldsymbol{\\omega}}^{\\mathcal{#2}}}}\n",
       "\\newcommand{\\alpharot}[2]{{\\leftexp{\\mathcal{#1}}{\\boldsymbol{\\alpha}}^{\\mathcal{#2}}}}\n",
       "\\newcommand{\\framerot}[2]{{\\leftexp{\\mathcal{#1}}{C}^{\\mathcal{#2}}}}\n",
       "\\newcommand{\\dframerot}[2]{{\\vphantom{\\dot{C}}^{\\mathcal{#1}}\\!{\\dot{C}^{\\mathcal{#2}}}}}\n",
       "\\newcommand{\\bdot}[1]{\\dot{\\mathbf{#1}}}\n",
       "\\newcommand{\\bhat}[1]{\\hat{\\mathbf{#1}}}\n",
       "\\newcommand{\\mbhat}[1]{\\hat{\\mathbb{#1}}}\n",
       "\\def\\iwb{\\omegarot{I}{B}}\n",
       "\\def\\iab{\\alpharot{I}{B}}\n",
       "\\def\\icb{\\framerot{I}{B}}\n",
       "\\def\\dif{\\mathop{}\\!\\mathrm{d}}\n",
       "\\newcommand{\\intd}[1]{\\dif#1}\n",
       "\\newcommand{\\od}[3][]{{ \\frac{\\dif{^{#1}}#2}{\\dif{#3^{#1}}} }}\t\t\t\n",
       "\\newcommand{\\pd}[3][]{{ \\frac{\\partial{^{#1}}#2}{\\partial{#3^{#1}}} }}\t \n",
       "\\newcommand{\\md}[6]{{  \\frac{\\partial{^{#2}}#1}{\\partial{#3^{#4}}\\partial{#5^{#6}}} }}\n",
       "\\newcommand{\\fddt}[2][]{{  \\leftexp{\\mathcal{#2}}{\\frac{\\dif{#1}}{\\dif{t}}}  }}\n",
       "\\newcommand{\\fdddt}[2][]{{  \\leftexp{\\mathcal{#2}}{\\frac{\\dif{^{2}#1}}{\\dif{t^2}}}  }}\n",
       "\\newcommand{\\ddt}[1][]{\\fddt[#1]{I}}\n",
       "$\n"
      ],
      "text/plain": [
       "<IPython.core.display.Markdown object>"
      ]
     },
     "metadata": {},
     "output_type": "display_data"
    },
    {
     "data": {
      "text/markdown": [
       "# [Previous](<11-Gravity.ipynb>)"
      ],
      "text/plain": [
       "<IPython.core.display.Markdown object>"
      ]
     },
     "metadata": {},
     "output_type": "display_data"
    }
   ],
   "source": [
    "# These are helpful routines that will assist in building this book. \n",
    "# You should run this block before anything else. There is no output expected.\n",
    "from astrodynamicsbook.bookhelpers import *\n",
    "loadLatexPreamble()\n",
    "\n",
    "# This is only here to create the navigation link:\n",
    "genPrevLink()"
   ]
  },
  {
   "cell_type": "markdown",
   "id": "5196d4a2-a80d-421d-a791-4ac52b516a6a",
   "metadata": {},
   "source": [
    "# Kepler's Laws\n",
    "\n",
    "Do yourself a favor and take a few minutes to read through the Wikipedia article on Johannes Kepler.  Better yet, pick up a real biography (say something by Arthur Koestler).  It's ok. We'll wait. Suffice it to say, the man's life was fascinating.  He plays into our story, however, in that, about 78 years before Newton published his *Principia* (which contains, among other things, much of the line of derivation that we have been following so far), Kepler published *Astronomia nova*, which contained his three laws of planetary motion.  These were not based on derivation from a set of postulates (e.g., Newton's laws), but rather were postulates themselves, crafted based on meticulous observations of the motion of other solar system bodies, and in particular, of Mars.  Most of these observations were recorded by Tycho Brahe, whose life also merits close scrutiny.  You may have heard about the nose, but that's only the start of it - there's a drunk, pet elk in there. \n",
    "\n",
    "Kepler's laws were revolutionary, and an incredibly impressive feat of geometry and data fitting.  The fact that they are instantly reproducible using Newton's laws and calculus methods is more impressive still. Despite being superseded by more basic postulates, Kepler's laws are still very much worth studying as they provide quite a bit of intuitive understanding on the *geometry* of two-body orbits.  "
   ]
  },
  {
   "cell_type": "markdown",
   "id": "de0b080f-27bf-4cf8-bfd4-6f1f0cf8b992",
   "metadata": {},
   "source": [
    "# Kepler's First Law\n",
    "\n",
    "Kepler's first law states that two-body orbits are conic sections with the central body at a focus.  In fact, the original first law stated that planetary orbits were ellipses, but our analysis has already shown us that we can generalize this to [conic sections](<08-Angular Momentum.ipynb#Conic-Sections>).  Let's take a bit of a deeper dive into the geometry of conics. \n",
    "\n",
    "## Conic Sections\n",
    "\n",
    "Fundamentally, a conic section is the [intersection of a plane with a cone](<08-Angular Momentum.ipynb#Conic-Sections>). If the plane is parallel to the base of the cone, the intersection forms a circle.  If the plane is parallel to the edge of the cone, the intersection is a parabola. If the plane is at an angle to the base, but does not intersect the base, an ellipse is formed, and all other planes generate hyperbolae. \n",
    "\n",
    "<p style=\"text-align:center;\"><img src=\"img/conic_sections3.png\" alt=\"Conic Sections\" width=\"400\" id=\"fig:conics2\"/></p>\n",
    "\n",
    "All conic sections can be parametrized via 3 definitions: the **focus**, the **eccentricity**, and the **directrix**.  A conic section is the locus of all points whose distance from a point $F$ (the focus) is equal to the distance to a fixed line (the directrix) scaled by the eccentricity (as shown in the <a href=\"#fig:conics2\" >figure</a>), or:\n",
    "\n",
    "\n",
    "<div class=\"alert alert-block alert-info\">\n",
    "    A conic section is the collection of all points $P$ such that:\n",
    "$$\\overline{FP} = e \\overline{PQ}$$\n",
    "</div>\n",
    "\n",
    "All conic sections actually have two foci.  In geometric terms, there is no real difference between the two, but in the case of orbits, one is special because it is the location of the central body of the orbit.  The other focus is therefore often called the **vacant focus**.  The directrix (the line on which point $Q$ lies in the <a href=\"#fig:conics2\" >figure</a>) is orthogonal to the line that passes through the two foci. Eccentricity is defined as a strictly positive quantity, with:\n",
    "- $e=0$ corresponding to circles\n",
    "- $0 < e < 1$ corresponding to ellipses (circles are a special case of ellipse)\n",
    "- $e =  1$ corresponding to parabolae\n",
    "- $e > 1$ corresponding to hyperbolae\n",
    "\n",
    "<div class=\"alert alert-block alert-danger\">\n",
    "    Yes, yes. Common usage is 'parabolas' and 'hyperbolas'. So what? Who wants to be understood when you have the chance to be <i> correct</i>?\n",
    "</div>\n",
    "\n",
    "We have also already stated the polar form of the conic section:\n",
    "$$r = \\frac{\\ell}{1 + e\\cos(\\nu)}$$\n",
    "where $r \\equiv \\overline{FP}$ is the orbital radius and $\\nu$ (the true anomaly) is the angle between the line passing through the two foci (which lies along the eccentricity vector direction) and the orbital radius. The semi-parameter ($\\ell$) is the height of the conic above a focus (alternatively, half the chord of the conic that is parallel to the directrix and passes through a focus). \n",
    "\n",
    "If we compare this to our [previously derived conic solution](<11-Gravity.ipynb#Specific-Angular-Momentum>) for the two-body problem, we see that:\n",
    "<div class=\"alert alert-block alert-info\">\n",
    "   $$\\ell \\equiv \\frac{h^2}{\\mu}$$\n",
    "</div>\n",
    "\n",
    "This is true for *all* orbits, but other things are orbit type-specific. Let's explore this a bit further and  consider each class of conic in turn."
   ]
  },
  {
   "cell_type": "markdown",
   "id": "20f59b73-e02d-498c-96ae-c5f79fbd5661",
   "metadata": {},
   "source": [
    "### Ellipses"
   ]
  },
  {
   "cell_type": "code",
   "execution_count": null,
   "id": "4b2f58f2-0488-46bd-a07c-4294a45a0e66",
   "metadata": {},
   "outputs": [],
   "source": []
  }
 ],
 "metadata": {
  "kernelspec": {
   "display_name": "Python 3 (ipykernel)",
   "language": "python",
   "name": "python3"
  },
  "language_info": {
   "codemirror_mode": {
    "name": "ipython",
    "version": 3
   },
   "file_extension": ".py",
   "mimetype": "text/x-python",
   "name": "python",
   "nbconvert_exporter": "python",
   "pygments_lexer": "ipython3",
   "version": "3.9.10"
  }
 },
 "nbformat": 4,
 "nbformat_minor": 5
}
