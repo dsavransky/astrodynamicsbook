{
 "cells": [
  {
   "cell_type": "code",
   "execution_count": 2,
   "id": "03f45184-99e9-4f10-a0a6-0eeec3563bd4",
   "metadata": {},
   "outputs": [
    {
     "data": {
      "text/markdown": [
       "$\n",
       "\\def\\bs{\\boldsymbol}\n",
       "\\def\\mf{\\mathbf}\n",
       "\\def\\mb{\\mathbb}\n",
       "\\def\\mc{\\mathcal}\n",
       "\\def\\rfr{\\mathcal}\n",
       "\\def\\grad{{\\rm grad}}\n",
       "\\def\\Re{{\\rm Re}}\n",
       "\\def\\Im{{\\rm Im}}\n",
       "\\def\\und{\\underline}\n",
       "\\def\\ovl{\\overline}\n",
       "\\def\\unb{\\underbrace}\n",
       "\\def\\Log{\\mbox{Log}}\n",
       "\\def\\bfomega{\\bs \\omega}\n",
       "\\def\\bfalpha{\\bs \\alpha}\n",
       "\\def\\da{\\triangleq}\n",
       "\\newcommand{\\leftexp}[2]{{\\vphantom{#2}}^{#1}\\!{#2}}\n",
       "\\newcommand{\\leftsub}[2]{{\\vphantom{#2}}_{#1}\\!{#2}}\n",
       "\\newcommand{\\omegarot}[2]{{\\leftexp{\\mathcal{#1}}{\\boldsymbol{\\omega}}^{\\mathcal{#2}}}}\n",
       "\\newcommand{\\alpharot}[2]{{\\leftexp{\\mathcal{#1}}{\\boldsymbol{\\alpha}}^{\\mathcal{#2}}}}\n",
       "\\newcommand{\\framerot}[2]{{\\leftexp{\\mathcal{#1}}{C}^{\\mathcal{#2}}}}\n",
       "\\newcommand{\\dframerot}[2]{{\\vphantom{\\dot{C}}^{\\mathcal{#1}}\\!{\\dot{C}^{\\mathcal{#2}}}}}\n",
       "\\newcommand{\\bdot}[1]{\\dot{\\mathbf{#1}}}\n",
       "\\newcommand{\\bhat}[1]{\\hat{\\mathbf{#1}}}\n",
       "\\newcommand{\\mbhat}[1]{\\hat{\\mathbb{#1}}}\n",
       "\\def\\iwb{\\omegarot{I}{B}}\n",
       "\\def\\iab{\\alpharot{I}{B}}\n",
       "\\def\\icb{\\framerot{I}{B}}\n",
       "\\def\\dif{\\mathop{}\\!\\mathrm{d}}\n",
       "\\newcommand{\\intd}[1]{\\dif#1}\n",
       "\\newcommand{\\od}[3][]{{ \\frac{\\dif{^{#1}}#2}{\\dif{#3^{#1}}} }}\t\t\t\n",
       "\\newcommand{\\pd}[3][]{{ \\frac{\\partial{^{#1}}#2}{\\partial{#3^{#1}}} }}\t \n",
       "\\newcommand{\\md}[6]{{  \\frac{\\partial{^{#2}}#1}{\\partial{#3^{#4}}\\partial{#5^{#6}}} }}\n",
       "\\newcommand{\\fddt}[2][]{{  \\leftexp{\\mathcal{#2}}{\\frac{\\dif{#1}}{\\dif{t}}}  }}\n",
       "\\newcommand{\\fdddt}[2][]{{  \\leftexp{\\mathcal{#2}}{\\frac{\\dif{^{2}#1}}{\\dif{t^2}}}  }}\n",
       "\\newcommand{\\ddt}[1][]{\\fddt[#1]{I}}\n",
       "$\n"
      ],
      "text/plain": [
       "<IPython.core.display.Markdown object>"
      ]
     },
     "metadata": {},
     "output_type": "display_data"
    },
    {
     "data": {
      "text/markdown": [
       "# [Previous](<11-Gravity.ipynb>)"
      ],
      "text/plain": [
       "<IPython.core.display.Markdown object>"
      ]
     },
     "metadata": {},
     "output_type": "display_data"
    }
   ],
   "source": [
    "# These are helpful routines that will assist in building this book. \n",
    "# You should run this block before anything else. There is no output expected.\n",
    "from astrodynamicsbook.bookhelpers import *\n",
    "loadLatexPreamble()\n",
    "\n",
    "# This is only here to create the navigation link:\n",
    "genPrevLink()"
   ]
  },
  {
   "cell_type": "markdown",
   "id": "5196d4a2-a80d-421d-a791-4ac52b516a6a",
   "metadata": {},
   "source": [
    "# Kepler's Laws\n",
    "\n",
    "Do yourself a favor and take a few minutes to read through the Wikipedia article on Johannes Kepler.  Better yet, pick up a real biography (say something by Arthur Koestler).  It's ok. We'll wait. Suffice it to say, the man's life was fascinating.  He plays into our story, however, in that, about 78 years before Newton published his *Principia* (which contains, among other things, much of the line of derivation that we have been following so far), Kepler published *Astronomia nova*, which contained his three laws of planetary motion.  These were not based on derivation from a set of postulates (e.g., Newton's laws), but rather were postulates themselves, crafted based on meticulous observations of the motion of other solar system bodies, and in particular, of Mars.  Most of these observations were recorded by Tycho Brahe, whose life also merits close scrutiny.  You may have heard about the nose, but that's only the start of it - there's a drunk, pet elk in there. \n",
    "\n",
    "Kepler's laws were revolutionary, and an incredibly impressive feat of geometry and data fitting.  The fact that they are instantly reproducible using Newton's laws and calculus methods is more impressive still. Despite being superseded by more basic postulates, Kepler's laws are still very much worth studying as they provide quite a bit of intuitive understanding on the *geometry* of two-body orbits.  "
   ]
  },
  {
   "cell_type": "markdown",
   "id": "de0b080f-27bf-4cf8-bfd4-6f1f0cf8b992",
   "metadata": {},
   "source": [
    "# Kepler's First Law\n",
    "\n",
    "Kepler's first law states that two-body orbits are conic sections with the central body at a focus.  In fact, the original first law stated that planetary orbits were ellipses, but our analysis has already shown us that we can generalize this to [conic sections](<08-Angular Momentum.ipynb#Conic-Sections>).  Let's take a bit of a deeper dive into the geometry of conics. \n",
    "\n",
    "## Conic Sections\n",
    "\n",
    "Fundamentally, a conic section is the [intersection of a plane with a cone](<08-Angular Momentum.ipynb#Conic-Sections>). If the plane is parallel to the base of the cone, the intersection forms a circle.  If the plane is parallel to the edge of the cone, the intersection is a parabola. If the plane is at an angle to the base, but does not intersect the base, an ellipse is formed, and all other planes generate hyperbolae. \n",
    "\n",
    "<p style=\"text-align:center;\"><img src=\"img/conic_sections3.png\" alt=\"Conic Sections\" width=\"400\" id=\"fig:conics2\"/></p>\n",
    "\n",
    "All conic sections can be parametrized via 3 definitions: the **focus**, the **eccentricity**, and the **directrix**.  A conic section is the locus of all points whose distance from a point $F$ (the focus) is equal to the distance to a fixed line (the directrix) scaled by the eccentricity (as shown in the <a href=\"#fig:conics2\" >figure</a>), or:\n",
    "\n",
    "\n",
    "<div class=\"alert alert-block alert-info\">\n",
    "    A conic section is the collection of all points $P$ such that:\n",
    "$$\\overline{FP} = e \\overline{PQ}$$\n",
    "</div>\n",
    "\n",
    "All conic sections actually have two foci.  In geometric terms, there is no real difference between the two, but in the case of orbits, one is special because it is the location of the central body of the orbit.  The other focus is therefore often called the **vacant focus**.  The directrix (the line on which point $Q$ lies in the <a href=\"#fig:conics2\" >figure</a>) is orthogonal to the line that passes through the two foci. Eccentricity is defined as a strictly positive quantity, with:\n",
    "- $e=0$ corresponding to circles\n",
    "- $0 < e < 1$ corresponding to ellipses (circles are a special case of ellipse)\n",
    "- $e =  1$ corresponding to parabolae\n",
    "- $e > 1$ corresponding to hyperbolae\n",
    "\n",
    "<div class=\"alert alert-block alert-danger\">\n",
    "    Yes, yes. Common usage is 'parabolas' and 'hyperbolas'. So what? Who wants to be understood when you have the chance to be <i> correct</i>?\n",
    "</div>\n",
    "\n",
    "We have also already stated the polar form of the conic section:\n",
    "$$r = \\frac{\\ell}{1 + e\\cos(\\nu)}$$\n",
    "where $r \\equiv \\overline{FP}$ is the orbital radius and $\\nu$ (the true anomaly) is the angle between the line passing through the two foci (which lies along the eccentricity vector direction) and the orbital radius. The semi-parameter ($\\ell$) is the height of the conic above a focus (alternatively, half the chord of the conic that is parallel to the directrix and passes through a focus). \n",
    "\n",
    "If we compare this to our [previously derived conic solution](<11-Gravity.ipynb#Specific-Angular-Momentum>) for the two-body problem, we see that:\n",
    "<div class=\"alert alert-block alert-info\">\n",
    "   $$\\ell \\equiv \\frac{h^2}{\\mu}$$\n",
    "</div>\n",
    "\n",
    "This is true for *all* orbits, but other things are orbit type-specific. Let's explore this a bit further and  consider each class of conic in turn."
   ]
  },
  {
   "cell_type": "markdown",
   "id": "20f59b73-e02d-498c-96ae-c5f79fbd5661",
   "metadata": {},
   "source": [
    "### Ellipses\n",
    "\n",
    "\n",
    "<p style=\"text-align:center;\"><img src=\"img/ellipse2.png\" alt=\"Ellipse\" width=\"800\" id=\"fig:ellipse\"/></p>\n",
    "\n",
    "In addition to the focus/directrix definition (which applies to *all* conic sections), ellipses can be defined as the locus of all points $P$ for which:\n",
    "$$ \\underbrace{\\overline{FP}}_{\\displaystyle \\triangleq r} +  \\underbrace{\\overline{F'P}}_{\\displaystyle \\triangleq r'} = 2a $$\n",
    "\n",
    "That is, the sum of the line segments connecting any point on the ellipse to the two foci always equals twice the **semi-major axis** ($a$).  The semi-major axis is half of the ellipse's largest diameter (the major axis - the line bisecting the ellipse orthogonal to the directrix, which is also parallel to the eccentricity vector in the case of orbits).  The chord orthogonal to the major axis is (unsurprisingly the minor axis) and half of this chord is the **semi-minor axis** ($b$). \n",
    "\n",
    "Note that the point on the ellipse crossed by the minor axis is equidistant from both foci, meaning that at $B$, $r = r' = a$.  Therefore, the right triangle $\\angle FCB$ has hypotenuse of length $a$, height $b$ and base $c$.  $c$ is the distance between the foci and the geometric center of the ellipse, and is called the **linear eccentricity**. We thus have (by the Pythagorean theorem):\n",
    "$$b^2 + c^2 = a^2 \\quad \\Longrightarrow \\quad c^2 = a^2 - b^2$$\n",
    "\n",
    "By our original conic section expression ($\\overline{FP} = e \\overline{PQ}$) we also know that $B$ is at a distance $a/e$ from the directrix, meaning that the directrix is a distance $a/e$ from the ellipse's center."
   ]
  },
  {
   "cell_type": "markdown",
   "id": "e95f80a4-c020-4673-83e0-02292298552b",
   "metadata": {},
   "source": [
    "If we consider the point on the orbit for which $\\nu = 0$:\n",
    "$$r' = c+a$$\n",
    "$$r =  a-c$$\n",
    "The distance from this point to the directrix is $a/e - a$ and this length must equal $r/e$, meaning that:\n",
    "$$\\frac{a}{e} - a = \\frac{a - c}{e} \\quad \\Longrightarrow \\quad c = ae$$ \n",
    "\n",
    "The linear eccentricity is thus the eccentricity scaled by the semi-major axis (isn't it amazing how we call these things certain names and the names always end up making sense eventually?).\n",
    "\n",
    "Circling back to triangle $\\angle FCB$, we can now substitute for $c^2$ to write:\n",
    "$$b^2 = a^2 - (ae)^2 \\quad \\Longrightarrow \\quad b = a\\sqrt{1-e^2}$$\n",
    "\n",
    "\n"
   ]
  },
  {
   "cell_type": "markdown",
   "id": "8d9b84cd-717c-4b60-a255-683fcad95614",
   "metadata": {},
   "source": [
    "Let's consider the point on the ellipse laying immediately above the focus $F'$.  In this case $r' = \\ell$, which means that $r = 2a - \\ell$. The triangle formed by this point and the two foci has a height $\\ell$, base $2c$ and hypotenuse $r$, so (again thanks to Pythagoras):\n",
    "$$ (2a - \\ell)^2 = \\ell^2 + 4c^2 \\quad \\Longrightarrow \\quad 4a^2 - 4a\\ell + \\ell^2 = \\ell^2 + 4c^2$$\n",
    "Cancelling the $\\ell^2$ terms on either side, dividing by 4, and substituting for $c^2$ from the previous expression, we have:\n",
    "$$a^2 - a\\ell = a^2 - b^2 \\quad \\Longrightarrow \\quad \\ell = \\frac{b^2}{a} = a(1-e^2)$$\n",
    "\n",
    "We next consider the triangle $\\angle F'PF$ whose sides have lengths $r,r'$, and $2c$ and apply the law of cosines:\n",
    "$$(r')^2 = r^2 +(2c)^2 + 2r(2c)\\cos(\\nu) \\quad \\Longrightarrow\\quad (2a - r)^2 = r^2 + (2ae)^2 +  2r(2ae)\\cos(\\nu)$$\n",
    "\n",
    "where we have substituted for $r'$ based on our parametrization of the ellipse and for $c$ based on our previous derivation.  Note also the sign flip on the cosine term.  This is because the angle opposite $r'$ is the supplement to $\\nu$. Solving for $r$...you know what?  Let's let the computer carry it's weight for once:"
   ]
  },
  {
   "cell_type": "code",
   "execution_count": 11,
   "id": "8bdb246a-60a0-4518-b95b-b5eb3b8f6e6a",
   "metadata": {},
   "outputs": [
    {
     "data": {
      "image/png": "[encoded data removed]",
      "text/latex": [
       "$\\displaystyle \\left[ \\frac{a \\left(1 - e^{2}\\right)}{e \\cos{\\left(\\nu \\right)} + 1}\\right]$"
      ],
      "text/plain": [
       "⎡   ⎛     2⎞ ⎤\n",
       "⎢ a⋅⎝1 - e ⎠ ⎥\n",
       "⎢────────────⎥\n",
       "⎣e⋅cos(ν) + 1⎦"
      ]
     },
     "execution_count": 11,
     "metadata": {},
     "output_type": "execute_result"
    }
   ],
   "source": [
    "# We're going to use sympy's solve method, which solves algebraic expressions of the form \n",
    "# f(x) = 0\n",
    "r,a,e,nu = symbols('r,a,e,nu',real='True')\n",
    "sympy.solve((2*a - r)**2 - r**2 - (2*a*e)**2 - 2*r*(2*a*e)*cos(nu),r)"
   ]
  },
  {
   "cell_type": "markdown",
   "id": "97e9cbf8-4f5e-494b-a634-3da1490efd65",
   "metadata": {},
   "source": [
    "Excellent.  We have confirmed our initially posited conic section expression:\n",
    "$$r = \\frac{a \\left(1 - e^{2}\\right)}{1+ e \\cos{\\left(\\nu \\right)}}  \\equiv  \\frac{\\ell}{1+ e \\cos{\\left(\\nu \\right)} }$$"
   ]
  },
  {
   "cell_type": "markdown",
   "id": "da5cdc41-1f65-4eba-bd48-7cee985a35d1",
   "metadata": {},
   "source": [
    "We can define another useful parameter - the **focal parameter** ($p$), which measures the distance from a focus to a directrix. Since we've already found that the distance from the focus to the directrix is $a/e$, $p$ must be $c$ less than this value, and so:\n",
    "$$ p = \\frac{a}{e} - ae = \\frac{a(1 - e^2)}{e} \\equiv \\frac{\\ell}{e}$$\n",
    "\n",
    "<div class=\"alert alert-block alert-danger\">\n",
    "    Time for another notational suckage rant. The focal parameter and semi-parameter (or semi-latus rectum) have absolutely no consistent notation in the literature.  It is incredibly common to find reversed definitions from the ones we have laid out here (i.e., have $\\ell$ represent the focal parameter and $p$ represent the semi-parameter).  Having stated our definitions, we will stick with them, but beware other sources and flips in definition. At some point in time, Wikipedia agreed with us, making our stance morally superior. \n",
    "</div>\n",
    "\n",
    "Two final things we can compute from the geometry of an ellipse: the minimum and maximum separations between a point on the ellipse and the filled focus $F$.  These represent the closest and most distant approaches between two orbiting bodies (when the orbits are ellipses) and are called the **periapsis** and **apoapsis**.\n",
    "\n",
    "<div class=\"alert alert-block alert-danger\">\n",
    "    Apsis (plural apsides) comes from the ancient Greek for 'arch' or 'vault'.  Center is a commonly replace suffix (i.e., <b>pericenter</b> and <b>apocenter</b>).  When discussing orbits about specific central bodies, it is common to replace the suffix with a specific one (typically based on the Greek term for the body).  Thus, for the Earth, we may call these points <b>perigee</b> and <b>apogee</b>, for the sun, <b>perihelion</b> and <b>aphelion</b>, and for an arbitrary star, <b>periastron</b> and <b>apastron</b>.  Specific suffixes also exist for other solar system bodies (i.e., perilune, perijove, etc.) but their usage is much less frequent. \n",
    "</div>\n",
    "\n",
    "These points occur for $\\nu = 0$ and $\\nu = \\pi$, respectively, which means that their associated orbital radii evaluate to:\n",
    "<div class=\"alert alert-block alert-info\">\n",
    "$$r_p \\triangleq r(\\nu = 0) = a(1-e)$$\n",
    "$$r_a \\triangleq r(\\nu = \\pi) = a(1+e)$$\n",
    "   </div>\n",
    "   \n",
    "Note that we can solve for both semi-major axis and eccentricity if we know both of these values."
   ]
  },
  {
   "cell_type": "markdown",
   "id": "f3cee458-c6e4-4806-996c-d53b138202a3",
   "metadata": {},
   "source": [
    "### Hyperbolae\n",
    "\n",
    "<p style=\"text-align:center;\"><img src=\"img/hyperbola.png\" alt=\"Hyperbola\" width=\"600\" id=\"fig:hyperbola\"/></p>\n",
    "\n",
    "The geometry for hyperbolae is defined in such a way so as to preserve most of the results established for ellipses. The primary difference is that eccentricity is strictly greater than 1 ($e > 1$) and semi-major axis is defined as a strictly negative quantity.  \n",
    "\n",
    "<div class=\"alert alert-block alert-danger\">\n",
    "   Note that negative semi-major axis is not required by the geometric description fo a hyperbola - however, in the context of astrodynamics it makes a lot of things work out nicely between ellipses and hyperbolae. We'll return to this again when we next discuss orbital energy.\n",
    "</div>\n",
    "\n",
    "Much like ellipses, hyperbolae can be defined as the locus of all points $P$ for which:\n",
    "$$ \\left\\vert r - r'\\right\\vert= 2\\vert a \\vert $$\n",
    "\n",
    "In this case, the semi-major axis (its absolute value) is the distance along the eccentricity vector direction (which is still orthogonal to the directrix and passes through the periapsis points) between the vertex of either branch of the hyperbola and the geometric center.  The semi-minor axis is the height to the asymptote from the vertex (orthogonal to the semi-minor axis).  The linear eccentricity is again the distance from either focus to the geometric center and can be shown (using much the same approach as we took for the elliptical case) to be $c = \\vert a \\vert e$. Similarly, we find that $\\ell = \\dfrac{b^2}{\\vert a\\vert} \\equiv a\\left(1-e^2\\right)$ and the exact same relationship for the focal parameter: $p = \\dfrac{\\ell}{e}$.\n",
    "\n",
    "<div class=\"alert alert-block alert-warning\">\n",
    "    <b>Exercise</b><br> Prove that  $c = \\vert a\\vert e$,  $\\ell = a\\left(1-e^2\\right)$, and that $p = \\dfrac{\\ell}{e}$ for hyperbolae.\n",
    "</div>\n",
    "\n",
    "Note that this means that the conic section equation for orbital radius magnitude is exactly the same for ellipses and hyperbolae.\n",
    "    "
   ]
  },
  {
   "cell_type": "markdown",
   "id": "d439f1d0-dce1-48b7-ab87-c52dfe4aedb3",
   "metadata": {},
   "source": [
    "### Parabolae\n",
    "\n",
    "<p style=\"text-align:center;\"><img src=\"img/parabola2.png\" alt=\"Parabola\" width=\"600\" id=\"fig:parabola\"/></p>\n",
    "\n",
    "\n",
    "The third class of conic section consists of the parabolae, whose eccentricity is exactly 1. Parabolas technically have infinite semi-major axes (in the sense that the vacant focus is infinitely far from the filled focus), so in this case, we redefine the $a$ parameter to be the distance between the parabola's vertex and the directrix.  This is also equal to the distance between the vertex and focus, which makes the semi-parameter evaluate to 2$a$.  The linear eccentricity is undefined (infinite) and all other previously derived relationships stay the same. \n",
    "\n",
    "\n",
    "<div class=\"alert alert-block alert-warning\">\n",
    "    <b>Exercise</b><br> Ready. Set. Prove!\n",
    "</div>"
   ]
  },
  {
   "cell_type": "markdown",
   "id": "d111fb6f-5410-430a-bebb-407a86482d74",
   "metadata": {},
   "source": [
    "## Summary\n",
    "\n",
    "For all conic sections (orbits):\n",
    "- The linear eccentricity $c = \\vert a \\vert e$ (except for parabolas where it is undefined)\n",
    "- The focal parameter $p = \\dfrac{\\ell}{e}$\n",
    "- The orbital radius $r = \\dfrac{\\ell}{1 + e \\cos\\nu}$\n",
    "\n",
    "<table style=\"text-align: center;\">\n",
    "<tr><th>Conic</th> <th>Eccentricity ($e$)</th><th>Semi-Major Axis ($a$)</th><th>Semi-Parameter ($\\ell$)</th> \n",
    "    <tr><td>Circle</td><td>0</td><td>$>0$</td><td>$a$</td></tr>\n",
    "    <tr><td>Ellipse</td><td>$0<e<1$</td><td>$>0$</td><td>$a(1-e^2)$</td></tr>\n",
    "    <tr><td>Parabola</td><td>1</td><td>$\\dfrac{\\ell}{2}$</td><td>$2a$</td></tr>\n",
    "    <tr><td>Hyperbola</td><td>$>1$</td><td>$<0$</td><td>$a(1-e^2)$</td></tr>\n",
    "</table>\n",
    "    \n",
    "\n",
    "<div class=\"alert alert-block alert-warning\">\n",
    "    <b>Exercise</b><br> From all of the above, derive the standard forms of the conic section equations in Cartesian coordinates $(x,y)$.  For example, the equation of a circle is $x^2 + y^2 = a^2$, and so on.\n",
    "</div>"
   ]
  },
  {
   "cell_type": "code",
   "execution_count": 12,
   "id": "e89c5fe7-268f-4d94-9a7a-008d2de01ff1",
   "metadata": {},
   "outputs": [],
   "source": [
    "# This is just here to generate the link to the next notebook\n",
    "genNextLink()"
   ]
  },
  {
   "cell_type": "code",
   "execution_count": null,
   "id": "b2bd8d1c-7abc-464d-9c3d-b0c16c01a7dc",
   "metadata": {},
   "outputs": [],
   "source": []
  }
 ],
 "metadata": {
  "kernelspec": {
   "display_name": "Python 3 (ipykernel)",
   "language": "python",
   "name": "python3"
  },
  "language_info": {
   "codemirror_mode": {
    "name": "ipython",
    "version": 3
   },
   "file_extension": ".py",
   "mimetype": "text/x-python",
   "name": "python",
   "nbconvert_exporter": "python",
   "pygments_lexer": "ipython3",
   "version": "3.9.13"
  }
 },
 "nbformat": 4,
 "nbformat_minor": 5
}
