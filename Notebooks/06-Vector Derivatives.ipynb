{
 "cells": [
  {
   "cell_type": "code",
   "execution_count": 1,
   "id": "4e900fd4-16aa-4739-ac6c-22606f29d975",
   "metadata": {},
   "outputs": [
    {
     "data": {
      "text/markdown": [
       "$\n",
       "\\def\\bs{\\boldsymbol}\n",
       "\\def\\mf{\\mathbf}\n",
       "\\def\\mb{\\mathbb}\n",
       "\\def\\mc{\\mathcal}\n",
       "\\def\\rfr{\\mathcal}\n",
       "\\def\\grad{{\\rm grad}}\n",
       "\\def\\Re{{\\rm Re}}\n",
       "\\def\\Im{{\\rm Im}}\n",
       "\\def\\und{\\underline}\n",
       "\\def\\ovl{\\overline}\n",
       "\\def\\unb{\\underbrace}\n",
       "\\def\\Log{\\mbox{Log}}\n",
       "\\def\\bfomega{\\bs \\omega}\n",
       "\\def\\bfalpha{\\bs \\alpha}\n",
       "\\def\\da{\\triangleq}\n",
       "\\newcommand{\\leftexp}[2]{{\\vphantom{#2}}^{#1}\\!{#2}}\n",
       "\\newcommand{\\leftsub}[2]{{\\vphantom{#2}}_{#1}\\!{#2}}\n",
       "\\newcommand{\\omegarot}[2]{{\\leftexp{\\mathcal{#1}}{\\boldsymbol{\\omega}}^{\\mathcal{#2}}}}\n",
       "\\newcommand{\\alpharot}[2]{{\\leftexp{\\mathcal{#1}}{\\boldsymbol{\\alpha}}^{\\mathcal{#2}}}}\n",
       "\\newcommand{\\framerot}[2]{{\\leftexp{\\mathcal{#1}}{C}^{\\mathcal{#2}}}}\n",
       "\\newcommand{\\dframerot}[2]{{\\vphantom{\\dot{C}}^{\\mathcal{#1}}\\!{\\dot{C}^{\\mathcal{#2}}}}}\n",
       "\\newcommand{\\bdot}[1]{\\dot{\\mathbf{#1}}}\n",
       "\\newcommand{\\bhat}[1]{\\hat{\\mathbf{#1}}}\n",
       "\\newcommand{\\mbhat}[1]{\\hat{\\mathbb{#1}}}\n",
       "\\def\\iwb{\\omegarot{I}{B}}\n",
       "\\def\\iab{\\alpharot{I}{B}}\n",
       "\\def\\icb{\\framerot{I}{B}}\n",
       "\\def\\dif{\\mathop{}\\!\\mathrm{d}}\n",
       "\\newcommand{\\intd}[1]{\\dif#1}\n",
       "\\newcommand{\\od}[3][]{{ \\frac{\\dif{^{#1}}#2}{\\dif{#3^{#1}}} }}\t\t\t\n",
       "\\newcommand{\\pd}[3][]{{ \\frac{\\partial{^{#1}}#2}{\\partial{#3^{#1}}} }}\t \n",
       "\\newcommand{\\md}[6]{{  \\frac{\\partial{^{#2}}#1}{\\partial{#3^{#4}}\\partial{#5^{#6}}} }}\n",
       "\\newcommand{\\fddt}[2][]{{  \\leftexp{\\mathcal{#2}}{\\frac{\\dif{#1}}{\\dif{t}}}  }}\n",
       "\\newcommand{\\fdddt}[2][]{{  \\leftexp{\\mathcal{#2}}{\\frac{\\dif{^{2}#1}}{\\dif{t^2}}}  }}\n",
       "\\newcommand{\\ddt}[1][]{\\fddt[#1]{I}}\n",
       "$\n"
      ],
      "text/plain": [
       "<IPython.core.display.Markdown object>"
      ]
     },
     "metadata": {},
     "output_type": "display_data"
    },
    {
     "data": {
      "text/markdown": [
       "# [Previous](<05-More Reference Frames.ipynb>)"
      ],
      "text/plain": [
       "<IPython.core.display.Markdown object>"
      ]
     },
     "metadata": {},
     "output_type": "display_data"
    }
   ],
   "source": [
    "# These are helpful routines that will assist in building this book.\n",
    "# You should run this block before anything else. There is no output expected.\n",
    "from astrodynamicsbook.bookhelpers import *\n",
    "\n",
    "loadLatexPreamble()\n",
    "\n",
    "# This is only here to create the navigation link:\n",
    "genPrevLink()"
   ]
  },
  {
   "cell_type": "markdown",
   "id": "8d34780a-b8d5-49ad-a0bf-54faf1ded25b",
   "metadata": {},
   "source": [
    "# Vector Derivatives in Time\n",
    "\n",
    "A really important thing to hold on to as we start this discussion is that geometric vectors are frame-independent. This means that every single position vector we have written down so far exists as an abstract geometric blob and is fully defined absent the definition of any reference frame at all.  Unfortunately, this ceases to be the case when we start thinking about how these geometric vectors may evolve in time.\n",
    "\n",
    "<div class=\"alert alert-block alert-danger\">\n",
    "Vector derivatives must be defined with respect to a reference frame.\n",
    "</div>\n",
    "\n",
    "To understand this, imagine a box moving freely (rotating and otherwise accelerating) in 3D space.  In the box, there's a ball moving around freely.  We call one corner of the box point $O$ and the location of the ball at any given time point $P$.  The position of the ball with respect to the corner of the box ($\\mf r_{P/O}$) really is a frame-independent quantity.  An observer traveling inside the box and another observer standing outside the box (let's imaging it's a glass house) would both agree on the magnitude and direction of this vector in any common reference frame they chose to adopt.  However, the story changes if you ask the two observers about the **velocity** (the time derivative of position) of the ball.  The observer traveling with the box would describe only the part of the change in the position of the ball due to the ball's motion inside the box.  The external observer would describe a rate of change that included both the ball's motion within the box, as well as the motion of the whole box itself.  This isn't just a matter of describing things in components of different frames.  The velocity vectors the two observers are describing are actually different!\n",
    "\n",
    "Ok, we tried for some physical intuition, let's see if we can get more clarity (or a complementary view) from the math side of things.  We assume that our position vector $\\mathbf{r}_{P/O}$ has Cartesian coordinates $a_1, a_2, a_3$ in some reference frame $\\mc A = (O, \\bhat{a}_1, \\bhat{a}_2, \\bhat{a}_3)$. The vector can therefore be written as:\n",
    "$$ \\mf r_{P/O} = a_1 \\bhat{a}_1 + a_2 \\bhat{a}_2 + a_3 \\bhat{a}_3 =  \\sum_{i=1}^3 a_i \\bhat{a}_i$$\n",
    "\n",
    "Now let's try differentiating a vector.  We don't necessarily know how to differentiate a vector, but we do know how to differentiate a scalar, so let's assume that all the things we know about scalar differentiation also apply to vectors.\n",
    "<div class=\"alert alert-block alert-danger\">\n",
    "If you are not comfortable with scalar differentiation, and, in particular, the chain rule, stop now, go grab a mathematics text (or equivalent resource) and bring yourself up to speed.\n",
    "</div>\n",
    "\n",
    "One of the things we know about differentiation is the product rule, which tells us that, since each component of our vector is composed of the product of two parts (the scalar measure number and the unit vector direction), we should expect our derivative to have two terms for each component, or six terms total.  This would look something like:\n",
    "$$ \\fddt{}\\mf r_{P/O} = \\sum_{i=1}^3 \\dot{a}_i \\bhat{a}_i + \\sum_{i=1}^3 a_i \\fddt{}\\bhat{a}_i $$\n",
    "where we have continued with the convention of overdots representing scalar derivatives in time. We don't seem to have gained much here, as we still have three terms that are derivatives of the $\\bhat{a}_i$ unit vectors that we still don't quite know what to do with.  Here's where the frame-dependent nature of vector derivatives comes into play.  \n",
    "\n",
    "<div class=\"alert alert-block alert-info\">\n",
    "The time derivative of a unit vector defining a reference frame, <i>with respect to that same reference frame</i> is zero.\n",
    "</div>\n",
    "\n",
    "Let's think about that statement a bit.  It kind of *feels* correct, right?  If a unit direction is used as and element of the basis set defining a reference frame, then, no matter how that frame moves through space, the unit direction isn't changing within the frame.  We've already introduced the concept of treating reference frames synonymously with rigid bodies. Let's go back to the example of the room floating through space.  We placed our coordinate origin at one corner of the room.  Assuming the room is a perfect rectangular solid, then the two walls and floor (or ceiling) meeting at that corner are mutually orthogonal and (when properly ordered) constitute a reference frame.  If the room doesn't deform or warp, then the unit directions following the edges of the room remain the same, within the context of the room, for all time.  We can even go further and make the stronger statement: any vector that is fixed within some reference frame has a zero time derivative with respect to that frame.  If we add rigid beams and girders to our moving room, then the vectors running along these structural elements again will have zero time derivatives with respect to the reference frame defined by the room.\n",
    "\n",
    "Assuming you buy all of that, we can now complete our definition of frame-specific vector derivatives.  We will represent vector differentiation with respect to a specific frame by adding a left superscript to the derivative operator, as well as the output of the differentiation.  That is, if $\\mf v$ is defined as the time derivative of $\\mf r$ in frame $\\mc I$, then we will write:\n",
    "$$ \\leftexp{\\mc I}{\\mf v} \\triangleq \\fddt{I}\\mf r $$\n",
    "\n",
    "So, now, we can finally get to our formal definition of vector differentiation:\n",
    "\n",
    "<div class=\"alert alert-block alert-info\">\n",
    " A vector $\\mf r_{P/O} = a_1 \\bhat a_1 + a_2 \\bhat a_2 + a_3 \\bhat a_3$ is differentiable in time at a time $t_1$ with respect to frame $\\mc A = (O, \\bhat a_1, \\bhat a_2, \\bhat a_3)$ if $a_1(t), a_2(t), a_3(t)$ are differentiable at $t = t_1$.  Then:\n",
    "$$\\left.\\fddt{A}\\mf r_{P/O}\\right|_{t = t_1} = \\left.\\frac{\\intd{a_1}}{\\intd{t}}\\right|_{t = t_1}\\bhat a_1 +\\left.\\frac{\\intd{a_2}}{\\intd{t}}\\right|_{t = t_1}\\bhat a_2+\\left.\\frac{\\intd{a_3}}{\\intd{t}}\\right|_{t = t_1} \\bhat a_3 $$\n",
    "   </div>\n",
    "\n",
    "If each of the $a_i$ functions are continuously differentiable, then we can replace this with the simpler statement:\n",
    "$$\\fddt{A}\\mf r_{P/O} = \\sum_{i=1}^3 \\dot{a}_i \\bhat{a}_i $$\n",
    "\n",
    "Similarly, if we define a different frame $\\mc B = (O, \\bhat{b}_1, \\bhat{b}_2, \\bhat{b}_3)$ such that $\\mf r_{P/O} =  \\sum_{i=1}^3 b_i \\bhat{b}_i$, and each of $b_i$ has a well-defined time derivative for all time, then the derivative with respect to the $\\mc B$ frame will be:\n",
    "$$\\fddt{B}\\mf r_{P/O} = \\sum_{i=1}^3 \\dot{b}_i \\bhat{b}_i $$\n",
    "\n",
    "In general $\\fddt{A}\\mf r_{P/O} \\ne \\fddt{B}\\mf r_{P/O}$ for different frames $\\mc A$ and $\\mc B$."
   ]
  },
  {
   "cell_type": "markdown",
   "id": "46d4526d-3f06-4408-8efb-55c53626dc21",
   "metadata": {},
   "source": [
    "\n",
    "## Component Representations of Vector Derivatives\n",
    "\n",
    "Let's be very clear here, because usually this is the part that trips people up: The frame-dependent nature of vector derivatives is wholly separate from our ability to express the components of a vector with respect to multiple frames.  We can express the derivative of $\\mf r_{P/O}$ with respect to the $\\mc A$ frame in components of the $\\mc A$ frame, or in components of the $\\mc B$ frame, or in any other frame we choose.  Transforming the components of our vector derivative between frames is done via exactly the same DCMs we have already been using, and follows all the same rules.  In our notation, this looks like:\n",
    "$$ \\left[\\fddt{A}\\mf r_{P/O}\\right]_\\mc B = \\framerot{B}{A}\\left[\\fddt{A}\\mf r_{P/O}\\right]_\\mc A $$\n",
    "\n",
    "Or, if we define another variable as the output of the derivative, such as $\\leftexp{\\mc A}{\\mf v_{P/O}} \\triangleq \\fddt{A}\\mf r_{P/O}$, then we could write:\n",
    "$$ \\left[\\leftexp{\\mc A}{\\mf v_{P/O}}\\right]_\\mc B = \\framerot{B}{A}\\left[\\leftexp{\\mc A}{\\mf v_{P/O}}\\right]_\\mc A $$\n",
    "\n",
    "Again: the frame we're differentiating with respect to, and the frame whose components we choose to express the result in, are entirely independent of one another. They could be the same frame, or they could be two different frames.  As always, allow the notation to help you keep track (or come up with your own notation that accomplished the task): the left superscript tells us about what frame we're differentiating with respect to, and the right subscript tells us about the frame whose components we're using. "
   ]
  },
  {
   "cell_type": "markdown",
   "id": "fabd91b1-abd6-47e1-b72a-6f91f9455a48",
   "metadata": {},
   "source": [
    "# Vector Derivatives Across Frames\n",
    "\n",
    "Great. We have rather cleverly obviated the need to figure what vector derivatives really mean by providing ourselves with a frame-dependent differentiation mechanism in which the derivatives of all of the vector parts are exactly zero. Go us.  And yet... That last bit there should give you pause.  If you can express a vector in components of any frame, there may be times when you wish to differentiate the unit vector of one frame with respect to another frame.  And that brings us all the way back to our original problem.  Namely, how exactly do we evaluate something like $\\fddt{B}{\\mf a_1}$ or $\\fddt{A}{\\mf b_1}$? \n",
    "\n",
    "But, hang on a second.  We solved our initial difficulty with vector derivatives by simply expressing our vector in the components of the frame we were differentiating with respect to. But *any* vector can be expressed in components of *any* frame, including those unit vectors making up other reference frames.  We can always write any of the $\\bhat b_i$ unit vector in $\\mc A$ frame components by projecting it onto each of $\\bhat{a}_i$ and summing the result:\n",
    "$$ \\bhat{b}_i = \\sum_{j=1}^3 (\\bhat{b}_i \\cdot \\bhat{a}_j)\\bhat{a}_j$$\n",
    "That quantity, $\\bhat{b}_i \\cdot \\bhat{a}_j$ should look super familiar.  It's our exact definition of $i,j$ component of the DCM $\\framerot{B}{A}$, or, equivalently, the $j,i$ component of its transpose, which is the DCM $\\framerot{A}{B}$. To summarize:\n",
    "$$ \\bhat{b}_i = \\sum_{j=1}^3 \\vphantom{C}^\\mathcal{A}{C}^{\\mathcal{B}}_{ji} \\bhat{a}_j$$ \n",
    "or, put another way, the $\\mc A$ components of $\\bhat{b}_i$ are the $i$th *column* of DCM $\\framerot{A}{B}$.  Put another, other way, the full DCM $\\framerot{A}{B}$ is a matrix representation of all three unit directions of $\\mc B$ in $\\mc A$ frame components:\n",
    "<div class=\"alert alert-block alert-info\">\n",
    " $$\\begin{bmatrix} [\\bhat{b}_1]_\\mc A & [\\bhat{b}_2]_\\mc A & [\\bhat{b}_3]_\\mc A \\end{bmatrix}  \\equiv \\framerot{A}{B}$$\n",
    "</div>\n",
    "\n",
    "<div class=\"alert alert-block alert-danger\">\n",
    "   Remember that by our convention, the matrix representation of a vector is strictly a 3x1 column matrix.  There's no particular reason why we can't package three of these columns into a single square matrix, as shown above.  On the other hand, some other texts will introduce the concept of the <b>vectrix</b> which is an array of unit vectors (<b>not</b> their components).  That is, something like: $\\begin{bmatrix} \\bhat{b}_1 & \\bhat{b}_2 & \\bhat{b}_3 \\end{bmatrix}$.  Vectrices are <i>horrible</i> constructs.  They do not fit cleanly into any of the mathematical formalism we have built up, and are excessively ugly things.  Of course, we like to disgruntle mathematicians, but still, there are limits.  Vectrices are a horrible hack, used solely for expediency in some derivations.  As we will soon show, it is entirely possible to do all this without introducing these wretched things. Forewarned is forearmed. \n",
    "</div>\n",
    "\n",
    "Before proceeding, let's verify this to ensure that we got it right.  We'll use the same example we previously studied in detail, the simple rotation about a common third frame axis:\n",
    "\n",
    "<p style=\"text-align:center;\"><img src=\"img/dcm3b.png\" alt=\"Axis 3 DCM\" width=\"400\" id=\"fig:dcm3b\"/></p>"
   ]
  },
  {
   "cell_type": "markdown",
   "id": "70e1cbf1-ac09-4c98-94af-f67639d3f6ca",
   "metadata": {},
   "source": [
    "By inspection of the <a href=\"#fig:dcm3b\" >figure</a>, we can write down $\\bhat{b}_1 = \\cos\\theta \\bhat{a}_1 + \\sin\\theta\\bhat{a}_2$, or equivalently:\n",
    "$$[\\bhat{b}_1]_\\mc A = \\begin{bmatrix} \\cos\\theta \\\\ \\sin\\theta \\\\ 0 \\end{bmatrix}_\\mc A$$\n",
    "Does this match the first column of $\\framerot{A}{B}$?"
   ]
  },
  {
   "cell_type": "code",
   "execution_count": 2,
   "id": "552812a5-77c7-4995-b410-7ba3b7e8885e",
   "metadata": {},
   "outputs": [
    {
     "data": {
      "text/latex": [
       "$\\displaystyle \\left[\\begin{matrix}\\cos{\\left(\\theta \\right)}\\\\\\sin{\\left(\\theta \\right)}\\\\0\\end{matrix}\\right]$"
      ],
      "text/plain": [
       "⎡cos(θ)⎤\n",
       "⎢      ⎥\n",
       "⎢sin(θ)⎥\n",
       "⎢      ⎥\n",
       "⎣  0   ⎦"
      ]
     },
     "execution_count": 2,
     "metadata": {},
     "output_type": "execute_result"
    }
   ],
   "source": [
    "th = symbols(\"theta\")\n",
    "# Remember, rotMat gives you bCa by default, so we need the opposite (negative) rotation:\n",
    "aCb = rotMat(3, -th)\n",
    "aCb[:, 0]  # we want all the columns (:) in the first row (index 0)"
   ]
  },
  {
   "cell_type": "code",
   "execution_count": 3,
   "id": "d986e65d-b59f-4be5-873a-9f79becc1d3b",
   "metadata": {},
   "outputs": [],
   "source": [
    "# Use this space to convince yourself that the same thing works for the second and third unit directions of the B frame"
   ]
  },
  {
   "cell_type": "code",
   "execution_count": null,
   "id": "9097fe3e-8570-4755-aef5-1ba766ee013b",
   "metadata": {},
   "outputs": [],
   "source": []
  },
  {
   "cell_type": "markdown",
   "id": "becda6b1-c5d4-440d-b531-cecb8091951b",
   "metadata": {},
   "source": [
    "Great! Everything still fits together.  Returning to our sheep, we set this whole thing up in order to try to differentiate the $\\mc B$ frame unit vectors with respect to frame $\\mc A$.  So let's do that. Noting that $(\\vphantom{C}^\\mathcal{A}{C}^{\\mathcal{B}}_{ji}$ is a scalar value and that $\\bhat{a}_i$ are the unit vectors defining frame $\\mc A$, we can apply the frame-dependent differentiation rules we have previously established to write:\n",
    "$$ \\fddt{A} \\bhat{b}_i = \\sum_{j=1}^3  \\fddt{}\\left(\\vphantom{C}^\\mathcal{A}{C}^{\\mathcal{B}}_{ji}\\right)\\bhat{a}_j \\triangleq   \\sum_{j=1}^3 {\\vphantom{\\dot{C}}}^\\mathcal{A}{\\dot{C}}^{\\mathcal{B}}_{ji}\\bhat{a}_j$$\n",
    "where we have implicitly defined the derivative DCM via the same overdot notation we use for scalar derivatives:\n",
    "<div class=\"alert alert-block alert-info\">\n",
    " $$\\dframerot{A}{B}  \\triangleq \\fddt{}\\framerot{A}{B}$$\n",
    "</div>\n",
    "\n",
    "We can also pull the same trick we did before and note that if we put together the $\\mc A$ frame derivatives of each of the $\\mc B$ frame unit vectors, we'll get the DCM derivative:\n",
    "<div class=\"alert alert-block alert-info\">\n",
    " $$\\begin{bmatrix} \\left[\\fddt{A}\\bhat{b}_1\\right]_\\mc A & \\left[\\fddt{A}\\bhat{b}_2\\right]_\\mc A & \\left[\\fddt{A}\\bhat{b}_3\\right]_\\mc A \\end{bmatrix}  \\equiv \\dframerot{A}{B}$$\n",
    "</div>\n",
    "\n",
    "\n",
    "Now that right there is really interesting. We have suddenly established a link between vector differentiation and the derivatives of components of DCMs.  Before plunging on with this, let's pause for a second to consider the derivatives of matrices more closely."
   ]
  },
  {
   "cell_type": "markdown",
   "id": "d87498a4-c56f-4275-9d6f-75f317553e82",
   "metadata": {},
   "source": [
    "# DCM Derivatives\n",
    "\n",
    "You may have noted (like, when it was explicitly pointed out) that we have recycled our scalar derivative notation in our definition of the DCM derivative. This is because the derivative of a matrix is just the matrix composed of the scalar derivatives of all of the original matrix components.\n",
    "\n",
    "Before moving on, we need another aside (from this aside): we need to talk about how we're going to handle derivatives in our code blocks.\n",
    "\n",
    "sympy provides a perfectly good mechanism for taking total derivatives, which we are not going to use for purely aesthetic reasons.  The usual route to taking a total symbolic derivative is to define a function of a dependent variable and then to differentiate that function.  For example:"
   ]
  },
  {
   "cell_type": "code",
   "execution_count": 4,
   "id": "5f6ed11d-f489-4f5f-b2c0-64bf66361cfc",
   "metadata": {},
   "outputs": [
    {
     "data": {
      "image/png": "[encoded data removed]",
      "text/latex": [
       "$\\displaystyle 2 t + \\cos{\\left(x{\\left(t \\right)} \\right)} \\frac{d}{d t} x{\\left(t \\right)}$"
      ],
      "text/plain": [
       "                d       \n",
       "2⋅t + cos(x(t))⋅──(x(t))\n",
       "                dt      "
      ]
     },
     "execution_count": 4,
     "metadata": {},
     "output_type": "execute_result"
    }
   ],
   "source": [
    "# Define a function x and a dependent variable t\n",
    "x = Function(\"x\")\n",
    "t = symbols(\"t\")\n",
    "diff(sin(x(t)) + t**2, t)"
   ]
  },
  {
   "cell_type": "markdown",
   "id": "bd140a84-6d8c-4fb0-8b0f-45d98e89917c",
   "metadata": {},
   "source": [
    "This is perfectly correct, but leads to eyestrain.  What we'd like is code that mirrors the way we would write this ourselves, which looks more like:\n",
    "$$\\fddt{}\\sin(x) = \\cos(x)\\dot x$$\n",
    "\n",
    "To accommodate our whims, we will introduce two new functions, which will accomplish what we desire, but at the cost that we are forced to help the code along by telling it how exactly to link various overdotted derivatives. The first function is our total derivative method (called difftotal), based largely on a blog post by Chris Wagner (https://robotfantastic.org/total-derivatives-in-sympy.html). This method first uses sympy's built-in derivative capability to carry out all explicit variable derivatives (the $t^2$) part of our example, above) and then substitutes all implicit derivatives based on a user-supplied dictionary of relationships.  Here's the same example again:"
   ]
  },
  {
   "cell_type": "code",
   "execution_count": 5,
   "id": "5e94181f-52fa-4f59-89d9-eb353de753d1",
   "metadata": {},
   "outputs": [
    {
     "data": {
      "image/png": "[encoded data removed]",
      "text/latex": [
       "$\\displaystyle 2 t + \\dot{x} \\cos{\\left(x \\right)}$"
      ],
      "text/plain": [
       "2⋅t + ẋ⋅cos(x)"
      ]
     },
     "execution_count": 5,
     "metadata": {},
     "output_type": "execute_result"
    }
   ],
   "source": [
    "# Define variables for x and its derivative, xdot\n",
    "x, xd, t = symbols(\"x, xdot, t\")\n",
    "# Define how these two are related:\n",
    "diffmap = {x: xd}\n",
    "# Carry out the total derivative of the same function as before:\n",
    "difftotal(sin(x) + t**2, t, diffmap)"
   ]
  },
  {
   "cell_type": "markdown",
   "id": "f61614ed-3b15-4a10-adae-6ab9100c6495",
   "metadata": {},
   "source": [
    "Awesome! Our second helpful method is difftotalmat, which simply applies difftotal element by element to the contents of a matrix.\n",
    "\n",
    "<div class=\"alert alert-block alert-danger\">\n",
    "   With the introduction of these methods, we have traded a bit of extra work for a lot of added legibility.  However, you may not wish to make this trade.  That's fine.  Absolutely nothing prevents you from doing every single remaining thing in this book using only standard, built-in sympy methods.\n",
    "</div>\n",
    "\n",
    "Back to DCM derivatives: We have already provided ourselves with a mechanism (via the Rodrigues equation) for writing all of the components of a DCM, meaning that we can equivalently write the matrix of DCM derivatives as functions of the axis and angle of rotation (and the rate of change of the latter). Remember that the axis of rotation is fixed in both reference frames related by the rotation, and so its components are the same in both frames, and do not change in time. We should therefore be able to get a form of the DCM derivative by just differentiating the Rodrigues equation:\n",
    "<div class=\"alert alert-block alert-info\">\n",
    "$$\\dframerot{A}{B}  \\triangleq \\fddt{}\\framerot{A}{B} =  \\fddt{}\\left(\\cos\\theta I +  (1 - \\cos\\theta)[\\bhat{n}]_\\mc A [\\bhat{n}]^T_\\mc A + \\sin\\theta [\\mf n \\times]_\\mc A\\right)= \\dot\\theta \\left(-\\sin\\theta I + \\sin\\theta)[\\bhat{n}]_\\mc A [\\bhat{n}]^T_\\mc A + \\cos\\theta [\\mf n \\times]_\\mc A\\right)$$\n",
    "    </div>\n",
    "\n",
    "Let's see if we've done a good job of keeping things consistent"
   ]
  },
  {
   "cell_type": "code",
   "execution_count": 6,
   "id": "68c9f741-d1c1-4661-80ea-c58035cbbd41",
   "metadata": {},
   "outputs": [
    {
     "data": {
      "text/latex": [
       "$\\displaystyle \\left[\\begin{matrix}\\dot{\\theta} \\left(n_{1}^{2} - 1\\right) \\sin{\\left(\\theta \\right)} & \\dot{\\theta} \\left(n_{1} n_{2} \\sin{\\left(\\theta \\right)} - n_{3} \\cos{\\left(\\theta \\right)}\\right) & \\dot{\\theta} \\left(n_{1} n_{3} \\sin{\\left(\\theta \\right)} + n_{2} \\cos{\\left(\\theta \\right)}\\right)\\\\\\dot{\\theta} \\left(n_{1} n_{2} \\sin{\\left(\\theta \\right)} + n_{3} \\cos{\\left(\\theta \\right)}\\right) & \\dot{\\theta} \\left(n_{2}^{2} - 1\\right) \\sin{\\left(\\theta \\right)} & \\dot{\\theta} \\left(- n_{1} \\cos{\\left(\\theta \\right)} + n_{2} n_{3} \\sin{\\left(\\theta \\right)}\\right)\\\\\\dot{\\theta} \\left(n_{1} n_{3} \\sin{\\left(\\theta \\right)} - n_{2} \\cos{\\left(\\theta \\right)}\\right) & \\dot{\\theta} \\left(n_{1} \\cos{\\left(\\theta \\right)} + n_{2} n_{3} \\sin{\\left(\\theta \\right)}\\right) & \\dot{\\theta} \\left(n_{3}^{2} - 1\\right) \\sin{\\left(\\theta \\right)}\\end{matrix}\\right]$"
      ],
      "text/plain": [
       "⎡       ⎛  2    ⎞                                                             \n",
       "⎢     θ̇⋅⎝n₁  - 1⎠⋅sin(θ)       θ̇⋅(n₁⋅n₂⋅sin(θ) - n₃⋅cos(θ))  θ̇⋅(n₁⋅n₃⋅sin(θ\n",
       "⎢                                                                             \n",
       "⎢                                     ⎛  2    ⎞                               \n",
       "⎢θ̇⋅(n₁⋅n₂⋅sin(θ) + n₃⋅cos(θ))       θ̇⋅⎝n₂  - 1⎠⋅sin(θ)       θ̇⋅(-n₁⋅cos(θ) \n",
       "⎢                                                                             \n",
       "⎢                                                                   ⎛  2    ⎞ \n",
       "⎣θ̇⋅(n₁⋅n₃⋅sin(θ) - n₂⋅cos(θ))  θ̇⋅(n₁⋅cos(θ) + n₂⋅n₃⋅sin(θ))       θ̇⋅⎝n₃  - \n",
       "\n",
       "            ⎤\n",
       ") + n₂⋅cos(θ)) ⎥\n",
       "            ⎥\n",
       "            ⎥\n",
       "+ n₂⋅n₃⋅sin(θ))⎥\n",
       "            ⎥\n",
       "            ⎥\n",
       "1⎠⋅sin(θ)      ⎦"
      ]
     },
     "execution_count": 6,
     "metadata": {},
     "output_type": "execute_result"
    }
   ],
   "source": [
    "# Define the angle, its derivative, and the components of the rotation axis\n",
    "th, thd, n1, n2, n3, t = symbols(\"theta, thetadot, n_1, n_2, n_3, t\", real=True)\n",
    "diffmap = {th: thd}\n",
    "nhat = Matrix([n1, n2, n3])\n",
    "\n",
    "# Calculate the DCM and burte force the derivative\n",
    "aCb = simplify(\n",
    "    cos(th) * eye(3) + (1 - cos(th)) * nhat * nhat.transpose() + sin(th) * skew(nhat)\n",
    ")\n",
    "daCb1 = difftotalmat(aCb, t, diffmap)\n",
    "simplify(daCb1)"
   ]
  },
  {
   "cell_type": "code",
   "execution_count": 7,
   "id": "82cd63d5-a8f8-4abf-9f64-02fbd25ebd5d",
   "metadata": {},
   "outputs": [
    {
     "data": {
      "text/latex": [
       "$\\displaystyle \\left[\\begin{matrix}\\dot{\\theta} \\left(n_{1}^{2} - 1\\right) \\sin{\\left(\\theta \\right)} & \\dot{\\theta} \\left(n_{1} n_{2} \\sin{\\left(\\theta \\right)} - n_{3} \\cos{\\left(\\theta \\right)}\\right) & \\dot{\\theta} \\left(n_{1} n_{3} \\sin{\\left(\\theta \\right)} + n_{2} \\cos{\\left(\\theta \\right)}\\right)\\\\\\dot{\\theta} \\left(n_{1} n_{2} \\sin{\\left(\\theta \\right)} + n_{3} \\cos{\\left(\\theta \\right)}\\right) & \\dot{\\theta} \\left(n_{2}^{2} - 1\\right) \\sin{\\left(\\theta \\right)} & \\dot{\\theta} \\left(- n_{1} \\cos{\\left(\\theta \\right)} + n_{2} n_{3} \\sin{\\left(\\theta \\right)}\\right)\\\\\\dot{\\theta} \\left(n_{1} n_{3} \\sin{\\left(\\theta \\right)} - n_{2} \\cos{\\left(\\theta \\right)}\\right) & \\dot{\\theta} \\left(n_{1} \\cos{\\left(\\theta \\right)} + n_{2} n_{3} \\sin{\\left(\\theta \\right)}\\right) & \\dot{\\theta} \\left(n_{3}^{2} - 1\\right) \\sin{\\left(\\theta \\right)}\\end{matrix}\\right]$"
      ],
      "text/plain": [
       "⎡       ⎛  2    ⎞                                                             \n",
       "⎢     θ̇⋅⎝n₁  - 1⎠⋅sin(θ)       θ̇⋅(n₁⋅n₂⋅sin(θ) - n₃⋅cos(θ))  θ̇⋅(n₁⋅n₃⋅sin(θ\n",
       "⎢                                                                             \n",
       "⎢                                     ⎛  2    ⎞                               \n",
       "⎢θ̇⋅(n₁⋅n₂⋅sin(θ) + n₃⋅cos(θ))       θ̇⋅⎝n₂  - 1⎠⋅sin(θ)       θ̇⋅(-n₁⋅cos(θ) \n",
       "⎢                                                                             \n",
       "⎢                                                                   ⎛  2    ⎞ \n",
       "⎣θ̇⋅(n₁⋅n₃⋅sin(θ) - n₂⋅cos(θ))  θ̇⋅(n₁⋅cos(θ) + n₂⋅n₃⋅sin(θ))       θ̇⋅⎝n₃  - \n",
       "\n",
       "            ⎤\n",
       ") + n₂⋅cos(θ)) ⎥\n",
       "            ⎥\n",
       "            ⎥\n",
       "+ n₂⋅n₃⋅sin(θ))⎥\n",
       "            ⎥\n",
       "            ⎥\n",
       "1⎠⋅sin(θ)      ⎦"
      ]
     },
     "execution_count": 7,
     "metadata": {},
     "output_type": "execute_result"
    }
   ],
   "source": [
    "# Calculate the DCM derivative slightly more intelligently\n",
    "daCb2 = simplify(\n",
    "    thd * (-sin(th) * eye(3) + sin(th) * nhat * nhat.transpose() + cos(th) * skew(nhat))\n",
    ")\n",
    "daCb2"
   ]
  },
  {
   "cell_type": "code",
   "execution_count": 8,
   "id": "8be3cd4b-b17d-4abe-a25a-551303d305f3",
   "metadata": {},
   "outputs": [
    {
     "data": {
      "text/latex": [
       "$\\displaystyle \\left[\\begin{matrix}0 & 0 & 0\\\\0 & 0 & 0\\\\0 & 0 & 0\\end{matrix}\\right]$"
      ],
      "text/plain": [
       "⎡0  0  0⎤\n",
       "⎢       ⎥\n",
       "⎢0  0  0⎥\n",
       "⎢       ⎥\n",
       "⎣0  0  0⎦"
      ]
     },
     "execution_count": 8,
     "metadata": {},
     "output_type": "execute_result"
    }
   ],
   "source": [
    "# They match!\n",
    "simplify(daCb2 - daCb1)"
   ]
  },
  {
   "cell_type": "markdown",
   "id": "233782eb-5f65-464f-9235-a629897940ee",
   "metadata": {},
   "source": [
    "# Vector Derivatives Across Frames, Continued\n",
    "\n",
    "Phew.  Ok, we've incepted ourselves back up to the real world (maybe?), so time to restack.  We are still on the quest to understand what exactly we mean by the derivative of a unit vector defining frame $\\mc B$ with respect to frame $\\mc A$.  So far, we've established that the $\\mc A$ frame components of this derivative are equivalent to a column of the derivative of the DCM between $\\mc B$ and $\\mc A$:\n",
    "$$\\begin{bmatrix} \\left[\\fddt{A}\\bhat{b}_1\\right]_\\mc A & \\left[\\fddt{A}\\bhat{b}_2\\right]_\\mc A & \\left[\\fddt{A}\\bhat{b}_3\\right]_\\mc A \\end{bmatrix}  \\equiv \\dframerot{A}{B}$$\n",
    "\n",
    "Now we'd like to take a look at these vector derivatives in $\\mc B$ frame components.  As we pointed out earlier, we can use our DCM formalism to transform the components of *any* vector between *any* two frames. So, what prevents us from writing something like:\n",
    "$$\\begin{bmatrix} \\left[\\fddt{A}\\bhat{b}_1\\right]_\\mc B & \\left[\\fddt{A}\\bhat{b}_2\\right]_\\mc B & \\left[\\fddt{A}\\bhat{b}_3\\right]_\\mc B \\end{bmatrix} =\\framerot{B}{A}\\begin{bmatrix} \\left[\\fddt{A}\\bhat{b}_1\\right]_\\mc A & \\left[\\fddt{A}\\bhat{b}_2\\right]_\\mc A & \\left[\\fddt{A}\\bhat{b}_3\\right]_\\mc A \\end{bmatrix}$$\n",
    "\n",
    "<div class=\"alert alert-block alert-warning\">\n",
    "    <b>Exercise</b><br> Prove that nothing prevents us from writing the above expression. In particular, that there's no cross-talk between the columns: i.e., that the matrix expression is equivalent to packaging the three individual matrix multiplications of the form $\\framerot{B}{A}\\left[\\fddt{A}\\bhat{b}_i\\right]_\\mc A$. Nothing can stop us from doing this.  We have this power.\n",
    "</div>\n",
    "\n",
    "Ok, so what?  We've established that the $\\mc B$ frame components of the $\\mc B$ frame unit vectors with respect to frame $\\mc A$ equal the columns of the matrix $\\framerot{B}{A} \\dframerot{A}{B}$. Let us define this new quantity as a new thing, which we will call, for no particular reason (yeah right) $\\widetilde{\\omega}$:\n",
    "<div class=\"alert alert-block alert-info\">\n",
    "$$ \\widetilde{\\omega} \\triangleq \\framerot{B}{A} \\dframerot{A}{B} $$\n",
    "</div>\n",
    "\n",
    "The from of $\\widetilde{\\omega}$ is interesting (the multiplication of a DCM with the derivative of its transpose), and we can draw some additional interesting observations from it.  First, we see that $\\widetilde{\\omega}$ provides us with another way of defining the derivative of the DCM:\n",
    "$$ \\dframerot{A}{B} = \\framerot{A}{B}\\widetilde{\\omega} $$\n",
    "where we have used the fact that $\\framerot{A}{B} \\equiv (\\framerot{B}{A})^T \\equiv (\\framerot{B}{A})^{-1}$.\n",
    "\n",
    "Second, and perhaps more interesting, let's think about what would happen if we added $\\widetilde{\\omega}$ to its own transpose?\n",
    "$$\\widetilde{\\omega}^T + \\widetilde{\\omega} =  \\underbrace{\\left(\\framerot{B}{A}\\dframerot{A}{B}\\right)^T + \\left(\\framerot{B}{A}\\dframerot{A}{B}\\right)}_{\\displaystyle \n",
    "\\equiv \\fddt{} \\left( \\framerot{B}{A}\\framerot{A}{B}  \\right) = \\fddt{}(I) } = 0$$\n",
    "Note that we have again applied the product rule (which applies equally to matrix derivatives) in this derivation.  Ok, so what have we found?  It's actually something that we've encountered before.  The fact that $\\widetilde{\\omega}$ added to its transpose is zero implies that $\\widetilde{\\omega} = -\\widetilde{\\omega}^T$.  Therefore, $\\widetilde{\\omega}$ must be a skew-symmetric matrix.\n",
    "\n",
    "Whoa! That's pretty trippy. The matrix whose columns are the $\\mc B$ frame components of $\\mc B$ frame unit vectors differentiated with respect to frame $\\mc A$ is skew-symmetric.  Is that actually true?  Luckily, we've already crunched the Rodrigues equation and its derivative up above, so let's take a quick look:"
   ]
  },
  {
   "cell_type": "code",
   "execution_count": 9,
   "id": "d02e686a-c404-41b4-ba42-3419e553d359",
   "metadata": {},
   "outputs": [
    {
     "data": {
      "text/latex": [
       "$\\displaystyle \\left[\\begin{matrix}\\dot{\\theta} \\left(n_{1}^{2} - 1\\right) \\left(n_{1}^{2} \\left(1 - \\cos{\\left(\\theta \\right)}\\right) + \\cos{\\left(\\theta \\right)}\\right) \\sin{\\left(\\theta \\right)} + \\dot{\\theta} \\left(- n_{1} n_{2} \\left(\\cos{\\left(\\theta \\right)} - 1\\right) + n_{3} \\sin{\\left(\\theta \\right)}\\right) \\left(n_{1} n_{2} \\sin{\\left(\\theta \\right)} + n_{3} \\cos{\\left(\\theta \\right)}\\right) + \\dot{\\theta} \\left(- n_{1} n_{3} \\left(\\cos{\\left(\\theta \\right)} - 1\\right) - n_{2} \\sin{\\left(\\theta \\right)}\\right) \\left(n_{1} n_{3} \\sin{\\left(\\theta \\right)} - n_{2} \\cos{\\left(\\theta \\right)}\\right) & \\dot{\\theta} \\left(n_{2}^{2} - 1\\right) \\left(- n_{1} n_{2} \\left(\\cos{\\left(\\theta \\right)} - 1\\right) + n_{3} \\sin{\\left(\\theta \\right)}\\right) \\sin{\\left(\\theta \\right)} + \\dot{\\theta} \\left(n_{1} \\cos{\\left(\\theta \\right)} + n_{2} n_{3} \\sin{\\left(\\theta \\right)}\\right) \\left(- n_{1} n_{3} \\left(\\cos{\\left(\\theta \\right)} - 1\\right) - n_{2} \\sin{\\left(\\theta \\right)}\\right) + \\dot{\\theta} \\left(n_{1}^{2} \\left(1 - \\cos{\\left(\\theta \\right)}\\right) + \\cos{\\left(\\theta \\right)}\\right) \\left(n_{1} n_{2} \\sin{\\left(\\theta \\right)} - n_{3} \\cos{\\left(\\theta \\right)}\\right) & \\dot{\\theta} \\left(n_{3}^{2} - 1\\right) \\left(- n_{1} n_{3} \\left(\\cos{\\left(\\theta \\right)} - 1\\right) - n_{2} \\sin{\\left(\\theta \\right)}\\right) \\sin{\\left(\\theta \\right)} + \\dot{\\theta} \\left(- n_{1} \\cos{\\left(\\theta \\right)} + n_{2} n_{3} \\sin{\\left(\\theta \\right)}\\right) \\left(- n_{1} n_{2} \\left(\\cos{\\left(\\theta \\right)} - 1\\right) + n_{3} \\sin{\\left(\\theta \\right)}\\right) + \\dot{\\theta} \\left(n_{1}^{2} \\left(1 - \\cos{\\left(\\theta \\right)}\\right) + \\cos{\\left(\\theta \\right)}\\right) \\left(n_{1} n_{3} \\sin{\\left(\\theta \\right)} + n_{2} \\cos{\\left(\\theta \\right)}\\right)\\\\\\dot{\\theta} \\left(n_{1}^{2} - 1\\right) \\left(- n_{1} n_{2} \\left(\\cos{\\left(\\theta \\right)} - 1\\right) - n_{3} \\sin{\\left(\\theta \\right)}\\right) \\sin{\\left(\\theta \\right)} + \\dot{\\theta} \\left(n_{1} \\sin{\\left(\\theta \\right)} - n_{2} n_{3} \\left(\\cos{\\left(\\theta \\right)} - 1\\right)\\right) \\left(n_{1} n_{3} \\sin{\\left(\\theta \\right)} - n_{2} \\cos{\\left(\\theta \\right)}\\right) + \\dot{\\theta} \\left(n_{2}^{2} \\left(1 - \\cos{\\left(\\theta \\right)}\\right) + \\cos{\\left(\\theta \\right)}\\right) \\left(n_{1} n_{2} \\sin{\\left(\\theta \\right)} + n_{3} \\cos{\\left(\\theta \\right)}\\right) & \\dot{\\theta} \\left(n_{2}^{2} - 1\\right) \\left(n_{2}^{2} \\left(1 - \\cos{\\left(\\theta \\right)}\\right) + \\cos{\\left(\\theta \\right)}\\right) \\sin{\\left(\\theta \\right)} + \\dot{\\theta} \\left(n_{1} \\sin{\\left(\\theta \\right)} - n_{2} n_{3} \\left(\\cos{\\left(\\theta \\right)} - 1\\right)\\right) \\left(n_{1} \\cos{\\left(\\theta \\right)} + n_{2} n_{3} \\sin{\\left(\\theta \\right)}\\right) + \\dot{\\theta} \\left(- n_{1} n_{2} \\left(\\cos{\\left(\\theta \\right)} - 1\\right) - n_{3} \\sin{\\left(\\theta \\right)}\\right) \\left(n_{1} n_{2} \\sin{\\left(\\theta \\right)} - n_{3} \\cos{\\left(\\theta \\right)}\\right) & \\dot{\\theta} \\left(n_{3}^{2} - 1\\right) \\left(n_{1} \\sin{\\left(\\theta \\right)} - n_{2} n_{3} \\left(\\cos{\\left(\\theta \\right)} - 1\\right)\\right) \\sin{\\left(\\theta \\right)} + \\dot{\\theta} \\left(- n_{1} \\cos{\\left(\\theta \\right)} + n_{2} n_{3} \\sin{\\left(\\theta \\right)}\\right) \\left(n_{2}^{2} \\left(1 - \\cos{\\left(\\theta \\right)}\\right) + \\cos{\\left(\\theta \\right)}\\right) + \\dot{\\theta} \\left(- n_{1} n_{2} \\left(\\cos{\\left(\\theta \\right)} - 1\\right) - n_{3} \\sin{\\left(\\theta \\right)}\\right) \\left(n_{1} n_{3} \\sin{\\left(\\theta \\right)} + n_{2} \\cos{\\left(\\theta \\right)}\\right)\\\\\\dot{\\theta} \\left(n_{1}^{2} - 1\\right) \\left(- n_{1} n_{3} \\left(\\cos{\\left(\\theta \\right)} - 1\\right) + n_{2} \\sin{\\left(\\theta \\right)}\\right) \\sin{\\left(\\theta \\right)} + \\dot{\\theta} \\left(- n_{1} \\sin{\\left(\\theta \\right)} - n_{2} n_{3} \\left(\\cos{\\left(\\theta \\right)} - 1\\right)\\right) \\left(n_{1} n_{2} \\sin{\\left(\\theta \\right)} + n_{3} \\cos{\\left(\\theta \\right)}\\right) + \\dot{\\theta} \\left(n_{3}^{2} \\left(1 - \\cos{\\left(\\theta \\right)}\\right) + \\cos{\\left(\\theta \\right)}\\right) \\left(n_{1} n_{3} \\sin{\\left(\\theta \\right)} - n_{2} \\cos{\\left(\\theta \\right)}\\right) & \\dot{\\theta} \\left(n_{2}^{2} - 1\\right) \\left(- n_{1} \\sin{\\left(\\theta \\right)} - n_{2} n_{3} \\left(\\cos{\\left(\\theta \\right)} - 1\\right)\\right) \\sin{\\left(\\theta \\right)} + \\dot{\\theta} \\left(n_{1} \\cos{\\left(\\theta \\right)} + n_{2} n_{3} \\sin{\\left(\\theta \\right)}\\right) \\left(n_{3}^{2} \\left(1 - \\cos{\\left(\\theta \\right)}\\right) + \\cos{\\left(\\theta \\right)}\\right) + \\dot{\\theta} \\left(n_{1} n_{2} \\sin{\\left(\\theta \\right)} - n_{3} \\cos{\\left(\\theta \\right)}\\right) \\left(- n_{1} n_{3} \\left(\\cos{\\left(\\theta \\right)} - 1\\right) + n_{2} \\sin{\\left(\\theta \\right)}\\right) & \\dot{\\theta} \\left(n_{3}^{2} - 1\\right) \\left(n_{3}^{2} \\left(1 - \\cos{\\left(\\theta \\right)}\\right) + \\cos{\\left(\\theta \\right)}\\right) \\sin{\\left(\\theta \\right)} + \\dot{\\theta} \\left(- n_{1} \\sin{\\left(\\theta \\right)} - n_{2} n_{3} \\left(\\cos{\\left(\\theta \\right)} - 1\\right)\\right) \\left(- n_{1} \\cos{\\left(\\theta \\right)} + n_{2} n_{3} \\sin{\\left(\\theta \\right)}\\right) + \\dot{\\theta} \\left(- n_{1} n_{3} \\left(\\cos{\\left(\\theta \\right)} - 1\\right) + n_{2} \\sin{\\left(\\theta \\right)}\\right) \\left(n_{1} n_{3} \\sin{\\left(\\theta \\right)} + n_{2} \\cos{\\left(\\theta \\right)}\\right)\\end{matrix}\\right]$"
      ],
      "text/plain": [
       "⎡  ⎛  2    ⎞ ⎛  2                      ⎞                                      \n",
       "⎢θ̇⋅⎝n₁  - 1⎠⋅⎝n₁ ⋅(1 - cos(θ)) + cos(θ)⎠⋅sin(θ) + θ̇⋅(-n₁⋅n₂⋅(cos(θ) - 1) + n\n",
       "⎢                                                                             \n",
       "⎢  ⎛  2    ⎞                                                                  \n",
       "⎢θ̇⋅⎝n₁  - 1⎠⋅(-n₁⋅n₂⋅(cos(θ) - 1) - n₃⋅sin(θ))⋅sin(θ) + θ̇⋅(n₁⋅sin(θ) - n₂⋅n₃\n",
       "⎢                                                                             \n",
       "⎢  ⎛  2    ⎞                                                                  \n",
       "⎣θ̇⋅⎝n₁  - 1⎠⋅(-n₁⋅n₃⋅(cos(θ) - 1) + n₂⋅sin(θ))⋅sin(θ) + θ̇⋅(-n₁⋅sin(θ) - n₂⋅n\n",
       "\n",
       "                                                                              \n",
       "₃⋅sin(θ))⋅(n₁⋅n₂⋅sin(θ) + n₃⋅cos(θ)) + θ̇⋅(-n₁⋅n₃⋅(cos(θ) - 1) - n₂⋅sin(θ))⋅(n\n",
       "                                                                              \n",
       "                                            ⎛  2                      ⎞       \n",
       "⋅(cos(θ) - 1))⋅(n₁⋅n₃⋅sin(θ) - n₂⋅cos(θ)) + θ̇⋅⎝n₂ ⋅(1 - cos(θ)) + cos(θ)⎠⋅(n₁\n",
       "                                                                              \n",
       "                                             ⎛  2                      ⎞      \n",
       "₃⋅(cos(θ) - 1))⋅(n₁⋅n₂⋅sin(θ) + n₃⋅cos(θ)) + θ̇⋅⎝n₃ ⋅(1 - cos(θ)) + cos(θ)⎠⋅(n\n",
       "\n",
       "                         ⎛  2    ⎞                                            \n",
       "₁⋅n₃⋅sin(θ) - n₂⋅cos(θ))  θ̇⋅⎝n₂  - 1⎠⋅(-n₁⋅n₂⋅(cos(θ) - 1) + n₃⋅sin(θ))⋅sin(θ\n",
       "                                                                              \n",
       "                         ⎛  2    ⎞ ⎛  2                      ⎞                \n",
       "⋅n₂⋅sin(θ) + n₃⋅cos(θ))   θ̇⋅⎝n₂  - 1⎠⋅⎝n₂ ⋅(1 - cos(θ)) + cos(θ)⎠⋅sin(θ) + θ̇\n",
       "                                                                              \n",
       "                         ⎛  2    ⎞                                            \n",
       "₁⋅n₃⋅sin(θ) - n₂⋅cos(θ))  θ̇⋅⎝n₂  - 1⎠⋅(-n₁⋅sin(θ) - n₂⋅n₃⋅(cos(θ) - 1))⋅sin(θ\n",
       "\n",
       "                                                                   ⎛  2       \n",
       ") + θ̇⋅(n₁⋅cos(θ) + n₂⋅n₃⋅sin(θ))⋅(-n₁⋅n₃⋅(cos(θ) - 1) - n₂⋅sin(θ)) + θ̇⋅⎝n₁ ⋅\n",
       "                                                                              \n",
       "                                                                              \n",
       "⋅(n₁⋅sin(θ) - n₂⋅n₃⋅(cos(θ) - 1))⋅(n₁⋅cos(θ) + n₂⋅n₃⋅sin(θ)) + θ̇⋅(-n₁⋅n₂⋅(cos\n",
       "                                                                              \n",
       "                             ⎛  2                      ⎞                      \n",
       ") + θ̇⋅(n₁⋅cos(θ) + n₂⋅n₃⋅sin(θ))⋅⎝n₃ ⋅(1 - cos(θ)) + cos(θ)⎠ + θ̇⋅(n₁⋅n₂⋅sin(\n",
       "\n",
       "               ⎞                               ⎛  2    ⎞                      \n",
       "(1 - cos(θ)) + cos(θ)⎠⋅(n₁⋅n₂⋅sin(θ) - n₃⋅cos(θ))  θ̇⋅⎝n₃  - 1⎠⋅(-n₁⋅n₃⋅(cos(θ\n",
       "                                                                              \n",
       "                                               ⎛  2    ⎞                      \n",
       "(θ) - 1) - n₃⋅sin(θ))⋅(n₁⋅n₂⋅sin(θ) - n₃⋅cos(θ))   θ̇⋅⎝n₃  - 1⎠⋅(n₁⋅sin(θ) - n\n",
       "                                                                              \n",
       "                                               ⎛  2    ⎞ ⎛  2                 \n",
       "θ) - n₃⋅cos(θ))⋅(-n₁⋅n₃⋅(cos(θ) - 1) + n₂⋅sin(θ))  θ̇⋅⎝n₃  - 1⎠⋅⎝n₃ ⋅(1 - cos(\n",
       "\n",
       "                                                                              \n",
       ") - 1) - n₂⋅sin(θ))⋅sin(θ) + θ̇⋅(-n₁⋅cos(θ) + n₂⋅n₃⋅sin(θ))⋅(-n₁⋅n₂⋅(cos(θ) - \n",
       "                                                                              \n",
       "                                                   ⎛  2                      ⎞\n",
       "₂⋅n₃⋅(cos(θ) - 1))⋅sin(θ) + θ̇⋅(-n₁⋅cos(θ) + n₂⋅n₃⋅sin(θ))⋅⎝n₂ ⋅(1 - cos(θ)) +\n",
       "                                                                              \n",
       "     ⎞                                                                        \n",
       "θ)) + cos(θ)⎠⋅sin(θ) + θ̇⋅(-n₁⋅sin(θ) - n₂⋅n₃⋅(cos(θ) - 1))⋅(-n₁⋅cos(θ) + n₂⋅n\n",
       "\n",
       "            ⎛  2                      ⎞                           ⎤\n",
       "1) + n₃⋅sin(θ)) + θ̇⋅⎝n₁ ⋅(1 - cos(θ)) + cos(θ)⎠⋅(n₁⋅n₃⋅sin(θ) + n₂⋅cos(θ))⎥\n",
       "                                                                  ⎥\n",
       "                                                                  ⎥\n",
       " cos(θ)⎠ + θ̇⋅(-n₁⋅n₂⋅(cos(θ) - 1) - n₃⋅sin(θ))⋅(n₁⋅n₃⋅sin(θ) + n₂⋅cos(θ)) ⎥\n",
       "                                                                  ⎥\n",
       "                                                                  ⎥\n",
       "₃⋅sin(θ)) + θ̇⋅(-n₁⋅n₃⋅(cos(θ) - 1) + n₂⋅sin(θ))⋅(n₁⋅n₃⋅sin(θ) + n₂⋅cos(θ))⎦"
      ]
     },
     "execution_count": 9,
     "metadata": {},
     "output_type": "execute_result"
    }
   ],
   "source": [
    "# Compute omega tilde based on our prior definitions of the DCM and its derivative:\n",
    "wtilde = aCb.transpose() * daCb2\n",
    "wtilde"
   ]
  },
  {
   "cell_type": "markdown",
   "id": "d754f73e-eed7-4549-a8f9-ad33bd9d993e",
   "metadata": {},
   "source": [
    "Ha ha ha.  Not even close.  We know instantly that that's not a skew-symmetric matrix, because the diagonal elements aren't zero.  Except... Well, the computer doesn't know everything about this matrix.\n",
    "\n",
    "<div class=\"alert alert-block alert-danger\">\n",
    "    Reminder: the computer doesn't know <i>anything</i> about <i>anything</i>.  It knows what you tell it, and it doesn't even <b>know</b> that, depending on how you might be defining 'knowing'.  Computers can't make mistakes.  They can, at most, malfunction. Only we can make mistakes.  That's what makes us special.\n",
    "</div>\n",
    "\n",
    "The particular thing that the computer doesn't know about in this case is that $n_1, n_2,$ and $n_3$ are normalized such that $n_1^2 + n_2^2 + n_3^2 = 1$.  So, we could, for instance, replace any instance of $n_1^2$ with $1 - n_2^2 - n_3^2$.  Let's try it out on the very first element of this matrix:"
   ]
  },
  {
   "cell_type": "code",
   "execution_count": 10,
   "id": "1358f84e-2c30-4b0e-8d5a-ac6fa0577ba8",
   "metadata": {},
   "outputs": [
    {
     "data": {
      "image/png": "[encoded data removed]",
      "text/latex": [
       "$\\displaystyle 0$"
      ],
      "text/plain": [
       "0"
      ]
     },
     "execution_count": 10,
     "metadata": {},
     "output_type": "execute_result"
    }
   ],
   "source": [
    "# We're throwing in the expand in order to ensure that all instances of n1^2 are properly replaced\n",
    "simplify(expand(wtilde[0, 0]).subs(n1**2, 1 - n2**2 - n3**2))"
   ]
  },
  {
   "cell_type": "markdown",
   "id": "fdc8d808-77de-4cd1-9756-29e39bdbd759",
   "metadata": {},
   "source": [
    "Magic!  Would that work on the other matrix elements?\n",
    "<div class=\"alert alert-block alert-warning\">\n",
    "    <b>Exercise</b><br> Prove that all diagonal elements of $\\widetilde{\\omega}$ are zero and all off-diagonal elements are negative of their transpose elements. \n",
    "</div>"
   ]
  },
  {
   "cell_type": "code",
   "execution_count": 11,
   "id": "773702fa-9410-407a-bf2d-82c1bd9b2073",
   "metadata": {},
   "outputs": [],
   "source": [
    "# Here's some code space to work on the exercise"
   ]
  },
  {
   "cell_type": "markdown",
   "id": "aae541b2-c7ef-448e-8dc2-6a1592dace10",
   "metadata": {},
   "source": [
    "Ok, ok. Let's say we're convinced and $\\widetilde{\\omega}$ actually is skew-symmetric.  That would imply that it has only three independent elements (just like our cross-product equivalent matrix).  Let's call these $\\omega_1, \\omega_2,$ and $\\omega_3$, and arrange them in the same way we do in the cross-product equivalent matrix:\n",
    "$$\\widetilde{\\omega} = \\left[\\begin{matrix}0 & - \\omega_{3} & \\omega_{2}\\\\\\omega_{3} & 0 & - \\omega_{1}\\\\- \\omega_{2} & \\omega_{1} & 0\\end{matrix}\\right]$$\n",
    "\n",
    "Let's pull these out of the matrix we crunched above and inspect them more closely:"
   ]
  },
  {
   "cell_type": "code",
   "execution_count": 12,
   "id": "58469f18-8422-44c2-b66c-5d9e961e02ed",
   "metadata": {},
   "outputs": [
    {
     "data": {
      "image/png": "[encoded data removed]",
      "text/latex": [
       "$\\displaystyle \\left( n_{1} \\dot{\\theta}, \\  n_{2} \\dot{\\theta}, \\  n_{3} \\dot{\\theta}\\right)$"
      ],
      "text/plain": [
       "(n₁⋅θ̇, n₂⋅θ̇, n₃⋅θ̇)"
      ]
     },
     "execution_count": 12,
     "metadata": {},
     "output_type": "execute_result"
    }
   ],
   "source": [
    "# Again remember that Python indexing is 0-based and off by one from how we index matrices in the text\n",
    "# So, omega_2 is row 1, col 3, which translates to index (0,2), and so on\n",
    "omega2 = simplify(expand(wtilde[0, 2]).subs(n2**2, 1 - n1**2 - n3**2))\n",
    "omega3 = simplify(expand(wtilde[1, 0]).subs(n3**2, 1 - n1**2 - n2**2))\n",
    "omega1 = simplify(expand(wtilde[2, 1]).subs(n1**2, 1 - n2**2 - n3**2))\n",
    "# Notice that we're using a circular permutation of the substitution to get to the simplest forms of these\n",
    "\n",
    "omega1, omega2, omega3"
   ]
  },
  {
   "cell_type": "markdown",
   "id": "a10645f9-58ce-4a8b-8925-0119b1da1476",
   "metadata": {},
   "source": [
    "Mic drop."
   ]
  },
  {
   "cell_type": "markdown",
   "id": "4e54cb04-3eea-4dc6-9f20-6a08ed56923f",
   "metadata": {
    "tags": []
   },
   "source": [
    "# The Angular Velocity Vector\n",
    "\n",
    "Let's summarize where we're at: the $\\mc B$ frame components of the derivative of the $\\mc B$ frame unit vectors with respect to frame $\\mc A$ are given by the columns of the matrix $\\widetilde{\\omega} = \\framerot{B}{A} \\dframerot{A}{B}$, which turns out to be a skew-symmetric matrix, whose 3 unique elements are equal to the components of the axis of rotation between $\\mc A$ and $\\mc B$ scaled by the time derivative of the rotation angle. Based on these three components, we now define a new quantity: the **angular velocity**.\n",
    "\n",
    "<div class=\"alert alert-block alert-info\">\n",
    " Given two reference frames $\\mc A$ and $\\mc B$, where $\\mc B$ is a positive (counter-clockwise) rotation from $\\mc A$ about the axis $\\bhat{n}$, we define the angular velocity of $\\mc B$ in $\\mc A$ as:\n",
    "    $$\\omegarot{A}{B} \\triangleq \\dot\\theta \\bhat{n}$$\n",
    " The angular velocity is a vector quantity, having magnitude equal to the rate of angular change between the two frames (time derivative of the angle of rotation), direction of the axis of rotation, and is defined as positive for counter-clockwise rotations and negative for clockwise rotations.\n",
    "   </div>\n",
    "   \n",
    "The quantity that we have been calling $\\widetilde{\\omega}$ can now be understood to be the cross-product equivalent matrix of the angular velocity:\n",
    "$$\\widetilde{\\omega} \\equiv \\left[ \\omegarot{A}{B} \\times \\right]_\\mc B$$\n",
    "\n",
    "<div class=\"alert alert-block alert-danger\">\n",
    "    Many texts introduce $\\widetilde{\\omega}$ as the 'angular velocity matrix', but this is bad nomenclature. The angular velocity is a vector quantity, closely analogous to linear velocity (as we will presently see in greater detail).  Its matrix representation is therefore a column matrix, and not a 3x3 skew-symmetric matrix.  We can now see that  $\\widetilde{\\omega}$ is the cross-product equivalent matrix representation of the angular velocity, rather than the matrix representation of the angular velocity itself.  Since we have gained this understanding, we have no further need for $\\widetilde{\\omega}$, and shant use it again.  It is dead to us.\n",
    "</div>\n",
    "\n",
    "Recall where we got this matrix from in the first place:\n",
    "$$\\begin{bmatrix} \\left[\\fddt{A}\\bhat{b}_1\\right]_\\mc B & \\left[\\fddt{A}\\bhat{b}_2\\right]_\\mc B & \\left[\\fddt{A}\\bhat{b}_3\\right]_\\mc B \\end{bmatrix} =\\left[ \\omegarot{A}{B} \\times \\right]_\\mc B$$\n",
    "Note that while we identified the matrix on the right-hand side as having components in frame $\\mc B$, since the angular velocity is in the direction of the axis of rotation, which has the same representation in both frames, this could equivalently have been stated as the components in frame $\\mc A$.\n",
    "\n",
    "Just as we can represent any vector operation in terms of linear-algebraic operators, so can we go in the opposite direction.  The equation above is really just telling us that \n",
    "\n",
    "<div class=\"alert alert-block alert-info\">\n",
    " $$ \\fddt{A}\\bhat{b}_i = \\omegarot{A}{B} \\times \\bhat{b}_i $$\n",
    "   </div>\n",
    "\n",
    "And there it is.  The most fundamental statement of what the derivative of a $\\mc B$ unit vector is with respect to $\\mc A$.  It is the cross product of the angular velocity of $\\mc B$ in $\\mc A$ with the unit vector itself."
   ]
  },
  {
   "cell_type": "markdown",
   "id": "b1340577-5d78-4835-9928-484d25059d20",
   "metadata": {},
   "source": [
    "## Inverting the Angular Velocity\n",
    "\n",
    "Remember that the relationship between our frames $\\mc A$ and $\\mc B$ (or any pair of frames related by a simple rotation) is symmetric.  If $\\mc B$ is a $\\theta$ rotation about $\\bhat{n}$ away from $\\mc A$, then $\\mc A$ is a $-\\theta$ rotation about the same axis from $\\mc B$.  For DCMs, this inverse operation works out to the same thing as taking the transpose of the DCM.  Since the components of the angular velocity are tied to the DCM for the relevant frames, we can use these properties to understand the inversion of the angular velocity. By our nomenclature, the angular velocity of $\\mc A$ in $\\mc B$ is $\\omegarot{B}{A}$, whose cross-product equivalent matrix is given by:\n",
    "$$[\\omegarot{B}{A} \\times]_\\mc B = \\framerot{A}{B} \\dframerot{B}{A}$$\n",
    "At this point, we could go through the tedious exercise of evaluating the component form of this matrix and look for its relationship with our original $[\\omegarot{A}{B} \\times]_\\mc B$ matrix, but instead, we can appear to the fact that all DCMs are elements of SO(3), are therefore orthonormal, and so commute with their inverses (transposes).  Further, the derivatives of DCMs are diagonizable in the same basis (or bases) as the original DCMs, meaning that DCM derivatives should commute with the transposes of their DCMs.  All this to say:\n",
    "$$[\\omegarot{B}{A} \\times]_\\mc B = \\framerot{A}{B} \\dframerot{B}{A} = \\dframerot{B}{A}  \\framerot{A}{B} = [\\omegarot{A}{B} \\times]^T_\\mc B$$\n",
    "\n",
    "As the transpose of a skew-symmetric matrix just flips the signs on all non-zero components, what this means is that:\n",
    "<div class=\"alert alert-block alert-info\">\n",
    " $$ \\omegarot{B}{A} = -\\omegarot{A}{B} $$\n",
    "   </div>\n",
    "   \n",
    "Ok, so maybe all that linear algebraic hand-waving wasn't overly convincing.  So let's go ahead and do the tedious thing. "
   ]
  },
  {
   "cell_type": "code",
   "execution_count": 13,
   "id": "e51f165a-ef50-462a-928e-05eacae54337",
   "metadata": {},
   "outputs": [
    {
     "data": {
      "text/latex": [
       "$\\displaystyle \\left[\\begin{matrix}0 & 0 & 0\\\\0 & 0 & 0\\\\0 & 0 & 0\\end{matrix}\\right]$"
      ],
      "text/plain": [
       "⎡0  0  0⎤\n",
       "⎢       ⎥\n",
       "⎢0  0  0⎥\n",
       "⎢       ⎥\n",
       "⎣0  0  0⎦"
      ]
     },
     "execution_count": 13,
     "metadata": {},
     "output_type": "execute_result"
    }
   ],
   "source": [
    "# Set up the DCM and its derivative via the Rodrigues equation:\n",
    "aCb = simplify(\n",
    "    cos(th) * eye(3) + (1 - cos(th)) * nhat * nhat.transpose() + sin(th) * skew(nhat)\n",
    ")\n",
    "daCb = simplify(\n",
    "    thd * (-sin(th) * eye(3) + sin(th) * nhat * nhat.transpose() + cos(th) * skew(nhat))\n",
    ")\n",
    "# Define the cross-product equivalent angular velocity matrices for the forward and inverse rotations:\n",
    "bwax = aCb * daCb.transpose()\n",
    "awbx = aCb.transpose() * daCb\n",
    "# Show that they are transposes of one another:\n",
    "simplify(bwax - awbx.transpose())"
   ]
  },
  {
   "cell_type": "markdown",
   "id": "45cb7da8-4b0f-469c-99ef-a5ac5e8bb1e9",
   "metadata": {},
   "source": [
    "There. Happy now?\n",
    "\n",
    "## Angular Velocity of Multiple Rotations\n",
    "\n",
    "Recall that multiple successive rotations are represented by the product of their individual DCMs (which compose via matrix multiplication into a single, total DCM).  What about the angular velocity?  Let's take a look at a case we've previously considered, where we have three frames $\\mc A$, $\\mc B$ and $\\mc C$.  The three DCMs associated with pairs of these frames are related by:\n",
    "$$\\framerot{A}{C} = \\framerot{A}{B}\\framerot{B}{C}$$.\n",
    "\n",
    "Differentiating (remember the product rule) this becomes:\n",
    "$$\\dframerot{A}{C} = \\dframerot{A}{B}\\framerot{B}{C} + \\framerot{A}{B}\\dframerot{B}{C}$$\n",
    "\n",
    "From our previous derivations, we can also write the cross product equivalent matrix of the angular velocity of $\\mc C$ in $\\mc A$ as:\n",
    "$[\\omegarot{A}{C} \\times]_\\mc C = \\framerot{C}{A} \\dframerot{A}{C}$. Substituting in the previous two expressions for the DCM and its derivative, this becomes:\n",
    "$$[\\omegarot{A}{C} \\times]_\\mc C = \\framerot{C}{A} \\dframerot{A}{C} = \\left(\\framerot{A}{B}\\framerot{B}{C}\\right)^T\\left(\\dframerot{A}{B}\\framerot{B}{C} + \\framerot{A}{B}\\dframerot{B}{C}\\right) = \\framerot{C}{B}\\underbrace{\\framerot{B}{A}\\dframerot{A}{B}}_{\\displaystyle [\\omegarot{A}{B} \\times]_\\mc B}\\framerot{B}{C} + \\framerot{C}{B}\\underbrace{\\framerot{B}{A}\\framerot{A}{B}}_{\\displaystyle\\equiv I}\\dframerot{B}{C} = \\framerot{C}{B}[\\omegarot{A}{B} \\times]_\\mc B \\framerot{B}{C} + \\underbrace{\\framerot{C}{B}\\dframerot{B}{C}}_{\\displaystyle [\\omegarot{B}{C} \\times]_\\mc C}$$\n",
    "\n",
    "Recall that pre- and post-multiplying a matrix by a DCM and its transpose is a change of basis, equivalent to changing the reference frame in which the components of the tensor whose matrix representation you are manipulating is expressed. In this case, we are transforming  $[\\omegarot{A}{B} \\times]_\\mc B$ to components in the $\\mc C$ frame.  So, the cross-product equivalent matrix of the angular velocity between $\\mc A$ and $\\mc C$ is equal to the sum of the matrices related to the angular velocities between $\\mc A$ and $\\mc B$ and $\\mc B$ and $\\mc C$.  Angular velocity of multiple rotations is therefore composed by vector addition, so that we can write:\n",
    "<div class=\"alert alert-block alert-info\">\n",
    " $$ \\omegarot{A}{C} = \\omegarot{A}{B} + \\omegarot{B}{C}$$\n",
    "   </div>\n",
    "Note how the superscript notation helps us in much the same way as our subscript notation for position vectors  - when the summation of angular velocities places two of the same subscript side by side, they collapse into each other. "
   ]
  },
  {
   "cell_type": "markdown",
   "id": "cfef2034-a535-4acd-874c-9a31036753f1",
   "metadata": {},
   "source": [
    "# Poisson's Kinematic Equations\n",
    "\n",
    "Recall that along the way to defining the angular velocity vector, we noted that we could write the DCM derivative as:\n",
    "<div class=\"alert alert-block alert-info\">\n",
    "$$\\dframerot{A}{B} = \\framerot{A}{B}[\\omegarot{A}{B} \\times]_\\mc B$$\n",
    "</div>\n",
    "The nine scalar equations encoded in this matrix expression are collectively known as Poisson's Kinematic Equations (or Poisson's Kinematical Equations), named after French mathematician and engineer, Siméon Denis Poisson, who made some brilliant contributions in a wide variety of fields, and had an optical phenomenon named after him out of spite by the (then) future prime minister of France (look up Poisson's spot and marvel at the delightful absurdity of the history of science).\n",
    "\n",
    "They look like this:"
   ]
  },
  {
   "cell_type": "code",
   "execution_count": 15,
   "id": "16157d78-e676-4950-9f08-ff6b5ca8f92e",
   "metadata": {},
   "outputs": [
    {
     "data": {
      "text/latex": [
       "$\\displaystyle \\left[\\begin{matrix}- \\omega_{2} {\\vphantom{C}}^\\mathcal{A}C^{\\mathcal{B}}_{13} + \\omega_{3} {\\vphantom{C}}^\\mathcal{A}C^{\\mathcal{B}}_{12} & \\omega_{1} {\\vphantom{C}}^\\mathcal{A}C^{\\mathcal{B}}_{13} - \\omega_{3} {\\vphantom{C}}^\\mathcal{A}C^{\\mathcal{B}}_{11} & - \\omega_{1} {\\vphantom{C}}^\\mathcal{A}C^{\\mathcal{B}}_{12} + \\omega_{2} {\\vphantom{C}}^\\mathcal{A}C^{\\mathcal{B}}_{11}\\\\- \\omega_{2} {\\vphantom{C}}^\\mathcal{A}C^{\\mathcal{B}}_{23} + \\omega_{3} {\\vphantom{C}}^\\mathcal{A}C^{\\mathcal{B}}_{22} & \\omega_{1} {\\vphantom{C}}^\\mathcal{A}C^{\\mathcal{B}}_{23} - \\omega_{3} {\\vphantom{C}}^\\mathcal{A}C^{\\mathcal{B}}_{21} & - \\omega_{1} {\\vphantom{C}}^\\mathcal{A}C^{\\mathcal{B}}_{22} + \\omega_{2} {\\vphantom{C}}^\\mathcal{A}C^{\\mathcal{B}}_{21}\\\\- \\omega_{2} {\\vphantom{C}}^\\mathcal{A}C^{\\mathcal{B}}_{33} + \\omega_{3} {\\vphantom{C}}^\\mathcal{A}C^{\\mathcal{B}}_{32} & \\omega_{1} {\\vphantom{C}}^\\mathcal{A}C^{\\mathcal{B}}_{33} - \\omega_{3} {\\vphantom{C}}^\\mathcal{A}C^{\\mathcal{B}}_{31} & - \\omega_{1} {\\vphantom{C}}^\\mathcal{A}C^{\\mathcal{B}}_{32} + \\omega_{2} {\\vphantom{C}}^\\mathcal{A}C^{\\mathcal{B}}_{31}\\end{matrix}\\right]$"
      ],
      "text/plain": [
       "⎡-ω₂⋅{\\vphantom{C}}_{13}__\\mathcal{A}C__{\\mathcal{B}} + ω₃⋅{\\vphantom{C}}_{12}\n",
       "⎢                                                                             \n",
       "⎢-ω₂⋅{\\vphantom{C}}_{23}__\\mathcal{A}C__{\\mathcal{B}} + ω₃⋅{\\vphantom{C}}_{22}\n",
       "⎢                                                                             \n",
       "⎣-ω₂⋅{\\vphantom{C}}_{33}__\\mathcal{A}C__{\\mathcal{B}} + ω₃⋅{\\vphantom{C}}_{32}\n",
       "\n",
       "__\\mathcal{A}C__{\\mathcal{B}}  ω₁⋅{\\vphantom{C}}_{13}__\\mathcal{A}C__{\\mathcal\n",
       "                                                                              \n",
       "__\\mathcal{A}C__{\\mathcal{B}}  ω₁⋅{\\vphantom{C}}_{23}__\\mathcal{A}C__{\\mathcal\n",
       "                                                                              \n",
       "__\\mathcal{A}C__{\\mathcal{B}}  ω₁⋅{\\vphantom{C}}_{33}__\\mathcal{A}C__{\\mathcal\n",
       "\n",
       "{B}} - ω₃⋅{\\vphantom{C}}_{11}__\\mathcal{A}C__{\\mathcal{B}}  -ω₁⋅{\\vphantom{C}}\n",
       "                                                                              \n",
       "{B}} - ω₃⋅{\\vphantom{C}}_{21}__\\mathcal{A}C__{\\mathcal{B}}  -ω₁⋅{\\vphantom{C}}\n",
       "                                                                              \n",
       "{B}} - ω₃⋅{\\vphantom{C}}_{31}__\\mathcal{A}C__{\\mathcal{B}}  -ω₁⋅{\\vphantom{C}}\n",
       "\n",
       "_{12}__\\mathcal{A}C__{\\mathcal{B}} + ω₂⋅{\\vphantom{C}}_{11}__\\mathcal{A}C__{\\m\n",
       "                                                                              \n",
       "_{22}__\\mathcal{A}C__{\\mathcal{B}} + ω₂⋅{\\vphantom{C}}_{21}__\\mathcal{A}C__{\\m\n",
       "                                                                              \n",
       "_{32}__\\mathcal{A}C__{\\mathcal{B}} + ω₂⋅{\\vphantom{C}}_{31}__\\mathcal{A}C__{\\m\n",
       "\n",
       "athcal{B}}⎤\n",
       "          ⎥\n",
       "athcal{B}}⎥\n",
       "          ⎥\n",
       "athcal{B}}⎦"
      ]
     },
     "execution_count": 15,
     "metadata": {},
     "output_type": "execute_result"
    }
   ],
   "source": [
    "w1, w2, w3 = symbols(\"omega_1,omega_2,omega_3\")\n",
    "aCb = fancyMat(\"{\\\\vphantom{C}}^\\mathcal{A}C^{\\mathcal{B}}\", (3, 3))\n",
    "# This should give the derivative of the aCb DCM:\n",
    "aCb * skew([w1, w2, w3])"
   ]
  },
  {
   "cell_type": "markdown",
   "id": "faf4b73b-35cc-4cca-9f90-a34f85497a0a",
   "metadata": {},
   "source": [
    "For anyone who fetishizes compact notation (good job - you're doing it right), Poisson's Kinematic equations can be beautifully expressed via the Levi-Civita symbol and the Einstein summation convention as:\n",
    "<div class=\"alert alert-block alert-info\">\n",
    " $$ {\\vphantom{\\dot{C}}}^\\mathcal{A}{\\dot{C}}^{\\mathcal{B}}_{ij} = \\epsilon_{ghj}\\omega_h{\\vphantom{{C}}}^\\mathcal{A}{{C}}^{\\mathcal{B}}_{ig}$$\n",
    "   </div>"
   ]
  },
  {
   "cell_type": "markdown",
   "id": "1ca6d7ad-9165-4f61-bce9-c37222194c71",
   "metadata": {},
   "source": [
    "# The Transport Equation\n",
    "\n",
    "We now have an almost complete formalism for dealing with vector derivatives with respect to time in any and all frames.  We have established the rules for frame-dependent vector differentiation, physically motivated them, and created a mathematical framework (by way of the angular velocity vector) that allows us to differentiate the unit vectors of one frame with respect to another frame.\n",
    "\n",
    "The only thing we're missing is a general statement relating the derivatives of a single vector with respect to two different frames.  So let's find one!\n",
    "\n",
    "We are now considering an arbitrary vector $\\mf r$ and its component representation in frame $\\mc B$:\n",
    "$$ \\mf r = \\sum_{i=1}^3 (\\mf r \\cdot \\bhat{b}_i)\\bhat{b}_i \\triangleq b_i \\bhat{b}_i$$\n",
    "We are going to differentiate $\\mf r$ with respect to another frame, $\\mc A$:\n",
    "\n",
    "$$ \\fddt{A}{\\mf r} = \\fddt{A}\\left( \\sum_{i=1}^3 b_i \\bhat{b}_i \\right) =\\sum_{i=1}^3 \\left[ \\fddt{}(b_i)\\bhat{b}_i + b_i\\underbrace{\\fddt{A}\\bhat{b}_i}_{\\displaystyle \\omegarot{A}{B} \\times \\bhat{b}_i}\\right] = \\sum_{i=1}^3\\dot b_i\\bhat{b}_i + \\omegarot{A}{B} \\times \\sum_{i=1}^3 b_i\\bhat{b}_i$$\n",
    "\n",
    "Wow.  A lot happened there just now.  Let's parse it out: since differentiation is a linear operator, it is distributive over addition and so we can move the derivative inside the summation.  Next, we apply the product rule to get the two terms, one with the derivative of the scalar part, and the second with the derivative of the vector part.  Since the first term now only has scalar derivatives, we drop the frame-dependent superscript from it.  In the second term, we substitute $\\omegarot{A}{B} \\times \\bhat{b}_i$ for the vector derivative, based on our derivation, above.  Finally, we split the summation into two parts.  In the second piece, every element of the summation is being crossed with the same thing ($\\omegarot{A}{B}$) and since the cross product is also distributive over vector addition (and compatible with scalar multiplication) we can re-arrange the summation as shown.\n",
    "\n",
    "Ok, that's what the mechanics of what we did.  But what did we *find*?  The first term in the final expression is exactly the derivative of $\\mf r$ with respect to $\\mc B$.  The second term is $\\omegarot{A}{B}$ crossed with $\\mf r$.  What we have found is\n",
    "<div class=\"alert alert-block alert-info\">\n",
    "    <b>The Transport Equation</b>:\n",
    " $$ \\fddt{\\mc A} \\mf r = \\fddt{B}\\mf r + \\omegarot{A}{B} \\times \\mf r$$\n",
    "</div>\n",
    "\n",
    "The derivative of a vector with respect to one frame equals its derivative in another plus the cross product of the angular velocity of the second frame in the first with the original vector. The importance of this expression simply cannot be overstated.  A key aspect of its utility is that what we have done here is just math.  No physics were involved.  This expression applies to *any* pair of frames $\\mc A$ and $\\mc B$ and to *any* vector $\\mf r$.  The frames can be inertial or non-inertial.  The vector can be a position, or a derivative of position, or an $n$th derivative of position, or an angular velocity.  It *always* just works.\n",
    "\n",
    "<div class=\"alert alert-block alert-danger\">\n",
    "    Despite its supreme utility, this equation doesn't get nearly enough love in other texts.  Sometimes it's entirely missing.  Sometimes it's introduced with no name, and sometimes it's called the transport theorem. To avoid confusion with Reynold's transport theorem, we use transport equation, but this annoyingly is also used to refer to continuity equations.  We'll stick with this name, but keep in mind that if you drop it conversation with a physicist, they might have no idea what you're talking about.\n",
    "</div>"
   ]
  },
  {
   "cell_type": "code",
   "execution_count": 17,
   "id": "db6b5608-2cd6-466a-b552-ec33b4e77ba1",
   "metadata": {},
   "outputs": [
    {
     "data": {
      "text/markdown": [
       "# [Next](<07-Second Law.ipynb>)"
      ],
      "text/plain": [
       "<IPython.core.display.Markdown object>"
      ]
     },
     "metadata": {},
     "output_type": "display_data"
    }
   ],
   "source": [
    "# This is just here to generate the link to the next notebook\n",
    "genNextLink()"
   ]
  },
  {
   "cell_type": "code",
   "execution_count": null,
   "id": "fc057f3c-a89a-4a56-b340-cdce150cd10e",
   "metadata": {},
   "outputs": [],
   "source": []
  }
 ],
 "metadata": {
  "kernelspec": {
   "display_name": "Python 3 (ipykernel)",
   "language": "python",
   "name": "python3"
  },
  "language_info": {
   "codemirror_mode": {
    "name": "ipython",
    "version": 3
   },
   "file_extension": ".py",
   "mimetype": "text/x-python",
   "name": "python",
   "nbconvert_exporter": "python",
   "pygments_lexer": "ipython3",
   "version": "3.9.14"
  }
 },
 "nbformat": 4,
 "nbformat_minor": 5
}
