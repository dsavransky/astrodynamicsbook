{
 "cells": [
  {
   "cell_type": "code",
   "execution_count": null,
   "id": "4e900fd4-16aa-4739-ac6c-22606f29d975",
   "metadata": {},
   "outputs": [
    {
     "data": {
      "text/markdown": [
       "$\n",
       "\\def\\bs{\\boldsymbol}\n",
       "\\def\\mf{\\mathbf}\n",
       "\\def\\mb{\\mathbb}\n",
       "\\def\\mc{\\mathcal}\n",
       "\\def\\rfr{\\mathcal}\n",
       "\\def\\grad{{\\rm grad}}\n",
       "\\def\\Re{{\\rm Re}}\n",
       "\\def\\Im{{\\rm Im}}\n",
       "\\def\\und{\\underline}\n",
       "\\def\\ovl{\\overline}\n",
       "\\def\\unb{\\underbrace}\n",
       "\\def\\Log{\\mbox{Log}}\n",
       "\\def\\bfomega{\\bs \\omega}\n",
       "\\def\\bfalpha{\\bs \\alpha}\n",
       "\\def\\da{\\triangleq}\n",
       "\\newcommand{\\leftexp}[2]{{\\vphantom{#2}}^{#1}\\!{#2}}\n",
       "\\newcommand{\\leftsub}[2]{{\\vphantom{#2}}_{#1}\\!{#2}}\n",
       "\\newcommand{\\omegarot}[2]{{\\leftexp{\\mathcal{#1}}{\\boldsymbol{\\omega}}^{\\mathcal{#2}}}}\n",
       "\\newcommand{\\alpharot}[2]{{\\leftexp{\\mathcal{#1}}{\\boldsymbol{\\alpha}}^{\\mathcal{#2}}}}\n",
       "\\newcommand{\\framerot}[2]{{\\leftexp{\\mathcal{#1}}{C}^{\\mathcal{#2}}}}\n",
       "\\newcommand{\\dframerot}[2]{{\\vphantom{\\dot{C}}^{\\mathcal{#1}}\\!{\\dot{C}^{\\mathcal{#2}}}}}\n",
       "\\newcommand{\\bdot}[1]{\\dot{\\mathbf{#1}}}\n",
       "\\newcommand{\\bhat}[1]{\\hat{\\mathbf{#1}}}\n",
       "\\newcommand{\\mbhat}[1]{\\hat{\\mathbb{#1}}}\n",
       "\\def\\iwb{\\omegarot{I}{B}}\n",
       "\\def\\iab{\\alpharot{I}{B}}\n",
       "\\def\\icb{\\framerot{I}{B}}\n",
       "\\def\\dif{\\mathop{}\\!\\mathrm{d}}\n",
       "\\newcommand{\\intd}[1]{\\dif#1}\n",
       "\\newcommand{\\od}[3][]{{ \\frac{\\dif{^{#1}}#2}{\\dif{#3^{#1}}} }}\t\t\t\n",
       "\\newcommand{\\pd}[3][]{{ \\frac{\\partial{^{#1}}#2}{\\partial{#3^{#1}}} }}\t \n",
       "\\newcommand{\\md}[6]{{  \\frac{\\partial{^{#2}}#1}{\\partial{#3^{#4}}\\partial{#5^{#6}}} }}\n",
       "\\newcommand{\\fddt}[2][]{{  \\leftexp{\\mathcal{#2}}{\\frac{\\dif{#1}}{\\dif{t}}}  }}\n",
       "\\newcommand{\\fdddt}[2][]{{  \\leftexp{\\mathcal{#2}}{\\frac{\\dif{^{2}#1}}{\\dif{t^2}}}  }}\n",
       "\\newcommand{\\ddt}[1][]{\\fddt[#1]{I}}\n",
       "$\n"
      ],
      "text/plain": [
       "<IPython.core.display.Markdown object>"
      ]
     },
     "metadata": {},
     "output_type": "display_data"
    },
    {
     "data": {
      "text/markdown": [
       "# [Previous](<05-More Reference Frames.ipynb>)"
      ],
      "text/plain": [
       "<IPython.core.display.Markdown object>"
      ]
     },
     "metadata": {},
     "output_type": "display_data"
    }
   ],
   "source": [
    "# These are helpful routines that will assist in building this book. \n",
    "# You should run this block before anything else. There is no output expected.\n",
    "from astrodynamicsbook.bookhelpers import *\n",
    "loadLatexPreamble()\n",
    "\n",
    "# This is only here to create the navigation link:\n",
    "genPrevLink()"
   ]
  },
  {
   "cell_type": "markdown",
   "id": "8d34780a-b8d5-49ad-a0bf-54faf1ded25b",
   "metadata": {},
   "source": [
    "# Vector Derivatives in Time\n",
    "\n",
    "A really important thing to hold on to as we start this discussion is that geometric vectors are frame-independent. This means that every single position vector we have written down so far exists as an abstract geometric blob and is fully defined absent the definition of any reference frame at all.  Unfortunately, this ceases to be the case when we start thinking about how these geometric vectors may evolve in time.\n",
    "\n",
    "<div class=\"alert alert-block alert-danger\">\n",
    "Vector derivatives must be defined with respect to a reference frame.\n",
    "</div>\n",
    "\n",
    "To understand this, imagine a box moving freely (rotating and otherwise accelerating) in 3D space.  In the box, there's a ball moving around freely.  We call one corner of the box point $O$ and the location of the ball at any given time point $P$.  The position of the ball with respect to the corner of the box ($\\mf r_{P/O}$) really is a frame-independent quantity.  An observer traveling inside the box and another observer standing outside the box (let's imaging it's a glass house) would both agree on the magnitude and direction of this vector in any common reference frame they chose to adopt.  However, the story changes if you ask the two observers about the **velocity** (the time derivative of position) of the ball.  The observer traveling with the box would describe only the part of the change in the position of the ball due to the ball's motion inside the box.  The external observer would describe a rate of change that included both the ball's motion within the box, as well as the motion of the whole box itself.  This isn't just a matter of describing things in components of different frames.  The velocity vectors the two observers are describing are actually different!\n",
    "\n",
    "Ok, we tried for some physical intuition, let's see if we can get more clarity (or a complementary view) from the math side of things.  We assume that our position vector $\\mathbf{r}_{P/O}$ has Cartesian coordinates $a_1, a_2, a_3$ in some reference frame $\\mc A = (O, \\bhat{a}_1, \\bhat{a}_2, \\bhat{a}_3)$. The vector can therefore be written as:\n",
    "$$ \\mf r_{P/O} = a_1 \\bhat{a}_1 + a_2 \\bhat{a}_2 + a_3 \\bhat{a}_3 =  \\sum_{i=1}^3 a_i \\bhat{a}_i$$\n",
    "\n",
    "Now let's try differentiating a vector.  We don't necessarily know how to differentiate a vector, but we do know how to differentiate a scalar, so let's assume that all the things we know about scalar differentiation also apply to vectors.\n",
    "<div class=\"alert alert-block alert-danger\">\n",
    "If you are not comfortable with scalar differentiation, and, in particular, the chain rule, stop now, go grab a mathematics text (or equivalent resource) and bring yourself up to speed.\n",
    "</div>\n",
    "\n",
    "One of the things we know about differentiation is the product rule, which tells us that, since each component of our vector is composed of the product of two parts (the scalar measure number and the unit vector direction), we should expect our derivative to have two terms for each component, or six terms total.  This would look something like:\n",
    "$$ \\fddt{}\\mf r_{P/O} = \\sum_{i=1}^3 \\dot{a}_i \\bhat{a}_i + \\sum_{i=1}^3 a_i \\fddt{}\\bhat{a}_i $$\n",
    "where we have continued with the convention of overdots representing scalar derivatives in time. We don't seem to have gained much here, as we still have three terms that are derivatives of the $\\bhat{a}_i$ unit vectors that we still don't quite know what to do with.  Here's where the frame-dependent nature of vector derivatives comes into play.  \n",
    "\n",
    "<div class=\"alert alert-block alert-info\">\n",
    "The time derivative of a vector defining a reference frame, <i>with respect to that same reference frame</i> is zero.\n",
    "</div>\n",
    "\n",
    "Let's think about that statement a bit.  It kind of *feels* correct, right?  If a unit direction is used as and element of the basis set defining a reference frame, then, no matter how that frame moves through space, the unit direction isn't changing within the frame.  We've already introduced the concept of treating reference frames synonymously with rigid bodies. Let's go back to the example of the room floating through space.  We placed our coordinate origin at one corner of the room.  Assuming the room is a perfect rectangular solid, then the two walls and floor (or ceiling) meeting at that corner are mutually orthogonal and (when properly ordered) constitute a reference frame.  If the room doesn't deform or warp, then the unit directions following the edges of the room remain the same, within the context of the room, for all time.  Assuming you buy all of that, we can now complete our definition of frame-specific vector derivatives.  We will represent vector differentiation with respect to a specific frame by adding a left superscript to the derivative operator, as well as the output of the differentiation.  That is, if $\\mf v$ is defined as the time derivative of $\\mf r$ in frame $\\mc I$, then we will write:\n",
    "$$ \\leftexp{\\mc I}{\\mf v} \\triangleq \\fddt{I}\\mf r $$\n",
    "\n",
    "So, now, we can finally get to our formal definition of vector differentiation:\n",
    "\n",
    "<div class=\"alert alert-block alert-info\">\n",
    " A vector $\\mf r_{P/O} = a_1 \\bhat a_1 + a_2 \\bhat a_2 + a_3 \\bhat a_3$ is differentiable in time at a time $t_1$ with respect to frame $\\mc A = (O, \\bhat a_1, \\bhat a_2, \\bhat a_3)$ if $a_1(t), a_2(t), a_3(t)$ are differentiable at $t = t_1$.  Then:\n",
    "$$\\left.\\fddt{A}\\mf r_{P/O}\\right|_{t = t_1} = \\left.\\frac{\\intd{a_1}}{\\intd{t}}\\right|_{t = t_1}\\bhat a_1 +\\left.\\frac{\\intd{a_2}}{\\intd{t}}\\right|_{t = t_1}\\bhat a_2+\\left.\\frac{\\intd{a_3}}{\\intd{t}}\\right|_{t = t_1} \\bhat a_3 $$\n",
    "   </div>\n",
    "\n",
    "If each of the $a_i$ functions are continuously differentiable, then we can replace this with the simpler statement:\n",
    "$$\\fddt{A}\\mf r_{P/O} = \\sum_{i=1}^3 \\dot{a}_i \\bhat{a}_i $$\n",
    "\n",
    "Similarly, if we define a different frame $\\mc B = (O, \\bhat{b}_1, \\bhat{b}_2, \\bhat{b}_3)$ such that $\\mf r_{P/O} =  \\sum_{i=1}^3 b_i \\bhat{b}_i$, and each of $b_i$ has a well-defined time derivative for all time, then the derivative with respect to the $\\mc B$ frame will be:\n",
    "$$\\fddt{B}\\mf r_{P/O} = \\sum_{i=1}^3 \\dot{b}_i \\bhat{b}_i $$\n",
    "\n",
    "In general $\\fddt{A}\\mf r_{P/O} \\ne \\fddt{B}\\mf r_{P/O}$ for different frames $\\mc A$ and $\\mc B$."
   ]
  },
  {
   "cell_type": "markdown",
   "id": "46d4526d-3f06-4408-8efb-55c53626dc21",
   "metadata": {},
   "source": [
    "\n",
    "## Component Representations of Vector Derivatives\n",
    "\n",
    "Let's be very clear here, because usually this is the part that trips people up: The frame-dependent nature of vector derivatives is wholly separate from our ability to express the components of a vector with respect to multiple frames.  We can express the derivative of $\\mf r_{P/O}$ with respect to the $\\mc A$ frame in components of the $\\mc A$ frame, or in components of the $\\mc B$ frame, or in any other frame we choose.  Transforming the components of our vector derivative between frames is done via exactly the same DCMs we have already been using, and follows all the same rules.  In our notation, this looks like:\n",
    "$$ \\left[\\fddt{A}\\mf r_{P/O}\\right]_\\mc B = \\framerot{B}{A}\\left[\\fddt{A}\\mf r_{P/O}\\right]_\\mc A $$\n",
    "\n",
    "Or, if we define another variable as the output of the derivative, such as $\\leftexp{\\mc A}{\\mf v_{P/O}} \\triangleq \\fddt{A}\\mf r_{P/O}$, then we could write:\n",
    "$$ \\left[\\leftexp{\\mc A}{\\mf v_{P/O}}\\right]_\\mc B = \\framerot{B}{A}\\left[\\leftexp{\\mc A}{\\mf v_{P/O}}\\right]_\\mc A $$\n",
    "\n",
    "Again: the frame we're differentiating with respect to, and the frame whose components we choose to express the result in, are entirely independent of one another. They could be the same frame, or they could be two different frames.  As always, allow the notation to help you keep track (or come up with your own notation that accomplished the task): the left superscript tells us about what frame we're differentiating with respect to, and the right subscript tells us about the frame whose components we're using. "
   ]
  },
  {
   "cell_type": "markdown",
   "id": "fabd91b1-abd6-47e1-b72a-6f91f9455a48",
   "metadata": {},
   "source": [
    "# Vector Derivatives Across Frames\n",
    "\n",
    "Great. We have rather cleverly obviated the need to figure what vector derivatives really mean by providing ourselves with a frame-dependent differentiation mechanism in which the derivatives of all of the vector parts are exactly zero. Go us.  And yet... That last bit there should give you pause.  If you can express a vector in components of any frame, there may be times when you wish to differentiate the unit vector of one frame with respect to another frame.  And that brings us all the way back to our original problem.  Namely, how exactly do we evaluate something like $\\fddt{B}{\\mf a_1}$?  Sigh. We're going to have to keep going with this, aren't we?  Unfortunately, to get to where we want to go, we're going to have to take a pretty hefty detour.  Get set."
   ]
  },
  {
   "cell_type": "markdown",
   "id": "a753ed2a-9a46-4099-96d2-f09a177e1b98",
   "metadata": {},
   "source": [
    "# DCM Derivatives and the Angular Velocity Matrix\n",
    "\n",
    "This feels like it came entirely out of left field, and it pretty much did.  One second we were talking about vector derivatives, and now we're talking about DCM derivatives?  There's some tenuous connection there, though.  DCMs tell us how to transform between component of different frames, and we were just discussing differentiation across frames. So, maybe looking into differentiation of DCMs will tell us something about vector differentiation in different reference frames?  In reality, we are about to embark on a fairly extended series of derivations, and we will start by positing the form of a quantity (the angular velocity matrix), and end by showing how it ties in with everything we've done so far.  In essence, we're making a guess and then proving that it was a good one.  The same results can be obtained by entering into this closed cycle of reasoning at various different points, and you can find different (but equivalent) derivations in many other texts.  The basic message: be patient for a while, and this will pay off.\n",
    "\n",
    "We begin by defining the derivative of a DCM via the introduction of a new quantity, the **angular velocity matrix**, which we will call $\\widetilde{\\omega}$:\n",
    "\n",
    "<div class=\"alert alert-block alert-info\">\n",
    " $$ \\dframerot{A}{B} \\equiv \\fddt{}\\framerot{A}{B} \\triangleq \\framerot{A}{B}\\widetilde{\\omega} $$\n",
    "   </div>\n",
    "Note that we are using the normal scalar derivative here, as the derivative of a matrix is just the matrix composed of the scalar derivatives of all of the original matrix components.  From this definition, we can find an expression for $\\widetilde{\\omega}$ by left-multiplying both sides of the equation by the inverse of $\\framerot{A}{B}$:\n",
    "$$\\left(\\framerot{A}{B}\\right)^{-1} \\dframerot{A}{B} = \\left(\\framerot{A}{B}\\right)^{-1}\\framerot{A}{B}\\widetilde{\\omega} \\quad\\Rightarrow\\quad  \\widetilde{\\omega} \\triangleq \\framerot{B}{A} \\dframerot{A}{B}$$ \n",
    "\n",
    "The nature of this expression looks suggestive, in some way. We are multiplying a matrix by the derivative of its transpose.  What would happen if we added the angular velocity matrix to its own transpose?\n",
    "$$\\widetilde{\\omega}^T + \\widetilde{\\omega} =  \\underbrace{\\left(\\framerot{B}{A}\\dframerot{A}{B}\\right)^T + \\left(\\framerot{B}{A}\\dframerot{A}{B}\\right)}_{\\displaystyle \n",
    "\\equiv \\fddt{} \\left( \\framerot{B}{A}\\framerot{A}{B}  \\right) = \\fddt{}(I) } = 0$$\n",
    "Note that we have again applied the product rule (which applies equally to matrix derivatives) in this derivation.  Ok, so what have we found?  It's actually something that we've encountered before.  The fact that $\\widetilde{\\omega}$ added to its transpose is zero implies that $\\widetilde{\\omega} = -\\widetilde{\\omega}^T$.  Therefore, $\\widetilde{\\omega}$ must be a skew-symmetric matrix.\n",
    "\n",
    "Now, this is really interesting.  We posited a fairly arbitrary-looking new quantity related to DCM derivatives, and almost immediately find that it carries the same form as the matrix encoding of the cross product - and operator that lies at the heart of simple rotations.  Curiouser and curiouser. Let's continue falling down this well and see where it leads us.\n",
    "\n",
    "Since $\\widetilde{\\omega}$ must be skew-symmetric, we know that it only has three independent components. Let's call these $\\omega_1, \\omega_2,$ and $\\omega_3$, and arrange them in the same way we do in the cross-product equivalent matrix:\n",
    "$$\\widetilde{\\omega} = \\left[\\begin{matrix}0 & - \\omega_{3} & \\omega_{2}\\\\\\omega_{3} & 0 & - \\omega_{1}\\\\- \\omega_{2} & \\omega_{1} & 0\\end{matrix}\\right]$$\n",
    "\n",
    "Now let's take a look at the other side of the equation:"
   ]
  },
  {
   "cell_type": "code",
   "execution_count": 20,
   "id": "f87150b1-1a26-458f-a65f-e5562e9f8c6d",
   "metadata": {},
   "outputs": [
    {
     "data": {
      "text/latex": [
       "$\\displaystyle \\left( \\left[\\begin{matrix}{}^\\mathcal{A}C^{\\mathcal{B}}_{11} & {}^\\mathcal{A}C^{\\mathcal{B}}_{12} & {}^\\mathcal{A}C^{\\mathcal{B}}_{13}\\\\{}^\\mathcal{A}C^{\\mathcal{B}}_{21} & {}^\\mathcal{A}C^{\\mathcal{B}}_{22} & {}^\\mathcal{A}C^{\\mathcal{B}}_{23}\\\\{}^\\mathcal{A}C^{\\mathcal{B}}_{31} & {}^\\mathcal{A}C^{\\mathcal{B}}_{32} & {}^\\mathcal{A}C^{\\mathcal{B}}_{33}\\end{matrix}\\right], \\  \\left[\\begin{matrix}{\\vphantom{\\dot{C}}}^\\mathcal{A}{\\dot{C}}^{\\mathcal{B}}_{11} & {\\vphantom{\\dot{C}}}^\\mathcal{A}{\\dot{C}}^{\\mathcal{B}}_{12} & {\\vphantom{\\dot{C}}}^\\mathcal{A}{\\dot{C}}^{\\mathcal{B}}_{13}\\\\{\\vphantom{\\dot{C}}}^\\mathcal{A}{\\dot{C}}^{\\mathcal{B}}_{21} & {\\vphantom{\\dot{C}}}^\\mathcal{A}{\\dot{C}}^{\\mathcal{B}}_{22} & {\\vphantom{\\dot{C}}}^\\mathcal{A}{\\dot{C}}^{\\mathcal{B}}_{23}\\\\{\\vphantom{\\dot{C}}}^\\mathcal{A}{\\dot{C}}^{\\mathcal{B}}_{31} & {\\vphantom{\\dot{C}}}^\\mathcal{A}{\\dot{C}}^{\\mathcal{B}}_{32} & {\\vphantom{\\dot{C}}}^\\mathcal{A}{\\dot{C}}^{\\mathcal{B}}_{33}\\end{matrix}\\right]\\right)$"
      ],
      "text/plain": [
       "⎛⎡{}_{11}__\\mathcal{A}C__{\\mathcal{B}}  {}_{12}__\\mathcal{A}C__{\\mathcal{B}}  \n",
       "⎜⎢                                                                            \n",
       "⎜⎢{}_{21}__\\mathcal{A}C__{\\mathcal{B}}  {}_{22}__\\mathcal{A}C__{\\mathcal{B}}  \n",
       "⎜⎢                                                                            \n",
       "⎝⎣{}_{31}__\\mathcal{A}C__{\\mathcal{B}}  {}_{32}__\\mathcal{A}C__{\\mathcal{B}}  \n",
       "\n",
       "{}_{13}__\\mathcal{A}C__{\\mathcal{B}}⎤  ⎡{\\vphantom{\\dot{C}}}_{11}__\\mathcal{A}\n",
       "                                    ⎥  ⎢                                      \n",
       "{}_{23}__\\mathcal{A}C__{\\mathcal{B}}⎥, ⎢{\\vphantom{\\dot{C}}}_{21}__\\mathcal{A}\n",
       "                                    ⎥  ⎢                                      \n",
       "{}_{33}__\\mathcal{A}C__{\\mathcal{B}}⎦  ⎣{\\vphantom{\\dot{C}}}_{31}__\\mathcal{A}\n",
       "\n",
       "{\\dot{C}}__{\\mathcal{B}}  {\\vphantom{\\dot{C}}}_{12}__\\mathcal{A}{\\dot{C}}__{\\m\n",
       "                                                                              \n",
       "{\\dot{C}}__{\\mathcal{B}}  {\\vphantom{\\dot{C}}}_{22}__\\mathcal{A}{\\dot{C}}__{\\m\n",
       "                                                                              \n",
       "{\\dot{C}}__{\\mathcal{B}}  {\\vphantom{\\dot{C}}}_{32}__\\mathcal{A}{\\dot{C}}__{\\m\n",
       "\n",
       "athcal{B}}  {\\vphantom{\\dot{C}}}_{13}__\\mathcal{A}{\\dot{C}}__{\\mathcal{B}}⎤⎞\n",
       "                                                                          ⎥⎟\n",
       "athcal{B}}  {\\vphantom{\\dot{C}}}_{23}__\\mathcal{A}{\\dot{C}}__{\\mathcal{B}}⎥⎟\n",
       "                                                                          ⎥⎟\n",
       "athcal{B}}  {\\vphantom{\\dot{C}}}_{33}__\\mathcal{A}{\\dot{C}}__{\\mathcal{B}}⎦⎠"
      ]
     },
     "execution_count": 20,
     "metadata": {},
     "output_type": "execute_result"
    }
   ],
   "source": [
    "# Let's use our fancyMat to generate the componnets of the DCM and its derivative\n",
    "aCb = fancyMat('{}^\\mathcal{A}C^{\\mathcal{B}}',(3,3))\n",
    "# the vphantom is just to make the LaTeX come out pretty.  Ah, vanity.\n",
    "daCb = fancyMat('{\\\\vphantom{\\dot{C}}}^\\mathcal{A}{\\dot{C}}^{\\mathcal{B}}',(3,3))\n",
    "aCb,daCb"
   ]
  },
  {
   "cell_type": "code",
   "execution_count": 21,
   "id": "64e86849-008e-46df-a3e4-bf3182e4b1b7",
   "metadata": {},
   "outputs": [
    {
     "data": {
      "text/latex": [
       "$\\displaystyle \\left[\\begin{matrix}{\\vphantom{\\dot{C}}}^\\mathcal{A}{\\dot{C}}^{\\mathcal{B}}_{11} {}^\\mathcal{A}C^{\\mathcal{B}}_{11} + {\\vphantom{\\dot{C}}}^\\mathcal{A}{\\dot{C}}^{\\mathcal{B}}_{21} {}^\\mathcal{A}C^{\\mathcal{B}}_{21} + {\\vphantom{\\dot{C}}}^\\mathcal{A}{\\dot{C}}^{\\mathcal{B}}_{31} {}^\\mathcal{A}C^{\\mathcal{B}}_{31} & {\\vphantom{\\dot{C}}}^\\mathcal{A}{\\dot{C}}^{\\mathcal{B}}_{12} {}^\\mathcal{A}C^{\\mathcal{B}}_{11} + {\\vphantom{\\dot{C}}}^\\mathcal{A}{\\dot{C}}^{\\mathcal{B}}_{22} {}^\\mathcal{A}C^{\\mathcal{B}}_{21} + {\\vphantom{\\dot{C}}}^\\mathcal{A}{\\dot{C}}^{\\mathcal{B}}_{32} {}^\\mathcal{A}C^{\\mathcal{B}}_{31} & {\\vphantom{\\dot{C}}}^\\mathcal{A}{\\dot{C}}^{\\mathcal{B}}_{13} {}^\\mathcal{A}C^{\\mathcal{B}}_{11} + {\\vphantom{\\dot{C}}}^\\mathcal{A}{\\dot{C}}^{\\mathcal{B}}_{23} {}^\\mathcal{A}C^{\\mathcal{B}}_{21} + {\\vphantom{\\dot{C}}}^\\mathcal{A}{\\dot{C}}^{\\mathcal{B}}_{33} {}^\\mathcal{A}C^{\\mathcal{B}}_{31}\\\\{\\vphantom{\\dot{C}}}^\\mathcal{A}{\\dot{C}}^{\\mathcal{B}}_{11} {}^\\mathcal{A}C^{\\mathcal{B}}_{12} + {\\vphantom{\\dot{C}}}^\\mathcal{A}{\\dot{C}}^{\\mathcal{B}}_{21} {}^\\mathcal{A}C^{\\mathcal{B}}_{22} + {\\vphantom{\\dot{C}}}^\\mathcal{A}{\\dot{C}}^{\\mathcal{B}}_{31} {}^\\mathcal{A}C^{\\mathcal{B}}_{32} & {\\vphantom{\\dot{C}}}^\\mathcal{A}{\\dot{C}}^{\\mathcal{B}}_{12} {}^\\mathcal{A}C^{\\mathcal{B}}_{12} + {\\vphantom{\\dot{C}}}^\\mathcal{A}{\\dot{C}}^{\\mathcal{B}}_{22} {}^\\mathcal{A}C^{\\mathcal{B}}_{22} + {\\vphantom{\\dot{C}}}^\\mathcal{A}{\\dot{C}}^{\\mathcal{B}}_{32} {}^\\mathcal{A}C^{\\mathcal{B}}_{32} & {\\vphantom{\\dot{C}}}^\\mathcal{A}{\\dot{C}}^{\\mathcal{B}}_{13} {}^\\mathcal{A}C^{\\mathcal{B}}_{12} + {\\vphantom{\\dot{C}}}^\\mathcal{A}{\\dot{C}}^{\\mathcal{B}}_{23} {}^\\mathcal{A}C^{\\mathcal{B}}_{22} + {\\vphantom{\\dot{C}}}^\\mathcal{A}{\\dot{C}}^{\\mathcal{B}}_{33} {}^\\mathcal{A}C^{\\mathcal{B}}_{32}\\\\{\\vphantom{\\dot{C}}}^\\mathcal{A}{\\dot{C}}^{\\mathcal{B}}_{11} {}^\\mathcal{A}C^{\\mathcal{B}}_{13} + {\\vphantom{\\dot{C}}}^\\mathcal{A}{\\dot{C}}^{\\mathcal{B}}_{21} {}^\\mathcal{A}C^{\\mathcal{B}}_{23} + {\\vphantom{\\dot{C}}}^\\mathcal{A}{\\dot{C}}^{\\mathcal{B}}_{31} {}^\\mathcal{A}C^{\\mathcal{B}}_{33} & {\\vphantom{\\dot{C}}}^\\mathcal{A}{\\dot{C}}^{\\mathcal{B}}_{12} {}^\\mathcal{A}C^{\\mathcal{B}}_{13} + {\\vphantom{\\dot{C}}}^\\mathcal{A}{\\dot{C}}^{\\mathcal{B}}_{22} {}^\\mathcal{A}C^{\\mathcal{B}}_{23} + {\\vphantom{\\dot{C}}}^\\mathcal{A}{\\dot{C}}^{\\mathcal{B}}_{32} {}^\\mathcal{A}C^{\\mathcal{B}}_{33} & {\\vphantom{\\dot{C}}}^\\mathcal{A}{\\dot{C}}^{\\mathcal{B}}_{13} {}^\\mathcal{A}C^{\\mathcal{B}}_{13} + {\\vphantom{\\dot{C}}}^\\mathcal{A}{\\dot{C}}^{\\mathcal{B}}_{23} {}^\\mathcal{A}C^{\\mathcal{B}}_{23} + {\\vphantom{\\dot{C}}}^\\mathcal{A}{\\dot{C}}^{\\mathcal{B}}_{33} {}^\\mathcal{A}C^{\\mathcal{B}}_{33}\\end{matrix}\\right]$"
      ],
      "text/plain": [
       "⎡{\\vphantom{\\dot{C}}}_{11}__\\mathcal{A}{\\dot{C}}__{\\mathcal{B}}⋅{}_{11}__\\math\n",
       "⎢                                                                             \n",
       "⎢{\\vphantom{\\dot{C}}}_{11}__\\mathcal{A}{\\dot{C}}__{\\mathcal{B}}⋅{}_{12}__\\math\n",
       "⎢                                                                             \n",
       "⎣{\\vphantom{\\dot{C}}}_{11}__\\mathcal{A}{\\dot{C}}__{\\mathcal{B}}⋅{}_{13}__\\math\n",
       "\n",
       "cal{A}C__{\\mathcal{B}} + {\\vphantom{\\dot{C}}}_{21}__\\mathcal{A}{\\dot{C}}__{\\ma\n",
       "                                                                              \n",
       "cal{A}C__{\\mathcal{B}} + {\\vphantom{\\dot{C}}}_{21}__\\mathcal{A}{\\dot{C}}__{\\ma\n",
       "                                                                              \n",
       "cal{A}C__{\\mathcal{B}} + {\\vphantom{\\dot{C}}}_{21}__\\mathcal{A}{\\dot{C}}__{\\ma\n",
       "\n",
       "thcal{B}}⋅{}_{21}__\\mathcal{A}C__{\\mathcal{B}} + {\\vphantom{\\dot{C}}}_{31}__\\m\n",
       "                                                                              \n",
       "thcal{B}}⋅{}_{22}__\\mathcal{A}C__{\\mathcal{B}} + {\\vphantom{\\dot{C}}}_{31}__\\m\n",
       "                                                                              \n",
       "thcal{B}}⋅{}_{23}__\\mathcal{A}C__{\\mathcal{B}} + {\\vphantom{\\dot{C}}}_{31}__\\m\n",
       "\n",
       "athcal{A}{\\dot{C}}__{\\mathcal{B}}⋅{}_{31}__\\mathcal{A}C__{\\mathcal{B}}  {\\vpha\n",
       "                                                                              \n",
       "athcal{A}{\\dot{C}}__{\\mathcal{B}}⋅{}_{32}__\\mathcal{A}C__{\\mathcal{B}}  {\\vpha\n",
       "                                                                              \n",
       "athcal{A}{\\dot{C}}__{\\mathcal{B}}⋅{}_{33}__\\mathcal{A}C__{\\mathcal{B}}  {\\vpha\n",
       "\n",
       "ntom{\\dot{C}}}_{12}__\\mathcal{A}{\\dot{C}}__{\\mathcal{B}}⋅{}_{11}__\\mathcal{A}C\n",
       "                                                                              \n",
       "ntom{\\dot{C}}}_{12}__\\mathcal{A}{\\dot{C}}__{\\mathcal{B}}⋅{}_{12}__\\mathcal{A}C\n",
       "                                                                              \n",
       "ntom{\\dot{C}}}_{12}__\\mathcal{A}{\\dot{C}}__{\\mathcal{B}}⋅{}_{13}__\\mathcal{A}C\n",
       "\n",
       "__{\\mathcal{B}} + {\\vphantom{\\dot{C}}}_{22}__\\mathcal{A}{\\dot{C}}__{\\mathcal{B\n",
       "                                                                              \n",
       "__{\\mathcal{B}} + {\\vphantom{\\dot{C}}}_{22}__\\mathcal{A}{\\dot{C}}__{\\mathcal{B\n",
       "                                                                              \n",
       "__{\\mathcal{B}} + {\\vphantom{\\dot{C}}}_{22}__\\mathcal{A}{\\dot{C}}__{\\mathcal{B\n",
       "\n",
       "}}⋅{}_{21}__\\mathcal{A}C__{\\mathcal{B}} + {\\vphantom{\\dot{C}}}_{32}__\\mathcal{\n",
       "                                                                              \n",
       "}}⋅{}_{22}__\\mathcal{A}C__{\\mathcal{B}} + {\\vphantom{\\dot{C}}}_{32}__\\mathcal{\n",
       "                                                                              \n",
       "}}⋅{}_{23}__\\mathcal{A}C__{\\mathcal{B}} + {\\vphantom{\\dot{C}}}_{32}__\\mathcal{\n",
       "\n",
       "A}{\\dot{C}}__{\\mathcal{B}}⋅{}_{31}__\\mathcal{A}C__{\\mathcal{B}}  {\\vphantom{\\d\n",
       "                                                                              \n",
       "A}{\\dot{C}}__{\\mathcal{B}}⋅{}_{32}__\\mathcal{A}C__{\\mathcal{B}}  {\\vphantom{\\d\n",
       "                                                                              \n",
       "A}{\\dot{C}}__{\\mathcal{B}}⋅{}_{33}__\\mathcal{A}C__{\\mathcal{B}}  {\\vphantom{\\d\n",
       "\n",
       "ot{C}}}_{13}__\\mathcal{A}{\\dot{C}}__{\\mathcal{B}}⋅{}_{11}__\\mathcal{A}C__{\\mat\n",
       "                                                                              \n",
       "ot{C}}}_{13}__\\mathcal{A}{\\dot{C}}__{\\mathcal{B}}⋅{}_{12}__\\mathcal{A}C__{\\mat\n",
       "                                                                              \n",
       "ot{C}}}_{13}__\\mathcal{A}{\\dot{C}}__{\\mathcal{B}}⋅{}_{13}__\\mathcal{A}C__{\\mat\n",
       "\n",
       "hcal{B}} + {\\vphantom{\\dot{C}}}_{23}__\\mathcal{A}{\\dot{C}}__{\\mathcal{B}}⋅{}_{\n",
       "                                                                              \n",
       "hcal{B}} + {\\vphantom{\\dot{C}}}_{23}__\\mathcal{A}{\\dot{C}}__{\\mathcal{B}}⋅{}_{\n",
       "                                                                              \n",
       "hcal{B}} + {\\vphantom{\\dot{C}}}_{23}__\\mathcal{A}{\\dot{C}}__{\\mathcal{B}}⋅{}_{\n",
       "\n",
       "21}__\\mathcal{A}C__{\\mathcal{B}} + {\\vphantom{\\dot{C}}}_{33}__\\mathcal{A}{\\dot\n",
       "                                                                              \n",
       "22}__\\mathcal{A}C__{\\mathcal{B}} + {\\vphantom{\\dot{C}}}_{33}__\\mathcal{A}{\\dot\n",
       "                                                                              \n",
       "23}__\\mathcal{A}C__{\\mathcal{B}} + {\\vphantom{\\dot{C}}}_{33}__\\mathcal{A}{\\dot\n",
       "\n",
       "{C}}__{\\mathcal{B}}⋅{}_{31}__\\mathcal{A}C__{\\mathcal{B}}⎤\n",
       "                                                        ⎥\n",
       "{C}}__{\\mathcal{B}}⋅{}_{32}__\\mathcal{A}C__{\\mathcal{B}}⎥\n",
       "                                                        ⎥\n",
       "{C}}__{\\mathcal{B}}⋅{}_{33}__\\mathcal{A}C__{\\mathcal{B}}⎦"
      ]
     },
     "execution_count": 21,
     "metadata": {},
     "output_type": "execute_result"
    }
   ],
   "source": [
    "omegatilde = aCb.transpose()*daCb\n",
    "omegatilde"
   ]
  },
  {
   "cell_type": "markdown",
   "id": "b7d00d77-f2d8-4d00-94e3-653402d76555",
   "metadata": {},
   "source": [
    "Well, that looks awful.  But remember, we only actually care about three elements of this.  So let's pick out the ones equal to the positive $\\omega_1, \\omega_2,$ and $\\omega_3$ entries:"
   ]
  },
  {
   "cell_type": "code",
   "execution_count": 22,
   "id": "c5fd09e2-cad0-4aef-ae83-447be8d370c7",
   "metadata": {},
   "outputs": [
    {
     "data": {
      "text/latex": [
       "$\\displaystyle \\left( {\\vphantom{\\dot{C}}}^\\mathcal{A}{\\dot{C}}^{\\mathcal{B}}_{12} {}^\\mathcal{A}C^{\\mathcal{B}}_{13} + {\\vphantom{\\dot{C}}}^\\mathcal{A}{\\dot{C}}^{\\mathcal{B}}_{22} {}^\\mathcal{A}C^{\\mathcal{B}}_{23} + {\\vphantom{\\dot{C}}}^\\mathcal{A}{\\dot{C}}^{\\mathcal{B}}_{32} {}^\\mathcal{A}C^{\\mathcal{B}}_{33}, \\  {\\vphantom{\\dot{C}}}^\\mathcal{A}{\\dot{C}}^{\\mathcal{B}}_{13} {}^\\mathcal{A}C^{\\mathcal{B}}_{11} + {\\vphantom{\\dot{C}}}^\\mathcal{A}{\\dot{C}}^{\\mathcal{B}}_{23} {}^\\mathcal{A}C^{\\mathcal{B}}_{21} + {\\vphantom{\\dot{C}}}^\\mathcal{A}{\\dot{C}}^{\\mathcal{B}}_{33} {}^\\mathcal{A}C^{\\mathcal{B}}_{31}, \\  {\\vphantom{\\dot{C}}}^\\mathcal{A}{\\dot{C}}^{\\mathcal{B}}_{11} {}^\\mathcal{A}C^{\\mathcal{B}}_{12} + {\\vphantom{\\dot{C}}}^\\mathcal{A}{\\dot{C}}^{\\mathcal{B}}_{21} {}^\\mathcal{A}C^{\\mathcal{B}}_{22} + {\\vphantom{\\dot{C}}}^\\mathcal{A}{\\dot{C}}^{\\mathcal{B}}_{31} {}^\\mathcal{A}C^{\\mathcal{B}}_{32}\\right)$"
      ],
      "text/plain": [
       "({\\vphantom{\\dot{C}}}_{12}__\\mathcal{A}{\\dot{C}}__{\\mathcal{B}}⋅{}_{13}__\\math\n",
       "cal{A}C__{\\mathcal{B}} + {\\vphantom{\\dot{C}}}_{22}__\\mathcal{A}{\\dot{C}}__{\\ma\n",
       "thcal{B}}⋅{}_{23}__\\mathcal{A}C__{\\mathcal{B}} + {\\vphantom{\\dot{C}}}_{32}__\\m\n",
       "athcal{A}{\\dot{C}}__{\\mathcal{B}}⋅{}_{33}__\\mathcal{A}C__{\\mathcal{B}}, {\\vpha\n",
       "ntom{\\dot{C}}}_{13}__\\mathcal{A}{\\dot{C}}__{\\mathcal{B}}⋅{}_{11}__\\mathcal{A}C\n",
       "__{\\mathcal{B}} + {\\vphantom{\\dot{C}}}_{23}__\\mathcal{A}{\\dot{C}}__{\\mathcal{B\n",
       "}}⋅{}_{21}__\\mathcal{A}C__{\\mathcal{B}} + {\\vphantom{\\dot{C}}}_{33}__\\mathcal{\n",
       "A}{\\dot{C}}__{\\mathcal{B}}⋅{}_{31}__\\mathcal{A}C__{\\mathcal{B}}, {\\vphantom{\\d\n",
       "ot{C}}}_{11}__\\mathcal{A}{\\dot{C}}__{\\mathcal{B}}⋅{}_{12}__\\mathcal{A}C__{\\mat\n",
       "hcal{B}} + {\\vphantom{\\dot{C}}}_{21}__\\mathcal{A}{\\dot{C}}__{\\mathcal{B}}⋅{}_{\n",
       "22}__\\mathcal{A}C__{\\mathcal{B}} + {\\vphantom{\\dot{C}}}_{31}__\\mathcal{A}{\\dot\n",
       "{C}}__{\\mathcal{B}}⋅{}_{32}__\\mathcal{A}C__{\\mathcal{B}})"
      ]
     },
     "execution_count": 22,
     "metadata": {},
     "output_type": "execute_result"
    }
   ],
   "source": [
    "# Remember that while our fancyMat indexing is 1-based, the rest of python is 0-based\n",
    "# So the first row, third column entry (the positive omega_2 element) is matrix index [0,2]\n",
    "omega2 = omegatilde[0,2]\n",
    "omega3 = omegatilde[1,0]\n",
    "omega1 = omegatilde[2,1]\n",
    "omega1,omega2,omega3"
   ]
  },
  {
   "cell_type": "markdown",
   "id": "cfef2034-a535-4acd-874c-9a31036753f1",
   "metadata": {},
   "source": [
    "We can also look at the component for of our original definition of $\\dframerot{A}{B}$:"
   ]
  },
  {
   "cell_type": "code",
   "execution_count": 24,
   "id": "16157d78-e676-4950-9f08-ff6b5ca8f92e",
   "metadata": {},
   "outputs": [
    {
     "data": {
      "text/latex": [
       "$\\displaystyle \\left[\\begin{matrix}- \\omega_{2} {}^\\mathcal{A}C^{\\mathcal{B}}_{13} + \\omega_{3} {}^\\mathcal{A}C^{\\mathcal{B}}_{12} & \\omega_{1} {}^\\mathcal{A}C^{\\mathcal{B}}_{13} - \\omega_{3} {}^\\mathcal{A}C^{\\mathcal{B}}_{11} & - \\omega_{1} {}^\\mathcal{A}C^{\\mathcal{B}}_{12} + \\omega_{2} {}^\\mathcal{A}C^{\\mathcal{B}}_{11}\\\\- \\omega_{2} {}^\\mathcal{A}C^{\\mathcal{B}}_{23} + \\omega_{3} {}^\\mathcal{A}C^{\\mathcal{B}}_{22} & \\omega_{1} {}^\\mathcal{A}C^{\\mathcal{B}}_{23} - \\omega_{3} {}^\\mathcal{A}C^{\\mathcal{B}}_{21} & - \\omega_{1} {}^\\mathcal{A}C^{\\mathcal{B}}_{22} + \\omega_{2} {}^\\mathcal{A}C^{\\mathcal{B}}_{21}\\\\- \\omega_{2} {}^\\mathcal{A}C^{\\mathcal{B}}_{33} + \\omega_{3} {}^\\mathcal{A}C^{\\mathcal{B}}_{32} & \\omega_{1} {}^\\mathcal{A}C^{\\mathcal{B}}_{33} - \\omega_{3} {}^\\mathcal{A}C^{\\mathcal{B}}_{31} & - \\omega_{1} {}^\\mathcal{A}C^{\\mathcal{B}}_{32} + \\omega_{2} {}^\\mathcal{A}C^{\\mathcal{B}}_{31}\\end{matrix}\\right]$"
      ],
      "text/plain": [
       "⎡-ω₂⋅{}_{13}__\\mathcal{A}C__{\\mathcal{B}} + ω₃⋅{}_{12}__\\mathcal{A}C__{\\mathca\n",
       "⎢                                                                             \n",
       "⎢-ω₂⋅{}_{23}__\\mathcal{A}C__{\\mathcal{B}} + ω₃⋅{}_{22}__\\mathcal{A}C__{\\mathca\n",
       "⎢                                                                             \n",
       "⎣-ω₂⋅{}_{33}__\\mathcal{A}C__{\\mathcal{B}} + ω₃⋅{}_{32}__\\mathcal{A}C__{\\mathca\n",
       "\n",
       "l{B}}  ω₁⋅{}_{13}__\\mathcal{A}C__{\\mathcal{B}} - ω₃⋅{}_{11}__\\mathcal{A}C__{\\m\n",
       "                                                                              \n",
       "l{B}}  ω₁⋅{}_{23}__\\mathcal{A}C__{\\mathcal{B}} - ω₃⋅{}_{21}__\\mathcal{A}C__{\\m\n",
       "                                                                              \n",
       "l{B}}  ω₁⋅{}_{33}__\\mathcal{A}C__{\\mathcal{B}} - ω₃⋅{}_{31}__\\mathcal{A}C__{\\m\n",
       "\n",
       "athcal{B}}  -ω₁⋅{}_{12}__\\mathcal{A}C__{\\mathcal{B}} + ω₂⋅{}_{11}__\\mathcal{A}\n",
       "                                                                              \n",
       "athcal{B}}  -ω₁⋅{}_{22}__\\mathcal{A}C__{\\mathcal{B}} + ω₂⋅{}_{21}__\\mathcal{A}\n",
       "                                                                              \n",
       "athcal{B}}  -ω₁⋅{}_{32}__\\mathcal{A}C__{\\mathcal{B}} + ω₂⋅{}_{31}__\\mathcal{A}\n",
       "\n",
       "C__{\\mathcal{B}}⎤\n",
       "                ⎥\n",
       "C__{\\mathcal{B}}⎥\n",
       "                ⎥\n",
       "C__{\\mathcal{B}}⎦"
      ]
     },
     "execution_count": 24,
     "metadata": {},
     "output_type": "execute_result"
    }
   ],
   "source": [
    "w1,w2,w3 = symbols('omega_1,omega_2,omega_3')\n",
    "# This should give the derivative of the aCb DCM:\n",
    "aCb*skew([w1,w2,w3])"
   ]
  },
  {
   "cell_type": "markdown",
   "id": "faf4b73b-35cc-4cca-9f90-a34f85497a0a",
   "metadata": {},
   "source": [
    "The nine equations encoded in this matrix are collectively known as Poisson's Kinematic Equations (or Poisson's Kinematical Equations), named after French mathematician and engineer, Siméon Denis Poisson, who made some brilliant contributions in a wide variety of fields, and had an optical phenomenon named after him out of spite by the (then) future prime minister of France (look up Poisson's spot and marvel at the delightful absurdity of the history of science)."
   ]
  },
  {
   "cell_type": "code",
   "execution_count": null,
   "id": "43cd483e-f77c-4aad-9a61-81ceecd0704b",
   "metadata": {},
   "outputs": [],
   "source": []
  }
 ],
 "metadata": {
  "kernelspec": {
   "display_name": "Python 3 (ipykernel)",
   "language": "python",
   "name": "python3"
  },
  "language_info": {
   "codemirror_mode": {
    "name": "ipython",
    "version": 3
   },
   "file_extension": ".py",
   "mimetype": "text/x-python",
   "name": "python",
   "nbconvert_exporter": "python",
   "pygments_lexer": "ipython3",
   "version": "3.9.7"
  }
 },
 "nbformat": 4,
 "nbformat_minor": 5
}
