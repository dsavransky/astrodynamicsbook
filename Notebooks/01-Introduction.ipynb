{
 "cells": [
  {
   "cell_type": "markdown",
   "id": "d9c22713",
   "metadata": {},
   "source": [
    "# Introduction"
   ]
  },
  {
   "cell_type": "code",
   "execution_count": 1,
   "id": "0ed992f3",
   "metadata": {},
   "outputs": [
    {
     "data": {
      "text/markdown": [
       "$\n",
       "\\def\\bs{\\boldsymbol}\n",
       "\\def\\mf{\\mathbf}\n",
       "\\def\\mb{\\mathbb}\n",
       "\\def\\mc{\\mathcal}\n",
       "\\def\\rfr{\\mathcal}\n",
       "\\def\\grad{{\\rm grad}}\n",
       "\\def\\Re{{\\rm Re}}\n",
       "\\def\\Im{{\\rm Im}}\n",
       "\\def\\und{\\underline}\n",
       "\\def\\ovl{\\overline}\n",
       "\\def\\unb{\\underbrace}\n",
       "\\def\\Log{\\mbox{Log}}\n",
       "\\def\\bfomega{\\bs \\omega}\n",
       "\\def\\bfalpha{\\bs \\alpha}\n",
       "\\def\\da{\\triangleq}\n",
       "\\newcommand{\\leftexp}[2]{{\\vphantom{#2}}^{#1}\\!{#2}}\n",
       "\\newcommand{\\leftsub}[2]{{\\vphantom{#2}}_{#1}\\!{#2}}\n",
       "\\newcommand{\\omegarot}[2]{{\\leftexp{\\mathcal{#1}}{\\boldsymbol{\\omega}}^{\\mathcal{#2}}}}\n",
       "\\newcommand{\\alpharot}[2]{{\\leftexp{\\mathcal{#1}}{\\boldsymbol{\\alpha}}^{\\mathcal{#2}}}}\n",
       "\\newcommand{\\framerot}[2]{{\\leftexp{\\mathcal{#1}}{C}^{\\mathcal{#2}}}}\n",
       "\\newcommand{\\dframerot}[2]{\\ensuremath{\\vphantom{C}^{\\mathcal{#1}}\\!{\\dot C^{\\mathcal{#2}}}}}\n",
       "\\newcommand{\\bdot}[1]{\\dot{\\mathbf{#1}}}\n",
       "\\newcommand{\\bhat}[1]{\\hat{\\mathbf{#1}}}\n",
       "\\def\\iwb{\\omegarot{I}{B}}\n",
       "\\def\\iab{\\alpharot{I}{B}}\n",
       "\\def\\icb{\\framerot{I}{B}}\n",
       "\\def\\dif{\\mathop{}\\!\\mathrm{d}}\n",
       "\\newcommand{\\intd}[1]{\\dif#1}\n",
       "\\def\\dif{\\mathop{}\\!\\mathrm{d}}\n",
       "\\newcommand{\\intd}[1]{\\dif#1}\n",
       "\\newcommand{\\od}[3][]{{ \\frac{\\dif{^{#1}}#2}{\\dif{#3^{#1}}} }}\t\t\t\n",
       "\\newcommand{\\pd}[3][]{{ \\frac{\\partial{^{#1}}#2}{\\partial{#3^{#1}}} }}\t \n",
       "\\newcommand{\\md}[6]{{  \\frac{\\partial{^{#2}}#1}{\\partial{#3^{#4}}\\partial{#5^{#6}}} }}\n",
       "\\newcommand{\\fddt}[2][]{{  \\leftexp{\\mathcal{#2}}{\\frac{\\dif{#1}}{\\dif{t}}}  }}\n",
       "\\newcommand{\\fdddt}[2][]{{  \\leftexp{\\mathcal{#2}}{\\frac{\\dif{^{2}#1}}{\\dif{t^2}}}  }}\n",
       "\\newcommand{\\ddt}[1][]{\\fddt[#1]{I}}\n",
       "$\n"
      ],
      "text/plain": [
       "<IPython.core.display.Markdown object>"
      ]
     },
     "metadata": {},
     "output_type": "display_data"
    }
   ],
   "source": [
    "# These are helpful routines that will assist in building this book. \n",
    "# There is no output expected.\n",
    "from astrodynamicsbook.bookhelpers import *\n",
    "loadLatexPreamble()"
   ]
  },
  {
   "cell_type": "markdown",
   "id": "b331573b",
   "metadata": {},
   "source": [
    "This is a book that builds itself. Some parts are provided for you.  Some parts you will fill in. It is also an experiment. It is composed of markdown cells (like this one) that contain static content, and"
   ]
  },
  {
   "cell_type": "code",
   "execution_count": 2,
   "id": "3c9fdef5",
   "metadata": {},
   "outputs": [
    {
     "data": {
      "text/plain": [
       "4"
      ]
     },
     "execution_count": 2,
     "metadata": {},
     "output_type": "execute_result"
    }
   ],
   "source": [
    "# of code cells (like this one) that can be executed to produce outputs.\n",
    "# for example:\n",
    "2+2"
   ]
  },
  {
   "cell_type": "markdown",
   "id": "7ab67402",
   "metadata": {},
   "source": [
    "Both types of cells can be executed by hitting Shit+Enter.  Execution of markdown cells will typeset any rich content, but otherwise leave the cell unchanged.  Execution of code cells may produce new content. Markdown cells may be edited by double-clicking or hitting enter when they are selected. You can perform bulk operations on all cells in a given notebook via the Jupyter 'Cell' and 'Kernel' menus. In particular, the 'Run All' (in the Cell menu) and 'Restart and Run All' (in the Kernel menu) options may prove particularly useful.  Restarting the Kernel means clearing all defined variables and essentially starting from a clean slate."
   ]
  },
  {
   "cell_type": "markdown",
   "id": "fd5c4a97",
   "metadata": {},
   "source": [
    "## Classical Mechanics and Vectors"
   ]
  },
  {
   "cell_type": "markdown",
   "id": "19ae38ed",
   "metadata": {},
   "source": [
    "This is a book about Newtonian, or classical, mechanics. Since the early 20th century, thanks to the efforts of Josiah Willard Gibbs, the standard tools for studying classical mechanics are vector algebra and vector calculus.  The language of vectors is particularly well suited for this study because of the nature of Newton's laws. Let's remind ourselves of what these are: \n",
    "1. <span style=\"font-family: 'Brush Script MT', cursive; font-size: 2em\">Corpus omne perseverare in statu suo quiescendi vel movendi uniformiter in directum, nisi quatenus a viribus impressis cogitur statum illum mutare</span><br> Every body preserves in its state of rest, or of uniform motion in a right line, unless it is compelled to change that state by forces impressed thereon\n",
    "2. <span style=\"font-family: 'Brush Script MT', cursive; font-size: 2em\">Mutationem motus proportionalem esse vi motrici impressae; et fieri secundum lineam rectam qua vis illa imprimitur</span><br>\n",
    "The alteration of motion is ever proportional to the motive force impressed; and is made in the direction of the right line in which that force is impressed\n",
    "3.<span style=\"font-family: 'Brush Script MT', cursive; font-size: 2em\">Actioni contrariam semper et aequalem esse reactionem: sive corporum duorum actiones in se mutuo semper esse aequales et in partes contrarias dirigi</span><br>\n",
    "To every action there is always opposed an equal reaction; or the mutual actions of two bodies upon each other are always equal, and directed to contrary parts\n",
    "\n",
    "The key here is in the second law: \"proportional...in the direction\".  This law is describing a quantity that has **magnitude** and **direction**.  Mathematically, this type of object is a **vector**.  Because we live in a 3-dimensional universe (don't listen to what the physicists say - our daily perception of the world is strictly spatially 3D), the particular types of vectors we're interested in are called **Euclidean** or **geometric** vectors.  So, let's lay down some basic formalism about these objects.\n"
   ]
  },
  {
   "cell_type": "markdown",
   "id": "9bb78dcb",
   "metadata": {},
   "source": [
    "## Vectors and Vector Spaces"
   ]
  },
  {
   "cell_type": "markdown",
   "id": "b40d7364",
   "metadata": {},
   "source": [
    "A vector is an element of a vector space.  Great! What's a vector space?  A vector space is a collection of vectors.  This definition does not seem to be at all helpful, but such seemingly (and in some cases actually) circular definitions are how we build up a lot of mathematical formalism.  The key is to make the mathematical system self-consistent (and then, if we wish to use it for describing the physical world, to demonstrate that it applies to our model of the world).\n",
    "\n",
    "So, let's try again, with a bit more formality.  \n",
    "<div class=\"alert alert-block alert-info\">\n",
    "    A <b>vector space</b> ($V$) is a collection of vectors ($\\mf a, \\mf b, \\mf c \\ldots \\in V$) over a <b>field</b> of <b>scalars</b> ($x, y, z, \\ldots \\in \\mc F$), with two operators: <b>vector addition</b>\n",
    "    and <b>scalar multiplication</b>.\n",
    "</div>\n",
    "\n",
    "Phew.  A lot just happened in that box. Like, we're going to have to back up and provide ourselves with a bunch of additional definitions before we can move forward with this one.  That's ok, we just need to keep things straight. Simple things first: notation.\n",
    "\n",
    "- We will always typset scalars as unbolded, lowercase letters: $x,y,z$, etc.\n",
    "- We will always typset vectors as bolded, lowercase letters: $\\mf a, \\mf b, \\mf c$, etc.\n",
    "- $\\ldots$ means there's more of a set (or collection of things) we're not writing out explicitly.\n",
    "- $\\in$ means 'in' (as in, this thing or things to the left of the symbol are part of the collection or set or whatever to the right of the symbol.\n",
    "- $\\forall$ means 'for all'. We haven't used this one yet, but will shortly.\n",
    "- $\\exists$ means 'exists'.  We haven't used this one either, but will in a little bit.\n",
    "- s.t. means 'such that'. We haven't used this one...you get the idea.\n",
    "- $\\equiv$ means 'equivalent to' and $\\triangleq$ means 'defined as'.\n",
    "\n",
    "A **scalar** is a quantity that has only **magnitude**. It measures how much of something there is.  Whenever you hear scalar, you can just think 'number'.  A scalar can be an integer, it can be a real number, a complex number, and lots of other things.  The most general description of a scalar (just like our description above of a vector) is that it is an element of a **set** of scalar, called a **field**.  \n",
    "\n",
    "<div class=\"alert alert-block alert-info\">\n",
    "    A <b>field</b> ($\\mc F$) is a set of scalars ($x, y, z, \\ldots \\in \\mc F$), with two operators: <b>addition</b> and <b>multiplication</b>.\n",
    "</div>\n",
    "\n",
    "Both of these operators are formally **binary** operators - that is, they take two elements from the field, and produce a third (possibly different) element of that field. The standard way of expressing this looks something like $\\mc F \\times \\mc F \\rightarrow \\mc F$.  The $\\times$ symbol here represents either operator. Notationally, we will represent addition using the plus symbol (+) and multiplication by simply writing two scalars next to each other (i.e. $xy$ means $x$ multiplied by $y$).\n",
    "\n",
    "You are undoubtedly already familiar with multiplication and addition, but the operators here are a bit more general than the arithmetic ones we use day to day.  In fact, they are not even strictly defined.  Rather, these two operators are literally anything that obeys a specific set of rules, called **field axioms**. \n",
    "\n",
    "<div class=\"alert alert-block alert-info\">\n",
    "    <b>Field Axioms</b><br>\n",
    "    <ol>\n",
    "        <li>Addition and multiplication are both <b>associative</b>:<br> $\\forall x,y,z \\in \\mc F \\quad x + (y + z) = (x + y) + z$ and $x(yz) = (xy)z$.  </li>\n",
    "        <li>Addition and multiplication are both <b>commutative</b>:<br> $\\forall x,y,z \\in \\mc F \\quad  x + y = y + x$ and $xy = yx$.  </li>\n",
    "        <li>Every field contains two special elements, which we call 0 and 1.  0 is special because $x + 0 = x \\forall x \\in \\mc F$, and 1 is special because $1x = x \\forall x \\in \\mc F$.  0 is called the <b>additive identity</b> element and 1 is called the <b>multiplicative identity</b> element.</li>\n",
    "        <li>The existence of the identity elements requires the existence of <b>inverses</b>.  The <b>additive inverse</b> of $x$ is $-x$. Formally, $\\forall x \\in \\mc F \\quad \\exists -x \\quad \\mathrm {s.t.}\\quad x + -x = 0$<br>\n",
    "            The <b> multiplicative inverse</b> of $x$ is $x^{-1}$.  Formally, $\\forall x \\in \\mc F \\quad \\exists x^{-1} \\quad \\mathrm {s.t.}\\quad xx^{-1} = 1$\n",
    "        </li>\n",
    "        <li> Finally, addition is <b>distributive</b> over multiplication:<br> $\\forall x,y,z \\in \\mc F \\quad x (y + z) = xy + xz$   </li>\n",
    "    </ol>\n",
    "</div>\n",
    "\n",
    "Notice that all of these axioms match our understanding of the arithmetic addition and multiplication operators that we apply to real numbers.  The existence of the inverses explains why we only need two operators instead of the four we are taught in school.  Subtraction is just addition of the additive inverse of a number, while division is just multiplication by the multiplicative inverse of any number.  Positing these operators as anything following these rules gives us a lot of flexibility, and allows for the consideration of other fields in addition to the real numbers.  In the study of dynamics, the two most important fields are the **real** numbers, denoted by $\\mb R$ and the complex numbers, denoted by $\\mb C$.  \n",
    "\n",
    "Real numbers include absolutely any single number along the infinite number line, stretching from negative to positive infinity.  They include integers, rational numbers (ratios of integers) irrational numbers (things that cannot be expressed as ratios of integers, like $\\sqrt{3}$), transcendental numbers like $\\pi$, and so on.  The only thing not included in the set of reals are the imaginary numbers, which are any number that is a multiple of the square root of a negative ($i \\triangleq \\sqrt{-1}$). \n",
    "\n",
    "Complex numbers are pairs of real numbers, with a single complex number defined as $x + iy$ for $x,y \\in \\mb R$. The addition and multiplication operators have to be a bit different for complex numbers.\n",
    "\n",
    "<div class=\"alert alert-block alert-info\">\n",
    "If $c_1 = x + iy$ and $c_2 = u + iv$, then $c_1 + c_2 \\triangleq (x+u) + i(y+v)$ and $c_1c_2 \\triangleq (xu-yv) + i(xv+yu)$.\n",
    "</div>\n",
    "\n",
    "<div class=\"alert alert-block alert-warning\">\n",
    "<b>Exercise</b><br> Prove that the definitions of addition and multiplication of complex numbers obey all relevant field axioms.\n",
    "</div>\n",
    "\n",
    "\n",
    "<div class=\"alert alert-block alert-warning\">\n",
    "<b>Exercise</b><br> Identify the additive and multiplicative inverses and identity elements of the field of complex numbers.\n",
    "</div>\n",
    "\n",
    "All right. Back to vectors.  Remember vectors?  This is a section about vectors.  Vectors are elements of vector spaces, and we are now (finally) ready to fully state the definition of a vector space.\n",
    "\n",
    "<div class=\"alert alert-block alert-info\">\n",
    "    A <b>vector space</b> ($V$) is a collection of vectors ($\\mf a, \\mf b, \\mf c \\ldots \\in V$) over a <b>field</b> of <b>scalars</b> ($x, y, z, \\ldots \\in \\mc F$), with two operators: <b>vector addition</b> and <b>scalar multiplication</b> with the following properties:<br> \n",
    "<ol>\n",
    "<li> Commutativity of vector addition: $\\forall \\mf a, \\mf b \\in V: \\mf a+ \\mf b = \\mf b + \\mf a$</li>\n",
    "<li> Associativity of vector addition: $\\forall \\mf a, \\mf b,\\mf c \\in V: (\\mf a + \\mf b) + \\mf c =\\mf a + (\\mf b + \\mf c)$</li>\n",
    "<li> Identity element of vector addition: $\\exists \\mf 0 \\in V \\textrm{ s.t. } \\mf a + \\mf 0 = \\mf a \\,\\, \\forall \\mf a \\in V$</li>\n",
    "<li> Inverse elements of vector addition: $\\forall \\mf a \\in V \\,\\exists \\mf{-a} \\in V \\textrm{ s.t. } \\mf a + (\\mf{-a}) = \\mf 0$</li>\n",
    "<li> Compatibility of scalar multiplication: $\\forall x,y \\in \\mc F, \\, \\mf a \\in V: x(y\\mf a) = (xy)\\mf a$</li>\n",
    "<li> Distributivity of scalar multiplication over vector addition: $\\forall x \\in \\mc F, \\, \\mf a,\\mf b \\in V: x(\\mf a + \\mf b) = x\\mf a + x\\mf b$</li>\n",
    "<li> Distributivity of scalar multiplication over scalar addition: $\\forall x,y \\in \\mc F, \\, \\mf a \\in V: (x+y)\\mf a = x\\mf a + y\\mf a$</li>\n",
    "<li>  Identity element of scalar multiplication: $\\exists 1 \\in \\mc F \\textrm{ s.t. } 1\\mf a = \\mf a \\,\\, \\forall \\mf a \\in V$</li>\n",
    "</ol>\n",
    "</div>\n",
    "\n",
    "Key point: the vector space definition does **not** include a vector multiplication operator.  We can actually define multiple such operators, and they will each be useful in different ways, but we will have to do a bit more work to get to them."
   ]
  },
  {
   "cell_type": "markdown",
   "id": "0c3cb1f2",
   "metadata": {},
   "source": [
    "## Euclidean (Geometric) Vectors"
   ]
  },
  {
   "cell_type": "markdown",
   "id": "4306fe72",
   "metadata": {},
   "source": [
    "A Euclidean vector has a magnitude and a direction. We can think of a geometric position vector as pointing from a point $A$ to a point $B$ in 3D space.  We will call this vector $\\mf r_{B/A}$ (when spoken, we would say: \"r B rel A\"). The notation is intended to convey the idea of something pointing from the second subscript to the first subscript, or the idea that we are defining the position of $B$ relative to $A$. \n",
    "\n",
    "<div class=\"alert alert-block alert-danger\">\n",
    "Here's a thing: don't get hung up on notation.  Notation is there to help you, and not to be an extra cognitive burden.  We're going to be using some pretty ornate notation, which some people find onerous and inefficient.  I think it helps prevent mistakes.  You should develop a notation that makes sense to you, and then use it consistently.  One demand that you should make of your notational system is that you can always distinguish between a vector and a scalar.\n",
    "</div>\n",
    "\n",
    "![Euclidean Vectors](img/euclidean_vectors.png)"
   ]
  },
  {
   "cell_type": "markdown",
   "id": "bbc98d21",
   "metadata": {},
   "source": [
    "The position vector $\\mathbf r_{B/A}$ has a magnitude of the distance between points A and B and a direction pointing from A to B. The magnitude of a vector is given by the norm operator, as in $\\Vert \\mathbf r_{B/A} \\Vert$. This operation returns a *positive* scalar value.  The direction of a vector is given by its unit vector.  A unit vector is a vector with magnitude 1 --- a pure direction.  We denote it by putting a hat over a vector, such as $\\bhat{r}_{B/A}$.  Thus, I can always decompose a vector into the product of its magnitude and direction as: $$ \\mf r_{B/A} = \\Vert \\mathbf r_{B/A} \\Vert\\bhat{r}_{B/A}$$\n",
    "\n",
    "You can flip the direction of a vector by flipping the sign of its unit vector, which, in our notation would flip the order of my subscripts:\n",
    "$$ \\mf r_{A/B} = - \\mf r_{B/A} $$\n",
    "This is an expression of the existence of inverse elements.\n",
    "\n",
    "Geometric vectors are elements of the Euclidean (geometric) vector space (typically denoted by $\\mb R^3$) and therefore have vector addition and scalar multiplication operators.  Our notation helps with vector sums: if the interior indices of an addition match, they cancel out. So, for example:\n",
    "$$ \\mf r_{C/B} + \\mf r_{B/A} = \\mf r_{C/A}$$\n",
    "\n",
    "Inspecting the figure above, there's also a completely intuitive interpretation of this addition: traveling from $A$ to $B$ and then from $B$ to $C$ is the same as traveling from $A$ to $C$. Vector subtraction is understood via the additive inverse. We've already seen that flipping the direction of a vector (i.e., finding its additive inverse) flips the order of the subscripts.  We can use this to carry out subtraction operations:\n",
    "$$ \\mf r_{C/A} - \\mf r_{B/A} = \\mf r_{C/A} + (-\\mf r_{B/A}) = \\mf r_{C/A} + \\mf r_{A/B} = \\mf r_{C/B}$$\n",
    "Again, our intuitive understanding of what's happening is something like: going from $A to C$ and then backtracking from $B$ to $A$ is the same as going from $B$ to $A$.  There might be some confusion at this point, since if you draw out the words in the previous sentence you would end up at a point above $A$, at a height equal to $C$'s height above $B$.  That's ok - remember, a vector is a magnitude and direction --- the connecting two points in space is just a helpful way to think about it, but not its intrinsic definition.  Thus, if I draw a vector above $A$ that has the exact same direction and magnitude as $\\mf r_{C/B}$, then I've basically drawn $\\mf r_{C/B}$.  Hold on to this idea - we're going to use it again in a little bit.\n",
    "\n",
    "Finally, scalar multiplication should be interpreted as a change in vector magnitude with no change in direction.  Mathematically, we can interpret this via the compatibility of scalar multiplication:\n",
    "$$ x \\mf r_{B/A} = x\\left(\\Vert \\mathbf r_{B/A} \\Vert\\bhat{r}_{B/A}\\right) = \\left(x\\Vert \\mathbf r_{B/A} \\Vert\\right)\\bhat{r}_{B/A}$$\n",
    "The unit vector (and thus the direction) remains the same while the magnitude is scaled by the scalar multiplier. "
   ]
  },
  {
   "cell_type": "markdown",
   "id": "1ac649f0",
   "metadata": {},
   "source": [
    "## Vector Space Basis and Reference Frames"
   ]
  },
  {
   "cell_type": "markdown",
   "id": "29e6bd7a",
   "metadata": {},
   "source": [
    "The **basis** of a vector space is a **linearly independent** set of vectors **spanning** the vector space.\n",
    "\n",
    "<div class=\"alert alert-block alert-info\">\n",
    "    Define a set $S = \\{\\mf v_1, \\mf v_2, \\ldots, \\mf v_n\\}$ for $\\mf v_i \\in V$ where $V$ is a vector space of a field $\\mc F$.<br><br>\n",
    "    $S$ is <b>linearly independent</b> if $\\displaystyle \\sum_i a_i \\mf v_i = 0 \\Leftrightarrow a_i \\equiv 0 \\,\\, \\forall i, a_i \\in \\mc F$ <br>\n",
    "    $S$ <b>spans</b> $V$ if $\\exists \\, a_i \\in \\mc F$ such that $\\displaystyle \\mf b  = \\sum_i a_i \\mf v_i \\,\\, \\forall \\mf b \\in V$\n",
    "</div>\n",
    "\n",
    "What does any of this even mean?  The spanning part means that we can grab a subset of vectors from our vector space, and then express **every other vector in the space** as a linear combination of this set.  The fact that the set is itself linearly independent means that no element of the set can be replaced by a combination of the others.  Thus, a basis is a *minimal* spanning set, and represents the most efficient encoding of the vector space.  A key observation here is that basis sets are **not** unique: you can define an infinite number of equally valid basis sets for any vector space.\n",
    "\n",
    "Ok, that's kind of cool and all, but what does this have to do with dynamics?  A basis of a Euclidean space is a **reference frame**!\n",
    "<img src=\"img/reference_frame.png\" alt=\"Reference Frame\" width=\"350\"/>\n"
   ]
  },
  {
   "cell_type": "markdown",
   "id": "d70fccaf",
   "metadata": {},
   "source": [
    "A reference frame is how we measure space.  It can be thought of as a rigid structure, and, in fact, every rigid body is equivalent to a reference frame (much more on this much later). Because we are trying to span the $\\mb R^3$ vector space, we need three basis elements. We won't go into the proof of this here, but take it as a postulate. Multiple proofs of this assertion are possible, but require setting up some additional mathematical machinery that we won't really need. The three basis elements are linearly independent unit vectors, which makes them mutually orthogonal.  We'll get to an exact definition of orthogonality in a little bit, but conceptually, this means that each of the unit vectors defining the reference frame is rotated exactly 90 degrees from the other two, as in the figure, above. \n",
    "\n",
    "Let's recall the utility of a basis set: it allows us to encode all elements of a vector space as weighted sums of elements of the basis, and this is exactly what a reference frame does for us.  By defining a reference frame, we can write any geometric vector as a sum of its **components**. So, as in the figure above, once I have defined a reference frame $\\mc I$ with mutually orthogonal unit directions $\\bhat e_1, \\bhat e_2, \\bhat e_3$, the position of point $P$ with respect to point $O$ can be expressed as the weighted sum:\n",
    "$$\\mf r_{P/O} = x_1 \\bhat{e}_1 +  x_2 \\bhat{e}_2 + x_3 \\bhat{e}_3$$\n",
    "The component weights ($x_1$, $x_2$, and $x_3$) are sometimes referred to as the **measure numbers** of the vector in the particular reference frame being used. \n",
    "\n",
    "At some point in your life, someone may have told you that a geometric vector was a list (or array) of three scalar values.  That person was lying to you.  You should find them, and make them ashamed.  The array of three scalars represents the components of a vector in a particular reference frames.  Euclidean vectors by themselves are purely geometric objects - they exist and are fully defined in the absence of any reference frame definition.  However, once we have defined a reference frame, it is frequently convenient to express our vectors in its components.  When we do this, we must be careful to never lose sight of which frame (or frames) we're working with.  One notational solution would be to always write out the full summation including the unit vectors, as in the equation above, but this is cumbersome.  Instead, we'll introduce a new notational convention to help us along. For any vector $\\mf r$, we will denote its components in a frame $\\mc I$ as $\\left[\\mf r \\right]_\\mc I$.  The square brackets remind us that the component representation is a list of scalars, which we choose (for reasons that will become clearer momentarily) to describe as an array.  The right subscript reminds us of the frame these components belong to.\n",
    "\n",
    "So, with this new notation, the previous equation becomes:\n",
    "$$\\left[\\mf r_{P/O} \\right]_\\mc I = \\begin{bmatrix} x_1 \\\\ x_2 \\\\ x_3 \\end{bmatrix}_\\mc I$$\n",
    "Notice two things: first, there is an implicit order of the frame unit vectors (such that the component $x_1$ corresponds to direction $\\bhat{e}_1$, etc.).  This means that it is crucial to state your frame unit vector order when you define it.  In this case, we can state that $\\mc I= \\left(\\bhat{e}_1, \\bhat{e}_2, \\bhat{e}_3\\right)$. Second, note that we have written the component array as a column matrix (as opposed to a row matrix). Our convention will be to *always* express component arrays as column matrices (again, there's a specific reason for this that will be revealed in a little bit). "
   ]
  },
  {
   "cell_type": "code",
   "execution_count": 3,
   "id": "e7f2019f",
   "metadata": {},
   "outputs": [],
   "source": [
    "# oh wow. we've reached our first real code block.  I'm really excited.\n",
    "# we're going to introduct the mat2vec command.  This is just a utility \n",
    "# for converting matrices of components into vector expressions in our notation\n",
    "# you can always get information about a method by using the ? command.\n",
    "# here - try it out (hit Shift+Enter):\n",
    "mat2vec?"
   ]
  },
  {
   "cell_type": "code",
   "execution_count": 6,
   "id": "5fddcada",
   "metadata": {},
   "outputs": [
    {
     "data": {
      "text/latex": [
       "$\\displaystyle x_{1} \\mathbf{\\hat{e}}_1 + x_{2} \\mathbf{\\hat{e}}_2 + x_{3} \\mathbf{\\hat{e}}_3$"
      ],
      "text/plain": [
       "x_1*\\mathbf{\\hat{e}}_1 + x_2*\\mathbf{\\hat{e}}_2 + x_3*\\mathbf{\\hat{e}}_3"
      ]
     },
     "execution_count": 6,
     "metadata": {},
     "output_type": "execute_result"
    }
   ],
   "source": [
    "# ok, now let's try to reproduce what we saw above.\n",
    "# we'll use the Matrix command to create a matrix of components, \n",
    "# which we'll first define as symbols, and then mat2vec them into \n",
    "# our reference frame\n",
    "x1,x2,x3 = symbols('x_1,x_2,x_3') \n",
    "#notice that the variable names don't have to match their string definitions\n",
    "r_PO_I = Matrix([x1,x2,x3])\n",
    "#for code, we'll use a flattened notation that mimics the mathmod one, but omits\n",
    "#brackets and other such stuff\n",
    "mat2vec(r_PO_I)"
   ]
  },
  {
   "cell_type": "markdown",
   "id": "1a1b1486",
   "metadata": {},
   "source": [
    "Aaaahhhh. did you see that? It worked, it worked! Your turn.  Show me the same thing,\n",
    "but with $\\mf r_{P/O} = (a+b) \\bhat{e}_1 +  (b+c) \\bhat{e}_2 + (c+d) \\bhat{e}_3$.  How about $\\mf r_{P/O} = x \\bhat{i} +  y \\bhat{j} + z \\bhat{k}$?"
   ]
  },
  {
   "cell_type": "code",
   "execution_count": 7,
   "id": "04d9d1b2",
   "metadata": {},
   "outputs": [],
   "source": [
    "#this space for you to play with mat2vec. You will need to define some additional symbols\n",
    "#and possibly look at the docstring (mat2vec?, above) again.\n",
    "\n"
   ]
  },
  {
   "cell_type": "markdown",
   "id": "36cb8b97",
   "metadata": {},
   "source": [
    "<div class=\"alert alert-block alert-danger\">\n",
    "Remember how I said not to get hung up on notation?  Yeah, don't.  We'll mostly be using the $\\bhat{e}$ with subscript notation for our reference frame components.  If you like $\\bhat{i}, \\bhat{j}, \\bhat{k}$, etc. better, 100% go with that.\n",
    "</div>"
   ]
  },
  {
   "cell_type": "code",
   "execution_count": null,
   "id": "86edc2e1",
   "metadata": {},
   "outputs": [],
   "source": []
  }
 ],
 "metadata": {
  "kernelspec": {
   "display_name": "Python 3 (ipykernel)",
   "language": "python",
   "name": "python3"
  },
  "language_info": {
   "codemirror_mode": {
    "name": "ipython",
    "version": 3
   },
   "file_extension": ".py",
   "mimetype": "text/x-python",
   "name": "python",
   "nbconvert_exporter": "python",
   "pygments_lexer": "ipython3",
   "version": "3.9.7"
  }
 },
 "nbformat": 4,
 "nbformat_minor": 5
}
