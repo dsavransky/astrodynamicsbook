{
 "cells": [
  {
   "cell_type": "code",
   "execution_count": 1,
   "id": "c1605549-9fc7-4fd6-a05e-6550ceb3c047",
   "metadata": {},
   "outputs": [
    {
     "data": {
      "text/markdown": [
       "$\n",
       "\\def\\bs{\\boldsymbol}\n",
       "\\def\\mf{\\mathbf}\n",
       "\\def\\mb{\\mathbb}\n",
       "\\def\\mc{\\mathcal}\n",
       "\\def\\rfr{\\mathcal}\n",
       "\\def\\grad{{\\rm grad}}\n",
       "\\def\\Re{{\\rm Re}}\n",
       "\\def\\Im{{\\rm Im}}\n",
       "\\def\\und{\\underline}\n",
       "\\def\\ovl{\\overline}\n",
       "\\def\\unb{\\underbrace}\n",
       "\\def\\Log{\\mbox{Log}}\n",
       "\\def\\bfomega{\\bs \\omega}\n",
       "\\def\\bfalpha{\\bs \\alpha}\n",
       "\\def\\da{\\triangleq}\n",
       "\\newcommand{\\leftexp}[2]{{\\vphantom{#2}}^{#1}\\!{#2}}\n",
       "\\newcommand{\\leftsub}[2]{{\\vphantom{#2}}_{#1}\\!{#2}}\n",
       "\\newcommand{\\omegarot}[2]{{\\leftexp{\\mathcal{#1}}{\\boldsymbol{\\omega}}^{\\mathcal{#2}}}}\n",
       "\\newcommand{\\alpharot}[2]{{\\leftexp{\\mathcal{#1}}{\\boldsymbol{\\alpha}}^{\\mathcal{#2}}}}\n",
       "\\newcommand{\\framerot}[2]{{\\leftexp{\\mathcal{#1}}{C}^{\\mathcal{#2}}}}\n",
       "\\newcommand{\\dframerot}[2]{{\\vphantom{\\dot{C}}^{\\mathcal{#1}}\\!{\\dot{C}^{\\mathcal{#2}}}}}\n",
       "\\newcommand{\\bdot}[1]{\\dot{\\mathbf{#1}}}\n",
       "\\newcommand{\\bhat}[1]{\\hat{\\mathbf{#1}}}\n",
       "\\newcommand{\\mbhat}[1]{\\hat{\\mathbb{#1}}}\n",
       "\\def\\iwb{\\omegarot{I}{B}}\n",
       "\\def\\iab{\\alpharot{I}{B}}\n",
       "\\def\\icb{\\framerot{I}{B}}\n",
       "\\def\\dif{\\mathop{}\\!\\mathrm{d}}\n",
       "\\newcommand{\\intd}[1]{\\dif#1}\n",
       "\\newcommand{\\od}[3][]{{ \\frac{\\dif{^{#1}}#2}{\\dif{#3^{#1}}} }}\t\t\t\n",
       "\\newcommand{\\pd}[3][]{{ \\frac{\\partial{^{#1}}#2}{\\partial{#3^{#1}}} }}\t \n",
       "\\newcommand{\\md}[6]{{  \\frac{\\partial{^{#2}}#1}{\\partial{#3^{#4}}\\partial{#5^{#6}}} }}\n",
       "\\newcommand{\\fddt}[2][]{{  \\leftexp{\\mathcal{#2}}{\\frac{\\dif{#1}}{\\dif{t}}}  }}\n",
       "\\newcommand{\\fdddt}[2][]{{  \\leftexp{\\mathcal{#2}}{\\frac{\\dif{^{2}#1}}{\\dif{t^2}}}  }}\n",
       "\\newcommand{\\ddt}[1][]{\\fddt[#1]{I}}\n",
       "$\n"
      ],
      "text/plain": [
       "<IPython.core.display.Markdown object>"
      ]
     },
     "metadata": {},
     "output_type": "display_data"
    },
    {
     "data": {
      "text/markdown": [
       "# [Previous](<12-Keplers Laws.ipynb>)"
      ],
      "text/plain": [
       "<IPython.core.display.Markdown object>"
      ]
     },
     "metadata": {},
     "output_type": "display_data"
    }
   ],
   "source": [
    "# These are helpful routines that will assist in building this book. \n",
    "# You should run this block before anything else. There is no output expected.\n",
    "from astrodynamicsbook.bookhelpers import *\n",
    "loadLatexPreamble()\n",
    "\n",
    "# This is only here to create the navigation link:\n",
    "genPrevLink()"
   ]
  },
  {
   "cell_type": "markdown",
   "id": "af547cda-b96c-43af-bb66-734a660e4bc9",
   "metadata": {},
   "source": [
    "# The Perifocal Frame\n",
    "\n",
    "Recall that the two-body problem is a [central force problem](<08-Angular Momentum.ipynb#Central-Force-Problems>) with two conserved vector quantities: the [specific angular momentum and the eccentricity vector](<11-Gravity.ipynb#Specific-Angular-Momentum>).  All orbital motion occurs in the plane orthogonal to the specific angular momentum, and the eccentricity vector also lies within this plane, which we will henceforth call the **perifocal plane**.  Thus, $\\mf e$ and $\\mf h$  are orthogonal, and if we introduce a third mutually orthogonal direction $\\bhat q \\triangleq \\bhat h \\times \\bhat e$ then we can define a hugely useful reference frame:\n",
    "\n",
    "<div class=\"alert alert-block alert-info\">\n",
    "    The <b>perifocal frame</b>: \n",
    "    $$\\mc P = (\\bhat{e}, \\bhat{q}, \\bhat{h})$$\n",
    "    </div>\n",
    "    \n",
    "<div class=\"alert alert-block alert-danger\">\n",
    "Note how we've omitted any coordinate origin in our frame definition.  This is intentional, so as to avoid much tedious arguing about whether or not the perifocal frame is inertial.  It is.  Two of the defining unit directions are inertially fixed ($\\bhat e$ and $\\bhat{h}$) which means that the frame has zero angular velocity in any inertial frame.  Some conventions will place the coordinate origin of this frame at the location of the central body of the two-body orbit, and because this point has a non-zero inertial acceleration, this tends to lead to much argument and general brouhaha. And it is all entirely pointless - for our purposes, only the unit directions matter, and these are fixed within any inertial frame, and thus, the perifocal frame is inertial. If you absolutely must assign the perifocal frame a coordinate origin and cannot bear to use the location of the central body, just set it to be the barycenter of the two bodies. Basta!\n",
    "    </div>"
   ]
  },
  {
   "cell_type": "markdown",
   "id": "dbe6a295-bd98-41a0-99f5-50f8e5d576a8",
   "metadata": {},
   "source": [
    "Thanks to [Kepler's first law](<12-Keplers Laws.ipynb#Kepler's-First-Law>) we know that all two-body orbits are conic sections with the central body lying at one focus, and thus we can write the position of the orbiting body (what we've been calling the [orbital radius vector](<11-Gravity.ipynb#The-Two-Body-Problem>) in components of the perifocal frame as:\n",
    "$$ \\mf r = r\\cos(\\nu) \\bhat{e} + r\\sin(\\nu) \\bhat{q}$$\n",
    "\n",
    "$r$ and $\\nu$ are always the polar coordinates of the orbital radius vector in the perifocal frame for any orbit representing any type of conic section.\n",
    "\n",
    "We can similarly write the orbital velocity vector in components of this frame by directly differentiating the expression above:\n",
    "$$ \\mf v = \\fddt{I} \\mf r \\equiv \\fddt{P} \\mf r = \\left[ \\dot r\\cos(\\nu) - r\\dot\\nu\\sin(\\nu)\\right]\\hat{\\mf e} + \\left[\\dot r\\sin(\\nu) + r\\dot\\nu\\cos(\\nu)\\right]\\hat{\\mf{q}}$$\n",
    "\n",
    "We can simplify things a bit by solving for $\\dot r$ and $\\dot \\nu$ in terms of other known quantities.  Starting with $\\dot r$, we can take the scalar time derivative of the previously derived conic section expression:"
   ]
  },
  {
   "cell_type": "code",
   "execution_count": 2,
   "id": "35c9a8ab-0465-4d7b-a6f9-a35bd7ecf316",
   "metadata": {},
   "outputs": [
    {
     "data": {
      "image/png": "[encoded data removed]",
      "text/latex": [
       "$\\displaystyle \\frac{e \\dot{\\nu} r \\sin{\\left(\\nu \\right)}}{e \\cos{\\left(\\nu \\right)} + 1}$"
      ],
      "text/plain": [
       "e⋅ν̇⋅r⋅sin(ν)\n",
       "────────────\n",
       "e⋅cos(ν) + 1"
      ]
     },
     "execution_count": 2,
     "metadata": {},
     "output_type": "execute_result"
    }
   ],
   "source": [
    "# First we set things up\n",
    "h,mu,e,nu,nud,t,r,rd = symbols(\"h,mu,e,nu,nudot,t,r,rdot\", real=True, positive=True)\n",
    "rmag = (h**2/mu)/(1+e*cos(nu))\n",
    "diffmap = {nu:nud,r:rd}\n",
    "# Now we differentiate in time\n",
    "dr = difftotal(rmag,t,diffmap)\n",
    "# Now we subsitute in the original expression for r\n",
    "dr = dr.subs(rmag,r)\n",
    "dr"
   ]
  },
  {
   "cell_type": "markdown",
   "id": "143a360b-94d2-48ed-b7b5-60f99b7bad9a",
   "metadata": {},
   "source": [
    "We thus have:\n",
    "$$\\dot r = r\\dot\\nu \\frac{e \\sin{\\left(\\nu \\right)}}{1+ e \\cos{\\left(\\nu \\right)}}$$\n",
    "\n",
    "Next, recalling that $h = \\Vert \\mf h \\Vert = \\Vert \\mf r \\times \\mf v \\Vert$, we can substitute in the component forms of the orbital radius and velocity vectors to find:"
   ]
  },
  {
   "cell_type": "code",
   "execution_count": 3,
   "id": "74c458c2-d11b-4680-a810-064abfa5b147",
   "metadata": {},
   "outputs": [
    {
     "data": {
      "image/png": "[encoded data removed]",
      "text/latex": [
       "$\\displaystyle \\dot{\\nu} r^{2}$"
      ],
      "text/plain": [
       "   2\n",
       "ν̇⋅r "
      ]
     },
     "execution_count": 3,
     "metadata": {},
     "output_type": "execute_result"
    }
   ],
   "source": [
    "# Remember that component matrices of Euclidean vectors must be 3x1\n",
    "rvec = Matrix([r*cos(nu),r*sin(nu),0])\n",
    "vvec = difftotalmat(rvec,t,diffmap)\n",
    "hvec = rvec.cross(vvec)\n",
    "hmag = simplify(sqrt(hvec.dot(hvec)))\n",
    "hmag"
   ]
  },
  {
   "cell_type": "markdown",
   "id": "41e37bfe-804c-46ff-87a2-cdd33975296b",
   "metadata": {},
   "source": [
    "We have thus shown that $h = \\dot \\nu r^2$. Neat!  Plugging all of this back into the orbital velocity vector expression we started from, we have:"
   ]
  },
  {
   "cell_type": "code",
   "execution_count": 4,
   "id": "a69e4cea-5956-4c9c-9618-8fd0bfb4529d",
   "metadata": {},
   "outputs": [
    {
     "data": {
      "text/latex": [
       "$\\displaystyle \\left[\\begin{matrix}- \\frac{\\mu \\sin{\\left(\\nu \\right)}}{h}\\\\\\frac{\\mu \\left(e + \\cos{\\left(\\nu \\right)}\\right)}{h}\\\\0\\end{matrix}\\right]$"
      ],
      "text/plain": [
       "⎡  -μ⋅sin(ν)   ⎤\n",
       "⎢  ──────────  ⎥\n",
       "⎢      h       ⎥\n",
       "⎢              ⎥\n",
       "⎢μ⋅(e + cos(ν))⎥\n",
       "⎢──────────────⎥\n",
       "⎢      h       ⎥\n",
       "⎢              ⎥\n",
       "⎣      0       ⎦"
      ]
     },
     "execution_count": 4,
     "metadata": {},
     "output_type": "execute_result"
    }
   ],
   "source": [
    "simplify(vvec.subs(rd,dr).subs(nud,h/r**2).subs(r,rmag))"
   ]
  },
  {
   "cell_type": "markdown",
   "id": "1c9ad777-2706-4a2d-939e-c5ef1b1f88f8",
   "metadata": {},
   "source": [
    "Summing up, we now have:\n",
    "\n",
    "<div class=\"alert alert-block alert-info\">\n",
    "$$ \\mf r = r\\cos(\\nu) \\bhat{e} + r\\sin(\\nu) \\bhat{q}$$\n",
    "$$ \\mf v = \\frac{\\mu}{h}\\left[ -\\sin(\\nu) \\bhat{e} + (e + \\cos(\\nu)) \\bhat{q}\\right]$$\n",
    "    $$ h = r^2\\dot\\nu$$\n",
    "    </div>\n",
    "\n",
    "These are *hugely* useful expressions that we'll come back to again and again."
   ]
  },
  {
   "cell_type": "markdown",
   "id": "9de44aa4-a4b2-486b-bc75-38862763dadf",
   "metadata": {},
   "source": [
    "# Turning Points\n",
    "\n",
    "In general, the angle between $\\mf r$ and $\\mf v$ is entirely arbitrary, but there exist special points in all orbits, called **turning points**, at which these two vectors will be orthogonal. Turning points occur when the orbital radius vector is parallel (or anti-parallel) to the eccentricity vector.  **Closed orbits** (ellipses) will have two turning points, while **open orbits** (parabolae and hyperbolae) will have only one turning point.  Circles, which in most cases can be treated as a special case of ellipse, are actually a bit different, in that, depending on how you think about it, either every point on a circular orbit is a turning point or there are no turning points.  Since a circle has zero eccentricity, the eccentricity vector is not well defined (it has zero magnitude and no fixed direction - something we'll come back to in a bit).  As such, there are no particular points on a circular orbit where we can say that the radius vector is aligned with the eccentricity vector.  On the other hand, the orbital radius and velocity vectors are mutually orthogonal at all points on a circular orbit.  We can see this by evaluating the unit vectors associated with each for the case where $e = 0$:\n",
    "$$\\bhat{r}_\\textrm{circ} = \\cos(\\nu) \\bhat{e} + \\sin(\\nu) \\bhat{q}$$\n",
    "$$\\bhat{v}_\\textrm{circ} = -\\sin(\\nu) \\bhat{e} + \\cos(\\nu)\\bhat{q}$$\n",
    "\n",
    "Dotting the two together, we get: $-\\cos(\\nu)\\sin(\\nu) + \\sin(\\nu)\\cos(\\nu) = 0$, proving their orthogonality to one another.\n",
    "\n",
    "<div class=\"alert alert-block alert-danger\">\n",
    "    Let's just get this out of the way: circular orbits are <b>boring</b>. As we progress in our understanding of two-body orbits and their propagation, we'll find, time and again, that things work out very simply in cases of circular orbits as compared with ellipses and hyperbolae.  This, and the fact that lots of natural bodies and spacecraft reside on circular or near-circular orbits, makes them highly useful.  But <i>boring</i>.\n",
    "    </div>"
   ]
  },
  {
   "cell_type": "markdown",
   "id": "ba7e0f4b-adbc-4b8c-8d76-2076aa330595",
   "metadata": {},
   "source": [
    "Returning to the general case where the eccentricity vector is well-defined, let's start again with our assertion that turning points are equivalent to the orbital radius being parallel to $\\mf e$.  We denote the orbital radius and velocity vectors at the turning points by $\\mf r_t$ and $\\mf v_t$, respectively, and write: $\\mf r_t \\parallel \\mf e$. Recall from our [original derivation of the eccentricity vector](<11-Gravity.ipynb#The-Eccentricity-Vector>), we found:\n",
    "$$\\mf e = \\frac{\\mf v  \\times \\mf h}{\\mu} - \\bhat r $$\n",
    "Substituting in $\\mf h = \\mf r \\times \\mf v$ and applying the [vector triple product](<02-Vector Products.ipynb#Vector-Triple-Product>), we get:\n",
    "$$\\mf e = \\frac{1}{\\mu}\\left( \\mf r\\left(\\mf v \\cdot \\mf v\\right) - \\mf v\\left(\\mf r \\cdot \\mf v\\right)\\right) - \\frac{\\mf r}{r} = \\frac{1}{\\mu}\\left(v^2 - \\frac{\\mu}{r}\\right)\\mf r - \\frac{\\mf r \\cdot \\mf v}{\\mu}\\mf v$$\n",
    "where $v \\triangleq \\Vert \\mf v\\Vert$ is the orbital velocity magnitude, or **orbital speed**.  We have therefore shown that the eccentricity vector can always be expressed as a weighted sum of the orbital radius and velocity vectors.  However, in the non-trivial case of non-zero orbital velocity, for a turning point where the orbital radius and eccentricity vector are parallel, the component of the eccentricity vector in the velocity vector must be zero.  Or, equivalently, we have found that:\n",
    "$$ \\mf r_t \\cdot \\mf v_t = 0$$\n",
    "confirming that at turning points the orbital radius and velocity vectors are orthogonal.\n",
    "\n",
    "We can also compute the magnitudes of the two vectors at the turning points.  For the velocity vector, we rewrite the eccentricity vector expression as:\n",
    "$$\\frac{\\mf v  \\times \\mf h}{\\mu} = \\mf e + \\bhat{r}$$\n",
    "and cross both sides with $\\bhat{h}$ to find:\n",
    "$$\\frac{\\mf h}{h} \\times \\frac{\\mf v  \\times \\mf h}{\\mu}  =  \\underbrace{\\left(\\mf h \\cdot \\mf h\\right)}_{\\displaystyle \\equiv h^2}\\frac{\\mf v}{h\\mu} - \\underbrace{\\left(\\mf h \\cdot \\mf v\\right)}_{\\displaystyle \\equiv 0}\\frac{\\mf h}{h\\mu} =  \\frac{\\mf h}{h} \\times \\left(\\mf{e} + \\bhat{r}\\right)$$\n",
    "where we have once again applied the vector triple product to the left-hand side and noted that $\\mf h$ and $\\mf v$ are orthogonal. We can thus write the orbital velocity vector as:\n",
    "\n",
    "<div class=\"alert alert-block alert-info\">\n",
    "$$ \\mf v = \\frac{\\mu}{h} \\left(  \\bhat{h} \\times \\left(\\mf{e} + \\bhat{r}\\right) \\right) $$\n",
    "</div>\n",
    "\n",
    "Yes, this is sufficiently useful to warrant its own blue box.  Don't be like that.  Returning to the specific case of turning points, we note that $\\bhat{r}_t \\equiv \\pm\\bhat{e}$ (the $\\pm$ due to the fact that the two vectors can be parallel or anti-parallel) and that we can always write $\\mf e = e \\bhat{e}$, we find:\n",
    "$$\\mf v_t = \\frac{\\mu}{h} \\left( \\bhat{h} \\times \\left(e\\bhat{e} \\pm \\bhat{e}\\right) \\right) = \\frac{\\mu}{h}(e \\pm 1) \\underbrace{\\bhat{h}\\times \\bhat{e}}_{\\displaystyle\\equiv \\bhat{q}}$$\n",
    "\n",
    "This again confirms that $\\mf r_t \\perp \\mf v_t$ (since $\\bhat{q}$ is orthogonal to $\\bhat{e}$), but much more interestingly, by comparing this expression to the general velocity vector written in components of the perifocal frame, we see that the turning points must occur with $\\nu = 0,\\pi$ (these are the only locations where $\\sin(\\nu) = 0$ and there is no component in the $\\bhat{e}$ direction.  As you've probably already noticed, the turning points are the [apsides](<12-Keplers Laws.ipynb#Apsides>)!\n",
    "\n",
    "This is easily confirmed by the geometry of our orbits and the conic section solution for the orbital radius magnitude.  Remember that $\\nu$ is the angle between $\\mf r$ and $\\mf e$, meaning that $\\mf r_t \\parallel \\mf e$ requires $\\nu_t = 0,\\pi$. The orbital radius at these points evaluates to:\n",
    "$$r_t = \\frac{\\ell}{1 \\pm e}$$\n",
    "Since the semi-parameter is a constant, these two points correspond to the maximum and minimum separations between the two bodies.  In the case of open orbits, only the periapsis lies on the orbit, as the apoapsis lies at infinity. \n",
    "\n",
    "<div class=\"alert alert-block alert-danger\">\n",
    "    This does not mean, however, that a body on an open orbit must necessarily cross periapsis.  If the body was injected onto the orbit <i>after</i> the periapsis point (as in the case of a maneuvering spacecraft or a natural body whose orbit is being modified by some external forces), then it will simply continue receeding from the central body for all time (or until the orbit is modified again).\n",
    "    </div>"
   ]
  },
  {
   "cell_type": "code",
   "execution_count": 12,
   "id": "eeb592d7-4860-40b6-8eea-df64cc31284f",
   "metadata": {},
   "outputs": [
    {
     "data": {
      "text/markdown": [
       "# [Next](<14-Keplers Laws Continued.ipynb>)"
      ],
      "text/plain": [
       "<IPython.core.display.Markdown object>"
      ]
     },
     "metadata": {},
     "output_type": "display_data"
    }
   ],
   "source": [
    "# This is just here to generate the link to the next notebook\n",
    "genNextLink()"
   ]
  }
 ],
 "metadata": {
  "kernelspec": {
   "display_name": "Python 3 (ipykernel)",
   "language": "python",
   "name": "python3"
  },
  "language_info": {
   "codemirror_mode": {
    "name": "ipython",
    "version": 3
   },
   "file_extension": ".py",
   "mimetype": "text/x-python",
   "name": "python",
   "nbconvert_exporter": "python",
   "pygments_lexer": "ipython3",
   "version": "3.9.13"
  }
 },
 "nbformat": 4,
 "nbformat_minor": 5
}
