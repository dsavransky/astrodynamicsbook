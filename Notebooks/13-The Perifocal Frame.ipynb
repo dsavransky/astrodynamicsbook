{
 "cells": [
  {
   "cell_type": "code",
   "execution_count": 1,
   "id": "c1605549-9fc7-4fd6-a05e-6550ceb3c047",
   "metadata": {},
   "outputs": [
    {
     "data": {
      "text/markdown": [
       "$\n",
       "\\def\\bs{\\boldsymbol}\n",
       "\\def\\mf{\\mathbf}\n",
       "\\def\\mb{\\mathbb}\n",
       "\\def\\mc{\\mathcal}\n",
       "\\def\\rfr{\\mathcal}\n",
       "\\def\\grad{{\\rm grad}}\n",
       "\\def\\Re{{\\rm Re}}\n",
       "\\def\\Im{{\\rm Im}}\n",
       "\\def\\und{\\underline}\n",
       "\\def\\ovl{\\overline}\n",
       "\\def\\unb{\\underbrace}\n",
       "\\def\\Log{\\mbox{Log}}\n",
       "\\def\\bfomega{\\bs \\omega}\n",
       "\\def\\bfalpha{\\bs \\alpha}\n",
       "\\def\\da{\\triangleq}\n",
       "\\newcommand{\\leftexp}[2]{{\\vphantom{#2}}^{#1}\\!{#2}}\n",
       "\\newcommand{\\leftsub}[2]{{\\vphantom{#2}}_{#1}\\!{#2}}\n",
       "\\newcommand{\\omegarot}[2]{{\\leftexp{\\mathcal{#1}}{\\boldsymbol{\\omega}}^{\\mathcal{#2}}}}\n",
       "\\newcommand{\\alpharot}[2]{{\\leftexp{\\mathcal{#1}}{\\boldsymbol{\\alpha}}^{\\mathcal{#2}}}}\n",
       "\\newcommand{\\framerot}[2]{{\\leftexp{\\mathcal{#1}}{C}^{\\mathcal{#2}}}}\n",
       "\\newcommand{\\dframerot}[2]{{\\vphantom{\\dot{C}}^{\\mathcal{#1}}\\!{\\dot{C}^{\\mathcal{#2}}}}}\n",
       "\\newcommand{\\bdot}[1]{\\dot{\\mathbf{#1}}}\n",
       "\\newcommand{\\bhat}[1]{\\hat{\\mathbf{#1}}}\n",
       "\\newcommand{\\mbhat}[1]{\\hat{\\mathbb{#1}}}\n",
       "\\def\\iwb{\\omegarot{I}{B}}\n",
       "\\def\\iab{\\alpharot{I}{B}}\n",
       "\\def\\icb{\\framerot{I}{B}}\n",
       "\\def\\dif{\\mathop{}\\!\\mathrm{d}}\n",
       "\\newcommand{\\intd}[1]{\\dif#1}\n",
       "\\newcommand{\\od}[3][]{{ \\frac{\\dif{^{#1}}#2}{\\dif{#3^{#1}}} }}\t\t\t\n",
       "\\newcommand{\\pd}[3][]{{ \\frac{\\partial{^{#1}}#2}{\\partial{#3^{#1}}} }}\t \n",
       "\\newcommand{\\md}[6]{{  \\frac{\\partial{^{#2}}#1}{\\partial{#3^{#4}}\\partial{#5^{#6}}} }}\n",
       "\\newcommand{\\fddt}[2][]{{  \\leftexp{\\mathcal{#2}}{\\frac{\\dif{#1}}{\\dif{t}}}  }}\n",
       "\\newcommand{\\fdddt}[2][]{{  \\leftexp{\\mathcal{#2}}{\\frac{\\dif{^{2}#1}}{\\dif{t^2}}}  }}\n",
       "\\newcommand{\\ddt}[1][]{\\fddt[#1]{I}}\n",
       "$\n"
      ],
      "text/plain": [
       "<IPython.core.display.Markdown object>"
      ]
     },
     "metadata": {},
     "output_type": "display_data"
    },
    {
     "data": {
      "text/markdown": [
       "# [Previous](<12-Keplers Laws.ipynb>)"
      ],
      "text/plain": [
       "<IPython.core.display.Markdown object>"
      ]
     },
     "metadata": {},
     "output_type": "display_data"
    }
   ],
   "source": [
    "# These are helpful routines that will assist in building this book. \n",
    "# You should run this block before anything else. There is no output expected.\n",
    "from astrodynamicsbook.bookhelpers import *\n",
    "loadLatexPreamble()\n",
    "\n",
    "# This is only here to create the navigation link:\n",
    "genPrevLink()"
   ]
  },
  {
   "cell_type": "markdown",
   "id": "af547cda-b96c-43af-bb66-734a660e4bc9",
   "metadata": {},
   "source": [
    "# The Perifocal Frame\n",
    "\n",
    "Recall that the two-body problem is a [central force problem](<08-Angular Momentum.ipynb#Central-Force-Problems>) with two conserved vector quantities: the [specific angular momentum and the eccentricity vector](<11-Gravity.ipynb#Specific-Angular-Momentum>).  All orbital motion occurs in the plane orthogonal to the specific angular momentum, and the eccentricity vector also lies within this plane.  Thus, $\\mf e$ and $\\mf h$  are orthogonal, and if we introduce a third mutually orthogonal direction $\\bhat q \\triangleq \\bhat h \\times \\bhat e$ then we can define a hugely useful reference frame:\n",
    "\n",
    "<div class=\"alert alert-block alert-info\">\n",
    "    The <b>perifocal frame</b>: \n",
    "    $$\\mc P = (\\bhat{e}, \\bhat{q}, \\bhat{h})$$\n",
    "    </div>\n",
    "    \n",
    "<div class=\"alert alert-block alert-danger\">\n",
    "Note how we've omitted any coordinate origin in our frame definition.  This is intentional, so as to avoid much tedious arguing about whether or not the perifocal frame is inertial.  It is.  Two of the defining unit directions are inertially fixed ($\\bhat e$ and $\\bhat{h}$) which means that the frame has zero angular velocity in any inertial frame.  Some conventions will place the coordinate origin of this frame at the location of the central body of the two-body orbit, and because this point has a non-zero inertial acceleration, this tends to lead to much argument and general brouhaha. And it is all entirely pointless - for our purposes, only the unit directions matter, and these are fixed within any inertial frame, and thus, the perifocal frame is inertial. If you absolutely must assign the perifocal frame a coordinate origin and cannot bear to use the location of the central body, just set it to be the barycenter of the two bodies. Basta!\n",
    "    </div>"
   ]
  },
  {
   "cell_type": "markdown",
   "id": "dbe6a295-bd98-41a0-99f5-50f8e5d576a8",
   "metadata": {},
   "source": [
    "Thanks to [Kepler's first law](<12-Keplers Laws.ipynb#Kepler's-First-Law>) we know that all two-body orbits are conic sections with the central body lying at one focus, and thus we can write the position of the orbiting body (what we've been calling the [orbital radius vector](<11-Gravity.ipynb#The-Two-Body-Problem>) in components of the perifocal frame as:\n",
    "$$ \\mf r = r\\cos(\\nu) \\bhat{e} + r\\sin(\\nu) \\bhat{q}$$\n",
    "\n",
    "$r$ and $\\nu$ are always the polar coordinates of the orbital radius vector in the perifocal frame for any orbit representing any type of conic section.\n",
    "\n",
    "We can similarly write the orbital velocity vector in components of this frame by directly differentiating the expression above:\n",
    "$$ \\mf v = \\fddt{I} \\mf r \\equiv \\fddt{P} \\mf r = \\left[ \\dot r\\cos(\\nu) - r\\dot\\nu\\sin(\\nu)\\right]\\hat{\\mf e} + \\left[\\dot r\\sin(\\nu) + r\\dot\\nu\\cos(\\nu)\\right]\\hat{\\mf{q}}$$\n",
    "\n",
    "We can simplify things a bit by solving for $\\dot r$ and $\\dot \\nu$ in terms of other known quantities.  Starting with $\\dot r$, we can take the scalar time derivative of the previously derived conic section expression:"
   ]
  },
  {
   "cell_type": "code",
   "execution_count": 27,
   "id": "35c9a8ab-0465-4d7b-a6f9-a35bd7ecf316",
   "metadata": {},
   "outputs": [
    {
     "data": {
      "image/png": "[encoded data removed]",
      "text/latex": [
       "$\\displaystyle \\frac{e \\dot{\\nu} r \\sin{\\left(\\nu \\right)}}{e \\cos{\\left(\\nu \\right)} + 1}$"
      ],
      "text/plain": [
       "e⋅ν̇⋅r⋅sin(ν)\n",
       "────────────\n",
       "e⋅cos(ν) + 1"
      ]
     },
     "execution_count": 27,
     "metadata": {},
     "output_type": "execute_result"
    }
   ],
   "source": [
    "# First we set things up\n",
    "h,mu,e,nu,nud,t,r,rd = symbols(\"h,mu,e,nu,nudot,t,r,rdot\", real=True, positive=True)\n",
    "rmag = (h**2/mu)/(1+e*cos(nu))\n",
    "diffmap = {nu:nud,r:rd}\n",
    "# Now we differentiate in time\n",
    "dr = difftotal(rmag,t,diffmap)\n",
    "# Now we subsitute in the original expression for r\n",
    "dr = dr.subs(rmag,r)\n",
    "dr"
   ]
  },
  {
   "cell_type": "markdown",
   "id": "143a360b-94d2-48ed-b7b5-60f99b7bad9a",
   "metadata": {},
   "source": [
    "We thus have:\n",
    "$$\\dot r = r\\dot\\nu \\frac{e \\sin{\\left(\\nu \\right)}}{1+ e \\cos{\\left(\\nu \\right)}}$$\n",
    "\n",
    "Next, recalling that $h = \\Vert \\mf h \\Vert = \\Vert \\mf r \\times \\mf v \\Vert$, we can substitute in the component forms of the orbital radius and velocity vectors to find:"
   ]
  },
  {
   "cell_type": "code",
   "execution_count": 28,
   "id": "74c458c2-d11b-4680-a810-064abfa5b147",
   "metadata": {},
   "outputs": [
    {
     "data": {
      "image/png": "[encoded data removed]",
      "text/latex": [
       "$\\displaystyle \\dot{\\nu} r^{2}$"
      ],
      "text/plain": [
       "   2\n",
       "ν̇⋅r "
      ]
     },
     "execution_count": 28,
     "metadata": {},
     "output_type": "execute_result"
    }
   ],
   "source": [
    "# Remember that component matrices of Euclidean vectors must be 3x1\n",
    "rvec = Matrix([r*cos(nu),r*sin(nu),0])\n",
    "vvec = difftotalmat(rvec,t,diffmap)\n",
    "hvec = rvec.cross(vvec)\n",
    "hmag = simplify(sqrt(hvec.dot(hvec)))\n",
    "hmag"
   ]
  },
  {
   "cell_type": "markdown",
   "id": "41e37bfe-804c-46ff-87a2-cdd33975296b",
   "metadata": {},
   "source": [
    "We have thus shown that $h = \\dot \\nu r^2$. Neat!  Plugging all of this back into the orbital velocity vector expression we started from, we have:"
   ]
  },
  {
   "cell_type": "code",
   "execution_count": 32,
   "id": "a69e4cea-5956-4c9c-9618-8fd0bfb4529d",
   "metadata": {},
   "outputs": [
    {
     "data": {
      "text/latex": [
       "$\\displaystyle \\left[\\begin{matrix}- \\frac{\\mu \\sin{\\left(\\nu \\right)}}{h}\\\\\\frac{\\mu \\left(e + \\cos{\\left(\\nu \\right)}\\right)}{h}\\\\0\\end{matrix}\\right]$"
      ],
      "text/plain": [
       "⎡  -μ⋅sin(ν)   ⎤\n",
       "⎢  ──────────  ⎥\n",
       "⎢      h       ⎥\n",
       "⎢              ⎥\n",
       "⎢μ⋅(e + cos(ν))⎥\n",
       "⎢──────────────⎥\n",
       "⎢      h       ⎥\n",
       "⎢              ⎥\n",
       "⎣      0       ⎦"
      ]
     },
     "execution_count": 32,
     "metadata": {},
     "output_type": "execute_result"
    }
   ],
   "source": [
    "simplify(vvec.subs(rd,dr).subs(nud,h/r**2).subs(r,rmag))"
   ]
  },
  {
   "cell_type": "markdown",
   "id": "1c9ad777-2706-4a2d-939e-c5ef1b1f88f8",
   "metadata": {},
   "source": [
    "Summing up, we now have:\n",
    "\n",
    "<div class=\"alert alert-block alert-info\">\n",
    "$$ \\mf r = r\\cos(\\nu) \\bhat{e} + r\\sin(\\nu) \\bhat{q}$$\n",
    "$$ \\mf v = \\frac{\\mu}{h}\\left[ -\\sin(\\nu) \\bhat{e} + (e + \\cos(\\nu)) \\bhat{q}\\right]$$\n",
    "    $$ h = r^2\\dot\\nu$$\n",
    "    </div>\n",
    "\n",
    "These are *hugely* useful expressions that we'll come back to again and again."
   ]
  },
  {
   "cell_type": "code",
   "execution_count": null,
   "id": "9c4208b6-ec82-458a-bb8a-13bb2b25091a",
   "metadata": {},
   "outputs": [],
   "source": []
  }
 ],
 "metadata": {
  "kernelspec": {
   "display_name": "Python 3 (ipykernel)",
   "language": "python",
   "name": "python3"
  },
  "language_info": {
   "codemirror_mode": {
    "name": "ipython",
    "version": 3
   },
   "file_extension": ".py",
   "mimetype": "text/x-python",
   "name": "python",
   "nbconvert_exporter": "python",
   "pygments_lexer": "ipython3",
   "version": "3.9.13"
  }
 },
 "nbformat": 4,
 "nbformat_minor": 5
}
