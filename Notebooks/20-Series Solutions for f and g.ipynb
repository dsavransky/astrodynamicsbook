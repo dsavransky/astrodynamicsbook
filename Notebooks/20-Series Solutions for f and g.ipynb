{
 "cells": [
  {
   "cell_type": "code",
   "execution_count": 1,
   "id": "3ee6d868-f1ce-41d3-841f-0b5d64f7c40b",
   "metadata": {},
   "outputs": [
    {
     "data": {
      "text/markdown": [
       "$\n",
       "\\def\\bs{\\boldsymbol}\n",
       "\\def\\mf{\\mathbf}\n",
       "\\def\\mb{\\mathbb}\n",
       "\\def\\mc{\\mathcal}\n",
       "\\def\\rfr{\\mathcal}\n",
       "\\def\\grad{{\\rm grad}}\n",
       "\\def\\Re{{\\rm Re}}\n",
       "\\def\\Im{{\\rm Im}}\n",
       "\\def\\und{\\underline}\n",
       "\\def\\ovl{\\overline}\n",
       "\\def\\unb{\\underbrace}\n",
       "\\def\\Log{\\mbox{Log}}\n",
       "\\def\\bfomega{\\bs \\omega}\n",
       "\\def\\bfalpha{\\bs \\alpha}\n",
       "\\def\\da{\\triangleq}\n",
       "\\newcommand{\\leftexp}[2]{{\\vphantom{#2}}^{#1}\\!{#2}}\n",
       "\\newcommand{\\leftsub}[2]{{\\vphantom{#2}}_{#1}\\!{#2}}\n",
       "\\newcommand{\\omegarot}[2]{{\\leftexp{\\mathcal{#1}}{\\boldsymbol{\\omega}}^{\\mathcal{#2}}}}\n",
       "\\newcommand{\\alpharot}[2]{{\\leftexp{\\mathcal{#1}}{\\boldsymbol{\\alpha}}^{\\mathcal{#2}}}}\n",
       "\\newcommand{\\framerot}[2]{{\\leftexp{\\mathcal{#1}}{C}^{\\mathcal{#2}}}}\n",
       "\\newcommand{\\dframerot}[2]{{\\vphantom{\\dot{C}}^{\\mathcal{#1}}\\!{\\dot{C}^{\\mathcal{#2}}}}}\n",
       "\\newcommand{\\bdot}[1]{\\dot{\\mathbf{#1}}}\n",
       "\\newcommand{\\bhat}[1]{\\hat{\\mathbf{#1}}}\n",
       "\\newcommand{\\mbhat}[1]{\\hat{\\mathbb{#1}}}\n",
       "\\def\\iwb{\\omegarot{I}{B}}\n",
       "\\def\\iab{\\alpharot{I}{B}}\n",
       "\\def\\icb{\\framerot{I}{B}}\n",
       "\\def\\dif{\\mathop{}\\!\\mathrm{d}}\n",
       "\\newcommand{\\intd}[1]{\\dif#1}\n",
       "\\newcommand{\\od}[3][]{{ \\frac{\\dif{^{#1}}#2}{\\dif{#3^{#1}}} }}\t\t\t\n",
       "\\newcommand{\\pd}[3][]{{ \\frac{\\partial{^{#1}}#2}{\\partial{#3^{#1}}} }}\t \n",
       "\\newcommand{\\md}[6]{{  \\frac{\\partial{^{#2}}#1}{\\partial{#3^{#4}}\\partial{#5^{#6}}} }}\n",
       "\\newcommand{\\fddt}[2][]{{  \\leftexp{\\mathcal{#2}}{\\frac{\\dif{#1}}{\\dif{t}}}  }}\n",
       "\\newcommand{\\fdddt}[2][]{{  \\leftexp{\\mathcal{#2}}{\\frac{\\dif{^{2}#1}}{\\dif{t^2}}}  }}\n",
       "\\newcommand{\\ddt}[1][]{\\fddt[#1]{I}}\n",
       "$\n"
      ],
      "text/plain": [
       "<IPython.core.display.Markdown object>"
      ]
     },
     "metadata": {},
     "output_type": "display_data"
    },
    {
     "data": {
      "text/markdown": [
       "# [Previous](<19-f and g Functions.ipynb>)"
      ],
      "text/plain": [
       "<IPython.core.display.Markdown object>"
      ]
     },
     "metadata": {},
     "output_type": "display_data"
    }
   ],
   "source": [
    "# These are helpful routines that will assist in building this book. \n",
    "# You should run this block before anything else. There is no output expected.\n",
    "from astrodynamicsbook.bookhelpers import *\n",
    "loadLatexPreamble()\n",
    "\n",
    "# This is only here to create the navigation link:\n",
    "genPrevLink()"
   ]
  },
  {
   "cell_type": "markdown",
   "id": "be0b0bdb-f999-4bea-8af6-b7d1950379d6",
   "metadata": {},
   "source": [
    "# Solving for $f$ and $g$ without full orbital knowledge\n",
    "\n",
    "As pointed out towards the end of the [previous section](<19-f and g Functions.ipynb#The-Kepler-State-Transition-Matrix>), use of the $f$ and $g$ expressions is predicated on having full orbital knowledge, and requires us to solve the same basic inversion of Kepler's time equation as our previous approaches to orbital propagation. As such, there does not appear to be a lot of value added here (beyond the notational niceties of the approach).  However, there are some instances (such as in initial orbit determination problems) where coarse estimates of $f$ and $g$ will do.  In these cases, we can consider an alternate approach to their evaluation: namely, via series expansion.  First, however, let's take a brief aside (as we are wont to do) and discuss:"
   ]
  },
  {
   "cell_type": "markdown",
   "id": "4e9e9626-abdf-4c08-b4b1-02ab02a77065",
   "metadata": {},
   "source": [
    "# Lagrange's Fundamental Invariants\n",
    "\n",
    "Let's consider the quantity:\n",
    "$$\\sigma \\triangleq \\frac{\\mu}{r^3}$$\n",
    "\n",
    "Differentiating in time:"
   ]
  },
  {
   "cell_type": "code",
   "execution_count": 5,
   "id": "2b265b40-8f55-44c9-aee4-16b09cd90210",
   "metadata": {},
   "outputs": [
    {
     "data": {
      "image/png": "[encoded data removed]",
      "text/latex": [
       "$\\displaystyle - \\frac{3 \\dot{r} \\sigma}{r}$"
      ],
      "text/plain": [
       "-3⋅ṙ⋅σ \n",
       "───────\n",
       "   r   "
      ]
     },
     "execution_count": 5,
     "metadata": {},
     "output_type": "execute_result"
    }
   ],
   "source": [
    "mu,r,rd,t,s = symbols(\"mu, r, rdot,t,sigma\", real=True)\n",
    "diffmap = {r:rd}\n",
    "sigmaexp = mu/r**3\n",
    "dsigmaexp = difftotal(sigma, t, diffmap)\n",
    "dsigmaexp.subs(sigmaexp,s)"
   ]
  },
  {
   "cell_type": "markdown",
   "id": "9ad7091f-3e50-4a9a-a9a5-1417e1a71e43",
   "metadata": {},
   "source": [
    "so that\n",
    "$$\\dot\\sigma = -\\frac{3 \\sigma}{r}\\dot r$$\n",
    "\n",
    "Now let's consider:\n",
    "\n",
    "$$p \\triangleq \\frac{\\mf r \\cdot \\mf v}{r^2}$$"
   ]
  },
  {
   "cell_type": "code",
   "execution_count": 14,
   "id": "75cb9e5c-a376-4514-ace1-4ef04388173d",
   "metadata": {},
   "outputs": [
    {
     "data": {
      "image/png": "[encoded data removed]",
      "text/latex": [
       "$\\displaystyle \\frac{\\dot{r}}{r}$"
      ],
      "text/plain": [
       "ṙ\n",
       "─\n",
       "r"
      ]
     },
     "execution_count": 14,
     "metadata": {},
     "output_type": "execute_result"
    }
   ],
   "source": [
    "nu,nud = symbols(\"nu, nudot\", real=True)\n",
    "diffmap = {r:rd, nu:nud}\n",
    "rvec = Matrix([r*cos(nu), r*sin(nu),0]) # orbital radius in perifocal frame components\n",
    "vvec = difftotalmat(rvec,t,diffmap)\n",
    "pexp = simplify(rvec.dot(vvec)/r**2)\n",
    "pexp\n"
   ]
  },
  {
   "cell_type": "markdown",
   "id": "f5702316-6bbc-4d5d-986f-d54299a0d33b",
   "metadata": {},
   "source": [
    "Evaluating the dot product in perifocal frame components, we see that $\\mf r \\cdot \\mf v = r\\dot r $ and thus:\n",
    "$$p = \\frac{\\dot r}{r}$$\n",
    "Differentiating $p$, we have:\n",
    "$$\\dot p = \\frac{\\ddot r}{r} - \\underbrace{\\frac{\\dot r^2}{r^2}}_{\\displaystyle \\equiv p^2}$$\n",
    "\n",
    "Since $\\mf r \\cdot \\mf v = r\\dot r $, we have:\n",
    "$$ \\dot r \\frac{\\mf r \\cdot \\mf v }{r} \\quad \\Longrightarrow \\quad \\ddot r = \\fddt{I}\\left(\\frac{\\mf r \\cdot \\mf v }{r}\\right) = \\underbrace{\\frac{\\mf v \\cdot \\mf v}{r}}_{\\displaystyle \\equiv \\frac{v^2}{r}} - \\underbrace{\\frac{\\mf r \\cdot \\mf v}{r^2}}_{\\displaystyle \\equiv \\frac{\\dot r}{r}}\\dot r + \\frac{\\mf r}{r}\\cdot \\underbrace{\\fddt{I}\\mf v}_{\\displaystyle \\equiv -\\frac{\\mu}{r^3}\\mf r} $$\n",
    "  \n",
    "Noting that we have defined a factor in the final term as $\\sigma$, we can write:\n",
    "$$\\dot p = \\frac{v^2}{r^2} - \\sigma - 2p^2$$\n",
    "\n",
    "Finally, let's define the first two terms of the $\\dot p$ expression as $q$:\n",
    "$$q \\triangleq \\frac{\\mf v \\cdot \\mf v}{r^2} - \\sigma$$\n",
    "\n",
    "Differentiating (you knew this was coming):\n",
    "$$\\dot q = \\underbrace{2\\frac{\\mf v \\cdot \\fddt{\\mc I}\\mf v}{r^2}}_{\\displaystyle \\equiv \\frac{-2\\mu}{r^5}\\mf v \\cdot \\mf r} - 2\\frac{2\\dot r v^2}{r^3} - \\dot \\sigma = \\frac{\\dot r}{r}\\left(-2\\frac{\\mu}{r^3} - 2\\frac{v^2}{r^2} + 3\\sigma\\right) = p(-2q - \\sigma)$$"
   ]
  },
  {
   "cell_type": "markdown",
   "id": "659324ea-d061-4b96-86fb-eea5f7954ecf",
   "metadata": {},
   "source": [
    "Ok, neat enough, and all, but what was the point of any of that?  Collectively, $\\sigma, p$, and $q$ are known as:\n",
    "\n",
    "<div class=\"alert alert-block alert-info\">\n",
    "    <b>Lagrange's Fundamental Invariants</b>\n",
    "  $$ \\begin{array}{lll}\n",
    "  \\sigma \\triangleq \\dfrac{\\mu}{r^3}  \\qquad &\\displaystyle p \\triangleq \\dfrac{\\mf r \\cdot \\mf v}{r^2} = \\frac{\\dot r}{r} \\qquad &q \\triangleq \\dfrac{\\mf v \\cdot \\mf v}{\\mf r \\cdot \\mf r} - \\sigma\\\\\n",
    "\\dot\\sigma = -3\\sigma p \\qquad &\\dot p = q - 2p^2 \\qquad &\\dot q = -p(2q + \\sigma)\n",
    "  \\end{array}$$\n",
    "</div>\n",
    "\n",
    "These values are closed under differentiation - their derivatives are all expressible in terms of the original values as strictly polynomial functions.  This means that we can recursively generate infinite orders of derivatives of these expressions by just evaluating polynomials.  Suddenly, things begin to look more interesting. The trick now is to figure out how to use this in the evaluation of $f$ and $g$. "
   ]
  },
  {
   "cell_type": "markdown",
   "id": "36c759ef-e166-4e5a-ba69-e3a021333e4d",
   "metadata": {},
   "source": [
    "# Power Series Solutions for $f$ and $g$\n",
    "\n",
    "Consider the expansion of $\\mf r(t = t_0 + \\Delta t)$ about $\\mf r_0(t_0)$.  To third order, this has the form:\n",
    "$$ \\mf r(t) = \\mf r_0 + \\fddt{I}\\mf r_0 \\Delta{t} + \\fdddt{\\mc I}\\mf r_0\\frac{(\\Delta t)^2}{2!} +  \\leftexp{\\mathcal{I}}{\\frac{\\dif{^{3}}}{\\dif{t^3}}}\\mf r_0  \\frac{(\\Delta t)^3}{3!} + \\ldots = f\\mf r_0 + g \\mf v_0$$\n",
    "\n",
    "Just as $\\mf r$ and its first two derivatives must lie in the same plane (the perifocal plane), we can show that any order of derivative of $\\mf r$ must lie in the same plane as well.  We've actually already provided much of the proof in our definition of Lagrange's fundamental invariants, above. Any time we differentiate $\\mf r$ we get $\\mf v$ and any time we differentiate $\\mf v$ we get a term in $-\\mf r$.  Thus, no matter how many times we carry out the derivative, we will always have a linear combination of $\\mf r$ and $\\mf v$, keeping all orders of derivatives in the perifocal plane. \n",
    "\n",
    "By the exact same argument as we used in [first establishing](<19-f and g Functions.ipynb#Direct-Propagation-of-Orbital-State-Vectors>) the $f$ and $g$ functions, we can write the $n^\\textrm{th}$ derivative of $\\mf r$ as a linear combination of $\\mf r$ and $\\mf v$, with some coefficients that we'll call $f_n$ and $g_n$:\n",
    "$$\\leftexp{\\mathcal{I}}{\\frac{\\dif{^{n}}}{\\dif{t^n}}} \\mf r = f_n \\mf r + g_n \\mf v$$\n",
    "\n",
    "Differentiating this expression gives us the $n+1$ derivative:\n",
    "$$\\leftexp{\\mathcal{I}}{\\frac{\\mathrm{d}^{(n+1)}}{\\mathrm{d}t^{(n+1)}}}\\mf r = \\dot f_n \\mf r + f_n \\mf v  + \\dot g_n \\mf v  + g_n \\underbrace{\\fddt{I}\\mf v}_{\\displaystyle \\equiv -\\sigma \\mf r} = \\underbrace{\\left(\\dot f_n - \\sigma g_n\\right)}_{\\displaystyle \\triangleq f_{n+1}} \\mf r + \\underbrace{\\left(f_n + \\dot g n\\right)}_{\\displaystyle \\triangleq g_{n+1}} \\mf v$$\n",
    "\n",
    "Returning to our series expansion of $\\mf r$, we see that our original $f$ and $g$ coefficients can be expressed in series via these new $f_n$ and $g_n$ coefficients as:\n",
    "$$f= \\sum_{n=0}^\\infty \\frac{1}{n!} f_n\\left(\\Delta t\\right)^n \\quad\\textrm{and}\\quad g= \\sum_{n=0}^\\infty \\frac{1}{n!} g_n\\left(\\Delta t\\right)^n$$\n",
    "\n",
    "Differentiating, we can also find analogous expressions for $\\dot f$ and $\\dot g$:\n",
    "$$\\dot f= \\sum_{n=1}^\\infty \\frac{1}{(n-1)!} f_n\\left(\\Delta t\\right)^{n-1} \\quad\\textrm{and}\\quad\n",
    "\\dot g= \\sum_{n=1}^\\infty \\frac{1}{(n-1)!} g_n\\left(\\Delta t\\right)^{n-1}$$\n",
    "\n",
    "Thus, as promised, we have an entirely recursive algorithm for generating the $f$ and $g$ coefficients.  In order to initialize the iteration, we note that:\n",
    "$$\\leftexp{\\mathcal{I}}{\\frac{\\dif{^{0}}}{\\dif{t^0}}} \\mf r = \\mf r$$\n",
    "which means that $f_0 = 1$ and $g_0 = 0$.\n",
    "\n",
    "Let's see how this works out in practice.  We're going to implement a method to iteratively construct the $f$ and $g$ series by symbolically differentiating each term and substituting Lagrange's fundamental invariants:"
   ]
  },
  {
   "cell_type": "code",
   "execution_count": 169,
   "id": "24a6c64d-04a3-411d-ad1c-5dc183f6639a",
   "metadata": {},
   "outputs": [],
   "source": [
    "from sympy import factorial\n",
    "\n",
    "def genfgseriescoeffs(N):\n",
    "    \"\"\" Generate f and g series coefficients of arbitrary order\n",
    "    Args:\n",
    "        N (int):\n",
    "            Order of series\n",
    "    \n",
    "    Returns:\n",
    "        tuple:\n",
    "            fs (list):\n",
    "                f_n coefficients\n",
    "            gs (list):\n",
    "                g_n coefficients\n",
    "    \"\"\"\n",
    "    \n",
    "    s,p,q,sd,pd,qd,dt = symbols('sigma,p,q,sigmadot,pdot,qdot,dt')\n",
    "    diffmap = {s:sd,p:pd,q:qd}\n",
    "    \n",
    "    fn = s/s # initialize to symbolic (rather than numerical) 1\n",
    "    gn = 0*s # initialize to symbolic (rather than numerical) 0\n",
    "    \n",
    "    # first iteratively generate the f_n and g_n coefficients\n",
    "    fs = [fn]\n",
    "    gs = [gn]\n",
    "    for j in range(N):\n",
    "        fnp1 = difftotal(fn,t,diffmap) - s*gn\n",
    "        gnp1 = fn + difftotal(gn,t,diffmap)\n",
    "        fn = fnp1\n",
    "        gn = gnp1\n",
    "        fn = expand(fn.subs(([sd,-3*s*p],[pd,q-2*p**2],[qd,-p*(s+2*q)])))\n",
    "        gn = expand(gn.subs(([sd,-3*s*p],[pd,q-2*p**2],[qd,-p*(s+2*q)])))\n",
    "        fs.append(fn)\n",
    "        gs.append(gn)\n",
    "\n",
    "    return fs, gs\n",
    "\n",
    "def genfgseries(fs, gs):\n",
    "    \"\"\" Generate f and g series lambda functions\n",
    "    Args:\n",
    "        fs (list):\n",
    "            f_n coefficients\n",
    "        gs (list):\n",
    "            g_n coefficients\n",
    "    \n",
    "    Returns:\n",
    "        tuple:\n",
    "            fseries\n",
    "            gseries\n",
    "            fdotseries\n",
    "            gdotseries\n",
    "    \"\"\"\n",
    "    fseries = 0\n",
    "    gseries = 0\n",
    "    fdotseries = 0\n",
    "    gdotseries = 0\n",
    "    for j in range(len(fs)):\n",
    "        fseries = fseries + dt**j/factorial(j)*fs[j]\n",
    "        gseries = gseries + dt**j/factorial(j)*gs[j]\n",
    "    for j in range(1,len(fs)):\n",
    "        fdotseries = fdotseries + dt**(j-1)/factorial(j-1)*fs[j]\n",
    "        gdotseries = gdotseries + dt**(j-1)/factorial(j-1)*gs[j]\n",
    "        \n",
    "    return fseries, gseries, fdotseries, gdotseries"
   ]
  },
  {
   "cell_type": "markdown",
   "id": "3ca13ea9-ad97-4042-a58a-85e200490a67",
   "metadata": {},
   "source": [
    "Let's try it out to 8th order:"
   ]
  },
  {
   "cell_type": "code",
   "execution_count": 170,
   "id": "dddb8b55-868b-4d66-820c-5bf3a3832cdd",
   "metadata": {},
   "outputs": [],
   "source": [
    "fs,gs = genfgseriescoeffs(8)"
   ]
  },
  {
   "cell_type": "code",
   "execution_count": 171,
   "id": "5bae4aa3-3582-4917-9187-422b014ba277",
   "metadata": {},
   "outputs": [
    {
     "data": {
      "image/png": "[encoded data removed]",
      "text/latex": [
       "$\\displaystyle 1$"
      ],
      "text/plain": [
       "1"
      ]
     },
     "metadata": {},
     "output_type": "display_data"
    },
    {
     "data": {
      "image/png": "[encoded data removed]",
      "text/latex": [
       "$\\displaystyle 0$"
      ],
      "text/plain": [
       "0"
      ]
     },
     "metadata": {},
     "output_type": "display_data"
    },
    {
     "data": {
      "image/png": "[encoded data removed]",
      "text/latex": [
       "$\\displaystyle - \\sigma$"
      ],
      "text/plain": [
       "-σ"
      ]
     },
     "metadata": {},
     "output_type": "display_data"
    },
    {
     "data": {
      "image/png": "[encoded data removed]",
      "text/latex": [
       "$\\displaystyle 3 p \\sigma$"
      ],
      "text/plain": [
       "3⋅p⋅σ"
      ]
     },
     "metadata": {},
     "output_type": "display_data"
    },
    {
     "data": {
      "image/png": "[encoded data removed]",
      "text/latex": [
       "$\\displaystyle - 15 p^{2} \\sigma + 3 q \\sigma + \\sigma^{2}$"
      ],
      "text/plain": [
       "      2              2\n",
       "- 15⋅p ⋅σ + 3⋅q⋅σ + σ "
      ]
     },
     "metadata": {},
     "output_type": "display_data"
    },
    {
     "data": {
      "image/png": "[encoded data removed]",
      "text/latex": [
       "$\\displaystyle 105 p^{3} \\sigma - 45 p q \\sigma - 15 p \\sigma^{2}$"
      ],
      "text/plain": [
       "     3                      2\n",
       "105⋅p ⋅σ - 45⋅p⋅q⋅σ - 15⋅p⋅σ "
      ]
     },
     "metadata": {},
     "output_type": "display_data"
    },
    {
     "data": {
      "image/png": "[encoded data removed]",
      "text/latex": [
       "$\\displaystyle - 945 p^{4} \\sigma + 630 p^{2} q \\sigma + 210 p^{2} \\sigma^{2} - 45 q^{2} \\sigma - 24 q \\sigma^{2} - \\sigma^{3}$"
      ],
      "text/plain": [
       "       4          2            2  2       2           2    3\n",
       "- 945⋅p ⋅σ + 630⋅p ⋅q⋅σ + 210⋅p ⋅σ  - 45⋅q ⋅σ - 24⋅q⋅σ  - σ "
      ]
     },
     "metadata": {},
     "output_type": "display_data"
    },
    {
     "data": {
      "image/png": "[encoded data removed]",
      "text/latex": [
       "$\\displaystyle 10395 p^{5} \\sigma - 9450 p^{3} q \\sigma - 3150 p^{3} \\sigma^{2} + 1575 p q^{2} \\sigma + 882 p q \\sigma^{2} + 63 p \\sigma^{3}$"
      ],
      "text/plain": [
       "       5           3             3  2           2              2         3\n",
       "10395⋅p ⋅σ - 9450⋅p ⋅q⋅σ - 3150⋅p ⋅σ  + 1575⋅p⋅q ⋅σ + 882⋅p⋅q⋅σ  + 63⋅p⋅σ "
      ]
     },
     "metadata": {},
     "output_type": "display_data"
    },
    {
     "data": {
      "image/png": "[encoded data removed]",
      "text/latex": [
       "$\\displaystyle - 135135 p^{6} \\sigma + 155925 p^{4} q \\sigma + 51975 p^{4} \\sigma^{2} - 42525 p^{2} q^{2} \\sigma - 24570 p^{2} q \\sigma^{2} - 2205 p^{2} \\sigma^{3} + 1575 q^{3} \\sigma + 1107 q^{2} \\sigma^{2} + 117 q \\sigma^{3} + \\sigma^{4}$"
      ],
      "text/plain": [
       "          6             4              4  2          2  2            2    2         2  3         3           2  2          3    4\n",
       "- 135135⋅p ⋅σ + 155925⋅p ⋅q⋅σ + 51975⋅p ⋅σ  - 42525⋅p ⋅q ⋅σ - 24570⋅p ⋅q⋅σ  - 2205⋅p ⋅σ  + 1575⋅q ⋅σ + 1107⋅q ⋅σ  + 117⋅q⋅σ  + σ "
      ]
     },
     "metadata": {},
     "output_type": "display_data"
    }
   ],
   "source": [
    "for f in fs:\n",
    "    display(f)"
   ]
  },
  {
   "cell_type": "code",
   "execution_count": 172,
   "id": "d740c122-0f7e-4b13-900c-e5782d614873",
   "metadata": {},
   "outputs": [
    {
     "data": {
      "image/png": "[encoded data removed]",
      "text/latex": [
       "$\\displaystyle 0$"
      ],
      "text/plain": [
       "0"
      ]
     },
     "metadata": {},
     "output_type": "display_data"
    },
    {
     "data": {
      "image/png": "[encoded data removed]",
      "text/latex": [
       "$\\displaystyle 1$"
      ],
      "text/plain": [
       "1"
      ]
     },
     "metadata": {},
     "output_type": "display_data"
    },
    {
     "data": {
      "image/png": "[encoded data removed]",
      "text/latex": [
       "$\\displaystyle 0$"
      ],
      "text/plain": [
       "0"
      ]
     },
     "metadata": {},
     "output_type": "display_data"
    },
    {
     "data": {
      "image/png": "[encoded data removed]",
      "text/latex": [
       "$\\displaystyle - \\sigma$"
      ],
      "text/plain": [
       "-σ"
      ]
     },
     "metadata": {},
     "output_type": "display_data"
    },
    {
     "data": {
      "image/png": "[encoded data removed]",
      "text/latex": [
       "$\\displaystyle 6 p \\sigma$"
      ],
      "text/plain": [
       "6⋅p⋅σ"
      ]
     },
     "metadata": {},
     "output_type": "display_data"
    },
    {
     "data": {
      "image/png": "[encoded data removed]",
      "text/latex": [
       "$\\displaystyle - 45 p^{2} \\sigma + 9 q \\sigma + \\sigma^{2}$"
      ],
      "text/plain": [
       "      2              2\n",
       "- 45⋅p ⋅σ + 9⋅q⋅σ + σ "
      ]
     },
     "metadata": {},
     "output_type": "display_data"
    },
    {
     "data": {
      "image/png": "[encoded data removed]",
      "text/latex": [
       "$\\displaystyle 420 p^{3} \\sigma - 180 p q \\sigma - 30 p \\sigma^{2}$"
      ],
      "text/plain": [
       "     3                       2\n",
       "420⋅p ⋅σ - 180⋅p⋅q⋅σ - 30⋅p⋅σ "
      ]
     },
     "metadata": {},
     "output_type": "display_data"
    },
    {
     "data": {
      "image/png": "[encoded data removed]",
      "text/latex": [
       "$\\displaystyle - 4725 p^{4} \\sigma + 3150 p^{2} q \\sigma + 630 p^{2} \\sigma^{2} - 225 q^{2} \\sigma - 54 q \\sigma^{2} - \\sigma^{3}$"
      ],
      "text/plain": [
       "        4           2            2  2        2           2    3\n",
       "- 4725⋅p ⋅σ + 3150⋅p ⋅q⋅σ + 630⋅p ⋅σ  - 225⋅q ⋅σ - 54⋅q⋅σ  - σ "
      ]
     },
     "metadata": {},
     "output_type": "display_data"
    },
    {
     "data": {
      "image/png": "[encoded data removed]",
      "text/latex": [
       "$\\displaystyle 62370 p^{5} \\sigma - 56700 p^{3} q \\sigma - 12600 p^{3} \\sigma^{2} + 9450 p q^{2} \\sigma + 3024 p q \\sigma^{2} + 126 p \\sigma^{3}$"
      ],
      "text/plain": [
       "       5            3              3  2           2               2          3\n",
       "62370⋅p ⋅σ - 56700⋅p ⋅q⋅σ - 12600⋅p ⋅σ  + 9450⋅p⋅q ⋅σ + 3024⋅p⋅q⋅σ  + 126⋅p⋅σ "
      ]
     },
     "metadata": {},
     "output_type": "display_data"
    }
   ],
   "source": [
    "for g in gs:\n",
    "    display(g)"
   ]
  },
  {
   "cell_type": "markdown",
   "id": "30bc0451-9e45-4286-b6e3-cd54b58d0a94",
   "metadata": {},
   "source": [
    "So, these get progressively uglier as you go along.  Let's take a look at the resulting series:"
   ]
  },
  {
   "cell_type": "code",
   "execution_count": 173,
   "id": "6ee34740-9740-480b-8ff2-cdbda456f773",
   "metadata": {},
   "outputs": [
    {
     "data": {
      "image/png": "[encoded data removed]",
      "text/latex": [
       "$\\displaystyle \\frac{dt^{8} \\left(- 135135 p^{6} \\sigma + 155925 p^{4} q \\sigma + 51975 p^{4} \\sigma^{2} - 42525 p^{2} q^{2} \\sigma - 24570 p^{2} q \\sigma^{2} - 2205 p^{2} \\sigma^{3} + 1575 q^{3} \\sigma + 1107 q^{2} \\sigma^{2} + 117 q \\sigma^{3} + \\sigma^{4}\\right)}{40320} + \\frac{dt^{7} \\cdot \\left(10395 p^{5} \\sigma - 9450 p^{3} q \\sigma - 3150 p^{3} \\sigma^{2} + 1575 p q^{2} \\sigma + 882 p q \\sigma^{2} + 63 p \\sigma^{3}\\right)}{5040} + \\frac{dt^{6} \\left(- 945 p^{4} \\sigma + 630 p^{2} q \\sigma + 210 p^{2} \\sigma^{2} - 45 q^{2} \\sigma - 24 q \\sigma^{2} - \\sigma^{3}\\right)}{720} + \\frac{dt^{5} \\cdot \\left(105 p^{3} \\sigma - 45 p q \\sigma - 15 p \\sigma^{2}\\right)}{120} + \\frac{dt^{4} \\left(- 15 p^{2} \\sigma + 3 q \\sigma + \\sigma^{2}\\right)}{24} + \\frac{dt^{3} p \\sigma}{2} - \\frac{dt^{2} \\sigma}{2} + 1$"
      ],
      "text/plain": [
       "  8 ⎛          6             4              4  2          2  2            2    2         2  3         3           2  2          3    4⎞  \n",
       "dt ⋅⎝- 135135⋅p ⋅σ + 155925⋅p ⋅q⋅σ + 51975⋅p ⋅σ  - 42525⋅p ⋅q ⋅σ - 24570⋅p ⋅q⋅σ  - 2205⋅p ⋅σ  + 1575⋅q ⋅σ + 1107⋅q ⋅σ  + 117⋅q⋅σ  + σ ⎠  \n",
       "─────────────────────────────────────────────────────────────────────────────────────────────────────────────────────────────────────── +\n",
       "                                                                 40320                                                                   \n",
       "\n",
       "   7 ⎛       5           3             3  2           2              2         3⎞     6 ⎛       4          2            2  2       2     \n",
       " dt ⋅⎝10395⋅p ⋅σ - 9450⋅p ⋅q⋅σ - 3150⋅p ⋅σ  + 1575⋅p⋅q ⋅σ + 882⋅p⋅q⋅σ  + 63⋅p⋅σ ⎠   dt ⋅⎝- 945⋅p ⋅σ + 630⋅p ⋅q⋅σ + 210⋅p ⋅σ  - 45⋅q ⋅σ - \n",
       " ──────────────────────────────────────────────────────────────────────────────── + ─────────────────────────────────────────────────────\n",
       "                                       5040                                                                        720                   \n",
       "\n",
       "      2    3⎞     5 ⎛     3                      2⎞     4 ⎛      2              2⎞     3         2      \n",
       "24⋅q⋅σ  - σ ⎠   dt ⋅⎝105⋅p ⋅σ - 45⋅p⋅q⋅σ - 15⋅p⋅σ ⎠   dt ⋅⎝- 15⋅p ⋅σ + 3⋅q⋅σ + σ ⎠   dt ⋅p⋅σ   dt ⋅σ    \n",
       "───────────── + ─────────────────────────────────── + ──────────────────────────── + ─────── - ───── + 1\n",
       "                                120                                24                   2        2      "
      ]
     },
     "execution_count": 173,
     "metadata": {},
     "output_type": "execute_result"
    }
   ],
   "source": [
    "fseries, gseries, fdotseries, gdotseries = genfgseries(fs, gs)\n",
    "fseries"
   ]
  },
  {
   "cell_type": "code",
   "execution_count": 174,
   "id": "0ac569eb-bd68-4b22-97a2-fb5164a9e12d",
   "metadata": {},
   "outputs": [
    {
     "data": {
      "image/png": "[encoded data removed]",
      "text/latex": [
       "$\\displaystyle \\frac{dt^{8} \\cdot \\left(62370 p^{5} \\sigma - 56700 p^{3} q \\sigma - 12600 p^{3} \\sigma^{2} + 9450 p q^{2} \\sigma + 3024 p q \\sigma^{2} + 126 p \\sigma^{3}\\right)}{40320} + \\frac{dt^{7} \\left(- 4725 p^{4} \\sigma + 3150 p^{2} q \\sigma + 630 p^{2} \\sigma^{2} - 225 q^{2} \\sigma - 54 q \\sigma^{2} - \\sigma^{3}\\right)}{5040} + \\frac{dt^{6} \\cdot \\left(420 p^{3} \\sigma - 180 p q \\sigma - 30 p \\sigma^{2}\\right)}{720} + \\frac{dt^{5} \\left(- 45 p^{2} \\sigma + 9 q \\sigma + \\sigma^{2}\\right)}{120} + \\frac{dt^{4} p \\sigma}{4} - \\frac{dt^{3} \\sigma}{6} + dt$"
      ],
      "text/plain": [
       "  8 ⎛       5            3              3  2           2               2          3⎞     7 ⎛        4           2            2  2        \n",
       "dt ⋅⎝62370⋅p ⋅σ - 56700⋅p ⋅q⋅σ - 12600⋅p ⋅σ  + 9450⋅p⋅q ⋅σ + 3024⋅p⋅q⋅σ  + 126⋅p⋅σ ⎠   dt ⋅⎝- 4725⋅p ⋅σ + 3150⋅p ⋅q⋅σ + 630⋅p ⋅σ  - 225⋅q\n",
       "──────────────────────────────────────────────────────────────────────────────────── + ──────────────────────────────────────────────────\n",
       "                                       40320                                                                            5040             \n",
       "\n",
       "2           2    3⎞     6 ⎛     3                       2⎞     5 ⎛      2              2⎞     4         3       \n",
       " ⋅σ - 54⋅q⋅σ  - σ ⎠   dt ⋅⎝420⋅p ⋅σ - 180⋅p⋅q⋅σ - 30⋅p⋅σ ⎠   dt ⋅⎝- 45⋅p ⋅σ + 9⋅q⋅σ + σ ⎠   dt ⋅p⋅σ   dt ⋅σ     \n",
       "─────────────────── + ──────────────────────────────────── + ──────────────────────────── + ─────── - ───── + dt\n",
       "                                      720                                120                   4        6       "
      ]
     },
     "execution_count": 174,
     "metadata": {},
     "output_type": "execute_result"
    }
   ],
   "source": [
    "gseries"
   ]
  },
  {
   "cell_type": "code",
   "execution_count": 175,
   "id": "43d4efbf-39fe-415f-87af-05590b3c4e0e",
   "metadata": {},
   "outputs": [
    {
     "data": {
      "image/png": "[encoded data removed]",
      "text/latex": [
       "$\\displaystyle \\frac{dt^{7} \\left(- 135135 p^{6} \\sigma + 155925 p^{4} q \\sigma + 51975 p^{4} \\sigma^{2} - 42525 p^{2} q^{2} \\sigma - 24570 p^{2} q \\sigma^{2} - 2205 p^{2} \\sigma^{3} + 1575 q^{3} \\sigma + 1107 q^{2} \\sigma^{2} + 117 q \\sigma^{3} + \\sigma^{4}\\right)}{5040} + \\frac{dt^{6} \\cdot \\left(10395 p^{5} \\sigma - 9450 p^{3} q \\sigma - 3150 p^{3} \\sigma^{2} + 1575 p q^{2} \\sigma + 882 p q \\sigma^{2} + 63 p \\sigma^{3}\\right)}{720} + \\frac{dt^{5} \\left(- 945 p^{4} \\sigma + 630 p^{2} q \\sigma + 210 p^{2} \\sigma^{2} - 45 q^{2} \\sigma - 24 q \\sigma^{2} - \\sigma^{3}\\right)}{120} + \\frac{dt^{4} \\cdot \\left(105 p^{3} \\sigma - 45 p q \\sigma - 15 p \\sigma^{2}\\right)}{24} + \\frac{dt^{3} \\left(- 15 p^{2} \\sigma + 3 q \\sigma + \\sigma^{2}\\right)}{6} + \\frac{3 dt^{2} p \\sigma}{2} - dt \\sigma$"
      ],
      "text/plain": [
       "  7 ⎛          6             4              4  2          2  2            2    2         2  3         3           2  2          3    4⎞  \n",
       "dt ⋅⎝- 135135⋅p ⋅σ + 155925⋅p ⋅q⋅σ + 51975⋅p ⋅σ  - 42525⋅p ⋅q ⋅σ - 24570⋅p ⋅q⋅σ  - 2205⋅p ⋅σ  + 1575⋅q ⋅σ + 1107⋅q ⋅σ  + 117⋅q⋅σ  + σ ⎠  \n",
       "─────────────────────────────────────────────────────────────────────────────────────────────────────────────────────────────────────── +\n",
       "                                                                  5040                                                                   \n",
       "\n",
       "   6 ⎛       5           3             3  2           2              2         3⎞     5 ⎛       4          2            2  2       2     \n",
       " dt ⋅⎝10395⋅p ⋅σ - 9450⋅p ⋅q⋅σ - 3150⋅p ⋅σ  + 1575⋅p⋅q ⋅σ + 882⋅p⋅q⋅σ  + 63⋅p⋅σ ⎠   dt ⋅⎝- 945⋅p ⋅σ + 630⋅p ⋅q⋅σ + 210⋅p ⋅σ  - 45⋅q ⋅σ - \n",
       " ──────────────────────────────────────────────────────────────────────────────── + ─────────────────────────────────────────────────────\n",
       "                                       720                                                                         120                   \n",
       "\n",
       "      2    3⎞     4 ⎛     3                      2⎞     3 ⎛      2              2⎞       2           \n",
       "24⋅q⋅σ  - σ ⎠   dt ⋅⎝105⋅p ⋅σ - 45⋅p⋅q⋅σ - 15⋅p⋅σ ⎠   dt ⋅⎝- 15⋅p ⋅σ + 3⋅q⋅σ + σ ⎠   3⋅dt ⋅p⋅σ       \n",
       "───────────── + ─────────────────────────────────── + ──────────────────────────── + ───────── - dt⋅σ\n",
       "                                 24                                6                     2           "
      ]
     },
     "execution_count": 175,
     "metadata": {},
     "output_type": "execute_result"
    }
   ],
   "source": [
    "fdotseries"
   ]
  },
  {
   "cell_type": "code",
   "execution_count": 176,
   "id": "6a0e478d-df88-4d1e-8d09-73742a7731a1",
   "metadata": {},
   "outputs": [
    {
     "data": {
      "image/png": "[encoded data removed]",
      "text/latex": [
       "$\\displaystyle \\frac{dt^{7} \\cdot \\left(62370 p^{5} \\sigma - 56700 p^{3} q \\sigma - 12600 p^{3} \\sigma^{2} + 9450 p q^{2} \\sigma + 3024 p q \\sigma^{2} + 126 p \\sigma^{3}\\right)}{5040} + \\frac{dt^{6} \\left(- 4725 p^{4} \\sigma + 3150 p^{2} q \\sigma + 630 p^{2} \\sigma^{2} - 225 q^{2} \\sigma - 54 q \\sigma^{2} - \\sigma^{3}\\right)}{720} + \\frac{dt^{5} \\cdot \\left(420 p^{3} \\sigma - 180 p q \\sigma - 30 p \\sigma^{2}\\right)}{120} + \\frac{dt^{4} \\left(- 45 p^{2} \\sigma + 9 q \\sigma + \\sigma^{2}\\right)}{24} + dt^{3} p \\sigma - \\frac{dt^{2} \\sigma}{2} + 1$"
      ],
      "text/plain": [
       "  7 ⎛       5            3              3  2           2               2          3⎞     6 ⎛        4           2            2  2        \n",
       "dt ⋅⎝62370⋅p ⋅σ - 56700⋅p ⋅q⋅σ - 12600⋅p ⋅σ  + 9450⋅p⋅q ⋅σ + 3024⋅p⋅q⋅σ  + 126⋅p⋅σ ⎠   dt ⋅⎝- 4725⋅p ⋅σ + 3150⋅p ⋅q⋅σ + 630⋅p ⋅σ  - 225⋅q\n",
       "──────────────────────────────────────────────────────────────────────────────────── + ──────────────────────────────────────────────────\n",
       "                                        5040                                                                            720              \n",
       "\n",
       "2           2    3⎞     5 ⎛     3                       2⎞     4 ⎛      2              2⎞               2      \n",
       " ⋅σ - 54⋅q⋅σ  - σ ⎠   dt ⋅⎝420⋅p ⋅σ - 180⋅p⋅q⋅σ - 30⋅p⋅σ ⎠   dt ⋅⎝- 45⋅p ⋅σ + 9⋅q⋅σ + σ ⎠     3       dt ⋅σ    \n",
       "─────────────────── + ──────────────────────────────────── + ──────────────────────────── + dt ⋅p⋅σ - ───── + 1\n",
       "                                      120                                 24                            2      "
      ]
     },
     "execution_count": 176,
     "metadata": {},
     "output_type": "execute_result"
    }
   ],
   "source": [
    "gdotseries"
   ]
  },
  {
   "cell_type": "markdown",
   "id": "ea88145e-b168-4f16-8fa4-93a452479601",
   "metadata": {},
   "source": [
    "While somewhat entertaining, these symbolic derivations have diminishing returns.  As the order of the expansion increases, the differentiation/expansion operations take longer and longer, eventually making going forward impractical on any reasonable hardware.  However, we can always generate a large number of these expressions and then save them for future use. \n",
    "\n",
    "Let's explore how well these series solutions actually work. "
   ]
  },
  {
   "cell_type": "code",
   "execution_count": 180,
   "id": "35e2861b-e743-41d2-9151-f6c1a619089a",
   "metadata": {
    "tags": []
   },
   "outputs": [
    {
     "name": "stdout",
     "output_type": "stream",
     "text": [
      "CPU times: user 2min 48s, sys: 1.21 s, total: 2min 49s\n",
      "Wall time: 2min 50s\n"
     ]
    }
   ],
   "source": [
    "%time fs2,gs2 = genfgseriescoeffs(50) # This will take a little while - go grab a cup of coffee"
   ]
  },
  {
   "cell_type": "code",
   "execution_count": null,
   "id": "2a5d5bba-ef7f-482c-aaf8-24544f8768a0",
   "metadata": {},
   "outputs": [],
   "source": []
  }
 ],
 "metadata": {
  "kernelspec": {
   "display_name": "Python 3 (ipykernel)",
   "language": "python",
   "name": "python3"
  },
  "language_info": {
   "codemirror_mode": {
    "name": "ipython",
    "version": 3
   },
   "file_extension": ".py",
   "mimetype": "text/x-python",
   "name": "python",
   "nbconvert_exporter": "python",
   "pygments_lexer": "ipython3",
   "version": "3.9.13"
  }
 },
 "nbformat": 4,
 "nbformat_minor": 5
}
